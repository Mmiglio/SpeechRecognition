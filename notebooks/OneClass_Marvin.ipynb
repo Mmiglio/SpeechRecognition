{
  "nbformat": 4,
  "nbformat_minor": 0,
  "metadata": {
    "colab": {
      "name": "OneClass-Marvin.ipynb",
      "version": "0.3.2",
      "provenance": [],
      "collapsed_sections": []
    },
    "kernelspec": {
      "name": "python3",
      "display_name": "Python 3"
    },
    "accelerator": "GPU"
  },
  "cells": [
    {
      "cell_type": "markdown",
      "metadata": {
        "id": "8OVf-wlQRCz1",
        "colab_type": "text"
      },
      "source": [
        "## Get scripts"
      ]
    },
    {
      "cell_type": "code",
      "metadata": {
        "id": "5EYZL1_3Qu-F",
        "colab_type": "code",
        "colab": {}
      },
      "source": [
        "!wget -q https://raw.githubusercontent.com/Mmiglio/SpeechRecognition/master/src/getData.py\n",
        "!wget -q https://raw.githubusercontent.com/Mmiglio/SpeechRecognition/master/src/constants.py\n",
        "!wget -q https://raw.githubusercontent.com/Mmiglio/SpeechRecognition/master/src/trainingUtils.py\n",
        "!wget -q https://raw.githubusercontent.com/Mmiglio/SpeechRecognition/master/src/models.py\n",
        "!wget -q https://raw.githubusercontent.com/Mmiglio/SpeechRecognition/master/src/analysisFunctions.py"
      ],
      "execution_count": 0,
      "outputs": []
    },
    {
      "cell_type": "markdown",
      "metadata": {
        "id": "XQbU_JPYRO9u",
        "colab_type": "text"
      },
      "source": [
        "## Get data"
      ]
    },
    {
      "cell_type": "code",
      "metadata": {
        "id": "tut_3T18RG6J",
        "colab_type": "code",
        "outputId": "7be30690-6997-4e1a-ff53-f2c470c85651",
        "colab": {
          "base_uri": "https://localhost:8080/",
          "height": 85
        }
      },
      "source": [
        "from getData import downloadSpeechData, getDataDict\n",
        "\n",
        "# Download data\n",
        "downloadSpeechData(data_path='speechData/')\n",
        "\n",
        "# Get dict with files and labels\n",
        "dataDict = getDataDict(data_path='speechData/')"
      ],
      "execution_count": 3,
      "outputs": [
        {
          "output_type": "stream",
          "text": [
            "Downloading http://download.tensorflow.org/data/speech_commands_v0.01.tar.gz into /content/speechData/train.tar.gz\n",
            "Extracting /content/speechData/train.tar.gz into /content/speechData/train\n",
            "Downloading http://download.tensorflow.org/data/speech_commands_test_set_v0.01.tar.gz into /content/speechData/test.tar.gz\n",
            "Extracting /content/speechData/test.tar.gz into /content/speechData/test\n"
          ],
          "name": "stdout"
        }
      ]
    },
    {
      "cell_type": "code",
      "metadata": {
        "id": "ARC63wfRRKb3",
        "colab_type": "code",
        "outputId": "529ae739-59e6-4b6f-e23d-56cb97483d99",
        "colab": {
          "base_uri": "https://localhost:8080/",
          "height": 85
        }
      },
      "source": [
        "from getData import getDataframe\n",
        "import pandas as pd\n",
        "\n",
        "trainDF = getDataframe(dataDict['train'])\n",
        "valDF = getDataframe(dataDict['val'])\n",
        "testDF = getDataframe(dataDict['test'], include_unknown=True) \n",
        "finalTestDF = getDataframe(dataDict['finalTest'], include_unknown=True) \n",
        "\n",
        "print(\"Train files: {}\".format(trainDF.shape[0]))\n",
        "print(\"Validation files: {}\".format(valDF.shape[0]))\n",
        "print(\"Test files: {}\".format(testDF.shape[0]))\n",
        "print(\"Final test files: {}\".format(finalTestDF.shape[0]))"
      ],
      "execution_count": 4,
      "outputs": [
        {
          "output_type": "stream",
          "text": [
            "Train files: 51088\n",
            "Validation files: 6798\n",
            "Test files: 6835\n",
            "Final test files: 3081\n"
          ],
          "name": "stdout"
        }
      ]
    },
    {
      "cell_type": "code",
      "metadata": {
        "id": "Etgvh_cJRSxJ",
        "colab_type": "code",
        "outputId": "64c1c128-5e5a-4059-8ac8-07b2591e97b5",
        "colab": {
          "base_uri": "https://localhost:8080/",
          "height": 204
        }
      },
      "source": [
        "trainDF.head()"
      ],
      "execution_count": 5,
      "outputs": [
        {
          "output_type": "execute_result",
          "data": {
            "text/html": [
              "<div>\n",
              "<style scoped>\n",
              "    .dataframe tbody tr th:only-of-type {\n",
              "        vertical-align: middle;\n",
              "    }\n",
              "\n",
              "    .dataframe tbody tr th {\n",
              "        vertical-align: top;\n",
              "    }\n",
              "\n",
              "    .dataframe thead th {\n",
              "        text-align: right;\n",
              "    }\n",
              "</style>\n",
              "<table border=\"1\" class=\"dataframe\">\n",
              "  <thead>\n",
              "    <tr style=\"text-align: right;\">\n",
              "      <th></th>\n",
              "      <th>files</th>\n",
              "      <th>labels</th>\n",
              "      <th>category</th>\n",
              "    </tr>\n",
              "  </thead>\n",
              "  <tbody>\n",
              "    <tr>\n",
              "      <th>0</th>\n",
              "      <td>speechData/train/five/7e556a2c_nohash_0.wav</td>\n",
              "      <td>20</td>\n",
              "      <td>five</td>\n",
              "    </tr>\n",
              "    <tr>\n",
              "      <th>1</th>\n",
              "      <td>speechData/train/off/96a48d28_nohash_3.wav</td>\n",
              "      <td>2</td>\n",
              "      <td>off</td>\n",
              "    </tr>\n",
              "    <tr>\n",
              "      <th>2</th>\n",
              "      <td>speechData/train/happy/b71ebf79_nohash_0.wav</td>\n",
              "      <td>18</td>\n",
              "      <td>happy</td>\n",
              "    </tr>\n",
              "    <tr>\n",
              "      <th>3</th>\n",
              "      <td>speechData/train/two/89d6d11e_nohash_0.wav</td>\n",
              "      <td>29</td>\n",
              "      <td>two</td>\n",
              "    </tr>\n",
              "    <tr>\n",
              "      <th>4</th>\n",
              "      <td>speechData/train/eight/6a700f9d_nohash_1.wav</td>\n",
              "      <td>5</td>\n",
              "      <td>eight</td>\n",
              "    </tr>\n",
              "  </tbody>\n",
              "</table>\n",
              "</div>"
            ],
            "text/plain": [
              "                                          files  labels category\n",
              "0   speechData/train/five/7e556a2c_nohash_0.wav      20     five\n",
              "1    speechData/train/off/96a48d28_nohash_3.wav       2      off\n",
              "2  speechData/train/happy/b71ebf79_nohash_0.wav      18    happy\n",
              "3    speechData/train/two/89d6d11e_nohash_0.wav      29      two\n",
              "4  speechData/train/eight/6a700f9d_nohash_1.wav       5    eight"
            ]
          },
          "metadata": {
            "tags": []
          },
          "execution_count": 5
        }
      ]
    },
    {
      "cell_type": "markdown",
      "metadata": {
        "id": "sPcVDfL2SB_o",
        "colab_type": "text"
      },
      "source": [
        "## Install tf 2.0 and python speech features"
      ]
    },
    {
      "cell_type": "code",
      "metadata": {
        "id": "WJ7OIG53R9_1",
        "colab_type": "code",
        "outputId": "f5665e95-b0e9-4754-e589-f857984e4d1a",
        "colab": {
          "base_uri": "https://localhost:8080/",
          "height": 68
        }
      },
      "source": [
        "!pip install -q tensorflow-gpu==2.0.0-beta1"
      ],
      "execution_count": 6,
      "outputs": [
        {
          "output_type": "stream",
          "text": [
            "\u001b[K     |████████████████████████████████| 348.9MB 63kB/s \n",
            "\u001b[K     |████████████████████████████████| 501kB 59.2MB/s \n",
            "\u001b[K     |████████████████████████████████| 3.1MB 54.9MB/s \n",
            "\u001b[?25h"
          ],
          "name": "stdout"
        }
      ]
    },
    {
      "cell_type": "code",
      "metadata": {
        "id": "ZL1Syop2Sblm",
        "colab_type": "code",
        "outputId": "69b57f6c-64d1-49ee-d592-bb3b3eedba51",
        "colab": {
          "base_uri": "https://localhost:8080/",
          "height": 51
        }
      },
      "source": [
        "import tensorflow as tf\n",
        "\n",
        "print(\"GPU Available: \", tf.test.is_gpu_available())\n",
        "print(\"Version: \", tf.__version__)"
      ],
      "execution_count": 7,
      "outputs": [
        {
          "output_type": "stream",
          "text": [
            "GPU Available:  True\n",
            "Version:  2.0.0-beta1\n"
          ],
          "name": "stdout"
        }
      ]
    },
    {
      "cell_type": "code",
      "metadata": {
        "id": "TTJTRS1WVJoe",
        "colab_type": "code",
        "colab": {
          "base_uri": "https://localhost:8080/",
          "height": 34
        },
        "outputId": "0d9f16a8-7a13-4017-8109-53b5b5168c77"
      },
      "source": [
        "!pip install -q python_speech_features"
      ],
      "execution_count": 8,
      "outputs": [
        {
          "output_type": "stream",
          "text": [
            "  Building wheel for python-speech-features (setup.py) ... \u001b[?25l\u001b[?25hdone\n"
          ],
          "name": "stdout"
        }
      ]
    },
    {
      "cell_type": "markdown",
      "metadata": {
        "id": "Lp_KHZnOX7Nd",
        "colab_type": "text"
      },
      "source": [
        "## Train model"
      ]
    },
    {
      "cell_type": "code",
      "metadata": {
        "id": "LaVDCGCaX62v",
        "colab_type": "code",
        "colab": {
          "base_uri": "https://localhost:8080/",
          "height": 1000
        },
        "outputId": "987f0f03-f8b8-491f-8b2e-020760947e67"
      },
      "source": [
        "def cnnModel(input_shape=(99, 40)):\n",
        "    \"\"\"\n",
        "    Model consisting of 4 convolution blocks\n",
        "    \"\"\"\n",
        "\n",
        "    model = tf.keras.models.Sequential()\n",
        "\n",
        "    # Normalization layer\n",
        "    model.add(tf.keras.layers.Reshape(input_shape=input_shape, target_shape=(99, 40, 1)))\n",
        "    model.add(tf.keras.layers.BatchNormalization())\n",
        "\n",
        "    filters = [16, 32, 64, 128]\n",
        "\n",
        "    for num_filters in filters:\n",
        "        # Conv a\n",
        "        model.add(tf.keras.layers.Conv2D(\n",
        "            num_filters,\n",
        "            kernel_size=(3, 3),\n",
        "            padding='same'\n",
        "            )\n",
        "        )\n",
        "        model.add(tf.keras.layers.BatchNormalization())\n",
        "        model.add(tf.keras.layers.Activation('relu'))\n",
        "\n",
        "        # Conv b\n",
        "        model.add(tf.keras.layers.Conv2D(\n",
        "            num_filters,\n",
        "            kernel_size=(3, 3),\n",
        "            padding='same'\n",
        "            )\n",
        "        )\n",
        "        model.add(tf.keras.layers.BatchNormalization())\n",
        "        model.add(tf.keras.layers.Activation('relu'))\n",
        "\n",
        "        # Pooling\n",
        "        model.add(tf.keras.layers.MaxPooling2D(pool_size=(2, 2)))\n",
        "        model.add(tf.keras.layers.Dropout(0.2))\n",
        "\n",
        "    # Classification layers\n",
        "    model.add(tf.keras.layers.Flatten())\n",
        "    model.add(tf.keras.layers.Dense(512))\n",
        "    model.add(tf.keras.layers.BatchNormalization())\n",
        "    model.add(tf.keras.layers.Dropout(0.4))\n",
        "    model.add(tf.keras.layers.Activation('relu'))\n",
        "    model.add(tf.keras.layers.Dropout(0.4))\n",
        "    model.add(tf.keras.layers.Dense(256, activation='relu'))\n",
        "    model.add(tf.keras.layers.Dropout(0.4))\n",
        "    model.add(tf.keras.layers.Dense(30, activation='softmax'))\n",
        "\n",
        "    return model\n",
        "\n",
        "model = cnnModel()\n",
        "model.summary()"
      ],
      "execution_count": 46,
      "outputs": [
        {
          "output_type": "stream",
          "text": [
            "Model: \"sequential_3\"\n",
            "_________________________________________________________________\n",
            "Layer (type)                 Output Shape              Param #   \n",
            "=================================================================\n",
            "reshape_3 (Reshape)          (None, 99, 40, 1)         0         \n",
            "_________________________________________________________________\n",
            "batch_normalization_30 (Batc (None, 99, 40, 1)         4         \n",
            "_________________________________________________________________\n",
            "conv2d_24 (Conv2D)           (None, 99, 40, 16)        160       \n",
            "_________________________________________________________________\n",
            "batch_normalization_31 (Batc (None, 99, 40, 16)        64        \n",
            "_________________________________________________________________\n",
            "activation_27 (Activation)   (None, 99, 40, 16)        0         \n",
            "_________________________________________________________________\n",
            "conv2d_25 (Conv2D)           (None, 99, 40, 16)        2320      \n",
            "_________________________________________________________________\n",
            "batch_normalization_32 (Batc (None, 99, 40, 16)        64        \n",
            "_________________________________________________________________\n",
            "activation_28 (Activation)   (None, 99, 40, 16)        0         \n",
            "_________________________________________________________________\n",
            "max_pooling2d_12 (MaxPooling (None, 49, 20, 16)        0         \n",
            "_________________________________________________________________\n",
            "dropout_17 (Dropout)         (None, 49, 20, 16)        0         \n",
            "_________________________________________________________________\n",
            "conv2d_26 (Conv2D)           (None, 49, 20, 32)        4640      \n",
            "_________________________________________________________________\n",
            "batch_normalization_33 (Batc (None, 49, 20, 32)        128       \n",
            "_________________________________________________________________\n",
            "activation_29 (Activation)   (None, 49, 20, 32)        0         \n",
            "_________________________________________________________________\n",
            "conv2d_27 (Conv2D)           (None, 49, 20, 32)        9248      \n",
            "_________________________________________________________________\n",
            "batch_normalization_34 (Batc (None, 49, 20, 32)        128       \n",
            "_________________________________________________________________\n",
            "activation_30 (Activation)   (None, 49, 20, 32)        0         \n",
            "_________________________________________________________________\n",
            "max_pooling2d_13 (MaxPooling (None, 24, 10, 32)        0         \n",
            "_________________________________________________________________\n",
            "dropout_18 (Dropout)         (None, 24, 10, 32)        0         \n",
            "_________________________________________________________________\n",
            "conv2d_28 (Conv2D)           (None, 24, 10, 64)        18496     \n",
            "_________________________________________________________________\n",
            "batch_normalization_35 (Batc (None, 24, 10, 64)        256       \n",
            "_________________________________________________________________\n",
            "activation_31 (Activation)   (None, 24, 10, 64)        0         \n",
            "_________________________________________________________________\n",
            "conv2d_29 (Conv2D)           (None, 24, 10, 64)        36928     \n",
            "_________________________________________________________________\n",
            "batch_normalization_36 (Batc (None, 24, 10, 64)        256       \n",
            "_________________________________________________________________\n",
            "activation_32 (Activation)   (None, 24, 10, 64)        0         \n",
            "_________________________________________________________________\n",
            "max_pooling2d_14 (MaxPooling (None, 12, 5, 64)         0         \n",
            "_________________________________________________________________\n",
            "dropout_19 (Dropout)         (None, 12, 5, 64)         0         \n",
            "_________________________________________________________________\n",
            "conv2d_30 (Conv2D)           (None, 12, 5, 128)        73856     \n",
            "_________________________________________________________________\n",
            "batch_normalization_37 (Batc (None, 12, 5, 128)        512       \n",
            "_________________________________________________________________\n",
            "activation_33 (Activation)   (None, 12, 5, 128)        0         \n",
            "_________________________________________________________________\n",
            "conv2d_31 (Conv2D)           (None, 12, 5, 128)        147584    \n",
            "_________________________________________________________________\n",
            "batch_normalization_38 (Batc (None, 12, 5, 128)        512       \n",
            "_________________________________________________________________\n",
            "activation_34 (Activation)   (None, 12, 5, 128)        0         \n",
            "_________________________________________________________________\n",
            "max_pooling2d_15 (MaxPooling (None, 6, 2, 128)         0         \n",
            "_________________________________________________________________\n",
            "dropout_20 (Dropout)         (None, 6, 2, 128)         0         \n",
            "_________________________________________________________________\n",
            "flatten_3 (Flatten)          (None, 1536)              0         \n",
            "_________________________________________________________________\n",
            "dense_9 (Dense)              (None, 512)               786944    \n",
            "_________________________________________________________________\n",
            "batch_normalization_39 (Batc (None, 512)               2048      \n",
            "_________________________________________________________________\n",
            "dropout_21 (Dropout)         (None, 512)               0         \n",
            "_________________________________________________________________\n",
            "activation_35 (Activation)   (None, 512)               0         \n",
            "_________________________________________________________________\n",
            "dropout_22 (Dropout)         (None, 512)               0         \n",
            "_________________________________________________________________\n",
            "dense_10 (Dense)             (None, 256)               131328    \n",
            "_________________________________________________________________\n",
            "dropout_23 (Dropout)         (None, 256)               0         \n",
            "_________________________________________________________________\n",
            "dense_11 (Dense)             (None, 30)                7710      \n",
            "=================================================================\n",
            "Total params: 1,223,186\n",
            "Trainable params: 1,221,200\n",
            "Non-trainable params: 1,986\n",
            "_________________________________________________________________\n"
          ],
          "name": "stdout"
        }
      ]
    },
    {
      "cell_type": "code",
      "metadata": {
        "id": "7nCf3g6NSOdP",
        "colab_type": "code",
        "colab": {}
      },
      "source": [
        "from trainingUtils import getDataset\n",
        "\n",
        "BATCH_SIZE = 32\n",
        "# Reduced trainign dataset by using a numer <60k\n",
        "NUM_EXAMPLES = 100000\n",
        "\n",
        "train_data, train_steps = getDataset(\n",
        "    df=trainDF[:NUM_EXAMPLES],\n",
        "    batch_size=BATCH_SIZE,\n",
        "    cache_file='train_cache',\n",
        "    shuffle=True,\n",
        "    scale=False\n",
        ") \n",
        "\n",
        "val_data, val_steps = getDataset(\n",
        "    df=valDF,\n",
        "    batch_size=BATCH_SIZE,\n",
        "    cache_file='val_cache',\n",
        "    shuffle=False,\n",
        "    scale=False\n",
        ")"
      ],
      "execution_count": 0,
      "outputs": []
    },
    {
      "cell_type": "code",
      "metadata": {
        "id": "qPIbCf7qSZQA",
        "colab_type": "code",
        "colab": {
          "base_uri": "https://localhost:8080/",
          "height": 836
        },
        "outputId": "113074ae-b192-467a-fa5a-7b5dc6152165"
      },
      "source": [
        "model.compile(loss='sparse_categorical_crossentropy', \n",
        "              optimizer=tf.keras.optimizers.Adam(),\n",
        "              metrics=[\"sparse_categorical_accuracy\"])\n",
        "\n",
        "\n",
        "EPOCHS = 40\n",
        "\n",
        "# Stop if the validation accuracy doesn't imporove for 5 epochs\n",
        "earlyStopping = tf.keras.callbacks.EarlyStopping(monitor='val_loss', patience=5, verbose=1)\n",
        "\n",
        "# Reduce LR on Plateau\n",
        "reduceLR = tf.keras.callbacks.ReduceLROnPlateau(monitor='val_loss', patience=3, verbose=1)\n",
        "\n",
        "# Save best models\n",
        "modelCheckpoint = tf.keras.callbacks.ModelCheckpoint(\"cnn_dropout_256.h5\", monitor='val_loss', save_best_only=True)\n",
        "\n",
        "history = model.fit(train_data.repeat(), \n",
        "          steps_per_epoch=train_steps,\n",
        "          validation_data=val_data.repeat(),\n",
        "          validation_steps=val_steps,\n",
        "          epochs=EPOCHS,\n",
        "          callbacks=[earlyStopping, reduceLR, modelCheckpoint])"
      ],
      "execution_count": 48,
      "outputs": [
        {
          "output_type": "stream",
          "text": [
            "Epoch 1/40\n",
            "1596/1596 [==============================] - 56s 35ms/step - loss: 2.0960 - sparse_categorical_accuracy: 0.3951 - val_loss: 0.7007 - val_sparse_categorical_accuracy: 0.7818\n",
            "Epoch 2/40\n",
            "1596/1596 [==============================] - 46s 29ms/step - loss: 0.6493 - sparse_categorical_accuracy: 0.8060 - val_loss: 0.3362 - val_sparse_categorical_accuracy: 0.9037\n",
            "Epoch 3/40\n",
            "1596/1596 [==============================] - 44s 28ms/step - loss: 0.4460 - sparse_categorical_accuracy: 0.8702 - val_loss: 0.3009 - val_sparse_categorical_accuracy: 0.9133\n",
            "Epoch 4/40\n",
            "1596/1596 [==============================] - 44s 28ms/step - loss: 0.3580 - sparse_categorical_accuracy: 0.8979 - val_loss: 0.3022 - val_sparse_categorical_accuracy: 0.9141\n",
            "Epoch 5/40\n",
            "1596/1596 [==============================] - 44s 28ms/step - loss: 0.3203 - sparse_categorical_accuracy: 0.9107 - val_loss: 0.2036 - val_sparse_categorical_accuracy: 0.9435\n",
            "Epoch 6/40\n",
            "1596/1596 [==============================] - 44s 28ms/step - loss: 0.2772 - sparse_categorical_accuracy: 0.9226 - val_loss: 0.1967 - val_sparse_categorical_accuracy: 0.9440\n",
            "Epoch 7/40\n",
            "1596/1596 [==============================] - 44s 28ms/step - loss: 0.2667 - sparse_categorical_accuracy: 0.9253 - val_loss: 0.2309 - val_sparse_categorical_accuracy: 0.9393\n",
            "Epoch 8/40\n",
            "1596/1596 [==============================] - 44s 28ms/step - loss: 0.2418 - sparse_categorical_accuracy: 0.9319 - val_loss: 0.2224 - val_sparse_categorical_accuracy: 0.9374\n",
            "Epoch 9/40\n",
            "1595/1596 [============================>.] - ETA: 0s - loss: 0.2317 - sparse_categorical_accuracy: 0.9364\n",
            "Epoch 00009: ReduceLROnPlateau reducing learning rate to 0.00010000000474974513.\n",
            "1596/1596 [==============================] - 44s 28ms/step - loss: 0.2317 - sparse_categorical_accuracy: 0.9364 - val_loss: 0.2268 - val_sparse_categorical_accuracy: 0.9393\n",
            "Epoch 10/40\n",
            "1596/1596 [==============================] - 44s 28ms/step - loss: 0.1787 - sparse_categorical_accuracy: 0.9499 - val_loss: 0.1660 - val_sparse_categorical_accuracy: 0.9552\n",
            "Epoch 11/40\n",
            "1596/1596 [==============================] - 44s 28ms/step - loss: 0.1594 - sparse_categorical_accuracy: 0.9561 - val_loss: 0.1540 - val_sparse_categorical_accuracy: 0.9583\n",
            "Epoch 12/40\n",
            "1596/1596 [==============================] - 44s 28ms/step - loss: 0.1514 - sparse_categorical_accuracy: 0.9575 - val_loss: 0.1558 - val_sparse_categorical_accuracy: 0.9580\n",
            "Epoch 13/40\n",
            "1596/1596 [==============================] - 44s 27ms/step - loss: 0.1401 - sparse_categorical_accuracy: 0.9608 - val_loss: 0.1566 - val_sparse_categorical_accuracy: 0.9589\n",
            "Epoch 14/40\n",
            "1593/1596 [============================>.] - ETA: 0s - loss: 0.1382 - sparse_categorical_accuracy: 0.9611\n",
            "Epoch 00014: ReduceLROnPlateau reducing learning rate to 1.0000000474974514e-05.\n",
            "1596/1596 [==============================] - 44s 27ms/step - loss: 0.1382 - sparse_categorical_accuracy: 0.9611 - val_loss: 0.1544 - val_sparse_categorical_accuracy: 0.9609\n",
            "Epoch 15/40\n",
            "1596/1596 [==============================] - 44s 28ms/step - loss: 0.1396 - sparse_categorical_accuracy: 0.9609 - val_loss: 0.1502 - val_sparse_categorical_accuracy: 0.9606\n",
            "Epoch 16/40\n",
            "1596/1596 [==============================] - 44s 28ms/step - loss: 0.1313 - sparse_categorical_accuracy: 0.9621 - val_loss: 0.1504 - val_sparse_categorical_accuracy: 0.9606\n",
            "Epoch 17/40\n",
            "1596/1596 [==============================] - 44s 27ms/step - loss: 0.1316 - sparse_categorical_accuracy: 0.9635 - val_loss: 0.1514 - val_sparse_categorical_accuracy: 0.9605\n",
            "Epoch 18/40\n",
            "1595/1596 [============================>.] - ETA: 0s - loss: 0.1317 - sparse_categorical_accuracy: 0.9634\n",
            "Epoch 00018: ReduceLROnPlateau reducing learning rate to 1.0000000656873453e-06.\n",
            "1596/1596 [==============================] - 44s 27ms/step - loss: 0.1316 - sparse_categorical_accuracy: 0.9634 - val_loss: 0.1506 - val_sparse_categorical_accuracy: 0.9605\n",
            "Epoch 19/40\n",
            "1596/1596 [==============================] - 44s 27ms/step - loss: 0.1294 - sparse_categorical_accuracy: 0.9637 - val_loss: 0.1504 - val_sparse_categorical_accuracy: 0.9603\n",
            "Epoch 20/40\n",
            "1596/1596 [==============================] - 44s 27ms/step - loss: 0.1278 - sparse_categorical_accuracy: 0.9642 - val_loss: 0.1504 - val_sparse_categorical_accuracy: 0.9605\n",
            "Epoch 00020: early stopping\n"
          ],
          "name": "stdout"
        }
      ]
    },
    {
      "cell_type": "code",
      "metadata": {
        "id": "zL-eLhvicThL",
        "colab_type": "code",
        "colab": {
          "base_uri": "https://localhost:8080/",
          "height": 581
        },
        "outputId": "f199d5b1-3313-4287-bf98-c1fcffab72aa"
      },
      "source": [
        "import matplotlib.pyplot as plt\n",
        "from matplotlib.ticker import MaxNLocator\n",
        "import seaborn as sns \n",
        "\n",
        "sns.set()\n",
        "\n",
        "loss = history.history['loss']\n",
        "val_loss = history.history['val_loss']\n",
        "\n",
        "acc = history.history['sparse_categorical_accuracy']\n",
        "val_acc = history.history['val_sparse_categorical_accuracy']\n",
        "\n",
        "fig, (ax1, ax2) = plt.subplots(2,1, figsize=(8,8))\n",
        "\n",
        "ax1.plot(loss, label='train')\n",
        "ax1.plot(val_loss, label='validation')\n",
        "ax1.xaxis.set_major_locator(MaxNLocator(integer=True))\n",
        "ax1.set_title('Model loss')\n",
        "ax1.set_xlabel('Epoch')\n",
        "ax1.set_ylabel('Loss')\n",
        "ax1.legend()\n",
        "\n",
        "ax2.plot(acc, label='train')\n",
        "ax2.plot(val_acc, label='validation')\n",
        "ax2.xaxis.set_major_locator(MaxNLocator(integer=True))\n",
        "ax2.set_title('Accuracy')\n",
        "ax2.set_xlabel('Epoch')\n",
        "ax2.set_ylabel('Accuracy')\n",
        "ax2.legend()\n",
        "\n",
        "plt.tight_layout()\n",
        "fig.show()"
      ],
      "execution_count": 49,
      "outputs": [
        {
          "output_type": "display_data",
          "data": {
            "image/png": "[encoded data removed]",
            "text/plain": [
              "<Figure size 576x576 with 2 Axes>"
            ]
          },
          "metadata": {
            "tags": []
          }
        }
      ]
    },
    {
      "cell_type": "markdown",
      "metadata": {
        "id": "ZpHsdkghRXX1",
        "colab_type": "text"
      },
      "source": [
        "## Save model"
      ]
    },
    {
      "cell_type": "code",
      "metadata": {
        "id": "QoInRTqCRaqg",
        "colab_type": "code",
        "outputId": "21e9d0e5-34c0-4f51-d2ee-7806c6513a0f",
        "colab": {
          "base_uri": "https://localhost:8080/",
          "height": 122
        }
      },
      "source": [
        "from google.colab import drive\n",
        "drive.mount('/content/gdrive')"
      ],
      "execution_count": 14,
      "outputs": [
        {
          "output_type": "stream",
          "text": [
            "Go to this URL in a browser: https://accounts.google.com/o/oauth2/auth?client_id=947318989803-6bn6qk8qdgf4n4g3pfee6491hc0brc4i.apps.googleusercontent.com&redirect_uri=urn%3Aietf%3Awg%3Aoauth%3A2.0%3Aoob&scope=email%20https%3A%2F%2Fwww.googleapis.com%2Fauth%2Fdocs.test%20https%3A%2F%2Fwww.googleapis.com%2Fauth%2Fdrive%20https%3A%2F%2Fwww.googleapis.com%2Fauth%2Fdrive.photos.readonly%20https%3A%2F%2Fwww.googleapis.com%2Fauth%2Fpeopleapi.readonly&response_type=code\n",
            "\n",
            "Enter your authorization code:\n",
            "··········\n",
            "Mounted at /content/gdrive\n"
          ],
          "name": "stdout"
        }
      ]
    },
    {
      "cell_type": "code",
      "metadata": {
        "id": "55IwtUlSRemN",
        "colab_type": "code",
        "colab": {
          "base_uri": "https://localhost:8080/",
          "height": 34
        },
        "outputId": "3022558f-d4a2-4478-eab2-eae2b5a2d22f"
      },
      "source": [
        "GDRIVE_PATH = \"/content/gdrive/My Drive/speechRecognition/cnnModel/\"\n",
        "\n",
        "model.save(GDRIVE_PATH + \"VGG_4B_256_30_dropout.h5\")\n",
        "print(\"Saved model to drive\")"
      ],
      "execution_count": 52,
      "outputs": [
        {
          "output_type": "stream",
          "text": [
            "Saved model to drive\n"
          ],
          "name": "stdout"
        }
      ]
    },
    {
      "cell_type": "code",
      "metadata": {
        "id": "vODWg4tkt3BQ",
        "colab_type": "code",
        "colab": {
          "base_uri": "https://localhost:8080/",
          "height": 34
        },
        "outputId": "e081749c-9396-4a86-fb8b-528842e605f1"
      },
      "source": [
        "import pickle\n",
        "## Save history data\n",
        "with open(GDRIVE_PATH + \"train_history_VGG_4B_256_30_dropout.pickle\", \"wb\") as handle:\n",
        "    pickle.dump(history.history, handle, protocol=pickle.HIGHEST_PROTOCOL)    \n",
        "print(\"Saved training history to drive\")"
      ],
      "execution_count": 53,
      "outputs": [
        {
          "output_type": "stream",
          "text": [
            "Saved training history to drive\n"
          ],
          "name": "stdout"
        }
      ]
    },
    {
      "cell_type": "markdown",
      "metadata": {
        "id": "l9j-xu1ahzk4",
        "colab_type": "text"
      },
      "source": [
        "## Extract features"
      ]
    },
    {
      "cell_type": "code",
      "metadata": {
        "id": "8-MagiA5h2ms",
        "colab_type": "code",
        "colab": {}
      },
      "source": [
        "from trainingUtils import getDataset\n",
        "\n",
        "marvin_data, _ = getDataset(\n",
        "    df=trainDF.loc[trainDF['category']=='marvin', :],\n",
        "    batch_size=32,\n",
        "    cache_file='oc_train_cache',\n",
        "    shuffle=False\n",
        ")"
      ],
      "execution_count": 0,
      "outputs": []
    },
    {
      "cell_type": "code",
      "metadata": {
        "id": "FadsvnJciZdV",
        "colab_type": "code",
        "outputId": "f4097507-c0fc-46e1-e5aa-b5c06e75e221",
        "colab": {
          "base_uri": "https://localhost:8080/",
          "height": 204
        }
      },
      "source": [
        "valDF['oc_class'] = valDF.apply(lambda row: 1 if row['category']=='marvin' else -1, axis=1)\n",
        "val_true = valDF['oc_class'].tolist()\n",
        "valDF.head()"
      ],
      "execution_count": 55,
      "outputs": [
        {
          "output_type": "execute_result",
          "data": {
            "text/html": [
              "<div>\n",
              "<style scoped>\n",
              "    .dataframe tbody tr th:only-of-type {\n",
              "        vertical-align: middle;\n",
              "    }\n",
              "\n",
              "    .dataframe tbody tr th {\n",
              "        vertical-align: top;\n",
              "    }\n",
              "\n",
              "    .dataframe thead th {\n",
              "        text-align: right;\n",
              "    }\n",
              "</style>\n",
              "<table border=\"1\" class=\"dataframe\">\n",
              "  <thead>\n",
              "    <tr style=\"text-align: right;\">\n",
              "      <th></th>\n",
              "      <th>files</th>\n",
              "      <th>labels</th>\n",
              "      <th>category</th>\n",
              "      <th>oc_class</th>\n",
              "    </tr>\n",
              "  </thead>\n",
              "  <tbody>\n",
              "    <tr>\n",
              "      <th>0</th>\n",
              "      <td>speechData/train/bed/026290a7_nohash_0.wav</td>\n",
              "      <td>16</td>\n",
              "      <td>bed</td>\n",
              "      <td>-1</td>\n",
              "    </tr>\n",
              "    <tr>\n",
              "      <th>1</th>\n",
              "      <td>speechData/train/bed/060cd039_nohash_0.wav</td>\n",
              "      <td>16</td>\n",
              "      <td>bed</td>\n",
              "      <td>-1</td>\n",
              "    </tr>\n",
              "    <tr>\n",
              "      <th>2</th>\n",
              "      <td>speechData/train/bed/060cd039_nohash_1.wav</td>\n",
              "      <td>16</td>\n",
              "      <td>bed</td>\n",
              "      <td>-1</td>\n",
              "    </tr>\n",
              "    <tr>\n",
              "      <th>3</th>\n",
              "      <td>speechData/train/bed/099d52ad_nohash_0.wav</td>\n",
              "      <td>16</td>\n",
              "      <td>bed</td>\n",
              "      <td>-1</td>\n",
              "    </tr>\n",
              "    <tr>\n",
              "      <th>4</th>\n",
              "      <td>speechData/train/bed/0e17f595_nohash_0.wav</td>\n",
              "      <td>16</td>\n",
              "      <td>bed</td>\n",
              "      <td>-1</td>\n",
              "    </tr>\n",
              "  </tbody>\n",
              "</table>\n",
              "</div>"
            ],
            "text/plain": [
              "                                        files  labels category  oc_class\n",
              "0  speechData/train/bed/026290a7_nohash_0.wav      16      bed        -1\n",
              "1  speechData/train/bed/060cd039_nohash_0.wav      16      bed        -1\n",
              "2  speechData/train/bed/060cd039_nohash_1.wav      16      bed        -1\n",
              "3  speechData/train/bed/099d52ad_nohash_0.wav      16      bed        -1\n",
              "4  speechData/train/bed/0e17f595_nohash_0.wav      16      bed        -1"
            ]
          },
          "metadata": {
            "tags": []
          },
          "execution_count": 55
        }
      ]
    },
    {
      "cell_type": "code",
      "metadata": {
        "id": "2YB3cfH0iZTd",
        "colab_type": "code",
        "colab": {}
      },
      "source": [
        "def getFeatures(data):\n",
        "    layer_name = 'dense_10'\n",
        "    layer_out = tf.keras.Model(inputs=model.input, outputs=model.get_layer(layer_name).output)\n",
        "    return layer_out.predict(data, use_multiprocessing=True)"
      ],
      "execution_count": 0,
      "outputs": []
    },
    {
      "cell_type": "code",
      "metadata": {
        "id": "Ln0LAd0yhxRy",
        "colab_type": "code",
        "colab": {}
      },
      "source": [
        "from trainingUtils import _loadWavs, _logMelFilterbank\n",
        "\n",
        "def _parse_fn(filename):\n",
        "    wave = _loadWavs(filename)\n",
        "    fbank = _logMelFilterbank(wave)\n",
        "    return fbank"
      ],
      "execution_count": 0,
      "outputs": []
    },
    {
      "cell_type": "code",
      "metadata": {
        "id": "VOrBV2jthxUz",
        "colab_type": "code",
        "colab": {}
      },
      "source": [
        "import numpy as np\n",
        "valData = np.zeros((valDF.shape[0], 99, 40))\n",
        "\n",
        "for i,f in enumerate(valDF['files']):\n",
        "    valData[i] = _parse_fn(f)"
      ],
      "execution_count": 0,
      "outputs": []
    },
    {
      "cell_type": "code",
      "metadata": {
        "id": "LL6zAYtsiZWc",
        "colab_type": "code",
        "colab": {}
      },
      "source": [
        "X_train = getFeatures(marvin_data)\n",
        "X_val = getFeatures(valData)"
      ],
      "execution_count": 0,
      "outputs": []
    },
    {
      "cell_type": "markdown",
      "metadata": {
        "id": "IpZhgEtlfVCC",
        "colab_type": "text"
      },
      "source": [
        "## Isolation Forest"
      ]
    },
    {
      "cell_type": "code",
      "metadata": {
        "id": "hzVOdfPEYk_l",
        "colab_type": "code",
        "colab": {
          "base_uri": "https://localhost:8080/",
          "height": 612
        },
        "outputId": "ddf8f14a-702d-4146-da6d-bb24135a55b0"
      },
      "source": [
        "from sklearn.metrics import f1_score\n",
        "from sklearn.ensemble import IsolationForest\n",
        "\n",
        "contamination_list = np.arange(0.005, 0.2, 0.005)\n",
        "max_samples_list = np.arange(1, 200, 5)\n",
        "\n",
        "best_score = 0\n",
        "scores = np.zeros((contamination_list.shape[0], max_samples_list.shape[0]))\n",
        "best_parameters = {'contamination':0, 'max_samples':0}\n",
        "\n",
        "iterations = contamination_list.shape[0] * max_samples_list.shape[0]\n",
        "iteration = 1\n",
        "\n",
        "for i, contamination in enumerate(contamination_list):\n",
        "    for j, max_samples in enumerate(max_samples_list):\n",
        "        \n",
        "        if(iteration%100==0):\n",
        "            print(\"Iteration {}/{}\".format(iteration, iterations))\n",
        "        \n",
        "        isf = IsolationForest(\n",
        "            random_state=42,\n",
        "            contamination=contamination,\n",
        "            max_samples=max_samples,\n",
        "            max_features=0.1,\n",
        "            bootstrap='True',\n",
        "            behaviour='new',\n",
        "            n_jobs=-1\n",
        "        )\n",
        "        isf.fit(X_train)\n",
        "        \n",
        "        val_pred = isf.predict(X_val)\n",
        "                \n",
        "        score = f1_score(val_pred, val_true)\n",
        "        \n",
        "        if score>best_score:\n",
        "            print(\"New best score: {:4f}\".format(score))     \n",
        "            best_score = score\n",
        "            best_parameters['contamination'] = contamination\n",
        "            best_parameters['max_samples'] = max_samples\n",
        "            \n",
        "        scores[i][j] = score\n",
        "        iteration += 1"
      ],
      "execution_count": 121,
      "outputs": [
        {
          "output_type": "stream",
          "text": [
            "New best score: 0.045990\n",
            "New best score: 0.076866\n",
            "New best score: 0.166141\n",
            "New best score: 0.186541\n",
            "New best score: 0.194479\n",
            "New best score: 0.263158\n",
            "New best score: 0.339130\n",
            "New best score: 0.363636\n",
            "New best score: 0.409031\n",
            "New best score: 0.514190\n",
            "New best score: 0.531952\n",
            "New best score: 0.647059\n",
            "New best score: 0.724299\n",
            "New best score: 0.815789\n",
            "New best score: 0.927711\n",
            "New best score: 0.936170\n",
            "New best score: 0.959502\n",
            "New best score: 0.965517\n",
            "New best score: 0.968553\n",
            "Iteration 100/1560\n",
            "New best score: 0.980892\n",
            "Iteration 200/1560\n",
            "Iteration 300/1560\n",
            "Iteration 400/1560\n",
            "Iteration 500/1560\n",
            "Iteration 600/1560\n",
            "Iteration 700/1560\n",
            "Iteration 800/1560\n",
            "Iteration 900/1560\n",
            "Iteration 1000/1560\n",
            "Iteration 1100/1560\n",
            "Iteration 1200/1560\n",
            "Iteration 1300/1560\n",
            "Iteration 1400/1560\n",
            "Iteration 1500/1560\n"
          ],
          "name": "stdout"
        }
      ]
    },
    {
      "cell_type": "code",
      "metadata": {
        "id": "5I2TKE-fk55U",
        "colab_type": "code",
        "colab": {
          "base_uri": "https://localhost:8080/",
          "height": 51
        },
        "outputId": "5df70064-5c2e-46a6-9c29-a45255ff89c6"
      },
      "source": [
        "print(best_parameters)\n",
        "print(\"Best F1 score: {:.4f}\".format(best_score))"
      ],
      "execution_count": 122,
      "outputs": [
        {
          "output_type": "stream",
          "text": [
            "{'contamination': 0.015, 'max_samples': 96}\n",
            "Best F1 score: 0.9809\n"
          ],
          "name": "stdout"
        }
      ]
    },
    {
      "cell_type": "code",
      "metadata": {
        "id": "BS0mU18CYlEM",
        "colab_type": "code",
        "colab": {
          "base_uri": "https://localhost:8080/",
          "height": 508
        },
        "outputId": "61b216ba-20ec-44ce-d1bf-313d2cdcb9f8"
      },
      "source": [
        "fig, ax = plt.subplots(figsize=(8,8))\n",
        "\n",
        "im = ax.imshow(scores, aspect=\"auto\", extent=[max_samples_list[0], max_samples_list[-1], contamination_list[0], contamination_list[-1]])\n",
        "fig.colorbar(im, orientation='vertical')\n",
        "\n",
        "ax.set_xlabel('max samples')\n",
        "ax.set_ylabel('contamination')\n",
        "\n",
        "#ax.scatter(best_parameters['max_samples'], best_parameters['contamination'], c='red', s=100, marker='*')\n",
        "\n",
        "ax.grid(False)\n",
        "\n",
        "fig.show()"
      ],
      "execution_count": 215,
      "outputs": [
        {
          "output_type": "display_data",
          "data": {
            "image/png": "[encoded data removed]",
            "text/plain": [
              "<Figure size 576x576 with 2 Axes>"
            ]
          },
          "metadata": {
            "tags": []
          }
        }
      ]
    },
    {
      "cell_type": "code",
      "metadata": {
        "id": "1t0z8h3wlubg",
        "colab_type": "code",
        "colab": {
          "base_uri": "https://localhost:8080/",
          "height": 505
        },
        "outputId": "bb07ed6b-9256-425a-a873-f985b267f2c0"
      },
      "source": [
        "from analysisFunctions import showResultsOC\n",
        "\n",
        "best_isf = IsolationForest( \n",
        "    random_state=42,\n",
        "    contamination=0.02,\n",
        "    max_samples=100,\n",
        "    max_features=0.1,\n",
        "    bootstrap='True',\n",
        "    behaviour='new',\n",
        "    n_jobs=-1)\n",
        "\n",
        "best_isf.fit(X_train)\n",
        "\n",
        "val_pred = best_isf.predict(X_val)\n",
        "\n",
        "showResultsOC(val_pred, val_true)"
      ],
      "execution_count": 177,
      "outputs": [
        {
          "output_type": "stream",
          "text": [
            "Accuracy: 0.9991\n",
            "Precision: 1.0000\n",
            "Recal: 0.9625\n",
            "F1-score: 0.9809\n"
          ],
          "name": "stdout"
        },
        {
          "output_type": "display_data",
          "data": {
            "image/png": "[encoded data removed]",
            "text/plain": [
              "<Figure size 432x432 with 1 Axes>"
            ]
          },
          "metadata": {
            "tags": []
          }
        }
      ]
    },
    {
      "cell_type": "markdown",
      "metadata": {
        "id": "ZxfLo1q5QefE",
        "colab_type": "text"
      },
      "source": [
        "## More tests"
      ]
    },
    {
      "cell_type": "code",
      "metadata": {
        "id": "ppbIBLBBQdv_",
        "colab_type": "code",
        "colab": {}
      },
      "source": [
        "import pandas as pd \n",
        "\n",
        "dfTest = pd.concat([testDF,finalTestDF],ignore_index=True)"
      ],
      "execution_count": 0,
      "outputs": []
    },
    {
      "cell_type": "code",
      "metadata": {
        "id": "4dTnJ3eIQ7kP",
        "colab_type": "code",
        "colab": {}
      },
      "source": [
        "testData = np.zeros((dfTest.shape[0], 99, 40))\n",
        "\n",
        "for i,f in enumerate(dfTest['files']):\n",
        "    testData[i] = _parse_fn(f)\n",
        "    \n",
        "X_test = getFeatures(testData)"
      ],
      "execution_count": 0,
      "outputs": []
    },
    {
      "cell_type": "code",
      "metadata": {
        "id": "-thbEkH5RI0V",
        "colab_type": "code",
        "outputId": "f238df6a-12e6-4f91-ef3b-609f55331c95",
        "colab": {
          "base_uri": "https://localhost:8080/",
          "height": 204
        }
      },
      "source": [
        "dfTest['oc_class'] = dfTest.apply(lambda row: 1 if row['category']=='marvin' else -1, axis=1)\n",
        "test_true = dfTest['oc_class'].tolist()\n",
        "dfTest.loc[dfTest['category']=='_background_noise_', :].head()"
      ],
      "execution_count": 67,
      "outputs": [
        {
          "output_type": "execute_result",
          "data": {
            "text/html": [
              "<div>\n",
              "<style scoped>\n",
              "    .dataframe tbody tr th:only-of-type {\n",
              "        vertical-align: middle;\n",
              "    }\n",
              "\n",
              "    .dataframe tbody tr th {\n",
              "        vertical-align: top;\n",
              "    }\n",
              "\n",
              "    .dataframe thead th {\n",
              "        text-align: right;\n",
              "    }\n",
              "</style>\n",
              "<table border=\"1\" class=\"dataframe\">\n",
              "  <thead>\n",
              "    <tr style=\"text-align: right;\">\n",
              "      <th></th>\n",
              "      <th>files</th>\n",
              "      <th>labels</th>\n",
              "      <th>category</th>\n",
              "      <th>oc_class</th>\n",
              "    </tr>\n",
              "  </thead>\n",
              "  <tbody>\n",
              "    <tr>\n",
              "      <th>8116</th>\n",
              "      <td>speechData/test/_silence_/555.wav</td>\n",
              "      <td>30</td>\n",
              "      <td>_background_noise_</td>\n",
              "      <td>-1</td>\n",
              "    </tr>\n",
              "    <tr>\n",
              "      <th>8117</th>\n",
              "      <td>speechData/test/_silence_/2227.wav</td>\n",
              "      <td>30</td>\n",
              "      <td>_background_noise_</td>\n",
              "      <td>-1</td>\n",
              "    </tr>\n",
              "    <tr>\n",
              "      <th>8118</th>\n",
              "      <td>speechData/test/_silence_/2275.wav</td>\n",
              "      <td>30</td>\n",
              "      <td>_background_noise_</td>\n",
              "      <td>-1</td>\n",
              "    </tr>\n",
              "    <tr>\n",
              "      <th>8119</th>\n",
              "      <td>speechData/test/_silence_/2588.wav</td>\n",
              "      <td>30</td>\n",
              "      <td>_background_noise_</td>\n",
              "      <td>-1</td>\n",
              "    </tr>\n",
              "    <tr>\n",
              "      <th>8120</th>\n",
              "      <td>speechData/test/_silence_/1257.wav</td>\n",
              "      <td>30</td>\n",
              "      <td>_background_noise_</td>\n",
              "      <td>-1</td>\n",
              "    </tr>\n",
              "  </tbody>\n",
              "</table>\n",
              "</div>"
            ],
            "text/plain": [
              "                                   files  labels            category  oc_class\n",
              "8116   speechData/test/_silence_/555.wav      30  _background_noise_        -1\n",
              "8117  speechData/test/_silence_/2227.wav      30  _background_noise_        -1\n",
              "8118  speechData/test/_silence_/2275.wav      30  _background_noise_        -1\n",
              "8119  speechData/test/_silence_/2588.wav      30  _background_noise_        -1\n",
              "8120  speechData/test/_silence_/1257.wav      30  _background_noise_        -1"
            ]
          },
          "metadata": {
            "tags": []
          },
          "execution_count": 67
        }
      ]
    },
    {
      "cell_type": "code",
      "metadata": {
        "id": "2EqvPVY_Sn_V",
        "colab_type": "code",
        "colab": {
          "base_uri": "https://localhost:8080/",
          "height": 505
        },
        "outputId": "e32a8973-93b9-4fe7-be4d-4b747cde78f7"
      },
      "source": [
        "test_pred = best_isf.predict(X_test)\n",
        "showResults(test_pred, test_true)"
      ],
      "execution_count": 175,
      "outputs": [
        {
          "output_type": "stream",
          "text": [
            "Accuracy: 0.9969\n",
            "Precision: 0.9226\n",
            "Recal: 0.8827\n",
            "F1-score: 0.9022\n"
          ],
          "name": "stdout"
        },
        {
          "output_type": "display_data",
          "data": {
            "image/png": "[encoded data removed]",
            "text/plain": [
              "<Figure size 432x432 with 1 Axes>"
            ]
          },
          "metadata": {
            "tags": []
          }
        }
      ]
    },
    {
      "cell_type": "code",
      "metadata": {
        "id": "2vcVlfQHnBz9",
        "colab_type": "code",
        "colab": {
          "base_uri": "https://localhost:8080/",
          "height": 1000
        },
        "outputId": "012d8240-61c3-4b05-9deb-eabe1abc8f1b"
      },
      "source": [
        "contamination_list = np.arange(0.001, 0.4, 0.005)\n",
        "max_samples_list = np.arange(5, 250, 5)\n",
        "\n",
        "best_score_tmp = 0\n",
        "scores_tmp = np.zeros((contamination_list.shape[0], max_samples_list.shape[0]))\n",
        "best_parameters_tmp = {'contamination':0, 'max_samples':0}\n",
        "\n",
        "iterations = contamination_list.shape[0] * max_samples_list.shape[0]\n",
        "iteration = 1\n",
        "\n",
        "print(\"Total iterations: {}\".format(iterations))\n",
        " \n",
        "for i, contamination in enumerate(contamination_list):\n",
        "    for j, max_samples in enumerate(max_samples_list):\n",
        "        \n",
        "        if(iteration%100==0):\n",
        "            print(\"Iteration {}/{}\".format(iteration, iterations))\n",
        "        \n",
        "        isf = IsolationForest(\n",
        "            random_state=42,\n",
        "            contamination=contamination,\n",
        "            max_samples=max_samples,\n",
        "            max_features=0.1,\n",
        "            bootstrap='True',\n",
        "            behaviour='new',\n",
        "            n_jobs=-1\n",
        "        )\n",
        "        isf.fit(X_train)\n",
        "        \n",
        "        test_pred = isf.predict(X_test)\n",
        "                \n",
        "        score = f1_score(test_pred, test_true)\n",
        "        \n",
        "        if score>best_score_tmp:\n",
        "            print(\"New best score: {:4f}\".format(score))     \n",
        "            best_score_tmp = score\n",
        "            best_parameters_tmp['contamination'] = contamination\n",
        "            best_parameters_tmp['max_samples'] = max_samples\n",
        "            \n",
        "        scores_tmp[i][j] = score\n",
        "        iteration += 1"
      ],
      "execution_count": 129,
      "outputs": [
        {
          "output_type": "stream",
          "text": [
            "Total iterations: 3920\n",
            "New best score: 0.033132\n",
            "New best score: 0.058888\n",
            "New best score: 0.073667\n",
            "New best score: 0.080379\n",
            "New best score: 0.090424\n",
            "New best score: 0.091607\n",
            "New best score: 0.098171\n",
            "New best score: 0.098622\n",
            "New best score: 0.104886\n",
            "New best score: 0.150426\n",
            "New best score: 0.172171\n",
            "New best score: 0.178953\n",
            "New best score: 0.215447\n",
            "New best score: 0.223322\n",
            "New best score: 0.234421\n",
            "New best score: 0.296365\n",
            "New best score: 0.301815\n",
            "New best score: 0.306796\n",
            "New best score: 0.312871\n",
            "Iteration 100/3920\n",
            "New best score: 0.346667\n",
            "New best score: 0.347439\n",
            "New best score: 0.390977\n",
            "New best score: 0.392947\n",
            "New best score: 0.454810\n",
            "New best score: 0.519135\n",
            "New best score: 0.543554\n",
            "New best score: 0.673866\n",
            "New best score: 0.690265\n",
            "New best score: 0.742857\n",
            "New best score: 0.849315\n",
            "New best score: 0.852459\n",
            "New best score: 0.865922\n",
            "New best score: 0.899135\n",
            "New best score: 0.901163\n",
            "New best score: 0.919881\n",
            "New best score: 0.933333\n",
            "New best score: 0.939024\n",
            "New best score: 0.942249\n",
            "Iteration 200/3920\n",
            "Iteration 300/3920\n",
            "Iteration 400/3920\n",
            "Iteration 500/3920\n",
            "Iteration 600/3920\n",
            "Iteration 700/3920\n",
            "Iteration 800/3920\n",
            "Iteration 900/3920\n",
            "Iteration 1000/3920\n",
            "Iteration 1100/3920\n",
            "Iteration 1200/3920\n",
            "Iteration 1300/3920\n",
            "Iteration 1400/3920\n",
            "Iteration 1500/3920\n",
            "Iteration 1600/3920\n",
            "Iteration 1700/3920\n",
            "Iteration 1800/3920\n",
            "Iteration 1900/3920\n",
            "Iteration 2000/3920\n",
            "Iteration 2100/3920\n",
            "Iteration 2200/3920\n",
            "Iteration 2300/3920\n",
            "Iteration 2400/3920\n",
            "Iteration 2500/3920\n",
            "Iteration 2600/3920\n",
            "Iteration 2700/3920\n",
            "Iteration 2800/3920\n",
            "Iteration 2900/3920\n",
            "Iteration 3000/3920\n",
            "Iteration 3100/3920\n",
            "Iteration 3200/3920\n",
            "Iteration 3300/3920\n",
            "Iteration 3400/3920\n",
            "Iteration 3500/3920\n",
            "Iteration 3600/3920\n",
            "Iteration 3700/3920\n",
            "Iteration 3800/3920\n",
            "Iteration 3900/3920\n"
          ],
          "name": "stdout"
        }
      ]
    },
    {
      "cell_type": "code",
      "metadata": {
        "id": "DY94g9tzpOkh",
        "colab_type": "code",
        "colab": {
          "base_uri": "https://localhost:8080/",
          "height": 508
        },
        "outputId": "fdec8af8-5df8-4fcc-9667-84e833805cc4"
      },
      "source": [
        "import matplotlib.pyplot as plt\n",
        "import seaborn as sns\n",
        "\n",
        "sns.set()\n",
        "\n",
        "fig, ax = plt.subplots(figsize=(8,8))\n",
        "\n",
        "im = ax.imshow(scores_tmp, aspect=\"auto\", extent=[max_samples_list[0], max_samples_list[-1], contamination_list[0], contamination_list[-1]])\n",
        "fig.colorbar(im, orientation='vertical')\n",
        "\n",
        "ax.set_xlabel('max samples')\n",
        "ax.set_ylabel('contamination')\n",
        "\n",
        "#ax.scatter(best_parameters_tmp['max_samples'], best_parameters_tmp['contamination'], c='red', s=100, marker='*')\n",
        "\n",
        "ax.grid(False)\n",
        "\n",
        "fig.show()"
      ],
      "execution_count": 160,
      "outputs": [
        {
          "output_type": "display_data",
          "data": {
            "image/png": "[encoded data removed]",
            "text/plain": [
              "<Figure size 576x576 with 2 Axes>"
            ]
          },
          "metadata": {
            "tags": []
          }
        }
      ]
    },
    {
      "cell_type": "code",
      "metadata": {
        "id": "-PAukXvE3Rkf",
        "colab_type": "code",
        "colab": {
          "base_uri": "https://localhost:8080/",
          "height": 34
        },
        "outputId": "a0da841b-4891-4110-aa25-50cb9846e48c"
      },
      "source": [
        "!ls gdrive/My\\ Drive/speechRecognition/OC"
      ],
      "execution_count": 139,
      "outputs": [
        {
          "output_type": "stream",
          "text": [
            "scores_X_test.npy\n"
          ],
          "name": "stdout"
        }
      ]
    },
    {
      "cell_type": "code",
      "metadata": {
        "id": "SqnOTAJK3mR8",
        "colab_type": "code",
        "colab": {}
      },
      "source": [
        "np.save(\"gdrive/My Drive/speechRecognition/OC/scores_X_test.npy\", scores_tmp)"
      ],
      "execution_count": 0,
      "outputs": []
    },
    {
      "cell_type": "code",
      "metadata": {
        "id": "9Mww0gPCr-8W",
        "colab_type": "code",
        "colab": {
          "base_uri": "https://localhost:8080/",
          "height": 68
        },
        "outputId": "fc020ca7-21fc-4b96-c5ba-bd61e32a2936"
      },
      "source": [
        "_ = \"\"\"isf_noise = IsolationForest(\n",
        "    random_state=42,\n",
        "    contamination=best_parameters_tmp['contamination'],\n",
        "    max_samples=best_parameters_tmp[\"max_samples\"],\n",
        "    bootstrap='True', behaviour='new')\"\"\"\n",
        "isf_noise = IsolationForest(\n",
        "    random_state=42,\n",
        "    contamination=0.015,\n",
        "    max_samples=95,\n",
        "    max_features=0.1,\n",
        "    bootstrap='True', behaviour='new')\n",
        "isf_noise.fit(X_train)"
      ],
      "execution_count": 184,
      "outputs": [
        {
          "output_type": "execute_result",
          "data": {
            "text/plain": [
              "IsolationForest(behaviour='new', bootstrap='True', contamination=0.015,\n",
              "                max_features=0.1, max_samples=95, n_estimators=100, n_jobs=None,\n",
              "                random_state=42, verbose=0, warm_start=False)"
            ]
          },
          "metadata": {
            "tags": []
          },
          "execution_count": 184
        }
      ]
    },
    {
      "cell_type": "code",
      "metadata": {
        "id": "BUmVUxlKsF8M",
        "colab_type": "code",
        "colab": {
          "base_uri": "https://localhost:8080/",
          "height": 505
        },
        "outputId": "9daea95a-51a1-4932-d332-0310897ead9f"
      },
      "source": [
        "test_pred = isf_noise.predict(X_test)\n",
        "showResults(test_pred, test_true)"
      ],
      "execution_count": 185,
      "outputs": [
        {
          "output_type": "stream",
          "text": [
            "Accuracy: 0.9980\n",
            "Precision: 0.9226\n",
            "Recal: 0.9568\n",
            "F1-score: 0.9394\n"
          ],
          "name": "stdout"
        },
        {
          "output_type": "display_data",
          "data": {
            "image/png": "[encoded data removed]",
            "text/plain": [
              "<Figure size 432x432 with 1 Axes>"
            ]
          },
          "metadata": {
            "tags": []
          }
        }
      ]
    },
    {
      "cell_type": "code",
      "metadata": {
        "id": "UZEgn2X1sZdF",
        "colab_type": "code",
        "colab": {
          "base_uri": "https://localhost:8080/",
          "height": 505
        },
        "outputId": "0080fcb0-9663-435b-9885-e7735286ca91"
      },
      "source": [
        "val_pred = isf_noise.predict(X_val)\n",
        "showResults(val_pred, val_true)"
      ],
      "execution_count": 186,
      "outputs": [
        {
          "output_type": "stream",
          "text": [
            "Accuracy: 0.9991\n",
            "Precision: 1.0000\n",
            "Recal: 0.9625\n",
            "F1-score: 0.9809\n"
          ],
          "name": "stdout"
        },
        {
          "output_type": "display_data",
          "data": {
            "image/png": "[encoded data removed]",
            "text/plain": [
              "<Figure size 432x432 with 1 Axes>"
            ]
          },
          "metadata": {
            "tags": []
          }
        }
      ]
    },
    {
      "cell_type": "markdown",
      "metadata": {
        "id": "EOwUNT6cle6i",
        "colab_type": "text"
      },
      "source": [
        "## OC-SVM"
      ]
    },
    {
      "cell_type": "code",
      "metadata": {
        "id": "nBf6wro0SoHf",
        "colab_type": "code",
        "colab": {
          "base_uri": "https://localhost:8080/",
          "height": 952
        },
        "outputId": "50b8c9b2-3b1a-4b2c-e9bc-cdbee3b76dd3"
      },
      "source": [
        "from sklearn.metrics import f1_score\n",
        "from sklearn import svm\n",
        "\n",
        "import warnings\n",
        "warnings.filterwarnings('ignore')\n",
        "\n",
        "gamma_bgn, gamma_end, num_gamma  = 1e-05, 0.04, 40 \n",
        "nu_bgn, nu_end, num_nu  = 1e-04, 5e-01, 40\n",
        "\n",
        "gamma_list = np.arange(gamma_bgn, gamma_end, (gamma_end - gamma_bgn) / num_gamma)[::-1]\n",
        "nu_list = np.arange(nu_bgn, nu_end, (nu_end - nu_bgn) / num_nu)\n",
        "\n",
        "best_score_svm = 0\n",
        "scores_svm = np.zeros((gamma_list.shape[0], nu_list.shape[0]))\n",
        "best_parameters_svm = {'gamma':0, 'nu':0}\n",
        "\n",
        "iterations = gamma_list.shape[0] * nu_list.shape[0]\n",
        "iteration = 1\n",
        "\n",
        "for i, gamma in enumerate(gamma_list):\n",
        "    for j, nu in enumerate(nu_list):\n",
        "        \n",
        "        if(iteration%100==0):\n",
        "            print(\"Iteration {}/{}\".format(iteration, iterations))\n",
        "            \n",
        "        oc_svm = svm.OneClassSVM(gamma=gamma, nu=nu)\n",
        "        ocmodel = oc_svm.fit(X_train)\n",
        "   \n",
        "        val_pred = oc_svm.predict(X_val)\n",
        "                \n",
        "        score = f1_score(val_pred, val_true)\n",
        "        \n",
        "        if score>best_score_svm:\n",
        "            print(\"New best score: {:4f}\".format(score))     \n",
        "            best_score_svm = score\n",
        "            best_parameters_svm['gamma'] = gamma\n",
        "            best_parameters_svm['nu'] = nu\n",
        "            \n",
        "        scores_svm[i][j] = score\n",
        "        iteration += 1"
      ],
      "execution_count": 96,
      "outputs": [
        {
          "output_type": "stream",
          "text": [
            "New best score: 0.535117\n",
            "New best score: 0.597015\n",
            "New best score: 0.643678\n",
            "New best score: 0.679389\n",
            "Iteration 100/1600\n",
            "New best score: 0.730627\n",
            "Iteration 200/1600\n",
            "New best score: 0.747170\n",
            "New best score: 0.756364\n",
            "Iteration 300/1600\n",
            "Iteration 400/1600\n",
            "Iteration 500/1600\n",
            "Iteration 600/1600\n",
            "New best score: 0.758170\n",
            "New best score: 0.759582\n",
            "New best score: 0.765273\n",
            "New best score: 0.782313\n",
            "Iteration 700/1600\n",
            "New best score: 0.783784\n",
            "New best score: 0.795987\n",
            "New best score: 0.798680\n",
            "New best score: 0.801471\n",
            "Iteration 800/1600\n",
            "New best score: 0.803922\n",
            "New best score: 0.804270\n",
            "New best score: 0.805195\n",
            "New best score: 0.806557\n",
            "New best score: 0.809365\n",
            "New best score: 0.816609\n",
            "New best score: 0.825175\n",
            "New best score: 0.832215\n",
            "Iteration 900/1600\n",
            "New best score: 0.833333\n",
            "New best score: 0.835714\n",
            "New best score: 0.843537\n",
            "New best score: 0.849123\n",
            "New best score: 0.859107\n",
            "New best score: 0.859155\n",
            "Iteration 1000/1600\n",
            "New best score: 0.866197\n",
            "New best score: 0.874126\n",
            "New best score: 0.878049\n",
            "Iteration 1100/1600\n",
            "New best score: 0.898361\n",
            "Iteration 1200/1600\n",
            "New best score: 0.901024\n",
            "New best score: 0.912162\n",
            "New best score: 0.938511\n",
            "Iteration 1300/1600\n",
            "Iteration 1400/1600\n",
            "Iteration 1500/1600\n",
            "New best score: 0.945687\n",
            "New best score: 0.954248\n",
            "New best score: 0.955128\n",
            "Iteration 1600/1600\n"
          ],
          "name": "stdout"
        }
      ]
    },
    {
      "cell_type": "code",
      "metadata": {
        "id": "5yJV-HXnYk8k",
        "colab_type": "code",
        "colab": {
          "base_uri": "https://localhost:8080/",
          "height": 508
        },
        "outputId": "148c6121-673d-45b8-fc03-2f333804e64b"
      },
      "source": [
        "import matplotlib.pyplot as plt\n",
        "import seaborn as sns\n",
        "\n",
        "sns.set()\n",
        "\n",
        "fig, ax = plt.subplots(figsize=(8,8))\n",
        "\n",
        "im = ax.imshow(scores_svm, aspect=\"auto\", extent=[nu_list[0], nu_list[-1], gamma_list[-1], gamma_list[0]])\n",
        "fig.colorbar(im, orientation='vertical')\n",
        "\n",
        "ax.set_xlabel('Nu')\n",
        "ax.set_ylabel('Gamma')\n",
        "\n",
        "#ax.scatter(best_parameters_svm['nu'], best_parameters_svm['gamma'], c='red', s=100, marker='*')\n",
        "\n",
        "fig.show()"
      ],
      "execution_count": 99,
      "outputs": [
        {
          "output_type": "display_data",
          "data": {
            "image/png": "[encoded data removed]",
            "text/plain": [
              "<Figure size 576x576 with 2 Axes>"
            ]
          },
          "metadata": {
            "tags": []
          }
        }
      ]
    },
    {
      "cell_type": "code",
      "metadata": {
        "id": "ifXjYIbxYlI7",
        "colab_type": "code",
        "colab": {
          "base_uri": "https://localhost:8080/",
          "height": 505
        },
        "outputId": "6afe196d-219b-4469-fb52-bbe992e158d7"
      },
      "source": [
        "best_svm = svm.OneClassSVM(gamma = 5e-06, nu=0.025)\n",
        "best_svm.fit(X_train)\n",
        "\n",
        "val_pred = best_svm.predict(X_val)\n",
        "showResults(val_pred, val_true)"
      ],
      "execution_count": 193,
      "outputs": [
        {
          "output_type": "stream",
          "text": [
            "Accuracy: 0.9979\n",
            "Precision: 0.9803\n",
            "Recal: 0.9313\n",
            "F1-score: 0.9551\n"
          ],
          "name": "stdout"
        },
        {
          "output_type": "display_data",
          "data": {
            "image/png": "[encoded data removed]",
            "text/plain": [
              "<Figure size 432x432 with 1 Axes>"
            ]
          },
          "metadata": {
            "tags": []
          }
        }
      ]
    },
    {
      "cell_type": "markdown",
      "metadata": {
        "id": "59Yl27YwCaaq",
        "colab_type": "text"
      },
      "source": [
        "## PCA"
      ]
    },
    {
      "cell_type": "code",
      "metadata": {
        "id": "hLWGLQaI9GQx",
        "colab_type": "code",
        "colab": {
          "base_uri": "https://localhost:8080/",
          "height": 34
        },
        "outputId": "8da03c10-79c9-4cd0-b134-a4fc3e6871ec"
      },
      "source": [
        "from sklearn.decomposition import PCA\n",
        "\n",
        "pca = PCA(n_components=20)\n",
        "\n",
        "pca.fit(X_train)\n",
        "\n",
        "print(sum(pca.explained_variance_ratio_)) "
      ],
      "execution_count": 194,
      "outputs": [
        {
          "output_type": "stream",
          "text": [
            "0.9859188554110005\n"
          ],
          "name": "stdout"
        }
      ]
    },
    {
      "cell_type": "code",
      "metadata": {
        "id": "6oorwyt994s3",
        "colab_type": "code",
        "colab": {}
      },
      "source": [
        "X_train_transformed = pca.transform(X_train)\n",
        "X_val_transformed = pca.transform(X_val)\n",
        "X_test_transformed = pca.transform(X_test)"
      ],
      "execution_count": 0,
      "outputs": []
    },
    {
      "cell_type": "code",
      "metadata": {
        "id": "M6ay0ULY-Puj",
        "colab_type": "code",
        "colab": {
          "base_uri": "https://localhost:8080/",
          "height": 306
        },
        "outputId": "8707852d-159d-4425-d3da-5123c7c9d7af"
      },
      "source": [
        "gamma_bgn, gamma_end, num_gamma  = 1e-06, 0.01, 40 \n",
        "nu_bgn, nu_end, num_nu  = 1e-04, 5e-01, 30\n",
        "\n",
        "gamma_list = np.arange(gamma_bgn, gamma_end, (gamma_end - gamma_bgn) / num_gamma)#[::-1]\n",
        "nu_list = np.arange(nu_bgn, nu_end, (nu_end - nu_bgn) / num_nu)\n",
        "\n",
        "best_score_svm = 0\n",
        "scores_svm = np.zeros((gamma_list.shape[0], nu_list.shape[0]))\n",
        "best_parameters_svm = {'gamma':0, 'nu':0}\n",
        "\n",
        "iterations = gamma_list.shape[0] * nu_list.shape[0]\n",
        "iteration = 1\n",
        "\n",
        "for i, gamma in enumerate(gamma_list):\n",
        "    for j, nu in enumerate(nu_list):\n",
        "        \n",
        "        if(iteration%100==0):\n",
        "            print(\"Iteration {}/{}\".format(iteration, iterations))\n",
        "            \n",
        "        oc_svm = svm.OneClassSVM(gamma=gamma, nu=nu)\n",
        "        ocmodel = oc_svm.fit(X_train_transformed)\n",
        "   \n",
        "        val_pred = oc_svm.predict(X_val_transformed)\n",
        "                \n",
        "        score = f1_score(val_pred, val_true)\n",
        "        \n",
        "        if score>best_score_svm:\n",
        "            print(\"New best score: {:4f}\".format(score))     \n",
        "            best_score_svm = score\n",
        "            best_parameters_svm['gamma'] = gamma\n",
        "            best_parameters_svm['nu'] = nu\n",
        "            \n",
        "        scores_svm[i][j] = score\n",
        "        iteration += 1"
      ],
      "execution_count": 204,
      "outputs": [
        {
          "output_type": "stream",
          "text": [
            "New best score: 0.290875\n",
            "New best score: 0.927900\n",
            "New best score: 0.951140\n",
            "New best score: 0.954545\n",
            "New best score: 0.964401\n",
            "Iteration 100/1240\n",
            "Iteration 200/1240\n",
            "Iteration 300/1240\n",
            "Iteration 400/1240\n",
            "Iteration 500/1240\n",
            "Iteration 600/1240\n",
            "Iteration 700/1240\n",
            "Iteration 800/1240\n",
            "Iteration 900/1240\n",
            "Iteration 1000/1240\n",
            "Iteration 1100/1240\n",
            "Iteration 1200/1240\n"
          ],
          "name": "stdout"
        }
      ]
    },
    {
      "cell_type": "code",
      "metadata": {
        "id": "ewx0zwxU_Jao",
        "colab_type": "code",
        "colab": {
          "base_uri": "https://localhost:8080/",
          "height": 508
        },
        "outputId": "ba8dee81-0236-417c-cfe2-0f5a6ac5c8b4"
      },
      "source": [
        "fig, ax = plt.subplots(figsize=(8,8))\n",
        "\n",
        "im = ax.imshow(scores_svm, aspect=\"auto\", extent=[nu_list[0], nu_list[-1], gamma_list[-1], gamma_list[0]])\n",
        "fig.colorbar(im, orientation='vertical')\n",
        "\n",
        "ax.set_xlabel('Nu')\n",
        "ax.set_ylabel('Gamma')\n",
        "\n",
        "#ax.scatter(best_parameters_svm['nu'], best_parameters_svm['gamma'], c='red', s=100, marker='*')\n",
        "\n",
        "fig.show()"
      ],
      "execution_count": 214,
      "outputs": [
        {
          "output_type": "display_data",
          "data": {
            "image/png": "[encoded data removed]",
            "text/plain": [
              "<Figure size 576x576 with 2 Axes>"
            ]
          },
          "metadata": {
            "tags": []
          }
        }
      ]
    },
    {
      "cell_type": "code",
      "metadata": {
        "id": "U-k3zz7r_2C9",
        "colab_type": "code",
        "colab": {
          "base_uri": "https://localhost:8080/",
          "height": 505
        },
        "outputId": "805d7718-df85-4e55-d799-d03d2308531f"
      },
      "source": [
        "oc_svm = svm.OneClassSVM(gamma=0.0005, nu=0.03)\n",
        "ocmodel = oc_svm.fit(X_train_transformed)\n",
        "\n",
        "val_pred = oc_svm.predict(X_val_transformed)\n",
        "showResultsOC(val_pred, val_true)"
      ],
      "execution_count": 213,
      "outputs": [
        {
          "output_type": "stream",
          "text": [
            "Accuracy: 0.9981\n",
            "Precision: 0.9868\n",
            "Recal: 0.9313\n",
            "F1-score: 0.9582\n"
          ],
          "name": "stdout"
        },
        {
          "output_type": "display_data",
          "data": {
            "image/png": "[encoded data removed]",
            "text/plain": [
              "<Figure size 432x432 with 1 Axes>"
            ]
          },
          "metadata": {
            "tags": []
          }
        }
      ]
    }
  ]
}