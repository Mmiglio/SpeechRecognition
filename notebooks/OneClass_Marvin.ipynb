{
  "nbformat": 4,
  "nbformat_minor": 0,
  "metadata": {
    "colab": {
      "name": "OneClass_Marvin.ipynb",
      "version": "0.3.2",
      "provenance": [],
      "collapsed_sections": []
    },
    "kernelspec": {
      "name": "python3",
      "display_name": "Python 3"
    },
    "accelerator": "GPU"
  },
  "cells": [
    {
      "cell_type": "markdown",
      "metadata": {
        "id": "8OVf-wlQRCz1",
        "colab_type": "text"
      },
      "source": [
        "## Get scripts"
      ]
    },
    {
      "cell_type": "code",
      "metadata": {
        "id": "5EYZL1_3Qu-F",
        "colab_type": "code",
        "colab": {}
      },
      "source": [
        "!wget -q https://raw.githubusercontent.com/Mmiglio/SpeechRecognition/master/src/getData.py\n",
        "!wget -q https://raw.githubusercontent.com/Mmiglio/SpeechRecognition/master/src/constants.py\n",
        "!wget -q https://raw.githubusercontent.com/Mmiglio/SpeechRecognition/master/src/trainingUtils.py\n",
        "!wget -q https://raw.githubusercontent.com/Mmiglio/SpeechRecognition/master/src/models.py\n",
        "!wget -q https://raw.githubusercontent.com/Mmiglio/SpeechRecognition/master/src/analysisFunctions.py"
      ],
      "execution_count": 0,
      "outputs": []
    },
    {
      "cell_type": "markdown",
      "metadata": {
        "id": "XQbU_JPYRO9u",
        "colab_type": "text"
      },
      "source": [
        "## Get data"
      ]
    },
    {
      "cell_type": "code",
      "metadata": {
        "id": "tut_3T18RG6J",
        "colab_type": "code",
        "outputId": "958129f0-100c-415f-d6e1-7240e6932eb8",
        "colab": {
          "base_uri": "https://localhost:8080/",
          "height": 85
        }
      },
      "source": [
        "from getData import downloadSpeechData, getDataDict\n",
        "\n",
        "# Download data\n",
        "downloadSpeechData(data_path='speechData/')\n",
        "\n",
        "# Get dict with files and labels\n",
        "dataDict = getDataDict(data_path='speechData/')"
      ],
      "execution_count": 0,
      "outputs": [
        {
          "output_type": "stream",
          "text": [
            "Downloading http://download.tensorflow.org/data/speech_commands_v0.01.tar.gz into /content/speechData/train.tar.gz\n",
            "Extracting /content/speechData/train.tar.gz into /content/speechData/train\n",
            "Downloading http://download.tensorflow.org/data/speech_commands_test_set_v0.01.tar.gz into /content/speechData/test.tar.gz\n",
            "Extracting /content/speechData/test.tar.gz into /content/speechData/test\n"
          ],
          "name": "stdout"
        }
      ]
    },
    {
      "cell_type": "code",
      "metadata": {
        "id": "ARC63wfRRKb3",
        "colab_type": "code",
        "outputId": "48c08dcf-bf3e-40fe-931c-c7ae25291e4b",
        "colab": {
          "base_uri": "https://localhost:8080/",
          "height": 85
        }
      },
      "source": [
        "from getData import getDataframe\n",
        "import pandas as pd\n",
        "\n",
        "trainDF = getDataframe(dataDict['train'])\n",
        "valDF = getDataframe(dataDict['val'])\n",
        "testDF = getDataframe(dataDict['test'], include_unknown=True) \n",
        "finalTestDF = getDataframe(dataDict['finalTest'], include_unknown=True) \n",
        "\n",
        "print(\"Train files: {}\".format(trainDF.shape[0]))\n",
        "print(\"Validation files: {}\".format(valDF.shape[0]))\n",
        "print(\"Test files: {}\".format(testDF.shape[0]))\n",
        "print(\"Final test files: {}\".format(finalTestDF.shape[0]))"
      ],
      "execution_count": 0,
      "outputs": [
        {
          "output_type": "stream",
          "text": [
            "Train files: 51088\n",
            "Validation files: 6798\n",
            "Test files: 6835\n",
            "Final test files: 3081\n"
          ],
          "name": "stdout"
        }
      ]
    },
    {
      "cell_type": "code",
      "metadata": {
        "id": "Etgvh_cJRSxJ",
        "colab_type": "code",
        "outputId": "a4852dd6-f2da-4a3d-9489-6190b74a28a4",
        "colab": {
          "base_uri": "https://localhost:8080/",
          "height": 204
        }
      },
      "source": [
        "trainDF.head()"
      ],
      "execution_count": 0,
      "outputs": [
        {
          "output_type": "execute_result",
          "data": {
            "text/html": [
              "<div>\n",
              "<style scoped>\n",
              "    .dataframe tbody tr th:only-of-type {\n",
              "        vertical-align: middle;\n",
              "    }\n",
              "\n",
              "    .dataframe tbody tr th {\n",
              "        vertical-align: top;\n",
              "    }\n",
              "\n",
              "    .dataframe thead th {\n",
              "        text-align: right;\n",
              "    }\n",
              "</style>\n",
              "<table border=\"1\" class=\"dataframe\">\n",
              "  <thead>\n",
              "    <tr style=\"text-align: right;\">\n",
              "      <th></th>\n",
              "      <th>files</th>\n",
              "      <th>labels</th>\n",
              "      <th>category</th>\n",
              "    </tr>\n",
              "  </thead>\n",
              "  <tbody>\n",
              "    <tr>\n",
              "      <th>0</th>\n",
              "      <td>speechData/train/no/66cbe2b3_nohash_2.wav</td>\n",
              "      <td>9</td>\n",
              "      <td>no</td>\n",
              "    </tr>\n",
              "    <tr>\n",
              "      <th>1</th>\n",
              "      <td>speechData/train/yes/aeb99b1c_nohash_0.wav</td>\n",
              "      <td>28</td>\n",
              "      <td>yes</td>\n",
              "    </tr>\n",
              "    <tr>\n",
              "      <th>2</th>\n",
              "      <td>speechData/train/zero/ad1429cf_nohash_0.wav</td>\n",
              "      <td>17</td>\n",
              "      <td>zero</td>\n",
              "    </tr>\n",
              "    <tr>\n",
              "      <th>3</th>\n",
              "      <td>speechData/train/yes/6aafb34f_nohash_1.wav</td>\n",
              "      <td>28</td>\n",
              "      <td>yes</td>\n",
              "    </tr>\n",
              "    <tr>\n",
              "      <th>4</th>\n",
              "      <td>speechData/train/stop/7014b07e_nohash_1.wav</td>\n",
              "      <td>0</td>\n",
              "      <td>stop</td>\n",
              "    </tr>\n",
              "  </tbody>\n",
              "</table>\n",
              "</div>"
            ],
            "text/plain": [
              "                                         files  labels category\n",
              "0    speechData/train/no/66cbe2b3_nohash_2.wav       9       no\n",
              "1   speechData/train/yes/aeb99b1c_nohash_0.wav      28      yes\n",
              "2  speechData/train/zero/ad1429cf_nohash_0.wav      17     zero\n",
              "3   speechData/train/yes/6aafb34f_nohash_1.wav      28      yes\n",
              "4  speechData/train/stop/7014b07e_nohash_1.wav       0     stop"
            ]
          },
          "metadata": {
            "tags": []
          },
          "execution_count": 4
        }
      ]
    },
    {
      "cell_type": "markdown",
      "metadata": {
        "id": "sPcVDfL2SB_o",
        "colab_type": "text"
      },
      "source": [
        "## Install tf 2.0 and other packages"
      ]
    },
    {
      "cell_type": "code",
      "metadata": {
        "id": "WJ7OIG53R9_1",
        "colab_type": "code",
        "outputId": "5ecb654b-6bb8-4ba6-df31-d869ce898c73",
        "colab": {
          "base_uri": "https://localhost:8080/",
          "height": 68
        }
      },
      "source": [
        "!pip install -q tensorflow-gpu==2.0.0-beta1"
      ],
      "execution_count": 0,
      "outputs": [
        {
          "output_type": "stream",
          "text": [
            "\u001b[K     |████████████████████████████████| 348.9MB 76kB/s \n",
            "\u001b[K     |████████████████████████████████| 3.1MB 28.6MB/s \n",
            "\u001b[K     |████████████████████████████████| 501kB 27.5MB/s \n",
            "\u001b[?25h"
          ],
          "name": "stdout"
        }
      ]
    },
    {
      "cell_type": "code",
      "metadata": {
        "id": "ZL1Syop2Sblm",
        "colab_type": "code",
        "outputId": "e3155eb9-ce7c-4fef-8fe4-8bd33344b21f",
        "colab": {
          "base_uri": "https://localhost:8080/",
          "height": 51
        }
      },
      "source": [
        "import tensorflow as tf\n",
        "\n",
        "print(\"GPU Available: \", tf.test.is_gpu_available())\n",
        "print(\"Version: \", tf.__version__)"
      ],
      "execution_count": 0,
      "outputs": [
        {
          "output_type": "stream",
          "text": [
            "GPU Available:  True\n",
            "Version:  2.0.0-beta1\n"
          ],
          "name": "stdout"
        }
      ]
    },
    {
      "cell_type": "code",
      "metadata": {
        "id": "TTJTRS1WVJoe",
        "colab_type": "code",
        "outputId": "3c8be0c5-144a-492c-fe4e-2ec6671e7fe6",
        "colab": {
          "base_uri": "https://localhost:8080/",
          "height": 34
        }
      },
      "source": [
        "!pip install -q python_speech_features"
      ],
      "execution_count": 0,
      "outputs": [
        {
          "output_type": "stream",
          "text": [
            "  Building wheel for python-speech-features (setup.py) ... \u001b[?25l\u001b[?25hdone\n"
          ],
          "name": "stdout"
        }
      ]
    },
    {
      "cell_type": "code",
      "metadata": {
        "id": "IcXlKK2rj148",
        "colab_type": "code",
        "outputId": "949a8a61-0ec8-436e-edc7-d8886a3b5662",
        "colab": {
          "base_uri": "https://localhost:8080/",
          "height": 34
        }
      },
      "source": [
        "!pip install -q scikit-optimize"
      ],
      "execution_count": 0,
      "outputs": [
        {
          "output_type": "stream",
          "text": [
            "\u001b[?25l\r\u001b[K     |████▍                           | 10kB 15.4MB/s eta 0:00:01\r\u001b[K     |████████▉                       | 20kB 1.8MB/s eta 0:00:01\r\u001b[K     |█████████████▏                  | 30kB 2.6MB/s eta 0:00:01\r\u001b[K     |█████████████████▋              | 40kB 1.7MB/s eta 0:00:01\r\u001b[K     |██████████████████████          | 51kB 2.1MB/s eta 0:00:01\r\u001b[K     |██████████████████████████▍     | 61kB 2.5MB/s eta 0:00:01\r\u001b[K     |██████████████████████████████▊ | 71kB 2.8MB/s eta 0:00:01\r\u001b[K     |████████████████████████████████| 81kB 3.0MB/s \n",
            "\u001b[?25h"
          ],
          "name": "stdout"
        }
      ]
    },
    {
      "cell_type": "markdown",
      "metadata": {
        "id": "Lp_KHZnOX7Nd",
        "colab_type": "text"
      },
      "source": [
        "## Train model"
      ]
    },
    {
      "cell_type": "code",
      "metadata": {
        "id": "LaVDCGCaX62v",
        "colab_type": "code",
        "outputId": "51bc393f-d364-4dbf-ca29-504003525aea",
        "colab": {
          "base_uri": "https://localhost:8080/",
          "height": 1000
        }
      },
      "source": [
        "tf.keras.backend.clear_session()\n",
        "\n",
        "def cnnModelv2(input_shape=(99, 40)):\n",
        "    \"\"\"\n",
        "    Model consisting of 4 convolution blocks\n",
        "    \"\"\"\n",
        "\n",
        "    model = tf.keras.models.Sequential()\n",
        "\n",
        "    # Normalization layer\n",
        "    model.add(tf.keras.layers.Reshape(input_shape=input_shape, target_shape=(99, 40, 1)))\n",
        "    model.add(tf.keras.layers.BatchNormalization())\n",
        "\n",
        "    filters = [16, 32, 64, 128]\n",
        "\n",
        "    for num_filters in filters:\n",
        "        # Conv a\n",
        "        model.add(tf.keras.layers.Conv2D(\n",
        "            num_filters,\n",
        "            kernel_size=(3, 3),\n",
        "            padding='same'\n",
        "            )\n",
        "        )\n",
        "        model.add(tf.keras.layers.BatchNormalization())\n",
        "        model.add(tf.keras.layers.Activation('relu'))\n",
        "\n",
        "        # Conv b\n",
        "        model.add(tf.keras.layers.Conv2D(\n",
        "            num_filters,\n",
        "            kernel_size=(3, 3),\n",
        "            padding='same'\n",
        "            )\n",
        "        )\n",
        "        model.add(tf.keras.layers.BatchNormalization())\n",
        "        model.add(tf.keras.layers.Activation('relu'))\n",
        "\n",
        "        # Pooling\n",
        "        model.add(tf.keras.layers.MaxPooling2D(pool_size=(2, 2)))\n",
        "        model.add(tf.keras.layers.Dropout(0.2))\n",
        "\n",
        "    # Classification layers\n",
        "    model.add(tf.keras.layers.Flatten())\n",
        "    model.add(tf.keras.layers.Dense(512, name='features512'))\n",
        "    model.add(tf.keras.layers.BatchNormalization())\n",
        "    model.add(tf.keras.layers.Activation('relu'))\n",
        "    model.add(tf.keras.layers.Dropout(0.4))\n",
        "    model.add(tf.keras.layers.Dense(256, name='features256'))\n",
        "    model.add(tf.keras.layers.BatchNormalization())\n",
        "    model.add(tf.keras.layers.Activation('relu'))\n",
        "    model.add(tf.keras.layers.Dropout(0.4))\n",
        "    model.add(tf.keras.layers.Dense(30, activation='softmax'))\n",
        "    \n",
        "    return model\n",
        "\n",
        "model = cnnModelv2()\n",
        "model.summary()"
      ],
      "execution_count": 0,
      "outputs": [
        {
          "output_type": "stream",
          "text": [
            "Model: \"sequential\"\n",
            "_________________________________________________________________\n",
            "Layer (type)                 Output Shape              Param #   \n",
            "=================================================================\n",
            "reshape (Reshape)            (None, 99, 40, 1)         0         \n",
            "_________________________________________________________________\n",
            "batch_normalization (BatchNo (None, 99, 40, 1)         4         \n",
            "_________________________________________________________________\n",
            "conv2d (Conv2D)              (None, 99, 40, 16)        160       \n",
            "_________________________________________________________________\n",
            "batch_normalization_1 (Batch (None, 99, 40, 16)        64        \n",
            "_________________________________________________________________\n",
            "activation (Activation)      (None, 99, 40, 16)        0         \n",
            "_________________________________________________________________\n",
            "conv2d_1 (Conv2D)            (None, 99, 40, 16)        2320      \n",
            "_________________________________________________________________\n",
            "batch_normalization_2 (Batch (None, 99, 40, 16)        64        \n",
            "_________________________________________________________________\n",
            "activation_1 (Activation)    (None, 99, 40, 16)        0         \n",
            "_________________________________________________________________\n",
            "max_pooling2d (MaxPooling2D) (None, 49, 20, 16)        0         \n",
            "_________________________________________________________________\n",
            "dropout (Dropout)            (None, 49, 20, 16)        0         \n",
            "_________________________________________________________________\n",
            "conv2d_2 (Conv2D)            (None, 49, 20, 32)        4640      \n",
            "_________________________________________________________________\n",
            "batch_normalization_3 (Batch (None, 49, 20, 32)        128       \n",
            "_________________________________________________________________\n",
            "activation_2 (Activation)    (None, 49, 20, 32)        0         \n",
            "_________________________________________________________________\n",
            "conv2d_3 (Conv2D)            (None, 49, 20, 32)        9248      \n",
            "_________________________________________________________________\n",
            "batch_normalization_4 (Batch (None, 49, 20, 32)        128       \n",
            "_________________________________________________________________\n",
            "activation_3 (Activation)    (None, 49, 20, 32)        0         \n",
            "_________________________________________________________________\n",
            "max_pooling2d_1 (MaxPooling2 (None, 24, 10, 32)        0         \n",
            "_________________________________________________________________\n",
            "dropout_1 (Dropout)          (None, 24, 10, 32)        0         \n",
            "_________________________________________________________________\n",
            "conv2d_4 (Conv2D)            (None, 24, 10, 64)        18496     \n",
            "_________________________________________________________________\n",
            "batch_normalization_5 (Batch (None, 24, 10, 64)        256       \n",
            "_________________________________________________________________\n",
            "activation_4 (Activation)    (None, 24, 10, 64)        0         \n",
            "_________________________________________________________________\n",
            "conv2d_5 (Conv2D)            (None, 24, 10, 64)        36928     \n",
            "_________________________________________________________________\n",
            "batch_normalization_6 (Batch (None, 24, 10, 64)        256       \n",
            "_________________________________________________________________\n",
            "activation_5 (Activation)    (None, 24, 10, 64)        0         \n",
            "_________________________________________________________________\n",
            "max_pooling2d_2 (MaxPooling2 (None, 12, 5, 64)         0         \n",
            "_________________________________________________________________\n",
            "dropout_2 (Dropout)          (None, 12, 5, 64)         0         \n",
            "_________________________________________________________________\n",
            "conv2d_6 (Conv2D)            (None, 12, 5, 128)        73856     \n",
            "_________________________________________________________________\n",
            "batch_normalization_7 (Batch (None, 12, 5, 128)        512       \n",
            "_________________________________________________________________\n",
            "activation_6 (Activation)    (None, 12, 5, 128)        0         \n",
            "_________________________________________________________________\n",
            "conv2d_7 (Conv2D)            (None, 12, 5, 128)        147584    \n",
            "_________________________________________________________________\n",
            "batch_normalization_8 (Batch (None, 12, 5, 128)        512       \n",
            "_________________________________________________________________\n",
            "activation_7 (Activation)    (None, 12, 5, 128)        0         \n",
            "_________________________________________________________________\n",
            "max_pooling2d_3 (MaxPooling2 (None, 6, 2, 128)         0         \n",
            "_________________________________________________________________\n",
            "dropout_3 (Dropout)          (None, 6, 2, 128)         0         \n",
            "_________________________________________________________________\n",
            "flatten (Flatten)            (None, 1536)              0         \n",
            "_________________________________________________________________\n",
            "features512 (Dense)          (None, 512)               786944    \n",
            "_________________________________________________________________\n",
            "batch_normalization_9 (Batch (None, 512)               2048      \n",
            "_________________________________________________________________\n",
            "activation_8 (Activation)    (None, 512)               0         \n",
            "_________________________________________________________________\n",
            "dropout_4 (Dropout)          (None, 512)               0         \n",
            "_________________________________________________________________\n",
            "features256 (Dense)          (None, 256)               131328    \n",
            "_________________________________________________________________\n",
            "batch_normalization_10 (Batc (None, 256)               1024      \n",
            "_________________________________________________________________\n",
            "activation_9 (Activation)    (None, 256)               0         \n",
            "_________________________________________________________________\n",
            "dropout_5 (Dropout)          (None, 256)               0         \n",
            "_________________________________________________________________\n",
            "dense (Dense)                (None, 30)                7710      \n",
            "=================================================================\n",
            "Total params: 1,224,210\n",
            "Trainable params: 1,221,712\n",
            "Non-trainable params: 2,498\n",
            "_________________________________________________________________\n"
          ],
          "name": "stdout"
        }
      ]
    },
    {
      "cell_type": "code",
      "metadata": {
        "id": "7nCf3g6NSOdP",
        "colab_type": "code",
        "colab": {}
      },
      "source": [
        "from trainingUtils import getDataset\n",
        "\n",
        "BATCH_SIZE = 32\n",
        "# Reduced trainign dataset by using a numer <60k\n",
        "NUM_EXAMPLES = 100000\n",
        "\n",
        "train_data, train_steps = getDataset(\n",
        "    df=trainDF[:NUM_EXAMPLES],\n",
        "    batch_size=BATCH_SIZE,\n",
        "    cache_file='train_cache',\n",
        "    shuffle=True,\n",
        "    scale=False\n",
        ") \n",
        "\n",
        "val_data, val_steps = getDataset(\n",
        "    df=valDF,\n",
        "    batch_size=BATCH_SIZE,\n",
        "    cache_file='val_cache',\n",
        "    shuffle=False,\n",
        "    scale=False\n",
        ")"
      ],
      "execution_count": 0,
      "outputs": []
    },
    {
      "cell_type": "code",
      "metadata": {
        "id": "qPIbCf7qSZQA",
        "colab_type": "code",
        "outputId": "a106ecc5-dbcc-4703-a5b7-b44f879d14f6",
        "colab": {
          "base_uri": "https://localhost:8080/",
          "height": 1000
        }
      },
      "source": [
        "model.compile(loss='sparse_categorical_crossentropy', \n",
        "              optimizer=tf.keras.optimizers.Adam(),\n",
        "              metrics=[\"sparse_categorical_accuracy\"])\n",
        "\n",
        "\n",
        "EPOCHS = 40\n",
        "\n",
        "# Stop if the validation accuracy doesn't imporove for 5 epochs\n",
        "earlyStopping = tf.keras.callbacks.EarlyStopping(monitor='val_sparse_categorical_accuracy', patience=5, verbose=1)\n",
        "\n",
        "# Reduce LR on Plateau\n",
        "reduceLR = tf.keras.callbacks.ReduceLROnPlateau(monitor='val_loss', patience=3, verbose=1)\n",
        "\n",
        "# Save best models\n",
        "modelCheckpoint = tf.keras.callbacks.ModelCheckpoint(\"cnnv2.h5\", monitor='val_sparse_categorical_accuracy', save_best_only=True)\n",
        "\n",
        "history = model.fit(train_data.repeat(), \n",
        "          steps_per_epoch=train_steps,\n",
        "          validation_data=val_data.repeat(),\n",
        "          validation_steps=val_steps,\n",
        "          epochs=EPOCHS,\n",
        "          callbacks=[earlyStopping, reduceLR, modelCheckpoint])"
      ],
      "execution_count": 0,
      "outputs": [
        {
          "output_type": "stream",
          "text": [
            "WARNING: Logging before flag parsing goes to stderr.\n",
            "W0719 09:32:18.556684 140684628252416 backprop.py:842] The dtype of the watched tensor must be floating (e.g. tf.float32), got tf.string\n",
            "W0719 09:32:18.559728 140684628252416 backprop.py:842] The dtype of the watched tensor must be floating (e.g. tf.float32), got tf.int32\n",
            "W0719 09:32:18.559440 140684619859712 backprop.py:842] The dtype of the watched tensor must be floating (e.g. tf.float32), got tf.string\n",
            "W0719 09:32:18.563677 140684619859712 backprop.py:842] The dtype of the watched tensor must be floating (e.g. tf.float32), got tf.int32\n",
            "W0719 09:32:18.561522 140684628252416 backprop.py:842] The dtype of the watched tensor must be floating (e.g. tf.float32), got tf.int32\n"
          ],
          "name": "stderr"
        },
        {
          "output_type": "stream",
          "text": [
            "Epoch 1/40\n"
          ],
          "name": "stdout"
        },
        {
          "output_type": "stream",
          "text": [
            "W0719 09:36:55.295732 140686632757120 deprecation.py:323] From /usr/local/lib/python3.6/dist-packages/tensorflow/python/ops/math_grad.py:1250: add_dispatch_support.<locals>.wrapper (from tensorflow.python.ops.array_ops) is deprecated and will be removed in a future version.\n",
            "Instructions for updating:\n",
            "Use tf.where in 2.0, which has the same broadcast rule as np.where\n"
          ],
          "name": "stderr"
        },
        {
          "output_type": "stream",
          "text": [
            "1596/1596 [==============================] - 424s 265ms/step - loss: 1.5822 - sparse_categorical_accuracy: 0.5499 - val_loss: 0.4154 - val_sparse_categorical_accuracy: 0.8756\n",
            "Epoch 2/40\n",
            "1596/1596 [==============================] - 102s 64ms/step - loss: 0.4730 - sparse_categorical_accuracy: 0.8625 - val_loss: 0.2673 - val_sparse_categorical_accuracy: 0.9203\n",
            "Epoch 3/40\n",
            "1596/1596 [==============================] - 101s 63ms/step - loss: 0.3438 - sparse_categorical_accuracy: 0.9004 - val_loss: 0.2599 - val_sparse_categorical_accuracy: 0.9245\n",
            "Epoch 4/40\n",
            "1596/1596 [==============================] - 100s 63ms/step - loss: 0.2859 - sparse_categorical_accuracy: 0.9177 - val_loss: 0.2130 - val_sparse_categorical_accuracy: 0.9418\n",
            "Epoch 5/40\n",
            "1596/1596 [==============================] - 100s 63ms/step - loss: 0.2511 - sparse_categorical_accuracy: 0.9267 - val_loss: 0.2000 - val_sparse_categorical_accuracy: 0.9399\n",
            "Epoch 6/40\n",
            "1596/1596 [==============================] - 99s 62ms/step - loss: 0.2216 - sparse_categorical_accuracy: 0.9366 - val_loss: 0.1889 - val_sparse_categorical_accuracy: 0.9460\n",
            "Epoch 7/40\n",
            "1596/1596 [==============================] - 99s 62ms/step - loss: 0.2028 - sparse_categorical_accuracy: 0.9420 - val_loss: 0.1778 - val_sparse_categorical_accuracy: 0.9491\n",
            "Epoch 8/40\n",
            "1596/1596 [==============================] - 99s 62ms/step - loss: 0.1941 - sparse_categorical_accuracy: 0.9447 - val_loss: 0.1829 - val_sparse_categorical_accuracy: 0.9486\n",
            "Epoch 9/40\n",
            "1596/1596 [==============================] - 99s 62ms/step - loss: 0.1780 - sparse_categorical_accuracy: 0.9489 - val_loss: 0.1842 - val_sparse_categorical_accuracy: 0.9494\n",
            "Epoch 10/40\n",
            "1595/1596 [============================>.] - ETA: 0s - loss: 0.1664 - sparse_categorical_accuracy: 0.9517\n",
            "Epoch 00010: ReduceLROnPlateau reducing learning rate to 0.00010000000474974513.\n",
            "1596/1596 [==============================] - 99s 62ms/step - loss: 0.1664 - sparse_categorical_accuracy: 0.9517 - val_loss: 0.1851 - val_sparse_categorical_accuracy: 0.9490\n",
            "Epoch 11/40\n",
            "1596/1596 [==============================] - 99s 62ms/step - loss: 0.1296 - sparse_categorical_accuracy: 0.9623 - val_loss: 0.1465 - val_sparse_categorical_accuracy: 0.9601\n",
            "Epoch 12/40\n",
            "1596/1596 [==============================] - 99s 62ms/step - loss: 0.1127 - sparse_categorical_accuracy: 0.9678 - val_loss: 0.1431 - val_sparse_categorical_accuracy: 0.9609\n",
            "Epoch 13/40\n",
            "1596/1596 [==============================] - 100s 63ms/step - loss: 0.1095 - sparse_categorical_accuracy: 0.9676 - val_loss: 0.1460 - val_sparse_categorical_accuracy: 0.9611\n",
            "Epoch 14/40\n",
            "1596/1596 [==============================] - 100s 63ms/step - loss: 0.1040 - sparse_categorical_accuracy: 0.9699 - val_loss: 0.1445 - val_sparse_categorical_accuracy: 0.9615\n",
            "Epoch 15/40\n",
            "1595/1596 [============================>.] - ETA: 0s - loss: 0.0983 - sparse_categorical_accuracy: 0.9715\n",
            "Epoch 00015: ReduceLROnPlateau reducing learning rate to 1.0000000474974514e-05.\n",
            "1596/1596 [==============================] - 100s 63ms/step - loss: 0.0985 - sparse_categorical_accuracy: 0.9714 - val_loss: 0.1497 - val_sparse_categorical_accuracy: 0.9612\n",
            "Epoch 16/40\n",
            "1596/1596 [==============================] - 100s 63ms/step - loss: 0.0947 - sparse_categorical_accuracy: 0.9722 - val_loss: 0.1476 - val_sparse_categorical_accuracy: 0.9620\n",
            "Epoch 17/40\n",
            "1596/1596 [==============================] - 100s 62ms/step - loss: 0.0934 - sparse_categorical_accuracy: 0.9721 - val_loss: 0.1471 - val_sparse_categorical_accuracy: 0.9615\n",
            "Epoch 18/40\n",
            "1595/1596 [============================>.] - ETA: 0s - loss: 0.0919 - sparse_categorical_accuracy: 0.9730\n",
            "Epoch 00018: ReduceLROnPlateau reducing learning rate to 1.0000000656873453e-06.\n",
            "1596/1596 [==============================] - 100s 62ms/step - loss: 0.0919 - sparse_categorical_accuracy: 0.9730 - val_loss: 0.1466 - val_sparse_categorical_accuracy: 0.9623\n",
            "Epoch 19/40\n",
            "1596/1596 [==============================] - 100s 63ms/step - loss: 0.0942 - sparse_categorical_accuracy: 0.9720 - val_loss: 0.1457 - val_sparse_categorical_accuracy: 0.9626\n",
            "Epoch 20/40\n",
            "1596/1596 [==============================] - 99s 62ms/step - loss: 0.0916 - sparse_categorical_accuracy: 0.9736 - val_loss: 0.1453 - val_sparse_categorical_accuracy: 0.9624\n",
            "Epoch 21/40\n",
            "1595/1596 [============================>.] - ETA: 0s - loss: 0.0923 - sparse_categorical_accuracy: 0.9734\n",
            "Epoch 00021: ReduceLROnPlateau reducing learning rate to 1.0000001111620805e-07.\n",
            "1596/1596 [==============================] - 99s 62ms/step - loss: 0.0922 - sparse_categorical_accuracy: 0.9734 - val_loss: 0.1460 - val_sparse_categorical_accuracy: 0.9615\n",
            "Epoch 22/40\n",
            "1596/1596 [==============================] - 99s 62ms/step - loss: 0.0913 - sparse_categorical_accuracy: 0.9729 - val_loss: 0.1463 - val_sparse_categorical_accuracy: 0.9620\n",
            "Epoch 23/40\n",
            "1596/1596 [==============================] - 99s 62ms/step - loss: 0.0918 - sparse_categorical_accuracy: 0.9729 - val_loss: 0.1462 - val_sparse_categorical_accuracy: 0.9621\n",
            "Epoch 24/40\n",
            "1595/1596 [============================>.] - ETA: 0s - loss: 0.0909 - sparse_categorical_accuracy: 0.9728\n",
            "Epoch 00024: ReduceLROnPlateau reducing learning rate to 1.000000082740371e-08.\n",
            "1596/1596 [==============================] - 99s 62ms/step - loss: 0.0909 - sparse_categorical_accuracy: 0.9728 - val_loss: 0.1462 - val_sparse_categorical_accuracy: 0.9615\n",
            "Epoch 00024: early stopping\n"
          ],
          "name": "stdout"
        }
      ]
    },
    {
      "cell_type": "code",
      "metadata": {
        "id": "zL-eLhvicThL",
        "colab_type": "code",
        "outputId": "44acf6f4-d0bc-48a1-91be-6c4363edc755",
        "colab": {
          "base_uri": "https://localhost:8080/",
          "height": 581
        }
      },
      "source": [
        "import matplotlib.pyplot as plt\n",
        "from matplotlib.ticker import MaxNLocator\n",
        "import seaborn as sns \n",
        "\n",
        "sns.set()\n",
        "\n",
        "loss = history.history['loss']\n",
        "val_loss = history.history['val_loss']\n",
        "\n",
        "acc = history.history['sparse_categorical_accuracy']\n",
        "val_acc = history.history['val_sparse_categorical_accuracy']\n",
        "\n",
        "fig, (ax1, ax2) = plt.subplots(2,1, figsize=(8,8))\n",
        "\n",
        "ax1.plot(loss, label='train')\n",
        "ax1.plot(val_loss, label='validation')\n",
        "ax1.xaxis.set_major_locator(MaxNLocator(integer=True))\n",
        "ax1.set_title('Model loss')\n",
        "ax1.set_xlabel('Epoch')\n",
        "ax1.set_ylabel('Loss')\n",
        "ax1.legend()\n",
        "\n",
        "ax2.plot(acc, label='train')\n",
        "ax2.plot(val_acc, label='validation')\n",
        "ax2.xaxis.set_major_locator(MaxNLocator(integer=True))\n",
        "ax2.set_title('Accuracy')\n",
        "ax2.set_xlabel('Epoch')\n",
        "ax2.set_ylabel('Accuracy')\n",
        "ax2.legend()\n",
        "\n",
        "plt.tight_layout()\n",
        "fig.show()"
      ],
      "execution_count": 0,
      "outputs": [
        {
          "output_type": "display_data",
          "data": {
            "image/png": "[encoded data removed]",
            "text/plain": [
              "<Figure size 576x576 with 2 Axes>"
            ]
          },
          "metadata": {
            "tags": []
          }
        }
      ]
    },
    {
      "cell_type": "markdown",
      "metadata": {
        "id": "GesBI5gLv74N",
        "colab_type": "text"
      },
      "source": [
        "## Load best model"
      ]
    },
    {
      "cell_type": "code",
      "metadata": {
        "id": "S5WNvXYhv-Mn",
        "colab_type": "code",
        "colab": {}
      },
      "source": [
        "model = tf.keras.models.load_model('cnnv2.h5')"
      ],
      "execution_count": 0,
      "outputs": []
    },
    {
      "cell_type": "markdown",
      "metadata": {
        "id": "ZpHsdkghRXX1",
        "colab_type": "text"
      },
      "source": [
        "## Save model"
      ]
    },
    {
      "cell_type": "code",
      "metadata": {
        "id": "QoInRTqCRaqg",
        "colab_type": "code",
        "outputId": "c5183d00-e42b-4e94-f226-57b456e95afa",
        "colab": {
          "base_uri": "https://localhost:8080/",
          "height": 122
        }
      },
      "source": [
        "from google.colab import drive\n",
        "drive.mount('/content/gdrive')"
      ],
      "execution_count": 0,
      "outputs": [
        {
          "output_type": "stream",
          "text": [
            "Go to this URL in a browser: https://accounts.google.com/o/oauth2/auth?client_id=947318989803-6bn6qk8qdgf4n4g3pfee6491hc0brc4i.apps.googleusercontent.com&redirect_uri=urn%3Aietf%3Awg%3Aoauth%3A2.0%3Aoob&scope=email%20https%3A%2F%2Fwww.googleapis.com%2Fauth%2Fdocs.test%20https%3A%2F%2Fwww.googleapis.com%2Fauth%2Fdrive%20https%3A%2F%2Fwww.googleapis.com%2Fauth%2Fdrive.photos.readonly%20https%3A%2F%2Fwww.googleapis.com%2Fauth%2Fpeopleapi.readonly&response_type=code\n",
            "\n",
            "Enter your authorization code:\n",
            "··········\n",
            "Mounted at /content/gdrive\n"
          ],
          "name": "stdout"
        }
      ]
    },
    {
      "cell_type": "code",
      "metadata": {
        "id": "55IwtUlSRemN",
        "colab_type": "code",
        "outputId": "1313e7d4-0187-48ff-93ff-f733a19c131a",
        "colab": {
          "base_uri": "https://localhost:8080/",
          "height": 34
        }
      },
      "source": [
        "GDRIVE_PATH = \"/content/gdrive/My Drive/speechRecognition/cnnModel/\"\n",
        "\n",
        "model.save(GDRIVE_PATH + \"VGG_final_9626.h5\")\n",
        "print(\"Saved model to drive\")"
      ],
      "execution_count": 0,
      "outputs": [
        {
          "output_type": "stream",
          "text": [
            "Saved model to drive\n"
          ],
          "name": "stdout"
        }
      ]
    },
    {
      "cell_type": "code",
      "metadata": {
        "id": "vODWg4tkt3BQ",
        "colab_type": "code",
        "outputId": "002d4ba6-9d17-4617-a550-0a38f99759d6",
        "colab": {
          "base_uri": "https://localhost:8080/",
          "height": 34
        }
      },
      "source": [
        "import pickle\n",
        "## Save history data\n",
        "with open(GDRIVE_PATH + \"train_history_VGG_final_9626.pickle\", \"wb\") as handle:\n",
        "    pickle.dump(history.history, handle, protocol=pickle.HIGHEST_PROTOCOL)    \n",
        "print(\"Saved training history to drive\")"
      ],
      "execution_count": 0,
      "outputs": [
        {
          "output_type": "stream",
          "text": [
            "Saved training history to drive\n"
          ],
          "name": "stdout"
        }
      ]
    },
    {
      "cell_type": "markdown",
      "metadata": {
        "id": "l9j-xu1ahzk4",
        "colab_type": "text"
      },
      "source": [
        "## Extract features"
      ]
    },
    {
      "cell_type": "code",
      "metadata": {
        "id": "dtL6vlBT0SuZ",
        "colab_type": "code",
        "colab": {}
      },
      "source": [
        "## load model\n",
        "\n",
        "model = tf.keras.models.load_model('\"/content/gdrive/My Drive/speechRecognition/cnnModel/\"cnnv2.h5')"
      ],
      "execution_count": 0,
      "outputs": []
    },
    {
      "cell_type": "code",
      "metadata": {
        "id": "8-MagiA5h2ms",
        "colab_type": "code",
        "colab": {}
      },
      "source": [
        "from trainingUtils import getDataset\n",
        "\n",
        "marvin_data, _ = getDataset(\n",
        "    df=trainDF.loc[trainDF['category']=='marvin', :],\n",
        "    batch_size=32,\n",
        "    cache_file='oc_train_cache',\n",
        "    shuffle=False\n",
        ")"
      ],
      "execution_count": 0,
      "outputs": []
    },
    {
      "cell_type": "code",
      "metadata": {
        "id": "FadsvnJciZdV",
        "colab_type": "code",
        "outputId": "4ab846f6-f70f-4132-add9-2968c4b64f94",
        "colab": {
          "base_uri": "https://localhost:8080/",
          "height": 204
        }
      },
      "source": [
        "valDF['oc_class'] = valDF.apply(lambda row: 1 if row['category']=='marvin' else -1, axis=1)\n",
        "val_true = valDF['oc_class'].tolist()\n",
        "valDF.head()"
      ],
      "execution_count": 0,
      "outputs": [
        {
          "output_type": "execute_result",
          "data": {
            "text/html": [
              "<div>\n",
              "<style scoped>\n",
              "    .dataframe tbody tr th:only-of-type {\n",
              "        vertical-align: middle;\n",
              "    }\n",
              "\n",
              "    .dataframe tbody tr th {\n",
              "        vertical-align: top;\n",
              "    }\n",
              "\n",
              "    .dataframe thead th {\n",
              "        text-align: right;\n",
              "    }\n",
              "</style>\n",
              "<table border=\"1\" class=\"dataframe\">\n",
              "  <thead>\n",
              "    <tr style=\"text-align: right;\">\n",
              "      <th></th>\n",
              "      <th>files</th>\n",
              "      <th>labels</th>\n",
              "      <th>category</th>\n",
              "      <th>oc_class</th>\n",
              "    </tr>\n",
              "  </thead>\n",
              "  <tbody>\n",
              "    <tr>\n",
              "      <th>0</th>\n",
              "      <td>speechData/train/bed/026290a7_nohash_0.wav</td>\n",
              "      <td>16</td>\n",
              "      <td>bed</td>\n",
              "      <td>-1</td>\n",
              "    </tr>\n",
              "    <tr>\n",
              "      <th>1</th>\n",
              "      <td>speechData/train/bed/060cd039_nohash_0.wav</td>\n",
              "      <td>16</td>\n",
              "      <td>bed</td>\n",
              "      <td>-1</td>\n",
              "    </tr>\n",
              "    <tr>\n",
              "      <th>2</th>\n",
              "      <td>speechData/train/bed/060cd039_nohash_1.wav</td>\n",
              "      <td>16</td>\n",
              "      <td>bed</td>\n",
              "      <td>-1</td>\n",
              "    </tr>\n",
              "    <tr>\n",
              "      <th>3</th>\n",
              "      <td>speechData/train/bed/099d52ad_nohash_0.wav</td>\n",
              "      <td>16</td>\n",
              "      <td>bed</td>\n",
              "      <td>-1</td>\n",
              "    </tr>\n",
              "    <tr>\n",
              "      <th>4</th>\n",
              "      <td>speechData/train/bed/0e17f595_nohash_0.wav</td>\n",
              "      <td>16</td>\n",
              "      <td>bed</td>\n",
              "      <td>-1</td>\n",
              "    </tr>\n",
              "  </tbody>\n",
              "</table>\n",
              "</div>"
            ],
            "text/plain": [
              "                                        files  labels category  oc_class\n",
              "0  speechData/train/bed/026290a7_nohash_0.wav      16      bed        -1\n",
              "1  speechData/train/bed/060cd039_nohash_0.wav      16      bed        -1\n",
              "2  speechData/train/bed/060cd039_nohash_1.wav      16      bed        -1\n",
              "3  speechData/train/bed/099d52ad_nohash_0.wav      16      bed        -1\n",
              "4  speechData/train/bed/0e17f595_nohash_0.wav      16      bed        -1"
            ]
          },
          "metadata": {
            "tags": []
          },
          "execution_count": 20
        }
      ]
    },
    {
      "cell_type": "code",
      "metadata": {
        "id": "Ln0LAd0yhxRy",
        "colab_type": "code",
        "colab": {}
      },
      "source": [
        "from trainingUtils import _loadWavs, _logMelFilterbank\n",
        "\n",
        "def _parse_fn(filename):\n",
        "    wave = _loadWavs(filename)\n",
        "    fbank = _logMelFilterbank(wave)\n",
        "    return fbank"
      ],
      "execution_count": 0,
      "outputs": []
    },
    {
      "cell_type": "code",
      "metadata": {
        "id": "2YB3cfH0iZTd",
        "colab_type": "code",
        "colab": {}
      },
      "source": [
        "def getFeatures(data):\n",
        "    layer_name = 'features256'\n",
        "    layer_out = tf.keras.Model(inputs=model.input, outputs=model.get_layer(layer_name).output)\n",
        "    return layer_out.predict(data, use_multiprocessing=True)"
      ],
      "execution_count": 0,
      "outputs": []
    },
    {
      "cell_type": "code",
      "metadata": {
        "id": "VOrBV2jthxUz",
        "colab_type": "code",
        "colab": {}
      },
      "source": [
        "import numpy as np\n",
        "valData = np.zeros((valDF.shape[0], 99, 40))\n",
        "\n",
        "for i,f in enumerate(valDF['files']):\n",
        "    valData[i] = _parse_fn(f)"
      ],
      "execution_count": 0,
      "outputs": []
    },
    {
      "cell_type": "code",
      "metadata": {
        "id": "LL6zAYtsiZWc",
        "colab_type": "code",
        "colab": {}
      },
      "source": [
        "X_train = getFeatures(marvin_data)\n",
        "X_val = getFeatures(valData)"
      ],
      "execution_count": 0,
      "outputs": []
    },
    {
      "cell_type": "markdown",
      "metadata": {
        "id": "RmFG1Dwezjtv",
        "colab_type": "text"
      },
      "source": [
        "## PCA"
      ]
    },
    {
      "cell_type": "code",
      "metadata": {
        "id": "Zel0h1RdzoiW",
        "colab_type": "code",
        "outputId": "e60ac94b-6b91-41ac-8c18-4130838a162f",
        "colab": {
          "base_uri": "https://localhost:8080/",
          "height": 34
        }
      },
      "source": [
        "from sklearn.decomposition import PCA\n",
        "\n",
        "pca = PCA(n_components=32)\n",
        "\n",
        "pca.fit(X_train)\n",
        "\n",
        "print(sum(pca.explained_variance_ratio_)) "
      ],
      "execution_count": 0,
      "outputs": [
        {
          "output_type": "stream",
          "text": [
            "0.9886117635760456\n"
          ],
          "name": "stdout"
        }
      ]
    },
    {
      "cell_type": "code",
      "metadata": {
        "id": "nXPX2eiDz2AC",
        "colab_type": "code",
        "colab": {}
      },
      "source": [
        "X_train_transformed = pca.transform(X_train)\n",
        "X_val_transformed = pca.transform(X_val)"
      ],
      "execution_count": 0,
      "outputs": []
    },
    {
      "cell_type": "code",
      "metadata": {
        "id": "MZxR9vR9z5bF",
        "colab_type": "code",
        "colab": {}
      },
      "source": [
        "from skopt.space import Real\n",
        "from skopt.utils import use_named_args\n",
        "\n",
        "from sklearn.metrics import f1_score\n",
        "from sklearn import svm\n",
        "\n",
        "import warnings\n",
        "warnings.filterwarnings('ignore')\n",
        "\n",
        "oc_svm = svm.OneClassSVM()\n",
        "\n",
        "space_svm  = [\n",
        "    Real(10**-5, 10**0, \"log-uniform\", name='gamma'),\n",
        "    Real(10**-5, 10**0, \"log-uniform\", name='nu')\n",
        "]\n",
        "\n",
        "@use_named_args(space_svm)\n",
        "def objective_svm(**params):\n",
        "    oc_svm.set_params(**params)\n",
        "    \n",
        "    oc_svm.fit(X_train_transformed)\n",
        "    val_pred = oc_svm.predict(X_val_transformed)\n",
        "    \n",
        "    score = f1_score(val_pred, val_true)\n",
        "   \n",
        "\n",
        "    return -1*score"
      ],
      "execution_count": 0,
      "outputs": []
    },
    {
      "cell_type": "code",
      "metadata": {
        "id": "c5n0YmIVz8TF",
        "colab_type": "code",
        "outputId": "4eea6f5e-ebc9-4924-d8cc-3ff2cf630e6d",
        "colab": {
          "base_uri": "https://localhost:8080/",
          "height": 34
        }
      },
      "source": [
        "from skopt import gp_minimize\n",
        "\n",
        "res_gp_svm = gp_minimize(objective_svm, space_svm, n_calls=100, n_jobs=-1, verbose=False, random_state=1) \n",
        "print(\"Best score={:.4f}\".format(-res_gp_svm.fun))"
      ],
      "execution_count": 184,
      "outputs": [
        {
          "output_type": "stream",
          "text": [
            "Best score=0.9778\n"
          ],
          "name": "stdout"
        }
      ]
    },
    {
      "cell_type": "code",
      "metadata": {
        "id": "vHTGLuuB0FLx",
        "colab_type": "code",
        "outputId": "916af25d-aabc-4350-d034-ba09cc8821b7",
        "colab": {
          "base_uri": "https://localhost:8080/",
          "height": 302
        }
      },
      "source": [
        "from skopt.plots import plot_convergence\n",
        "\n",
        "ax = plot_convergence(res_gp_svm)\n",
        "plt.show()"
      ],
      "execution_count": 185,
      "outputs": [
        {
          "output_type": "display_data",
          "data": {
            "image/png": "[encoded data removed]",
            "text/plain": [
              "<Figure size 432x288 with 1 Axes>"
            ]
          },
          "metadata": {
            "tags": []
          }
        }
      ]
    },
    {
      "cell_type": "code",
      "metadata": {
        "id": "zP51Dkxq0IMj",
        "colab_type": "code",
        "outputId": "848b374f-f174-41be-d8e7-f3437e2c91bf",
        "colab": {
          "base_uri": "https://localhost:8080/",
          "height": 34
        }
      },
      "source": [
        "best_parameters_svm = {k.name: x for k, x in zip(space_svm, res_gp.x)}\n",
        "best_parameters_svm"
      ],
      "execution_count": 186,
      "outputs": [
        {
          "output_type": "execute_result",
          "data": {
            "text/plain": [
              "{'gamma': 2.7410027556477743e-05, 'nu': 0.0157877607403341}"
            ]
          },
          "metadata": {
            "tags": []
          },
          "execution_count": 186
        }
      ]
    },
    {
      "cell_type": "code",
      "metadata": {
        "id": "lpAIEh550I7w",
        "colab_type": "code",
        "outputId": "594bb518-eb53-4309-d049-258ed8dc972e",
        "colab": {
          "base_uri": "https://localhost:8080/",
          "height": 505
        }
      },
      "source": [
        "from analysisFunctions import showResultsOC\n",
        "\n",
        "bestOC = svm.OneClassSVM().set_params(**best_parameters_svm)\n",
        "\n",
        "bestOC.fit(X_train_transformed)\n",
        "\n",
        "val_pred = bestOC.predict(X_val_transformed)\n",
        "showResultsOC(val_pred, val_true)"
      ],
      "execution_count": 187,
      "outputs": [
        {
          "output_type": "stream",
          "text": [
            "Accuracy: 0.9990\n",
            "Precision: 0.9935\n",
            "Recal: 0.9625\n",
            "F1-score: 0.9778\n"
          ],
          "name": "stdout"
        },
        {
          "output_type": "display_data",
          "data": {
            "image/png": "[encoded data removed]",
            "text/plain": [
              "<Figure size 432x432 with 1 Axes>"
            ]
          },
          "metadata": {
            "tags": []
          }
        }
      ]
    },
    {
      "cell_type": "code",
      "metadata": {
        "id": "t-Bdh_Qn1W95",
        "colab_type": "code",
        "outputId": "1118d4d7-54e5-49fa-d79f-7de6cb003ed8",
        "colab": {
          "base_uri": "https://localhost:8080/",
          "height": 34
        }
      },
      "source": [
        "from skopt import dummy_minimize\n",
        "\n",
        "res_random = dummy_minimize(objective, space, n_calls=100, verbose=False, random_state=100)\n",
        "print(\"Best score={:.4f}\".format(-res_random.fun))"
      ],
      "execution_count": 0,
      "outputs": [
        {
          "output_type": "stream",
          "text": [
            "Best score=0.9659\n"
          ],
          "name": "stdout"
        }
      ]
    },
    {
      "cell_type": "code",
      "metadata": {
        "id": "Aq6N_p3H0uhC",
        "colab_type": "code",
        "outputId": "56214b99-e896-4dfb-9f7d-f1d4e7c9e673",
        "colab": {
          "base_uri": "https://localhost:8080/",
          "height": 293
        }
      },
      "source": [
        "gp_val = -1*np.asarray(res_gp_svm.func_vals)\n",
        "random_val = -1*np.asarray(res_random.func_vals)\n",
        "\n",
        "fig = plt.figure()\n",
        "plt.scatter(range(len(gp_val)), gp_val, label='Bayesian search')\n",
        "plt.scatter(range(len(random_val)), random_val, label='Random search')\n",
        "plt.xlabel(\"Iteration\")\n",
        "plt.ylabel(\"F1-score\")\n",
        "plt.legend(bbox_to_anchor=(0, 1.02, 1, 0.2), loc=\"lower left\", mode='expand', ncol=2)\n",
        "plt.tight_layout()\n",
        "fig.show()"
      ],
      "execution_count": 188,
      "outputs": [
        {
          "output_type": "display_data",
          "data": {
            "image/png": "[encoded data removed]",
            "text/plain": [
              "<Figure size 432x288 with 1 Axes>"
            ]
          },
          "metadata": {
            "tags": []
          }
        }
      ]
    },
    {
      "cell_type": "markdown",
      "metadata": {
        "id": "4RrdMCZIPXt7",
        "colab_type": "text"
      },
      "source": [
        "## Isolation Forest"
      ]
    },
    {
      "cell_type": "code",
      "metadata": {
        "id": "tMrGAV81PdAW",
        "colab_type": "code",
        "colab": {}
      },
      "source": [
        "from sklearn.ensemble import IsolationForest\n",
        "from skopt.space import Real, Integer, Categorical\n",
        "\n",
        "\n",
        "isf = IsolationForest(random_state=42, bootstrap='True')\n",
        "\n",
        "space_isf  = [\n",
        "    Integer(1, 200, name='n_estimators'),\n",
        "    Integer(10, 300, name='max_samples'),\n",
        "    Real(10**-5, 10**0, \"log-uniform\", name='contamination'),\n",
        "    Real(0.01, 1, name='max_features')\n",
        "]\n",
        "\n",
        "@use_named_args(space_isf)\n",
        "def objective_isf(**params):\n",
        "    isf.set_params(**params)\n",
        "    \n",
        "    isf.fit(X_train)\n",
        "    val_pred = isf.predict(X_val)\n",
        "    \n",
        "    score = f1_score(val_pred, val_true)\n",
        "   \n",
        "\n",
        "    return -1*score"
      ],
      "execution_count": 0,
      "outputs": []
    },
    {
      "cell_type": "code",
      "metadata": {
        "id": "K64dD7O-SKot",
        "colab_type": "code",
        "colab": {
          "base_uri": "https://localhost:8080/",
          "height": 34
        },
        "outputId": "7662e14a-3946-41d4-c9a7-75119735be03"
      },
      "source": [
        "from skopt import gp_minimize\n",
        "\n",
        "res_gp_isf = gp_minimize(objective_isf, space_isf, n_calls=100, n_jobs=-1, verbose=False, random_state=100)\n",
        "print(\"Best score={:.4f}\".format(-res_gp_isf.fun))"
      ],
      "execution_count": 190,
      "outputs": [
        {
          "output_type": "stream",
          "text": [
            "Best score=0.9841\n"
          ],
          "name": "stdout"
        }
      ]
    },
    {
      "cell_type": "code",
      "metadata": {
        "id": "nu5lyUjYSRiR",
        "colab_type": "code",
        "colab": {
          "base_uri": "https://localhost:8080/",
          "height": 302
        },
        "outputId": "7487be43-cc4f-4f82-c327-663fdc14ed0f"
      },
      "source": [
        "from skopt.plots import plot_convergence\n",
        "\n",
        "ax = plot_convergence(res_gp_isf)\n",
        "plt.show()"
      ],
      "execution_count": 191,
      "outputs": [
        {
          "output_type": "display_data",
          "data": {
            "image/png": "[encoded data removed]",
            "text/plain": [
              "<Figure size 432x288 with 1 Axes>"
            ]
          },
          "metadata": {
            "tags": []
          }
        }
      ]
    },
    {
      "cell_type": "code",
      "metadata": {
        "id": "8M240KQhU_tw",
        "colab_type": "code",
        "colab": {
          "base_uri": "https://localhost:8080/",
          "height": 85
        },
        "outputId": "25babfb6-ca97-451b-8364-a7e7cd5a7534"
      },
      "source": [
        "best_parameters_isf = {k.name: x for k, x in zip(space_isf, res_gp_isf.x)}\n",
        "best_parameters_isf"
      ],
      "execution_count": 193,
      "outputs": [
        {
          "output_type": "execute_result",
          "data": {
            "text/plain": [
              "{'contamination': 0.012750505239697046,\n",
              " 'max_features': 0.01,\n",
              " 'max_samples': 132,\n",
              " 'n_estimators': 156}"
            ]
          },
          "metadata": {
            "tags": []
          },
          "execution_count": 193
        }
      ]
    },
    {
      "cell_type": "code",
      "metadata": {
        "id": "H04zr_RoUjIV",
        "colab_type": "code",
        "colab": {
          "base_uri": "https://localhost:8080/",
          "height": 505
        },
        "outputId": "1ffb281b-6669-4f0b-afa7-1751e8b742bd"
      },
      "source": [
        "bestisf = IsolationForest(random_state=42, bootstrap='True').set_params(**best_parameters_isf)\n",
        "\n",
        "bestisf.fit(X_train)\n",
        "\n",
        "val_pred = bestisf.predict(X_val)\n",
        "showResultsOC(val_pred, val_true)"
      ],
      "execution_count": 194,
      "outputs": [
        {
          "output_type": "stream",
          "text": [
            "Accuracy: 0.9993\n",
            "Precision: 1.0000\n",
            "Recal: 0.9688\n",
            "F1-score: 0.9841\n"
          ],
          "name": "stdout"
        },
        {
          "output_type": "display_data",
          "data": {
            "image/png": "[encoded data removed]",
            "text/plain": [
              "<Figure size 432x432 with 1 Axes>"
            ]
          },
          "metadata": {
            "tags": []
          }
        }
      ]
    },
    {
      "cell_type": "markdown",
      "metadata": {
        "id": "ZxfLo1q5QefE",
        "colab_type": "text"
      },
      "source": [
        "## Final tests"
      ]
    },
    {
      "cell_type": "code",
      "metadata": {
        "id": "ppbIBLBBQdv_",
        "colab_type": "code",
        "colab": {}
      },
      "source": [
        "import pandas as pd \n",
        "\n",
        "dfTest = pd.concat([testDF,finalTestDF],ignore_index=True)"
      ],
      "execution_count": 0,
      "outputs": []
    },
    {
      "cell_type": "code",
      "metadata": {
        "id": "4dTnJ3eIQ7kP",
        "colab_type": "code",
        "colab": {}
      },
      "source": [
        "testData = np.zeros((dfTest.shape[0], 99, 40))\n",
        "\n",
        "for i,f in enumerate(dfTest['files']):\n",
        "    testData[i] = _parse_fn(f)\n",
        "    \n",
        "X_test = getFeatures(testData)"
      ],
      "execution_count": 0,
      "outputs": []
    },
    {
      "cell_type": "code",
      "metadata": {
        "id": "-thbEkH5RI0V",
        "colab_type": "code",
        "outputId": "0bea5509-6ca6-4daa-a475-9b4a92ef1076",
        "colab": {
          "base_uri": "https://localhost:8080/",
          "height": 204
        }
      },
      "source": [
        "dfTest['oc_class'] = dfTest.apply(lambda row: 1 if row['category']=='marvin' else -1, axis=1)\n",
        "test_true = dfTest['oc_class'].tolist()\n",
        "dfTest.loc[dfTest['category']=='_background_noise_', :].head()"
      ],
      "execution_count": 0,
      "outputs": [
        {
          "output_type": "execute_result",
          "data": {
            "text/html": [
              "<div>\n",
              "<style scoped>\n",
              "    .dataframe tbody tr th:only-of-type {\n",
              "        vertical-align: middle;\n",
              "    }\n",
              "\n",
              "    .dataframe tbody tr th {\n",
              "        vertical-align: top;\n",
              "    }\n",
              "\n",
              "    .dataframe thead th {\n",
              "        text-align: right;\n",
              "    }\n",
              "</style>\n",
              "<table border=\"1\" class=\"dataframe\">\n",
              "  <thead>\n",
              "    <tr style=\"text-align: right;\">\n",
              "      <th></th>\n",
              "      <th>files</th>\n",
              "      <th>labels</th>\n",
              "      <th>category</th>\n",
              "      <th>oc_class</th>\n",
              "    </tr>\n",
              "  </thead>\n",
              "  <tbody>\n",
              "    <tr>\n",
              "      <th>9135</th>\n",
              "      <td>speechData/test/_unknown_/four_37dca74f_nohash...</td>\n",
              "      <td>30</td>\n",
              "      <td>_background_noise_</td>\n",
              "      <td>-1</td>\n",
              "    </tr>\n",
              "    <tr>\n",
              "      <th>9136</th>\n",
              "      <td>speechData/test/_unknown_/two_fce96bac_nohash_...</td>\n",
              "      <td>30</td>\n",
              "      <td>_background_noise_</td>\n",
              "      <td>-1</td>\n",
              "    </tr>\n",
              "    <tr>\n",
              "      <th>9137</th>\n",
              "      <td>speechData/test/_unknown_/bed_6205088b_nohash_...</td>\n",
              "      <td>30</td>\n",
              "      <td>_background_noise_</td>\n",
              "      <td>-1</td>\n",
              "    </tr>\n",
              "    <tr>\n",
              "      <th>9138</th>\n",
              "      <td>speechData/test/_unknown_/three_adebe223_nohas...</td>\n",
              "      <td>30</td>\n",
              "      <td>_background_noise_</td>\n",
              "      <td>-1</td>\n",
              "    </tr>\n",
              "    <tr>\n",
              "      <th>9139</th>\n",
              "      <td>speechData/test/_unknown_/four_105a0eea_nohash...</td>\n",
              "      <td>30</td>\n",
              "      <td>_background_noise_</td>\n",
              "      <td>-1</td>\n",
              "    </tr>\n",
              "  </tbody>\n",
              "</table>\n",
              "</div>"
            ],
            "text/plain": [
              "                                                  files  ...  oc_class\n",
              "9135  speechData/test/_unknown_/four_37dca74f_nohash...  ...        -1\n",
              "9136  speechData/test/_unknown_/two_fce96bac_nohash_...  ...        -1\n",
              "9137  speechData/test/_unknown_/bed_6205088b_nohash_...  ...        -1\n",
              "9138  speechData/test/_unknown_/three_adebe223_nohas...  ...        -1\n",
              "9139  speechData/test/_unknown_/four_105a0eea_nohash...  ...        -1\n",
              "\n",
              "[5 rows x 4 columns]"
            ]
          },
          "metadata": {
            "tags": []
          },
          "execution_count": 90
        }
      ]
    },
    {
      "cell_type": "code",
      "metadata": {
        "colab_type": "code",
        "outputId": "9879a79c-86e8-4973-b289-90957aec24b3",
        "id": "ehbe-LFp6tMn",
        "colab": {
          "base_uri": "https://localhost:8080/",
          "height": 505
        }
      },
      "source": [
        "X_test_scaled = pca.transform(X_test)\n",
        "\n",
        "test_pred = bestOC.predict(X_test_scaled)\n",
        "showResultsOC(test_pred, test_true)"
      ],
      "execution_count": 163,
      "outputs": [
        {
          "output_type": "stream",
          "text": [
            "Accuracy: 0.9980\n",
            "Precision: 0.9277\n",
            "Recal: 0.9506\n",
            "F1-score: 0.9390\n"
          ],
          "name": "stdout"
        },
        {
          "output_type": "display_data",
          "data": {
            "image/png": "[encoded data removed]",
            "text/plain": [
              "<Figure size 432x432 with 1 Axes>"
            ]
          },
          "metadata": {
            "tags": []
          }
        }
      ]
    },
    {
      "cell_type": "code",
      "metadata": {
        "id": "zc0PNTkbV86_",
        "colab_type": "code",
        "colab": {
          "base_uri": "https://localhost:8080/",
          "height": 505
        },
        "outputId": "8be2086b-2e46-4ade-8167-9586a91fefeb"
      },
      "source": [
        "test_pred = bestisf.predict(X_test)\n",
        "showResultsOC(test_pred, test_true)"
      ],
      "execution_count": 195,
      "outputs": [
        {
          "output_type": "stream",
          "text": [
            "Accuracy: 0.9980\n",
            "Precision: 0.9277\n",
            "Recal: 0.9506\n",
            "F1-score: 0.9390\n"
          ],
          "name": "stdout"
        },
        {
          "output_type": "display_data",
          "data": {
            "image/png": "[encoded data removed]",
            "text/plain": [
              "<Figure size 432x432 with 1 Axes>"
            ]
          },
          "metadata": {
            "tags": []
          }
        }
      ]
    }
  ]
}