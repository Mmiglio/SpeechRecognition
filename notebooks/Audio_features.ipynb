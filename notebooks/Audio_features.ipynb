{
  "nbformat": 4,
  "nbformat_minor": 0,
  "metadata": {
    "colab": {
      "name": "Audio_features.ipynb",
      "version": "0.3.2",
      "provenance": [],
      "collapsed_sections": [],
      "include_colab_link": true
    },
    "kernelspec": {
      "name": "python3",
      "display_name": "Python 3"
    },
    "accelerator": "GPU"
  },
  "cells": [
    {
      "cell_type": "markdown",
      "metadata": {
        "id": "view-in-github",
        "colab_type": "text"
      },
      "source": [
        "<a href=\"https://colab.research.google.com/github/Mmiglio/SpeechRecognition/blob/audio_features/notebooks/Audio_features.ipynb\" target=\"_parent\"><img src=\"https://colab.research.google.com/assets/colab-badge.svg\" alt=\"Open In Colab\"/></a>"
      ]
    },
    {
      "cell_type": "markdown",
      "metadata": {
        "id": "yCtn1cYRG6R8",
        "colab_type": "text"
      },
      "source": [
        "## Get Scripts"
      ]
    },
    {
      "cell_type": "code",
      "metadata": {
        "id": "89GComxjG2zY",
        "colab_type": "code",
        "colab": {}
      },
      "source": [
        "!wget -q https://raw.githubusercontent.com/Mmiglio/SpeechRecognition/audio_features/src/getData.py\n",
        "!wget -q https://raw.githubusercontent.com/Mmiglio/SpeechRecognition/audio_features/src/constants.py\n",
        "!wget -q https://raw.githubusercontent.com/Mmiglio/SpeechRecognition/audio_features/src/trainingUtils.py\n",
        "!wget -q https://raw.githubusercontent.com/Mmiglio/SpeechRecognition/audio_features/src/models.py\n",
        "!wget -q https://raw.githubusercontent.com/Mmiglio/SpeechRecognition/audio_features/src/analysisFunctions.py"
      ],
      "execution_count": 0,
      "outputs": []
    },
    {
      "cell_type": "markdown",
      "metadata": {
        "id": "8hLJMU7jHDJm",
        "colab_type": "text"
      },
      "source": [
        "## Download speech data"
      ]
    },
    {
      "cell_type": "code",
      "metadata": {
        "id": "3FqNo78VHGsY",
        "colab_type": "code",
        "outputId": "bbf64b39-1013-4122-ca12-18d70db8ae25",
        "colab": {
          "base_uri": "https://localhost:8080/",
          "height": 85
        }
      },
      "source": [
        "from getData import downloadSpeechData, getDataDict\n",
        "\n",
        "# Download data\n",
        "downloadSpeechData(data_path='speechData/')\n",
        "\n",
        "# Get dict with files and labels\n",
        "dataDict = getDataDict(data_path='speechData/')"
      ],
      "execution_count": 2,
      "outputs": [
        {
          "output_type": "stream",
          "text": [
            "Downloading http://download.tensorflow.org/data/speech_commands_v0.01.tar.gz into /content/speechData/train.tar.gz\n",
            "Extracting /content/speechData/train.tar.gz into /content/speechData/train\n",
            "Downloading http://download.tensorflow.org/data/speech_commands_test_set_v0.01.tar.gz into /content/speechData/test.tar.gz\n",
            "Extracting /content/speechData/test.tar.gz into /content/speechData/test\n"
          ],
          "name": "stdout"
        }
      ]
    },
    {
      "cell_type": "code",
      "metadata": {
        "id": "84zh4i7RR6Cq",
        "colab_type": "code",
        "outputId": "f6fda035-bee9-4250-c793-814ed4b5c2ba",
        "colab": {
          "base_uri": "https://localhost:8080/",
          "height": 68
        }
      },
      "source": [
        "from getData import getDataframe\n",
        "\n",
        "trainDF = getDataframe(dataDict['train'])\n",
        "valDF = getDataframe(dataDict['val'])\n",
        "testDF = getDataframe(dataDict['test']) \n",
        "\n",
        "print(\"Train files: {}\".format(trainDF.shape[0]))\n",
        "print(\"Validation files: {}\".format(valDF.shape[0]))\n",
        "print(\"Test files: {}\".format(testDF.shape[0]))"
      ],
      "execution_count": 3,
      "outputs": [
        {
          "output_type": "stream",
          "text": [
            "Train files: 51088\n",
            "Validation files: 6798\n",
            "Test files: 6835\n"
          ],
          "name": "stdout"
        }
      ]
    },
    {
      "cell_type": "code",
      "metadata": {
        "id": "1pW40MeTCyUp",
        "colab_type": "code",
        "outputId": "b9d61930-811f-4dfa-eb22-d834ba6f64d1",
        "colab": {
          "base_uri": "https://localhost:8080/",
          "height": 204
        }
      },
      "source": [
        "trainDF.head()"
      ],
      "execution_count": 4,
      "outputs": [
        {
          "output_type": "execute_result",
          "data": {
            "text/html": [
              "<div>\n",
              "<style scoped>\n",
              "    .dataframe tbody tr th:only-of-type {\n",
              "        vertical-align: middle;\n",
              "    }\n",
              "\n",
              "    .dataframe tbody tr th {\n",
              "        vertical-align: top;\n",
              "    }\n",
              "\n",
              "    .dataframe thead th {\n",
              "        text-align: right;\n",
              "    }\n",
              "</style>\n",
              "<table border=\"1\" class=\"dataframe\">\n",
              "  <thead>\n",
              "    <tr style=\"text-align: right;\">\n",
              "      <th></th>\n",
              "      <th>files</th>\n",
              "      <th>labels</th>\n",
              "      <th>category</th>\n",
              "    </tr>\n",
              "  </thead>\n",
              "  <tbody>\n",
              "    <tr>\n",
              "      <th>0</th>\n",
              "      <td>speechData/train/down/eefd26f3_nohash_0.wav</td>\n",
              "      <td>21</td>\n",
              "      <td>down</td>\n",
              "    </tr>\n",
              "    <tr>\n",
              "      <th>1</th>\n",
              "      <td>speechData/train/seven/093f65a1_nohash_0.wav</td>\n",
              "      <td>11</td>\n",
              "      <td>seven</td>\n",
              "    </tr>\n",
              "    <tr>\n",
              "      <th>2</th>\n",
              "      <td>speechData/train/right/f216055e_nohash_1.wav</td>\n",
              "      <td>4</td>\n",
              "      <td>right</td>\n",
              "    </tr>\n",
              "    <tr>\n",
              "      <th>3</th>\n",
              "      <td>speechData/train/no/e7ea8b76_nohash_2.wav</td>\n",
              "      <td>9</td>\n",
              "      <td>no</td>\n",
              "    </tr>\n",
              "    <tr>\n",
              "      <th>4</th>\n",
              "      <td>speechData/train/eight/3dfd6c23_nohash_0.wav</td>\n",
              "      <td>5</td>\n",
              "      <td>eight</td>\n",
              "    </tr>\n",
              "  </tbody>\n",
              "</table>\n",
              "</div>"
            ],
            "text/plain": [
              "                                          files  labels category\n",
              "0   speechData/train/down/eefd26f3_nohash_0.wav      21     down\n",
              "1  speechData/train/seven/093f65a1_nohash_0.wav      11    seven\n",
              "2  speechData/train/right/f216055e_nohash_1.wav       4    right\n",
              "3     speechData/train/no/e7ea8b76_nohash_2.wav       9       no\n",
              "4  speechData/train/eight/3dfd6c23_nohash_0.wav       5    eight"
            ]
          },
          "metadata": {
            "tags": []
          },
          "execution_count": 4
        }
      ]
    },
    {
      "cell_type": "markdown",
      "metadata": {
        "id": "BQZpbiDqHnmv",
        "colab_type": "text"
      },
      "source": [
        "## Tensorflow 2.0"
      ]
    },
    {
      "cell_type": "code",
      "metadata": {
        "id": "vSiBvGYhHt7S",
        "colab_type": "code",
        "outputId": "be4b9271-c5c8-4d06-bcf2-d5ab868e929c",
        "colab": {
          "base_uri": "https://localhost:8080/",
          "height": 68
        }
      },
      "source": [
        "!pip install -q tensorflow-gpu==2.0.0-beta1"
      ],
      "execution_count": 5,
      "outputs": [
        {
          "output_type": "stream",
          "text": [
            "\u001b[K     |████████████████████████████████| 348.9MB 63kB/s \n",
            "\u001b[K     |████████████████████████████████| 3.1MB 37.3MB/s \n",
            "\u001b[K     |████████████████████████████████| 501kB 44.5MB/s \n",
            "\u001b[?25h"
          ],
          "name": "stdout"
        }
      ]
    },
    {
      "cell_type": "code",
      "metadata": {
        "id": "3Br52JjlIcvM",
        "colab_type": "code",
        "outputId": "72c06985-e110-49d6-8609-aa560140663a",
        "colab": {
          "base_uri": "https://localhost:8080/",
          "height": 51
        }
      },
      "source": [
        "import tensorflow as tf\n",
        "\n",
        "print(\"GPU Available: \", tf.test.is_gpu_available())\n",
        "print(\"Version: \", tf.__version__)"
      ],
      "execution_count": 6,
      "outputs": [
        {
          "output_type": "stream",
          "text": [
            "GPU Available:  True\n",
            "Version:  2.0.0-beta1\n"
          ],
          "name": "stdout"
        }
      ]
    },
    {
      "cell_type": "markdown",
      "metadata": {
        "id": "8NLhKfTOI0eJ",
        "colab_type": "text"
      },
      "source": [
        "## Input pipeline"
      ]
    },
    {
      "cell_type": "code",
      "metadata": {
        "id": "Z3YYOtmrIy4n",
        "colab_type": "code",
        "outputId": "9ce98566-b0a5-42b5-c202-552520e76563",
        "colab": {
          "base_uri": "https://localhost:8080/",
          "height": 34
        }
      },
      "source": [
        "!pip install -q python_speech_features"
      ],
      "execution_count": 7,
      "outputs": [
        {
          "output_type": "stream",
          "text": [
            "  Building wheel for python-speech-features (setup.py) ... \u001b[?25l\u001b[?25hdone\n"
          ],
          "name": "stdout"
        }
      ]
    },
    {
      "cell_type": "code",
      "metadata": {
        "id": "t0GYJG6RpTl9",
        "colab_type": "code",
        "colab": {}
      },
      "source": [
        "!pip install -q librosa"
      ],
      "execution_count": 0,
      "outputs": []
    },
    {
      "cell_type": "code",
      "metadata": {
        "id": "X7Xq8gzVTDOu",
        "colab_type": "code",
        "colab": {}
      },
      "source": [
        "from trainingUtils import getDatasetRhythm, getDataset\n",
        "\n",
        "BATCH_SIZE = 32\n",
        "# Reduced trainign dataset\n",
        "NUM_EXAMPLES = 32\n",
        "\n",
        "train_data, train_steps = getDatasetRhythm(\n",
        "    df=trainDF[:NUM_EXAMPLES],\n",
        "    batch_size=BATCH_SIZE,\n",
        "    cache_file='train_cache',\n",
        "    shuffle=True\n",
        ") \n",
        "\n",
        "val_data, val_steps = getDatasetRhythm(\n",
        "    df=valDF[:NUM_EXAMPLES],\n",
        "    batch_size=BATCH_SIZE,\n",
        "    cache_file='val_cache',\n",
        "    shuffle=False\n",
        ")\n",
        "\n",
        "test_data, test_steps = getDatasetRhythm(\n",
        "    df=testDF[:NUM_EXAMPLES],\n",
        "    batch_size=BATCH_SIZE,\n",
        "    cache_file='test_cache',\n",
        "    shuffle=False\n",
        ") \n"
      ],
      "execution_count": 0,
      "outputs": []
    },
    {
      "cell_type": "code",
      "metadata": {
        "id": "bocfzNWz3zLr",
        "colab_type": "code",
        "outputId": "e2584900-bfe2-452c-a965-960ebcc3d90a",
        "colab": {
          "base_uri": "https://localhost:8080/",
          "height": 385
        }
      },
      "source": [
        "from trainingUtils import _loadLibrosa, _loadWavs, _rhythm, _logMelFilterbank\n",
        "from librosa.display import specshow\n",
        "\n",
        "\n",
        "vaweLibrosa, sr = _loadLibrosa(trainDF.files[0])\n",
        "vaweScipy = _loadWavs(trainDF.files[0])\n",
        "print('Librosa vawe:{}, sampling rate = {}'.format(vaweLibrosa[:5], sr))\n",
        "print('Scipy vawe:{}, sampling rate = {}'.format(vaweScipy[:5], len(vaweScipy)))\n",
        "fbankrhythm = _rhythm(vaweLibrosa, sr, 404)\n",
        "fbanklogmel = _logMelFilterbank(vaweScipy, 40)\n",
        "print('Tempogram shape: ({}, {})'.format(len(fbankrhythm), len(fbankrhythm[0])))\n",
        "print('LogMelSpectrogram shape: ({}, {})'.format(len(fbanklogmel), len(fbanklogmel[0])))\n",
        "\n",
        "specshow(fbankrhythm, sr=sr, hop_length=404, x_axis='time', y_axis='tempo')"
      ],
      "execution_count": 10,
      "outputs": [
        {
          "output_type": "stream",
          "text": [
            "Librosa vawe:[ 1.1173936e-06 -2.8865807e-05 -1.3148614e-04 -1.7877981e-04\n",
            " -7.8574929e-05], sampling rate = 22050\n",
            "Scipy vawe:[ 0. -2. -6. -2. -2.], sampling rate = 16000\n",
            "Tempogram shape: (99, 55)\n",
            "LogMelSpectrogram shape: (99, 40)\n"
          ],
          "name": "stdout"
        },
        {
          "output_type": "execute_result",
          "data": {
            "text/plain": [
              "<matplotlib.axes._subplots.AxesSubplot at 0x7f9455821828>"
            ]
          },
          "metadata": {
            "tags": []
          },
          "execution_count": 10
        },
        {
          "output_type": "display_data",
          "data": {
            "image/png": "[encoded data removed]",
            "text/plain": [
              "<Figure size 432x288 with 1 Axes>"
            ]
          },
          "metadata": {
            "tags": []
          }
        }
      ]
    },
    {
      "cell_type": "markdown",
      "metadata": {
        "id": "qeVgK5Rb4_rc",
        "colab_type": "text"
      },
      "source": [
        "## Model"
      ]
    },
    {
      "cell_type": "code",
      "metadata": {
        "id": "n4xZh6-2rk-q",
        "colab_type": "code",
        "outputId": "4a70ddb8-7009-400d-e4ce-c5290dec18e7",
        "colab": {
          "base_uri": "https://localhost:8080/",
          "height": 1000
        }
      },
      "source": [
        "from models import cnnModel\n",
        "\n",
        "model = cnnModel()\n",
        "\n",
        "model.summary()"
      ],
      "execution_count": 11,
      "outputs": [
        {
          "output_type": "stream",
          "text": [
            "Model: \"sequential\"\n",
            "_________________________________________________________________\n",
            "Layer (type)                 Output Shape              Param #   \n",
            "=================================================================\n",
            "reshape (Reshape)            (None, 99, 40, 1)         0         \n",
            "_________________________________________________________________\n",
            "batch_normalization (BatchNo (None, 99, 40, 1)         4         \n",
            "_________________________________________________________________\n",
            "conv2d (Conv2D)              (None, 99, 40, 16)        160       \n",
            "_________________________________________________________________\n",
            "batch_normalization_1 (Batch (None, 99, 40, 16)        64        \n",
            "_________________________________________________________________\n",
            "activation (Activation)      (None, 99, 40, 16)        0         \n",
            "_________________________________________________________________\n",
            "conv2d_1 (Conv2D)            (None, 99, 40, 16)        2320      \n",
            "_________________________________________________________________\n",
            "batch_normalization_2 (Batch (None, 99, 40, 16)        64        \n",
            "_________________________________________________________________\n",
            "activation_1 (Activation)    (None, 99, 40, 16)        0         \n",
            "_________________________________________________________________\n",
            "max_pooling2d (MaxPooling2D) (None, 49, 20, 16)        0         \n",
            "_________________________________________________________________\n",
            "dropout (Dropout)            (None, 49, 20, 16)        0         \n",
            "_________________________________________________________________\n",
            "conv2d_2 (Conv2D)            (None, 49, 20, 32)        4640      \n",
            "_________________________________________________________________\n",
            "batch_normalization_3 (Batch (None, 49, 20, 32)        128       \n",
            "_________________________________________________________________\n",
            "activation_2 (Activation)    (None, 49, 20, 32)        0         \n",
            "_________________________________________________________________\n",
            "conv2d_3 (Conv2D)            (None, 49, 20, 32)        9248      \n",
            "_________________________________________________________________\n",
            "batch_normalization_4 (Batch (None, 49, 20, 32)        128       \n",
            "_________________________________________________________________\n",
            "activation_3 (Activation)    (None, 49, 20, 32)        0         \n",
            "_________________________________________________________________\n",
            "max_pooling2d_1 (MaxPooling2 (None, 24, 10, 32)        0         \n",
            "_________________________________________________________________\n",
            "dropout_1 (Dropout)          (None, 24, 10, 32)        0         \n",
            "_________________________________________________________________\n",
            "conv2d_4 (Conv2D)            (None, 24, 10, 64)        18496     \n",
            "_________________________________________________________________\n",
            "batch_normalization_5 (Batch (None, 24, 10, 64)        256       \n",
            "_________________________________________________________________\n",
            "activation_4 (Activation)    (None, 24, 10, 64)        0         \n",
            "_________________________________________________________________\n",
            "conv2d_5 (Conv2D)            (None, 24, 10, 64)        36928     \n",
            "_________________________________________________________________\n",
            "batch_normalization_6 (Batch (None, 24, 10, 64)        256       \n",
            "_________________________________________________________________\n",
            "activation_5 (Activation)    (None, 24, 10, 64)        0         \n",
            "_________________________________________________________________\n",
            "max_pooling2d_2 (MaxPooling2 (None, 12, 5, 64)         0         \n",
            "_________________________________________________________________\n",
            "dropout_2 (Dropout)          (None, 12, 5, 64)         0         \n",
            "_________________________________________________________________\n",
            "conv2d_6 (Conv2D)            (None, 12, 5, 128)        73856     \n",
            "_________________________________________________________________\n",
            "batch_normalization_7 (Batch (None, 12, 5, 128)        512       \n",
            "_________________________________________________________________\n",
            "activation_6 (Activation)    (None, 12, 5, 128)        0         \n",
            "_________________________________________________________________\n",
            "conv2d_7 (Conv2D)            (None, 12, 5, 128)        147584    \n",
            "_________________________________________________________________\n",
            "batch_normalization_8 (Batch (None, 12, 5, 128)        512       \n",
            "_________________________________________________________________\n",
            "activation_7 (Activation)    (None, 12, 5, 128)        0         \n",
            "_________________________________________________________________\n",
            "max_pooling2d_3 (MaxPooling2 (None, 6, 2, 128)         0         \n",
            "_________________________________________________________________\n",
            "dropout_3 (Dropout)          (None, 6, 2, 128)         0         \n",
            "_________________________________________________________________\n",
            "flatten (Flatten)            (None, 1536)              0         \n",
            "_________________________________________________________________\n",
            "dropout_4 (Dropout)          (None, 1536)              0         \n",
            "_________________________________________________________________\n",
            "batch_normalization_9 (Batch (None, 1536)              6144      \n",
            "_________________________________________________________________\n",
            "dense (Dense)                (None, 512)               786944    \n",
            "_________________________________________________________________\n",
            "dropout_5 (Dropout)          (None, 512)               0         \n",
            "_________________________________________________________________\n",
            "batch_normalization_10 (Batc (None, 512)               2048      \n",
            "_________________________________________________________________\n",
            "dense_1 (Dense)              (None, 256)               131328    \n",
            "_________________________________________________________________\n",
            "dropout_6 (Dropout)          (None, 256)               0         \n",
            "_________________________________________________________________\n",
            "dense_2 (Dense)              (None, 30)                7710      \n",
            "=================================================================\n",
            "Total params: 1,229,330\n",
            "Trainable params: 1,224,272\n",
            "Non-trainable params: 5,058\n",
            "_________________________________________________________________\n"
          ],
          "name": "stdout"
        }
      ]
    },
    {
      "cell_type": "code",
      "metadata": {
        "colab_type": "code",
        "id": "c3pCXkU8bTVO",
        "colab": {}
      },
      "source": [
        "model.compile(loss='sparse_categorical_crossentropy', \n",
        "              optimizer=tf.keras.optimizers.Adam(),\n",
        "              metrics=[\"sparse_categorical_accuracy\"])"
      ],
      "execution_count": 0,
      "outputs": []
    },
    {
      "cell_type": "code",
      "metadata": {
        "id": "fZbVzI8C8soc",
        "colab_type": "code",
        "outputId": "4469d835-9312-4f09-d3bf-eae07f25a11a",
        "colab": {
          "base_uri": "https://localhost:8080/",
          "height": 1000
        }
      },
      "source": [
        "EPOCHS = 40\n",
        "\n",
        "# Stop if the validation accuracy doesn't imporove for 5 epochs\n",
        "earlyStopping = tf.keras.callbacks.EarlyStopping(monitor='val_loss', patience=5, verbose=1)\n",
        "\n",
        "# Reduce LR on Plateau\n",
        "reduceLR = tf.keras.callbacks.ReduceLROnPlateau(monitor='val_loss', patience=3, verbose=1)\n",
        "\n",
        "# Save best models\n",
        "modelCheckpoint = tf.keras.callbacks.ModelCheckpoint(\"bestCnnModel.h5\", monitor='val_loss', save_best_only=True)\n",
        "\n",
        "history = model.fit(train_data.repeat(), \n",
        "          steps_per_epoch=train_steps,\n",
        "          validation_data=val_data.repeat(),\n",
        "          validation_steps=val_steps,\n",
        "          epochs=EPOCHS,\n",
        "          callbacks=[earlyStopping, reduceLR, modelCheckpoint])\n",
        "\n"
      ],
      "execution_count": 13,
      "outputs": [
        {
          "output_type": "stream",
          "text": [
            "WARNING: Logging before flag parsing goes to stderr.\n",
            "W0719 09:44:47.422379 140275119818496 backprop.py:842] The dtype of the watched tensor must be floating (e.g. tf.float32), got tf.string\n",
            "W0719 09:44:47.423475 140275128211200 backprop.py:842] The dtype of the watched tensor must be floating (e.g. tf.float32), got tf.string\n",
            "W0719 09:44:47.427950 140275128211200 backprop.py:842] The dtype of the watched tensor must be floating (e.g. tf.float32), got tf.int32\n",
            "W0719 09:44:47.429609 140275128211200 backprop.py:842] The dtype of the watched tensor must be floating (e.g. tf.float32), got tf.int32\n",
            "W0719 09:44:47.425287 140275119818496 backprop.py:842] The dtype of the watched tensor must be floating (e.g. tf.float32), got tf.int32\n"
          ],
          "name": "stderr"
        },
        {
          "output_type": "stream",
          "text": [
            "Epoch 1/40\n"
          ],
          "name": "stdout"
        },
        {
          "output_type": "stream",
          "text": [
            "W0719 09:44:53.134277 140278676703104 deprecation.py:323] From /usr/local/lib/python3.6/dist-packages/tensorflow/python/ops/math_grad.py:1250: add_dispatch_support.<locals>.wrapper (from tensorflow.python.ops.array_ops) is deprecated and will be removed in a future version.\n",
            "Instructions for updating:\n",
            "Use tf.where in 2.0, which has the same broadcast rule as np.where\n"
          ],
          "name": "stderr"
        },
        {
          "output_type": "stream",
          "text": [
            "\r1/1 [==============================] - 23s 23s/step - loss: 4.5763 - sparse_categorical_accuracy: 0.0000e+00 - val_loss: 3.3962 - val_sparse_categorical_accuracy: 0.0000e+00\n",
            "Epoch 2/40\n",
            "1/1 [==============================] - 0s 199ms/step - loss: 3.8668 - sparse_categorical_accuracy: 0.0000e+00 - val_loss: 3.3903 - val_sparse_categorical_accuracy: 0.0000e+00\n",
            "Epoch 3/40\n",
            "1/1 [==============================] - 0s 179ms/step - loss: 4.0036 - sparse_categorical_accuracy: 0.0000e+00 - val_loss: 3.3844 - val_sparse_categorical_accuracy: 0.0000e+00\n",
            "Epoch 4/40\n",
            "1/1 [==============================] - 0s 192ms/step - loss: 3.8271 - sparse_categorical_accuracy: 0.0312 - val_loss: 3.3771 - val_sparse_categorical_accuracy: 0.0000e+00\n",
            "Epoch 5/40\n",
            "1/1 [==============================] - 0s 179ms/step - loss: 3.4401 - sparse_categorical_accuracy: 0.0938 - val_loss: 3.3698 - val_sparse_categorical_accuracy: 0.0000e+00\n",
            "Epoch 6/40\n",
            "1/1 [==============================] - 0s 214ms/step - loss: 2.9974 - sparse_categorical_accuracy: 0.1250 - val_loss: 3.3634 - val_sparse_categorical_accuracy: 0.0000e+00\n",
            "Epoch 7/40\n",
            "1/1 [==============================] - 0s 202ms/step - loss: 3.2085 - sparse_categorical_accuracy: 0.1562 - val_loss: 3.3589 - val_sparse_categorical_accuracy: 0.0000e+00\n",
            "Epoch 8/40\n",
            "1/1 [==============================] - 0s 187ms/step - loss: 3.2812 - sparse_categorical_accuracy: 0.1250 - val_loss: 3.3514 - val_sparse_categorical_accuracy: 0.0000e+00\n",
            "Epoch 9/40\n",
            "1/1 [==============================] - 0s 186ms/step - loss: 3.2641 - sparse_categorical_accuracy: 0.1562 - val_loss: 3.3418 - val_sparse_categorical_accuracy: 0.0000e+00\n",
            "Epoch 10/40\n",
            "1/1 [==============================] - 0s 186ms/step - loss: 3.5157 - sparse_categorical_accuracy: 0.0938 - val_loss: 3.3294 - val_sparse_categorical_accuracy: 0.0000e+00\n",
            "Epoch 11/40\n",
            "1/1 [==============================] - 0s 199ms/step - loss: 3.3292 - sparse_categorical_accuracy: 0.0312 - val_loss: 3.3142 - val_sparse_categorical_accuracy: 0.0000e+00\n",
            "Epoch 12/40\n",
            "1/1 [==============================] - 0s 231ms/step - loss: 3.4693 - sparse_categorical_accuracy: 0.0625 - val_loss: 3.3051 - val_sparse_categorical_accuracy: 0.0000e+00\n",
            "Epoch 13/40\n",
            "1/1 [==============================] - 0s 206ms/step - loss: 3.2107 - sparse_categorical_accuracy: 0.1250 - val_loss: 3.2945 - val_sparse_categorical_accuracy: 0.0000e+00\n",
            "Epoch 14/40\n",
            "1/1 [==============================] - 0s 210ms/step - loss: 3.3236 - sparse_categorical_accuracy: 0.0938 - val_loss: 3.2849 - val_sparse_categorical_accuracy: 0.0000e+00\n",
            "Epoch 15/40\n",
            "1/1 [==============================] - 0s 211ms/step - loss: 2.9917 - sparse_categorical_accuracy: 0.1250 - val_loss: 3.2744 - val_sparse_categorical_accuracy: 0.0000e+00\n",
            "Epoch 16/40\n",
            "1/1 [==============================] - 0s 179ms/step - loss: 2.7728 - sparse_categorical_accuracy: 0.3125 - val_loss: 3.2686 - val_sparse_categorical_accuracy: 0.0000e+00\n",
            "Epoch 17/40\n",
            "1/1 [==============================] - 0s 207ms/step - loss: 3.6845 - sparse_categorical_accuracy: 0.1562 - val_loss: 3.2576 - val_sparse_categorical_accuracy: 0.0000e+00\n",
            "Epoch 18/40\n",
            "1/1 [==============================] - 0s 245ms/step - loss: 2.9574 - sparse_categorical_accuracy: 0.2188 - val_loss: 3.2496 - val_sparse_categorical_accuracy: 0.0000e+00\n",
            "Epoch 19/40\n",
            "1/1 [==============================] - 0s 179ms/step - loss: 2.8862 - sparse_categorical_accuracy: 0.1875 - val_loss: 3.2438 - val_sparse_categorical_accuracy: 0.0000e+00\n",
            "Epoch 20/40\n",
            "1/1 [==============================] - 0s 179ms/step - loss: 3.1403 - sparse_categorical_accuracy: 0.0625 - val_loss: 3.2411 - val_sparse_categorical_accuracy: 0.0000e+00\n",
            "Epoch 21/40\n",
            "1/1 [==============================] - 0s 51ms/step - loss: 2.4495 - sparse_categorical_accuracy: 0.2812 - val_loss: 3.2434 - val_sparse_categorical_accuracy: 0.0000e+00\n",
            "Epoch 22/40\n",
            "1/1 [==============================] - 0s 47ms/step - loss: 2.9217 - sparse_categorical_accuracy: 0.1562 - val_loss: 3.2423 - val_sparse_categorical_accuracy: 0.0000e+00\n",
            "Epoch 23/40\n",
            "\n",
            "Epoch 00023: ReduceLROnPlateau reducing learning rate to 0.00010000000474974513.\n",
            "1/1 [==============================] - 0s 50ms/step - loss: 2.8893 - sparse_categorical_accuracy: 0.2188 - val_loss: 3.2432 - val_sparse_categorical_accuracy: 0.0000e+00\n",
            "Epoch 24/40\n",
            "1/1 [==============================] - 0s 56ms/step - loss: 2.7549 - sparse_categorical_accuracy: 0.1562 - val_loss: 3.2430 - val_sparse_categorical_accuracy: 0.0000e+00\n",
            "Epoch 25/40\n",
            "1/1 [==============================] - 0s 49ms/step - loss: 2.7948 - sparse_categorical_accuracy: 0.3438 - val_loss: 3.2478 - val_sparse_categorical_accuracy: 0.0000e+00\n",
            "Epoch 00025: early stopping\n"
          ],
          "name": "stdout"
        }
      ]
    },
    {
      "cell_type": "markdown",
      "metadata": {
        "id": "pJLzNZPwcXyO",
        "colab_type": "text"
      },
      "source": [
        "## Save model and trainign history  to drive"
      ]
    },
    {
      "cell_type": "code",
      "metadata": {
        "id": "f91nMVUbb5T5",
        "colab_type": "code",
        "colab": {
          "base_uri": "https://localhost:8080/",
          "height": 122
        },
        "outputId": "9033ab1c-a64d-4d4c-e7b3-51f504350a5d"
      },
      "source": [
        "from google.colab import drive\n",
        "drive.mount('/content/gdrive')"
      ],
      "execution_count": 14,
      "outputs": [
        {
          "output_type": "stream",
          "text": [
            "Go to this URL in a browser: https://accounts.google.com/o/oauth2/auth?client_id=947318989803-6bn6qk8qdgf4n4g3pfee6491hc0brc4i.apps.googleusercontent.com&redirect_uri=urn%3Aietf%3Awg%3Aoauth%3A2.0%3Aoob&scope=email%20https%3A%2F%2Fwww.googleapis.com%2Fauth%2Fdocs.test%20https%3A%2F%2Fwww.googleapis.com%2Fauth%2Fdrive%20https%3A%2F%2Fwww.googleapis.com%2Fauth%2Fdrive.photos.readonly%20https%3A%2F%2Fwww.googleapis.com%2Fauth%2Fpeopleapi.readonly&response_type=code\n",
            "\n",
            "Enter your authorization code:\n",
            "··········\n",
            "Mounted at /content/gdrive\n"
          ],
          "name": "stdout"
        }
      ]
    },
    {
      "cell_type": "code",
      "metadata": {
        "id": "Xtq3qUI1eGFm",
        "colab_type": "code",
        "colab": {
          "base_uri": "https://localhost:8080/",
          "height": 34
        },
        "outputId": "bd7291df-3afb-4934-fdb6-8a0e0ec6274d"
      },
      "source": [
        "!mkdir /content/gdrive/My\\ Drive/Colab\\ Notebooks/audio_features"
      ],
      "execution_count": 15,
      "outputs": [
        {
          "output_type": "stream",
          "text": [
            "mkdir: cannot create directory ‘/content/gdrive/My Drive/Colab Notebooks/audio_features’: File exists\n"
          ],
          "name": "stdout"
        }
      ]
    },
    {
      "cell_type": "code",
      "metadata": {
        "id": "z75f1rdNcBWk",
        "colab_type": "code",
        "colab": {
          "base_uri": "https://localhost:8080/",
          "height": 34
        },
        "outputId": "27e94158-c266-4f4b-f0e9-a4012865e7a0"
      },
      "source": [
        "GDRIVE_PATH = \"/content/gdrive/My Drive/Colab Notebooks/audio_features/\"\n",
        "\n",
        "## Save model \n",
        "model_json = model.to_json()\n",
        "with open(GDRIVE_PATH + \"model.json\", \"w\") as file:\n",
        "    file.write(model_json)\n",
        "# serialize weights to HDF5\n",
        "model.save_weights(GDRIVE_PATH + \"model_weights.h5\")\n",
        "print(\"Saved model to drive\")"
      ],
      "execution_count": 16,
      "outputs": [
        {
          "output_type": "stream",
          "text": [
            "Saved model to drive\n"
          ],
          "name": "stdout"
        }
      ]
    },
    {
      "cell_type": "code",
      "metadata": {
        "id": "BcPGbq-rdG3h",
        "colab_type": "code",
        "colab": {
          "base_uri": "https://localhost:8080/",
          "height": 34
        },
        "outputId": "31e79f43-9a61-40c4-8bc6-9c4e96f15291"
      },
      "source": [
        "import pickle\n",
        "## Save history data\n",
        "with open(GDRIVE_PATH + \"train_results.pickle\", \"wb\") as handle:\n",
        "    pickle.dump(history.history, handle, protocol=pickle.HIGHEST_PROTOCOL)    \n",
        "print(\"Saved training history to drive\")"
      ],
      "execution_count": 17,
      "outputs": [
        {
          "output_type": "stream",
          "text": [
            "Saved training history to drive\n"
          ],
          "name": "stdout"
        }
      ]
    },
    {
      "cell_type": "code",
      "metadata": {
        "id": "0Mv9z4CjclTa",
        "colab_type": "code",
        "colab": {}
      },
      "source": [
        "## test load\n",
        "with open(GDRIVE_PATH + \"train_results.pickle\", 'rb') as handle:\n",
        "    hist = pickle.load(handle)"
      ],
      "execution_count": 0,
      "outputs": []
    },
    {
      "cell_type": "code",
      "metadata": {
        "id": "36KtB9d3XiO3",
        "colab_type": "code",
        "colab": {
          "base_uri": "https://localhost:8080/",
          "height": 581
        },
        "outputId": "74fd15ec-bfd2-4db1-ed50-316374e0029b"
      },
      "source": [
        "import matplotlib.pyplot as plt\n",
        "from matplotlib.ticker import MaxNLocator\n",
        "import seaborn as sns \n",
        "\n",
        "sns.set()\n",
        "\n",
        "acc = hist['sparse_categorical_accuracy']\n",
        "val_acc = hist['val_sparse_categorical_accuracy']\n",
        "\n",
        "loss = hist['loss']\n",
        "val_loss = hist['val_loss']\n",
        "\n",
        "fig, (ax1,ax2) = plt.subplots(2,1, figsize=(8,8))\n",
        "\n",
        "ax1.plot(loss, label='train')\n",
        "ax1.plot(val_loss, label='validation')\n",
        "ax1.xaxis.set_major_locator(MaxNLocator(integer=True))\n",
        "ax1.set_title('Model loss')\n",
        "ax1.set_xlabel('Epoch')\n",
        "ax1.set_ylabel('Loss')\n",
        "ax1.legend()\n",
        "\n",
        "ax2.plot(acc, label='train')\n",
        "ax2.plot(val_acc, label='validation')\n",
        "ax2.xaxis.set_major_locator(MaxNLocator(integer=True))\n",
        "ax2.set_title('Model accuracy')\n",
        "ax2.set_xlabel('Epoch')\n",
        "ax2.set_ylabel('Accuracy')\n",
        "ax2.legend()\n",
        "\n",
        "plt.tight_layout()\n",
        "fig.show()"
      ],
      "execution_count": 19,
      "outputs": [
        {
          "output_type": "display_data",
          "data": {
            "image/png": "[encoded data removed]",
            "text/plain": [
              "<Figure size 576x576 with 2 Axes>"
            ]
          },
          "metadata": {
            "tags": []
          }
        }
      ]
    },
    {
      "cell_type": "markdown",
      "metadata": {
        "id": "SuWaGdcCjIVC",
        "colab_type": "text"
      },
      "source": [
        "### Predict\n",
        "\n"
      ]
    },
    {
      "cell_type": "code",
      "metadata": {
        "id": "1VpGl_lnfJP-",
        "colab_type": "code",
        "colab": {
          "base_uri": "https://localhost:8080/",
          "height": 34
        },
        "outputId": "31cfa6a0-00fd-414c-e35c-10d1839a39bd"
      },
      "source": [
        "out = model.predict(test_data, verbose=1)"
      ],
      "execution_count": 20,
      "outputs": [
        {
          "output_type": "stream",
          "text": [
            "\r1/1 [==============================] - 8s 8s/step\n"
          ],
          "name": "stdout"
        }
      ]
    },
    {
      "cell_type": "code",
      "metadata": {
        "id": "GlfqAvCwgAUM",
        "colab_type": "code",
        "colab": {}
      },
      "source": [
        "import numpy as np\n",
        "y_pred = np.argmax(out,axis=1)\n",
        "y_true = testDF['labels'].tolist()"
      ],
      "execution_count": 0,
      "outputs": []
    },
    {
      "cell_type": "code",
      "metadata": {
        "id": "pCCWHjZ7gAhq",
        "colab_type": "code",
        "colab": {
          "base_uri": "https://localhost:8080/",
          "height": 374
        },
        "outputId": "a5577704-8016-4b0d-a09a-130559aebc21"
      },
      "source": [
        "from sklearn.metrics import (\n",
        "    confusion_matrix, accuracy_score,\n",
        "    precision_score, recall_score,\n",
        "    f1_score\n",
        ")\n",
        "\n",
        "print('Accuracy: {:.4f}'.format(accuracy_score(y_pred, y_true)))\n",
        "print('Precision: {:.4f}'.format(precision_score(y_pred, y_true, average='macro')))\n",
        "print('Recall: {:.4f}'.format(recall_score(y_pred, y_true, average='macro')))\n",
        "print('F1 score: {:.4f}'.format(f1_score(y_pred, y_true, average='macro')))\n",
        "cm = confusion_matrix(y_pred, y_true)"
      ],
      "execution_count": 22,
      "outputs": [
        {
          "output_type": "error",
          "ename": "ValueError",
          "evalue": "ignored",
          "traceback": [
            "\u001b[0;31m---------------------------------------------------------------------------\u001b[0m",
            "\u001b[0;31mValueError\u001b[0m                                Traceback (most recent call last)",
            "\u001b[0;32m<ipython-input-22-cfc7464b6824>\u001b[0m in \u001b[0;36m<module>\u001b[0;34m()\u001b[0m\n\u001b[1;32m      5\u001b[0m )\n\u001b[1;32m      6\u001b[0m \u001b[0;34m\u001b[0m\u001b[0m\n\u001b[0;32m----> 7\u001b[0;31m \u001b[0mprint\u001b[0m\u001b[0;34m(\u001b[0m\u001b[0;34m'Accuracy: {:.4f}'\u001b[0m\u001b[0;34m.\u001b[0m\u001b[0mformat\u001b[0m\u001b[0;34m(\u001b[0m\u001b[0maccuracy_score\u001b[0m\u001b[0;34m(\u001b[0m\u001b[0my_pred\u001b[0m\u001b[0;34m,\u001b[0m \u001b[0my_true\u001b[0m\u001b[0;34m)\u001b[0m\u001b[0;34m)\u001b[0m\u001b[0;34m)\u001b[0m\u001b[0;34m\u001b[0m\u001b[0;34m\u001b[0m\u001b[0m\n\u001b[0m\u001b[1;32m      8\u001b[0m \u001b[0mprint\u001b[0m\u001b[0;34m(\u001b[0m\u001b[0;34m'Precision: {:.4f}'\u001b[0m\u001b[0;34m.\u001b[0m\u001b[0mformat\u001b[0m\u001b[0;34m(\u001b[0m\u001b[0mprecision_score\u001b[0m\u001b[0;34m(\u001b[0m\u001b[0my_pred\u001b[0m\u001b[0;34m,\u001b[0m \u001b[0my_true\u001b[0m\u001b[0;34m,\u001b[0m \u001b[0maverage\u001b[0m\u001b[0;34m=\u001b[0m\u001b[0;34m'macro'\u001b[0m\u001b[0;34m)\u001b[0m\u001b[0;34m)\u001b[0m\u001b[0;34m)\u001b[0m\u001b[0;34m\u001b[0m\u001b[0;34m\u001b[0m\u001b[0m\n\u001b[1;32m      9\u001b[0m \u001b[0mprint\u001b[0m\u001b[0;34m(\u001b[0m\u001b[0;34m'Recall: {:.4f}'\u001b[0m\u001b[0;34m.\u001b[0m\u001b[0mformat\u001b[0m\u001b[0;34m(\u001b[0m\u001b[0mrecall_score\u001b[0m\u001b[0;34m(\u001b[0m\u001b[0my_pred\u001b[0m\u001b[0;34m,\u001b[0m \u001b[0my_true\u001b[0m\u001b[0;34m,\u001b[0m \u001b[0maverage\u001b[0m\u001b[0;34m=\u001b[0m\u001b[0;34m'macro'\u001b[0m\u001b[0;34m)\u001b[0m\u001b[0;34m)\u001b[0m\u001b[0;34m)\u001b[0m\u001b[0;34m\u001b[0m\u001b[0;34m\u001b[0m\u001b[0m\n",
            "\u001b[0;32m/usr/local/lib/python3.6/dist-packages/sklearn/metrics/classification.py\u001b[0m in \u001b[0;36maccuracy_score\u001b[0;34m(y_true, y_pred, normalize, sample_weight)\u001b[0m\n\u001b[1;32m    174\u001b[0m \u001b[0;34m\u001b[0m\u001b[0m\n\u001b[1;32m    175\u001b[0m     \u001b[0;31m# Compute accuracy for each possible representation\u001b[0m\u001b[0;34m\u001b[0m\u001b[0;34m\u001b[0m\u001b[0;34m\u001b[0m\u001b[0m\n\u001b[0;32m--> 176\u001b[0;31m     \u001b[0my_type\u001b[0m\u001b[0;34m,\u001b[0m \u001b[0my_true\u001b[0m\u001b[0;34m,\u001b[0m \u001b[0my_pred\u001b[0m \u001b[0;34m=\u001b[0m \u001b[0m_check_targets\u001b[0m\u001b[0;34m(\u001b[0m\u001b[0my_true\u001b[0m\u001b[0;34m,\u001b[0m \u001b[0my_pred\u001b[0m\u001b[0;34m)\u001b[0m\u001b[0;34m\u001b[0m\u001b[0;34m\u001b[0m\u001b[0m\n\u001b[0m\u001b[1;32m    177\u001b[0m     \u001b[0mcheck_consistent_length\u001b[0m\u001b[0;34m(\u001b[0m\u001b[0my_true\u001b[0m\u001b[0;34m,\u001b[0m \u001b[0my_pred\u001b[0m\u001b[0;34m,\u001b[0m \u001b[0msample_weight\u001b[0m\u001b[0;34m)\u001b[0m\u001b[0;34m\u001b[0m\u001b[0;34m\u001b[0m\u001b[0m\n\u001b[1;32m    178\u001b[0m     \u001b[0;32mif\u001b[0m \u001b[0my_type\u001b[0m\u001b[0;34m.\u001b[0m\u001b[0mstartswith\u001b[0m\u001b[0;34m(\u001b[0m\u001b[0;34m'multilabel'\u001b[0m\u001b[0;34m)\u001b[0m\u001b[0;34m:\u001b[0m\u001b[0;34m\u001b[0m\u001b[0;34m\u001b[0m\u001b[0m\n",
            "\u001b[0;32m/usr/local/lib/python3.6/dist-packages/sklearn/metrics/classification.py\u001b[0m in \u001b[0;36m_check_targets\u001b[0;34m(y_true, y_pred)\u001b[0m\n\u001b[1;32m     69\u001b[0m     \u001b[0my_pred\u001b[0m \u001b[0;34m:\u001b[0m \u001b[0marray\u001b[0m \u001b[0;32mor\u001b[0m \u001b[0mindicator\u001b[0m \u001b[0mmatrix\u001b[0m\u001b[0;34m\u001b[0m\u001b[0;34m\u001b[0m\u001b[0m\n\u001b[1;32m     70\u001b[0m     \"\"\"\n\u001b[0;32m---> 71\u001b[0;31m     \u001b[0mcheck_consistent_length\u001b[0m\u001b[0;34m(\u001b[0m\u001b[0my_true\u001b[0m\u001b[0;34m,\u001b[0m \u001b[0my_pred\u001b[0m\u001b[0;34m)\u001b[0m\u001b[0;34m\u001b[0m\u001b[0;34m\u001b[0m\u001b[0m\n\u001b[0m\u001b[1;32m     72\u001b[0m     \u001b[0mtype_true\u001b[0m \u001b[0;34m=\u001b[0m \u001b[0mtype_of_target\u001b[0m\u001b[0;34m(\u001b[0m\u001b[0my_true\u001b[0m\u001b[0;34m)\u001b[0m\u001b[0;34m\u001b[0m\u001b[0;34m\u001b[0m\u001b[0m\n\u001b[1;32m     73\u001b[0m     \u001b[0mtype_pred\u001b[0m \u001b[0;34m=\u001b[0m \u001b[0mtype_of_target\u001b[0m\u001b[0;34m(\u001b[0m\u001b[0my_pred\u001b[0m\u001b[0;34m)\u001b[0m\u001b[0;34m\u001b[0m\u001b[0;34m\u001b[0m\u001b[0m\n",
            "\u001b[0;32m/usr/local/lib/python3.6/dist-packages/sklearn/utils/validation.py\u001b[0m in \u001b[0;36mcheck_consistent_length\u001b[0;34m(*arrays)\u001b[0m\n\u001b[1;32m    203\u001b[0m     \u001b[0;32mif\u001b[0m \u001b[0mlen\u001b[0m\u001b[0;34m(\u001b[0m\u001b[0muniques\u001b[0m\u001b[0;34m)\u001b[0m \u001b[0;34m>\u001b[0m \u001b[0;36m1\u001b[0m\u001b[0;34m:\u001b[0m\u001b[0;34m\u001b[0m\u001b[0;34m\u001b[0m\u001b[0m\n\u001b[1;32m    204\u001b[0m         raise ValueError(\"Found input variables with inconsistent numbers of\"\n\u001b[0;32m--> 205\u001b[0;31m                          \" samples: %r\" % [int(l) for l in lengths])\n\u001b[0m\u001b[1;32m    206\u001b[0m \u001b[0;34m\u001b[0m\u001b[0m\n\u001b[1;32m    207\u001b[0m \u001b[0;34m\u001b[0m\u001b[0m\n",
            "\u001b[0;31mValueError\u001b[0m: Found input variables with inconsistent numbers of samples: [32, 6835]"
          ]
        }
      ]
    },
    {
      "cell_type": "code",
      "metadata": {
        "id": "GgZkfh0qprJ5",
        "colab_type": "code",
        "colab": {}
      },
      "source": [
        "from analysisFunctions import plot_confusion_matrix\n",
        "from constants import inv_categories\n",
        "    \n",
        "plot_confusion_matrix(cm, target_names=list(inv_categories.values())[:-1], normalize=True)"
      ],
      "execution_count": 0,
      "outputs": []
    }
  ]
}