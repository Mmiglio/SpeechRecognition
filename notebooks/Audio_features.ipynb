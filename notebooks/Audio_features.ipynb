{
  "nbformat": 4,
  "nbformat_minor": 0,
  "metadata": {
    "colab": {
      "name": "Audio_features.ipynb",
      "version": "0.3.2",
      "provenance": [],
      "collapsed_sections": [],
      "include_colab_link": true
    },
    "kernelspec": {
      "name": "python3",
      "display_name": "Python 3"
    },
    "accelerator": "GPU"
  },
  "cells": [
    {
      "cell_type": "markdown",
      "metadata": {
        "id": "view-in-github",
        "colab_type": "text"
      },
      "source": [
        "<a href=\"https://colab.research.google.com/github/Mmiglio/SpeechRecognition/blob/audio_features/notebooks/Audio_features.ipynb\" target=\"_parent\"><img src=\"https://colab.research.google.com/assets/colab-badge.svg\" alt=\"Open In Colab\"/></a>"
      ]
    },
    {
      "cell_type": "markdown",
      "metadata": {
        "id": "yCtn1cYRG6R8",
        "colab_type": "text"
      },
      "source": [
        "## Get Scripts"
      ]
    },
    {
      "cell_type": "code",
      "metadata": {
        "id": "89GComxjG2zY",
        "colab_type": "code",
        "colab": {}
      },
      "source": [
        "!wget -q https://raw.githubusercontent.com/Mmiglio/SpeechRecognition/audio_features/src/getData.py\n",
        "!wget -q https://raw.githubusercontent.com/Mmiglio/SpeechRecognition/audio_features/src/constants.py\n",
        "!wget -q https://raw.githubusercontent.com/Mmiglio/SpeechRecognition/audio_features/src/trainingUtils.py\n",
        "!wget -q https://raw.githubusercontent.com/Mmiglio/SpeechRecognition/audio_features/src/models.py\n",
        "!wget -q https://raw.githubusercontent.com/Mmiglio/SpeechRecognition/audio_features/src/analysisFunctions.py"
      ],
      "execution_count": 0,
      "outputs": []
    },
    {
      "cell_type": "markdown",
      "metadata": {
        "id": "8hLJMU7jHDJm",
        "colab_type": "text"
      },
      "source": [
        "## Download speech data"
      ]
    },
    {
      "cell_type": "code",
      "metadata": {
        "id": "3FqNo78VHGsY",
        "colab_type": "code",
        "outputId": "7f73e941-29dd-4c2f-a9f6-d5a37be14578",
        "colab": {
          "base_uri": "https://localhost:8080/",
          "height": 85
        }
      },
      "source": [
        "from getData import downloadSpeechData, getDataDict\n",
        "\n",
        "# Download data\n",
        "downloadSpeechData(data_path='speechData/')\n",
        "\n",
        "# Get dict with files and labels\n",
        "dataDict = getDataDict(data_path='speechData/')"
      ],
      "execution_count": 2,
      "outputs": [
        {
          "output_type": "stream",
          "text": [
            "Downloading http://download.tensorflow.org/data/speech_commands_v0.01.tar.gz into /content/speechData/train.tar.gz\n",
            "Extracting /content/speechData/train.tar.gz into /content/speechData/train\n",
            "Downloading http://download.tensorflow.org/data/speech_commands_test_set_v0.01.tar.gz into /content/speechData/test.tar.gz\n",
            "Extracting /content/speechData/test.tar.gz into /content/speechData/test\n"
          ],
          "name": "stdout"
        }
      ]
    },
    {
      "cell_type": "code",
      "metadata": {
        "id": "84zh4i7RR6Cq",
        "colab_type": "code",
        "outputId": "348a2dc6-ff3c-4fdf-e37d-7a335f8150f5",
        "colab": {
          "base_uri": "https://localhost:8080/",
          "height": 68
        }
      },
      "source": [
        "from getData import getDataframe\n",
        "\n",
        "trainDF = getDataframe(dataDict['train'])\n",
        "valDF = getDataframe(dataDict['val'])\n",
        "testDF = getDataframe(dataDict['test']) \n",
        "\n",
        "print(\"Train files: {}\".format(trainDF.shape[0]))\n",
        "print(\"Validation files: {}\".format(valDF.shape[0]))\n",
        "print(\"Test files: {}\".format(testDF.shape[0]))"
      ],
      "execution_count": 3,
      "outputs": [
        {
          "output_type": "stream",
          "text": [
            "Train files: 51088\n",
            "Validation files: 6798\n",
            "Test files: 6835\n"
          ],
          "name": "stdout"
        }
      ]
    },
    {
      "cell_type": "code",
      "metadata": {
        "id": "1pW40MeTCyUp",
        "colab_type": "code",
        "outputId": "4bd41315-cac1-44dc-ca09-26022799419b",
        "colab": {
          "base_uri": "https://localhost:8080/",
          "height": 204
        }
      },
      "source": [
        "trainDF.head()"
      ],
      "execution_count": 4,
      "outputs": [
        {
          "output_type": "execute_result",
          "data": {
            "text/html": [
              "<div>\n",
              "<style scoped>\n",
              "    .dataframe tbody tr th:only-of-type {\n",
              "        vertical-align: middle;\n",
              "    }\n",
              "\n",
              "    .dataframe tbody tr th {\n",
              "        vertical-align: top;\n",
              "    }\n",
              "\n",
              "    .dataframe thead th {\n",
              "        text-align: right;\n",
              "    }\n",
              "</style>\n",
              "<table border=\"1\" class=\"dataframe\">\n",
              "  <thead>\n",
              "    <tr style=\"text-align: right;\">\n",
              "      <th></th>\n",
              "      <th>files</th>\n",
              "      <th>labels</th>\n",
              "      <th>category</th>\n",
              "    </tr>\n",
              "  </thead>\n",
              "  <tbody>\n",
              "    <tr>\n",
              "      <th>0</th>\n",
              "      <td>speechData/train/left/c120e80e_nohash_2.wav</td>\n",
              "      <td>13</td>\n",
              "      <td>left</td>\n",
              "    </tr>\n",
              "    <tr>\n",
              "      <th>1</th>\n",
              "      <td>speechData/train/up/b959cd0c_nohash_1.wav</td>\n",
              "      <td>24</td>\n",
              "      <td>up</td>\n",
              "    </tr>\n",
              "    <tr>\n",
              "      <th>2</th>\n",
              "      <td>speechData/train/up/f632210f_nohash_0.wav</td>\n",
              "      <td>24</td>\n",
              "      <td>up</td>\n",
              "    </tr>\n",
              "    <tr>\n",
              "      <th>3</th>\n",
              "      <td>speechData/train/cat/e82914c0_nohash_1.wav</td>\n",
              "      <td>12</td>\n",
              "      <td>cat</td>\n",
              "    </tr>\n",
              "    <tr>\n",
              "      <th>4</th>\n",
              "      <td>speechData/train/left/9e46cfa1_nohash_3.wav</td>\n",
              "      <td>13</td>\n",
              "      <td>left</td>\n",
              "    </tr>\n",
              "  </tbody>\n",
              "</table>\n",
              "</div>"
            ],
            "text/plain": [
              "                                         files  labels category\n",
              "0  speechData/train/left/c120e80e_nohash_2.wav      13     left\n",
              "1    speechData/train/up/b959cd0c_nohash_1.wav      24       up\n",
              "2    speechData/train/up/f632210f_nohash_0.wav      24       up\n",
              "3   speechData/train/cat/e82914c0_nohash_1.wav      12      cat\n",
              "4  speechData/train/left/9e46cfa1_nohash_3.wav      13     left"
            ]
          },
          "metadata": {
            "tags": []
          },
          "execution_count": 4
        }
      ]
    },
    {
      "cell_type": "markdown",
      "metadata": {
        "id": "BQZpbiDqHnmv",
        "colab_type": "text"
      },
      "source": [
        "## Tensorflow 2.0"
      ]
    },
    {
      "cell_type": "code",
      "metadata": {
        "id": "vSiBvGYhHt7S",
        "colab_type": "code",
        "colab": {
          "base_uri": "https://localhost:8080/",
          "height": 68
        },
        "outputId": "9a3cae3b-15b1-48a3-a5a8-5b34921cf758"
      },
      "source": [
        "!pip install -q tensorflow-gpu==2.0.0-beta1"
      ],
      "execution_count": 5,
      "outputs": [
        {
          "output_type": "stream",
          "text": [
            "\u001b[K     |████████████████████████████████| 348.9MB 55kB/s \n",
            "\u001b[K     |████████████████████████████████| 3.1MB 34.6MB/s \n",
            "\u001b[K     |████████████████████████████████| 501kB 37.3MB/s \n",
            "\u001b[?25h"
          ],
          "name": "stdout"
        }
      ]
    },
    {
      "cell_type": "code",
      "metadata": {
        "id": "3Br52JjlIcvM",
        "colab_type": "code",
        "outputId": "14fead5e-5b45-4dd1-e2e9-6403f9fbf294",
        "colab": {
          "base_uri": "https://localhost:8080/",
          "height": 51
        }
      },
      "source": [
        "import tensorflow as tf\n",
        "\n",
        "print(\"GPU Available: \", tf.test.is_gpu_available())\n",
        "print(\"Version: \", tf.__version__)"
      ],
      "execution_count": 6,
      "outputs": [
        {
          "output_type": "stream",
          "text": [
            "GPU Available:  True\n",
            "Version:  2.0.0-beta1\n"
          ],
          "name": "stdout"
        }
      ]
    },
    {
      "cell_type": "markdown",
      "metadata": {
        "id": "8NLhKfTOI0eJ",
        "colab_type": "text"
      },
      "source": [
        "## Input pipeline"
      ]
    },
    {
      "cell_type": "code",
      "metadata": {
        "id": "Z3YYOtmrIy4n",
        "colab_type": "code",
        "colab": {
          "base_uri": "https://localhost:8080/",
          "height": 34
        },
        "outputId": "aaf05165-3bad-4ef4-f43c-032662ec25ec"
      },
      "source": [
        "!pip install -q python_speech_features"
      ],
      "execution_count": 7,
      "outputs": [
        {
          "output_type": "stream",
          "text": [
            "  Building wheel for python-speech-features (setup.py) ... \u001b[?25l\u001b[?25hdone\n"
          ],
          "name": "stdout"
        }
      ]
    },
    {
      "cell_type": "code",
      "metadata": {
        "id": "t0GYJG6RpTl9",
        "colab_type": "code",
        "colab": {}
      },
      "source": [
        "!pip install -q librosa"
      ],
      "execution_count": 0,
      "outputs": []
    },
    {
      "cell_type": "code",
      "metadata": {
        "id": "X7Xq8gzVTDOu",
        "colab_type": "code",
        "colab": {}
      },
      "source": [
        "from trainingUtils import getDatasetRhythm\n",
        "\n",
        "BATCH_SIZE = 32\n",
        "# Reduced trainign dataset\n",
        "NUM_EXAMPLES = 100\n",
        "\n",
        "train_data, train_steps = getDatasetRhythm(\n",
        "    df=trainDF[:NUM_EXAMPLES],\n",
        "    batch_size=BATCH_SIZE,\n",
        "    cache_file='train_cache',\n",
        "    shuffle=True\n",
        ") \n",
        "\n",
        "val_data, val_steps = getDatasetRhythm(\n",
        "    df=valDF,\n",
        "    batch_size=BATCH_SIZE,\n",
        "    cache_file='val_cache',\n",
        "    shuffle=False\n",
        ")\n",
        "\n",
        "test_data, test_steps = getDatasetRhythm(\n",
        "    df=testDF,\n",
        "    batch_size=BATCH_SIZE,\n",
        "    cache_file='test_cache',\n",
        "    shuffle=False\n",
        ") \n"
      ],
      "execution_count": 0,
      "outputs": []
    },
    {
      "cell_type": "code",
      "metadata": {
        "id": "bocfzNWz3zLr",
        "colab_type": "code",
        "colab": {
          "base_uri": "https://localhost:8080/",
          "height": 368
        },
        "outputId": "5c651cce-be66-4cc0-ca29-2b415d95b90f"
      },
      "source": [
        "from trainingUtils import _loadLibrosa, _loadWavs, _rhythm, _logMelFilterbank\n",
        "from librosa.display import specshow\n",
        "\n",
        "vaweLibrosa, sr = _loadLibrosa(testDF.files[0])\n",
        "vaweScipy = _loadWavs(testDF.files[0])\n",
        "print('Librosa vawe:{}, sampling rate = {}'.format(vaweLibrosa[:5], len(vaweLibrosa)))\n",
        "print('Scipy vawe:{}, sampling rate = {}'.format(vaweScipy[:5], len(vaweScipy)))\n",
        "fbankrhythm = _rhythm(vaweLibrosa, sr, 552)\n",
        "fbanklogmel = _logMelFilterbank(vaweScipy, 40)\n",
        "print('Tempogram shape: ({}, {})'.format(len(fbankrhythm), len(fbankrhythm[0])))\n",
        "print('LogMelSpectrogram shape: ({}, {})'.format(len(fbanklogmel), len(fbanklogmel[0])))\n",
        "\n",
        "specshow(fbankrhythm, sr=sr, hop_length=552, x_axis='time', y_axis='tempo')"
      ],
      "execution_count": 10,
      "outputs": [
        {
          "output_type": "stream",
          "text": [
            "Librosa vawe:[0.00736888 0.00915439 0.01079172 0.01848162 0.02453344], sampling rate = 22050\n",
            "Scipy vawe:[244. 300. 536. 808. 759.], sampling rate = 16000\n",
            "Tempogram shape: (99, 40)\n",
            "LogMelSpectrogram shape: (99, 40)\n"
          ],
          "name": "stdout"
        },
        {
          "output_type": "execute_result",
          "data": {
            "text/plain": [
              "<matplotlib.axes._subplots.AxesSubplot at 0x7fc979c92320>"
            ]
          },
          "metadata": {
            "tags": []
          },
          "execution_count": 10
        },
        {
          "output_type": "display_data",
          "data": {
            "image/png": "[encoded data removed]",
            "text/plain": [
              "<Figure size 432x288 with 1 Axes>"
            ]
          },
          "metadata": {
            "tags": []
          }
        }
      ]
    },
    {
      "cell_type": "markdown",
      "metadata": {
        "id": "qeVgK5Rb4_rc",
        "colab_type": "text"
      },
      "source": [
        "## Model"
      ]
    },
    {
      "cell_type": "code",
      "metadata": {
        "id": "n4xZh6-2rk-q",
        "colab_type": "code",
        "colab": {
          "base_uri": "https://localhost:8080/",
          "height": 1000
        },
        "outputId": "1288a7fd-ebf7-4611-f92a-8c66129e215a"
      },
      "source": [
        "from models import cnnModel\n",
        "\n",
        "model = cnnModel()\n",
        "\n",
        "model.summary()"
      ],
      "execution_count": 11,
      "outputs": [
        {
          "output_type": "stream",
          "text": [
            "Model: \"sequential\"\n",
            "_________________________________________________________________\n",
            "Layer (type)                 Output Shape              Param #   \n",
            "=================================================================\n",
            "reshape (Reshape)            (None, 99, 40, 1)         0         \n",
            "_________________________________________________________________\n",
            "batch_normalization (BatchNo (None, 99, 40, 1)         4         \n",
            "_________________________________________________________________\n",
            "conv2d (Conv2D)              (None, 99, 40, 16)        160       \n",
            "_________________________________________________________________\n",
            "batch_normalization_1 (Batch (None, 99, 40, 16)        64        \n",
            "_________________________________________________________________\n",
            "activation (Activation)      (None, 99, 40, 16)        0         \n",
            "_________________________________________________________________\n",
            "conv2d_1 (Conv2D)            (None, 99, 40, 16)        2320      \n",
            "_________________________________________________________________\n",
            "batch_normalization_2 (Batch (None, 99, 40, 16)        64        \n",
            "_________________________________________________________________\n",
            "activation_1 (Activation)    (None, 99, 40, 16)        0         \n",
            "_________________________________________________________________\n",
            "max_pooling2d (MaxPooling2D) (None, 49, 20, 16)        0         \n",
            "_________________________________________________________________\n",
            "dropout (Dropout)            (None, 49, 20, 16)        0         \n",
            "_________________________________________________________________\n",
            "conv2d_2 (Conv2D)            (None, 49, 20, 32)        4640      \n",
            "_________________________________________________________________\n",
            "batch_normalization_3 (Batch (None, 49, 20, 32)        128       \n",
            "_________________________________________________________________\n",
            "activation_2 (Activation)    (None, 49, 20, 32)        0         \n",
            "_________________________________________________________________\n",
            "conv2d_3 (Conv2D)            (None, 49, 20, 32)        9248      \n",
            "_________________________________________________________________\n",
            "batch_normalization_4 (Batch (None, 49, 20, 32)        128       \n",
            "_________________________________________________________________\n",
            "activation_3 (Activation)    (None, 49, 20, 32)        0         \n",
            "_________________________________________________________________\n",
            "max_pooling2d_1 (MaxPooling2 (None, 24, 10, 32)        0         \n",
            "_________________________________________________________________\n",
            "dropout_1 (Dropout)          (None, 24, 10, 32)        0         \n",
            "_________________________________________________________________\n",
            "conv2d_4 (Conv2D)            (None, 24, 10, 64)        18496     \n",
            "_________________________________________________________________\n",
            "batch_normalization_5 (Batch (None, 24, 10, 64)        256       \n",
            "_________________________________________________________________\n",
            "activation_4 (Activation)    (None, 24, 10, 64)        0         \n",
            "_________________________________________________________________\n",
            "conv2d_5 (Conv2D)            (None, 24, 10, 64)        36928     \n",
            "_________________________________________________________________\n",
            "batch_normalization_6 (Batch (None, 24, 10, 64)        256       \n",
            "_________________________________________________________________\n",
            "activation_5 (Activation)    (None, 24, 10, 64)        0         \n",
            "_________________________________________________________________\n",
            "max_pooling2d_2 (MaxPooling2 (None, 12, 5, 64)         0         \n",
            "_________________________________________________________________\n",
            "dropout_2 (Dropout)          (None, 12, 5, 64)         0         \n",
            "_________________________________________________________________\n",
            "conv2d_6 (Conv2D)            (None, 12, 5, 128)        73856     \n",
            "_________________________________________________________________\n",
            "batch_normalization_7 (Batch (None, 12, 5, 128)        512       \n",
            "_________________________________________________________________\n",
            "activation_6 (Activation)    (None, 12, 5, 128)        0         \n",
            "_________________________________________________________________\n",
            "conv2d_7 (Conv2D)            (None, 12, 5, 128)        147584    \n",
            "_________________________________________________________________\n",
            "batch_normalization_8 (Batch (None, 12, 5, 128)        512       \n",
            "_________________________________________________________________\n",
            "activation_7 (Activation)    (None, 12, 5, 128)        0         \n",
            "_________________________________________________________________\n",
            "max_pooling2d_3 (MaxPooling2 (None, 6, 2, 128)         0         \n",
            "_________________________________________________________________\n",
            "dropout_3 (Dropout)          (None, 6, 2, 128)         0         \n",
            "_________________________________________________________________\n",
            "flatten (Flatten)            (None, 1536)              0         \n",
            "_________________________________________________________________\n",
            "dropout_4 (Dropout)          (None, 1536)              0         \n",
            "_________________________________________________________________\n",
            "batch_normalization_9 (Batch (None, 1536)              6144      \n",
            "_________________________________________________________________\n",
            "dense (Dense)                (None, 512)               786944    \n",
            "_________________________________________________________________\n",
            "dropout_5 (Dropout)          (None, 512)               0         \n",
            "_________________________________________________________________\n",
            "batch_normalization_10 (Batc (None, 512)               2048      \n",
            "_________________________________________________________________\n",
            "dense_1 (Dense)              (None, 256)               131328    \n",
            "_________________________________________________________________\n",
            "dropout_6 (Dropout)          (None, 256)               0         \n",
            "_________________________________________________________________\n",
            "dense_2 (Dense)              (None, 30)                7710      \n",
            "=================================================================\n",
            "Total params: 1,229,330\n",
            "Trainable params: 1,224,272\n",
            "Non-trainable params: 5,058\n",
            "_________________________________________________________________\n"
          ],
          "name": "stdout"
        }
      ]
    },
    {
      "cell_type": "code",
      "metadata": {
        "colab_type": "code",
        "id": "c3pCXkU8bTVO",
        "colab": {}
      },
      "source": [
        "model.compile(loss='sparse_categorical_crossentropy', \n",
        "              optimizer=tf.keras.optimizers.Adam(),\n",
        "              metrics=[\"sparse_categorical_accuracy\"])"
      ],
      "execution_count": 0,
      "outputs": []
    },
    {
      "cell_type": "code",
      "metadata": {
        "id": "fZbVzI8C8soc",
        "colab_type": "code",
        "outputId": "6f363285-f752-4c56-aecb-323661cced1f",
        "colab": {
          "base_uri": "https://localhost:8080/",
          "height": 136
        }
      },
      "source": [
        "EPOCHS = 40\n",
        "\n",
        "# Stop if the validation accuracy doesn't imporove for 5 epochs\n",
        "earlyStopping = tf.keras.callbacks.EarlyStopping(monitor='val_loss', patience=5, verbose=1)\n",
        "\n",
        "# Reduce LR on Plateau\n",
        "reduceLR = tf.keras.callbacks.ReduceLROnPlateau(monitor='val_loss', patience=3, verbose=1)\n",
        "\n",
        "# Save best models\n",
        "modelCheckpoint = tf.keras.callbacks.ModelCheckpoint(\"bestCnnModel.h5\", monitor='val_loss', save_best_only=True)\n",
        "\n",
        "history = model.fit(train_data.repeat(), \n",
        "          steps_per_epoch=train_steps,\n",
        "          validation_data=val_data.repeat(),\n",
        "          validation_steps=val_steps,\n",
        "          epochs=EPOCHS,\n",
        "          callbacks=[earlyStopping, reduceLR, modelCheckpoint])\n",
        "\n"
      ],
      "execution_count": 0,
      "outputs": [
        {
          "output_type": "stream",
          "text": [
            "WARNING: Logging before flag parsing goes to stderr.\n",
            "W0715 14:42:10.132819 140503362582272 backprop.py:842] The dtype of the watched tensor must be floating (e.g. tf.float32), got tf.string\n",
            "W0715 14:42:10.134679 140503370974976 backprop.py:842] The dtype of the watched tensor must be floating (e.g. tf.float32), got tf.string\n",
            "W0715 14:42:10.138062 140503370974976 backprop.py:842] The dtype of the watched tensor must be floating (e.g. tf.float32), got tf.int32\n",
            "W0715 14:42:10.136212 140503362582272 backprop.py:842] The dtype of the watched tensor must be floating (e.g. tf.float32), got tf.int32\n",
            "W0715 14:42:10.141517 140503370974976 backprop.py:842] The dtype of the watched tensor must be floating (e.g. tf.float32), got tf.int32\n"
          ],
          "name": "stderr"
        },
        {
          "output_type": "stream",
          "text": [
            "Epoch 1/40\n"
          ],
          "name": "stdout"
        }
      ]
    },
    {
      "cell_type": "markdown",
      "metadata": {
        "id": "pJLzNZPwcXyO",
        "colab_type": "text"
      },
      "source": [
        "## Save model and trainign history  to drive"
      ]
    },
    {
      "cell_type": "code",
      "metadata": {
        "id": "f91nMVUbb5T5",
        "colab_type": "code",
        "colab": {}
      },
      "source": [
        "from google.colab import drive\n",
        "drive.mount('/content/gdrive')"
      ],
      "execution_count": 0,
      "outputs": []
    },
    {
      "cell_type": "code",
      "metadata": {
        "id": "Xtq3qUI1eGFm",
        "colab_type": "code",
        "colab": {}
      },
      "source": [
        "!mkdir /content/gdrive/My\\ Drive/Colab\\ Notebooks/audio_features"
      ],
      "execution_count": 0,
      "outputs": []
    },
    {
      "cell_type": "code",
      "metadata": {
        "id": "z75f1rdNcBWk",
        "colab_type": "code",
        "colab": {}
      },
      "source": [
        "GDRIVE_PATH = \"/content/gdrive/My Drive/Colab Notebooks/audio_features/\"\n",
        "\n",
        "## Save model \n",
        "model_json = model.to_json()\n",
        "with open(GDRIVE_PATH + \"model.json\", \"w\") as file:\n",
        "    file.write(model_json)\n",
        "# serialize weights to HDF5\n",
        "model.save_weights(GDRIVE_PATH + \"model_weights.h5\")\n",
        "print(\"Saved model to drive\")"
      ],
      "execution_count": 0,
      "outputs": []
    },
    {
      "cell_type": "code",
      "metadata": {
        "id": "BcPGbq-rdG3h",
        "colab_type": "code",
        "colab": {}
      },
      "source": [
        "import pickle\n",
        "## Save history data\n",
        "with open(GDRIVE_PATH + \"train_results.pickle\", \"wb\") as handle:\n",
        "    pickle.dump(history.history, handle, protocol=pickle.HIGHEST_PROTOCOL)    \n",
        "print(\"Saved training history to drive\")"
      ],
      "execution_count": 0,
      "outputs": []
    },
    {
      "cell_type": "code",
      "metadata": {
        "id": "0Mv9z4CjclTa",
        "colab_type": "code",
        "colab": {}
      },
      "source": [
        "## test load\n",
        "with open(GDRIVE_PATH + \"train_results.pickle\", 'rb') as handle:\n",
        "    hist = pickle.load(handle)"
      ],
      "execution_count": 0,
      "outputs": []
    },
    {
      "cell_type": "code",
      "metadata": {
        "id": "36KtB9d3XiO3",
        "colab_type": "code",
        "colab": {}
      },
      "source": [
        "import matplotlib.pyplot as plt\n",
        "from matplotlib.ticker import MaxNLocator\n",
        "import seaborn as sns \n",
        "\n",
        "sns.set()\n",
        "\n",
        "acc = hist['sparse_categorical_accuracy']\n",
        "val_acc = hist['val_sparse_categorical_accuracy']\n",
        "\n",
        "loss = hist['loss']\n",
        "val_loss = hist['val_loss']\n",
        "\n",
        "fig, (ax1,ax2) = plt.subplots(2,1, figsize=(8,8))\n",
        "\n",
        "ax1.plot(loss, label='train')\n",
        "ax1.plot(val_loss, label='validation')\n",
        "ax1.xaxis.set_major_locator(MaxNLocator(integer=True))\n",
        "ax1.set_title('Model loss')\n",
        "ax1.set_xlabel('Epoch')\n",
        "ax1.set_ylabel('Loss')\n",
        "ax1.legend()\n",
        "\n",
        "ax2.plot(acc, label='train')\n",
        "ax2.plot(val_acc, label='validation')\n",
        "ax2.xaxis.set_major_locator(MaxNLocator(integer=True))\n",
        "ax2.set_title('Model accuracy')\n",
        "ax2.set_xlabel('Epoch')\n",
        "ax2.set_ylabel('Accuracy')\n",
        "ax2.legend()\n",
        "\n",
        "plt.tight_layout()\n",
        "fig.show()"
      ],
      "execution_count": 0,
      "outputs": []
    },
    {
      "cell_type": "markdown",
      "metadata": {
        "id": "SuWaGdcCjIVC",
        "colab_type": "text"
      },
      "source": [
        "### Predict\n",
        "\n"
      ]
    },
    {
      "cell_type": "code",
      "metadata": {
        "id": "1VpGl_lnfJP-",
        "colab_type": "code",
        "colab": {}
      },
      "source": [
        "out = model.predict(test_data, verbose=1)"
      ],
      "execution_count": 0,
      "outputs": []
    },
    {
      "cell_type": "code",
      "metadata": {
        "id": "GlfqAvCwgAUM",
        "colab_type": "code",
        "colab": {}
      },
      "source": [
        "import numpy as np\n",
        "y_pred = np.argmax(out,axis=1)\n",
        "y_true = testDF['labels'].tolist()"
      ],
      "execution_count": 0,
      "outputs": []
    },
    {
      "cell_type": "code",
      "metadata": {
        "id": "pCCWHjZ7gAhq",
        "colab_type": "code",
        "colab": {}
      },
      "source": [
        "from sklearn.metrics import (\n",
        "    confusion_matrix, accuracy_score,\n",
        "    precision_score, recall_score,\n",
        "    f1_score\n",
        ")\n",
        "\n",
        "print('Accuracy: {:.4f}'.format(accuracy_score(y_pred, y_true)))\n",
        "print('Precision: {:.4f}'.format(precision_score(y_pred, y_true, average='macro')))\n",
        "print('Recall: {:.4f}'.format(recall_score(y_pred, y_true, average='macro')))\n",
        "print('F1 score: {:.4f}'.format(f1_score(y_pred, y_true, average='macro')))\n",
        "cm = confusion_matrix(y_pred, y_true)"
      ],
      "execution_count": 0,
      "outputs": []
    },
    {
      "cell_type": "code",
      "metadata": {
        "id": "GgZkfh0qprJ5",
        "colab_type": "code",
        "colab": {}
      },
      "source": [
        "from analysisFunctions import plot_confusion_matrix\n",
        "from constants import inv_categories\n",
        "    \n",
        "plot_confusion_matrix(cm, target_names=list(inv_categories.values())[:-1], normalize=True)"
      ],
      "execution_count": 0,
      "outputs": []
    }
  ]
}