{
  "nbformat": 4,
  "nbformat_minor": 0,
  "metadata": {
    "colab": {
      "name": "DenoisingAutoencoders.ipynb",
      "version": "0.3.2",
      "provenance": [],
      "collapsed_sections": []
    },
    "kernelspec": {
      "name": "python3",
      "display_name": "Python 3"
    },
    "accelerator": "GPU"
  },
  "cells": [
    {
      "cell_type": "code",
      "metadata": {
        "id": "rlJF7NoyoE5u",
        "colab_type": "code",
        "outputId": "3787447b-aac5-4fe9-872c-7526784815f8",
        "colab": {
          "base_uri": "https://localhost:8080/",
          "height": 173
        }
      },
      "source": [
        "!pip -q install python_speech_features"
      ],
      "execution_count": 0,
      "outputs": [
        {
          "output_type": "stream",
          "text": [
            "Collecting python_speech_features\n",
            "  Downloading https://files.pythonhosted.org/packages/ff/d1/94c59e20a2631985fbd2124c45177abaa9e0a4eee8ba8a305aa26fc02a8e/python_speech_features-0.6.tar.gz\n",
            "Building wheels for collected packages: python-speech-features\n",
            "  Building wheel for python-speech-features (setup.py) ... \u001b[?25l\u001b[?25hdone\n",
            "  Stored in directory: /root/.cache/pip/wheels/3c/42/7c/f60e9d1b40015cd69b213ad90f7c18a9264cd745b9888134be\n",
            "Successfully built python-speech-features\n",
            "Installing collected packages: python-speech-features\n",
            "Successfully installed python-speech-features-0.6\n"
          ],
          "name": "stdout"
        }
      ]
    },
    {
      "cell_type": "code",
      "metadata": {
        "id": "-wlGC6gNfXcG",
        "colab_type": "code",
        "outputId": "e424ba04-fc97-4173-83ae-88dcaaabcab1",
        "colab": {
          "base_uri": "https://localhost:8080/",
          "height": 68
        }
      },
      "source": [
        "!pip install -q tensorflow-gpu==2.0.0-beta1"
      ],
      "execution_count": 0,
      "outputs": [
        {
          "output_type": "stream",
          "text": [
            "\u001b[K     |████████████████████████████████| 348.9MB 57kB/s \n",
            "\u001b[K     |████████████████████████████████| 3.1MB 34.1MB/s \n",
            "\u001b[K     |████████████████████████████████| 501kB 37.3MB/s \n",
            "\u001b[?25h"
          ],
          "name": "stdout"
        }
      ]
    },
    {
      "cell_type": "code",
      "metadata": {
        "id": "p2s72ZJWfpD0",
        "colab_type": "code",
        "outputId": "bc896e09-7b41-4091-8559-a70af75879e9",
        "colab": {
          "base_uri": "https://localhost:8080/",
          "height": 51
        }
      },
      "source": [
        "import tensorflow as tf\n",
        "\n",
        "print(\"GPU Available: \", tf.test.is_gpu_available())\n",
        "print(\"Version: \", tf.__version__)"
      ],
      "execution_count": 0,
      "outputs": [
        {
          "output_type": "stream",
          "text": [
            "GPU Available:  True\n",
            "Version:  2.0.0-beta1\n"
          ],
          "name": "stdout"
        }
      ]
    },
    {
      "cell_type": "markdown",
      "metadata": {
        "id": "1YcfNx1gfsYb",
        "colab_type": "text"
      },
      "source": [
        "##  Get Scripts"
      ]
    },
    {
      "cell_type": "code",
      "metadata": {
        "id": "e31QjDsNfruH",
        "colab_type": "code",
        "colab": {}
      },
      "source": [
        "!wget -q https://raw.githubusercontent.com/Mmiglio/SpeechRecognition/master/src/getData.py\n",
        "!wget -q https://raw.githubusercontent.com/Mmiglio/SpeechRecognition/master/src/constants.py\n",
        "!wget -q https://raw.githubusercontent.com/Mmiglio/SpeechRecognition/master/src/trainingUtils.py\n",
        "!wget -q https://raw.githubusercontent.com/Mmiglio/SpeechRecognition/master/src/models.py\n",
        "!wget -q https://raw.githubusercontent.com/Mmiglio/SpeechRecognition/master/src/analysisFunctions.py"
      ],
      "execution_count": 0,
      "outputs": []
    },
    {
      "cell_type": "markdown",
      "metadata": {
        "id": "yOkUrt5tlDdy",
        "colab_type": "text"
      },
      "source": [
        "## Download Data"
      ]
    },
    {
      "cell_type": "code",
      "metadata": {
        "id": "hgBnL75Jk-n-",
        "colab_type": "code",
        "outputId": "a77381b8-3e57-47bf-e6b9-7d83158bc066",
        "colab": {
          "base_uri": "https://localhost:8080/",
          "height": 51
        }
      },
      "source": [
        "from getData import downloadSpeechData, getDataDict\n",
        "\n",
        "# Download data\n",
        "downloadSpeechData(data_path='speechData/')\n",
        "\n",
        "# Get dict with files and labels\n",
        "dataDict = getDataDict(data_path='speechData/')"
      ],
      "execution_count": 0,
      "outputs": [
        {
          "output_type": "stream",
          "text": [
            "Nothing to do.\n",
            "Nothing to do.\n"
          ],
          "name": "stdout"
        }
      ]
    },
    {
      "cell_type": "code",
      "metadata": {
        "id": "EBOWj5dllC-a",
        "colab_type": "code",
        "outputId": "00130822-873f-4bde-bd7f-6e1638dc17a6",
        "colab": {
          "base_uri": "https://localhost:8080/",
          "height": 85
        }
      },
      "source": [
        "from getData import getDataframe\n",
        "\n",
        "trainDF = getDataframe(dataDict['train'])\n",
        "valDF = getDataframe(dataDict['val'], include_unknown=False)\n",
        "testDF = getDataframe(dataDict['test'], include_unknown=False) \n",
        "finalTestDF = getDataframe(dataDict['finalTest'], include_unknown=False)\n",
        "\n",
        "print(\"Train files: {}\".format(trainDF.shape[0]))\n",
        "print(\"Validation files: {}\".format(valDF.shape[0]))\n",
        "print(\"Test files: {}\".format(testDF.shape[0]))\n",
        "print(\"Final test files: {}\".format(testDF.shape[0]))"
      ],
      "execution_count": 0,
      "outputs": [
        {
          "output_type": "stream",
          "text": [
            "Train files: 51088\n",
            "Validation files: 6798\n",
            "Test files: 6835\n",
            "Final test files: 6835\n"
          ],
          "name": "stdout"
        }
      ]
    },
    {
      "cell_type": "markdown",
      "metadata": {
        "id": "O7nHMmaBmT6j",
        "colab_type": "text"
      },
      "source": [
        "## Autoencoder"
      ]
    },
    {
      "cell_type": "code",
      "metadata": {
        "id": "WP9mGYDCmWDY",
        "colab_type": "code",
        "outputId": "35555a74-1dd5-406d-e936-8c8e990e2cac",
        "colab": {
          "base_uri": "https://localhost:8080/",
          "height": 1000
        }
      },
      "source": [
        "from tensorflow.keras.models import Sequential\n",
        "from tensorflow.keras.layers import Dense, Conv2D, Reshape, BatchNormalization,MaxPooling2D, UpSampling2D, Activation, Dropout, Flatten, GlobalAveragePooling2D, ZeroPadding2D, Cropping2D\n",
        "\n",
        "def getAutoencoder(input_shape = (99,40)):\n",
        "    \n",
        "    model = Sequential()\n",
        "    \n",
        "    model.add(Reshape(input_shape=(99,40), target_shape=(99, 40, 1), name='ReshapeInput'))\n",
        "    model.add(ZeroPadding2D(((1,0), (0,0))))\n",
        "    \n",
        "    model.add(Conv2D(32, (10, 1) , padding='same', activation='linear'))\n",
        "    model.add(Conv2D(32, (1, 5) , padding='same', activation='tanh'))\n",
        "    model.add(MaxPooling2D(pool_size=(5,2)))\n",
        "    \n",
        "    model.add(Conv2D(32, (3, 3) , padding='same', activation='tanh'))\n",
        "    model.add(MaxPooling2D(pool_size=(2,2))) \n",
        "    \n",
        "    model.add(Conv2D(16, (3, 3) , padding='same', activation='tanh'))\n",
        "    model.add(MaxPooling2D(pool_size=(2,2))) \n",
        "    \n",
        "    model.add(Flatten())\n",
        "    model.add(Dropout(0.2))\n",
        "    model.add(Dense(64 , activation='linear', name='ENCODED'))\n",
        "    model.add(Dropout(0.2))\n",
        "    model.add(Dense(400 , activation='tanh'))\n",
        "    model.add(Reshape((5, 5, 16)))\n",
        "    \n",
        "    model.add(UpSampling2D((2, 2)))\n",
        "    model.add(Conv2D(16, (3, 3) , padding='same', activation='tanh'))\n",
        "    \n",
        "    model.add(UpSampling2D((2, 2)))\n",
        "    model.add(Conv2D(32, (3, 3) , padding='same', activation='tanh'))\n",
        "    \n",
        "    model.add(UpSampling2D((5, 2)))\n",
        "    model.add(Conv2D(32, (1, 5) , padding='same', activation='tanh'))\n",
        "    model.add(Conv2D(32, (10, 1) , padding='same', activation='linear'))\n",
        "    \n",
        "    model.add(Conv2D(1,(3, 3), padding='same', activation='linear'))\n",
        "   \n",
        "   \n",
        "    model.add(Cropping2D(((1,0), (0,0))))\n",
        "    model.add(Reshape(target_shape=(99, 40)))\n",
        "    return model    \n",
        "\n",
        "model = getAutoencoder()\n",
        "model.summary()"
      ],
      "execution_count": 0,
      "outputs": [
        {
          "output_type": "stream",
          "text": [
            "Model: \"sequential\"\n",
            "_________________________________________________________________\n",
            "Layer (type)                 Output Shape              Param #   \n",
            "=================================================================\n",
            "ReshapeInput (Reshape)       (None, 99, 40, 1)         0         \n",
            "_________________________________________________________________\n",
            "zero_padding2d (ZeroPadding2 (None, 100, 40, 1)        0         \n",
            "_________________________________________________________________\n",
            "conv2d (Conv2D)              (None, 100, 40, 32)       352       \n",
            "_________________________________________________________________\n",
            "conv2d_1 (Conv2D)            (None, 100, 40, 32)       5152      \n",
            "_________________________________________________________________\n",
            "max_pooling2d (MaxPooling2D) (None, 20, 20, 32)        0         \n",
            "_________________________________________________________________\n",
            "conv2d_2 (Conv2D)            (None, 20, 20, 32)        9248      \n",
            "_________________________________________________________________\n",
            "max_pooling2d_1 (MaxPooling2 (None, 10, 10, 32)        0         \n",
            "_________________________________________________________________\n",
            "conv2d_3 (Conv2D)            (None, 10, 10, 16)        4624      \n",
            "_________________________________________________________________\n",
            "max_pooling2d_2 (MaxPooling2 (None, 5, 5, 16)          0         \n",
            "_________________________________________________________________\n",
            "flatten (Flatten)            (None, 400)               0         \n",
            "_________________________________________________________________\n",
            "dropout (Dropout)            (None, 400)               0         \n",
            "_________________________________________________________________\n",
            "ENCODED (Dense)              (None, 64)                25664     \n",
            "_________________________________________________________________\n",
            "dropout_1 (Dropout)          (None, 64)                0         \n",
            "_________________________________________________________________\n",
            "dense (Dense)                (None, 400)               26000     \n",
            "_________________________________________________________________\n",
            "reshape (Reshape)            (None, 5, 5, 16)          0         \n",
            "_________________________________________________________________\n",
            "up_sampling2d (UpSampling2D) (None, 10, 10, 16)        0         \n",
            "_________________________________________________________________\n",
            "conv2d_4 (Conv2D)            (None, 10, 10, 16)        2320      \n",
            "_________________________________________________________________\n",
            "up_sampling2d_1 (UpSampling2 (None, 20, 20, 16)        0         \n",
            "_________________________________________________________________\n",
            "conv2d_5 (Conv2D)            (None, 20, 20, 32)        4640      \n",
            "_________________________________________________________________\n",
            "up_sampling2d_2 (UpSampling2 (None, 100, 40, 32)       0         \n",
            "_________________________________________________________________\n",
            "conv2d_6 (Conv2D)            (None, 100, 40, 32)       5152      \n",
            "_________________________________________________________________\n",
            "conv2d_7 (Conv2D)            (None, 100, 40, 32)       10272     \n",
            "_________________________________________________________________\n",
            "conv2d_8 (Conv2D)            (None, 100, 40, 1)        289       \n",
            "_________________________________________________________________\n",
            "cropping2d (Cropping2D)      (None, 99, 40, 1)         0         \n",
            "_________________________________________________________________\n",
            "reshape_1 (Reshape)          (None, 99, 40)            0         \n",
            "=================================================================\n",
            "Total params: 93,713\n",
            "Trainable params: 93,713\n",
            "Non-trainable params: 0\n",
            "_________________________________________________________________\n"
          ],
          "name": "stdout"
        }
      ]
    },
    {
      "cell_type": "code",
      "metadata": {
        "id": "k5AUIjoYoAGv",
        "colab_type": "code",
        "colab": {}
      },
      "source": [
        "from trainingUtils import _loadWavs, _logMelFilterbank, getDataset\n",
        "from python_speech_features import mfcc\n",
        "import numpy as np\n",
        "\n",
        "def _normalize(data):\n",
        "    \"\"\"\n",
        "    Normalize feature vectors\n",
        "    \"\"\"\n",
        "    mean = np.mean(data, axis=0)\n",
        "    sd = np.std(data, axis=0)\n",
        "    return (data - mean) / (sd+1e-08)\n",
        "\n",
        "def _scale(data):\n",
        "    \"\"\"\n",
        "    Scale input values in range [0,1]\n",
        "    \"\"\"\n",
        "    min_value, max_value = np.min(data, axis=0), np.max(data, axis=0)\n",
        "    scaled = (data - min_value) / (max_value - min_value + 1e-08)\n",
        "    return scaled\n",
        "\n",
        "def _parse_fn_autoencoder(filename, label, nfilt=40, add_noise=True, scale=True):\n",
        "    \"\"\"\n",
        "    Function used to compute filterbanks from file name\n",
        "    \"\"\"\n",
        "    wave = _loadWavs(filename.numpy())\n",
        "    fbank = _logMelFilterbank(wave, nfilt)\n",
        "    #fbank = mfcc(wave)\n",
        "    \n",
        "    if scale:\n",
        "        fbank = _scale(fbank)\n",
        "    \n",
        "    input_image = fbank\n",
        "    if add_noise:\n",
        "        input_image = fbank + 0.5*np.random.normal(0, 1, fbank.shape)\n",
        "        \n",
        "    return input_image, fbank"
      ],
      "execution_count": 0,
      "outputs": []
    },
    {
      "cell_type": "code",
      "metadata": {
        "id": "ZutSL1IoMI5-",
        "colab_type": "code",
        "colab": {}
      },
      "source": [
        "import os\n",
        "\n",
        "def getDatasetAutoencoder(df, batch_size, cache_file=None, shuffle=True, nfilt=40, add_noise=False, scale=False):\n",
        "    \"\"\"\n",
        "    Return a tf.data.Dataset containg filterbanks, labels\n",
        "    \"\"\"\n",
        "    data = tf.data.Dataset.from_tensor_slices(\n",
        "        (df['files'].tolist(), df['labels'].tolist())\n",
        "    )\n",
        "\n",
        "    data = data.map(\n",
        "        lambda filename, label: tuple(\n",
        "            tf.py_function(_parse_fn_autoencoder, inp=[filename, label, nfilt, add_noise, scale], Tout=[tf.float32, tf.float32])\n",
        "        ),\n",
        "        num_parallel_calls=os.cpu_count()\n",
        "    )\n",
        "\n",
        "    if cache_file:\n",
        "        data = data.cache(cache_file)\n",
        "\n",
        "    if shuffle:\n",
        "        data = data.shuffle(buffer_size=df.shape[0])\n",
        "\n",
        "    data = data.batch(batch_size).prefetch(buffer_size=2)\n",
        "\n",
        "    steps = df.shape[0] // batch_size\n",
        "\n",
        "    return data, steps"
      ],
      "execution_count": 0,
      "outputs": []
    },
    {
      "cell_type": "code",
      "metadata": {
        "id": "ezA8_Qp1Zmjh",
        "colab_type": "code",
        "colab": {}
      },
      "source": [
        "!rm train_den* val_den*"
      ],
      "execution_count": 0,
      "outputs": []
    },
    {
      "cell_type": "code",
      "metadata": {
        "id": "7ECbWdYVLVNH",
        "colab_type": "code",
        "colab": {}
      },
      "source": [
        "BATCH_SIZE = 32\n",
        "# Reduced trainign dataset\n",
        "NUM_EXAMPLES = 20000\n",
        "\n",
        "train_data, train_steps = getDatasetAutoencoder(\n",
        "    df=trainDF[:NUM_EXAMPLES],\n",
        "    batch_size=BATCH_SIZE,\n",
        "    cache_file='train_denoising_autoencoder_cache',\n",
        "    shuffle=True,\n",
        "    add_noise=True,\n",
        "    scale=True\n",
        ") \n",
        "\n",
        "val_data, val_steps = getDatasetAutoencoder(\n",
        "    df=valDF,\n",
        "    batch_size=BATCH_SIZE,\n",
        "    cache_file='val_denoising_autoencoder_cache',\n",
        "    shuffle=False,\n",
        "    add_noise=False,\n",
        "    scale=True\n",
        ")"
      ],
      "execution_count": 0,
      "outputs": []
    },
    {
      "cell_type": "code",
      "metadata": {
        "id": "VY1jtrKUNgZP",
        "colab_type": "code",
        "colab": {}
      },
      "source": [
        "model.compile(loss='mse', \n",
        "              optimizer=tf.keras.optimizers.Adam()\n",
        "             )"
      ],
      "execution_count": 0,
      "outputs": []
    },
    {
      "cell_type": "code",
      "metadata": {
        "id": "E0rGV93pNsyB",
        "colab_type": "code",
        "colab": {
          "base_uri": "https://localhost:8080/",
          "height": 1000
        },
        "outputId": "efa1e52b-4e2c-4e45-f871-196a5f1f14d6"
      },
      "source": [
        "EPOCHS = 80\n",
        "\n",
        "# Stop if the validation accuracy doesn't imporove for 5 epochs\n",
        "earlyStopping = tf.keras.callbacks.EarlyStopping(monitor='val_loss', patience=8, verbose=1)\n",
        "\n",
        "# Reduce LR on Plateau\n",
        "reduceLR = tf.keras.callbacks.ReduceLROnPlateau(monitor='val_loss', patience=3, verbose=1)\n",
        "\n",
        "# Save best models\n",
        "modelCheckpoint = tf.keras.callbacks.ModelCheckpoint(\"bestDenoisingAE.h5\",  monitor='val_loss', save_best_only=True)\n",
        "\n",
        "history = model.fit(train_data.repeat(), \n",
        "          steps_per_epoch=train_steps,\n",
        "          validation_data=val_data.repeat(),\n",
        "          validation_steps=val_steps,\n",
        "          epochs=EPOCHS,\n",
        "          callbacks=[earlyStopping, reduceLR, modelCheckpoint])"
      ],
      "execution_count": 10,
      "outputs": [
        {
          "output_type": "stream",
          "text": [
            "WARNING: Logging before flag parsing goes to stderr.\n",
            "W0708 18:07:27.325420 139811129743104 backprop.py:842] The dtype of the watched tensor must be floating (e.g. tf.float32), got tf.string\n",
            "W0708 18:07:27.328735 139810093831936 backprop.py:842] The dtype of the watched tensor must be floating (e.g. tf.float32), got tf.string\n",
            "W0708 18:07:27.332160 139810093831936 backprop.py:842] The dtype of the watched tensor must be floating (e.g. tf.float32), got tf.int32\n",
            "W0708 18:07:27.334831 139810093831936 backprop.py:842] The dtype of the watched tensor must be floating (e.g. tf.float32), got tf.int32\n",
            "W0708 18:07:27.329366 139811129743104 backprop.py:842] The dtype of the watched tensor must be floating (e.g. tf.float32), got tf.int32\n"
          ],
          "name": "stderr"
        },
        {
          "output_type": "stream",
          "text": [
            "Epoch 1/80\n",
            "625/625 [==============================] - 142s 228ms/step - loss: 0.0296 - val_loss: 0.0642\n",
            "Epoch 2/80\n",
            "625/625 [==============================] - 29s 46ms/step - loss: 0.0210 - val_loss: 0.0381\n",
            "Epoch 3/80\n",
            "625/625 [==============================] - 29s 46ms/step - loss: 0.0194 - val_loss: 0.0262\n",
            "Epoch 4/80\n",
            "625/625 [==============================] - 29s 46ms/step - loss: 0.0186 - val_loss: 0.0215\n",
            "Epoch 5/80\n",
            "625/625 [==============================] - 29s 46ms/step - loss: 0.0182 - val_loss: 0.0182\n",
            "Epoch 6/80\n",
            "625/625 [==============================] - 29s 46ms/step - loss: 0.0179 - val_loss: 0.0163\n",
            "Epoch 7/80\n",
            "625/625 [==============================] - 29s 46ms/step - loss: 0.0175 - val_loss: 0.0154\n",
            "Epoch 8/80\n",
            "625/625 [==============================] - 28s 45ms/step - loss: 0.0173 - val_loss: 0.0155\n",
            "Epoch 9/80\n",
            "625/625 [==============================] - 28s 46ms/step - loss: 0.0171 - val_loss: 0.0144\n",
            "Epoch 10/80\n",
            "625/625 [==============================] - 29s 46ms/step - loss: 0.0169 - val_loss: 0.0140\n",
            "Epoch 11/80\n",
            "625/625 [==============================] - 29s 46ms/step - loss: 0.0167 - val_loss: 0.0147\n",
            "Epoch 12/80\n",
            "625/625 [==============================] - 29s 46ms/step - loss: 0.0165 - val_loss: 0.0128\n",
            "Epoch 13/80\n",
            "625/625 [==============================] - 28s 45ms/step - loss: 0.0164 - val_loss: 0.0133\n",
            "Epoch 14/80\n",
            "625/625 [==============================] - 29s 46ms/step - loss: 0.0163 - val_loss: 0.0128\n",
            "Epoch 15/80\n",
            "625/625 [==============================] - 29s 46ms/step - loss: 0.0162 - val_loss: 0.0125\n",
            "Epoch 16/80\n",
            "625/625 [==============================] - 29s 46ms/step - loss: 0.0161 - val_loss: 0.0128\n",
            "Epoch 17/80\n",
            "625/625 [==============================] - 29s 46ms/step - loss: 0.0160 - val_loss: 0.0125\n",
            "Epoch 18/80\n",
            "625/625 [==============================] - 29s 46ms/step - loss: 0.0160 - val_loss: 0.0122\n",
            "Epoch 19/80\n",
            "625/625 [==============================] - 28s 45ms/step - loss: 0.0159 - val_loss: 0.0122\n",
            "Epoch 20/80\n",
            "625/625 [==============================] - 29s 46ms/step - loss: 0.0159 - val_loss: 0.0121\n",
            "Epoch 21/80\n",
            "625/625 [==============================] - 29s 46ms/step - loss: 0.0158 - val_loss: 0.0121\n",
            "Epoch 22/80\n",
            "625/625 [==============================] - 29s 46ms/step - loss: 0.0158 - val_loss: 0.0117\n",
            "Epoch 23/80\n",
            "625/625 [==============================] - 29s 46ms/step - loss: 0.0157 - val_loss: 0.0119\n",
            "Epoch 24/80\n",
            "625/625 [==============================] - 29s 46ms/step - loss: 0.0157 - val_loss: 0.0119\n",
            "Epoch 25/80\n",
            "624/625 [============================>.] - ETA: 0s - loss: 0.0156\n",
            "Epoch 00025: ReduceLROnPlateau reducing learning rate to 0.00010000000474974513.\n",
            "625/625 [==============================] - 29s 46ms/step - loss: 0.0156 - val_loss: 0.0119\n",
            "Epoch 26/80\n",
            "625/625 [==============================] - 29s 46ms/step - loss: 0.0152 - val_loss: 0.0114\n",
            "Epoch 27/80\n",
            "625/625 [==============================] - 29s 46ms/step - loss: 0.0152 - val_loss: 0.0113\n",
            "Epoch 28/80\n",
            "625/625 [==============================] - 29s 46ms/step - loss: 0.0151 - val_loss: 0.0113\n",
            "Epoch 29/80\n",
            "625/625 [==============================] - 28s 45ms/step - loss: 0.0151 - val_loss: 0.0113\n",
            "Epoch 30/80\n",
            "625/625 [==============================] - 28s 45ms/step - loss: 0.0151 - val_loss: 0.0112\n",
            "Epoch 31/80\n",
            "623/625 [============================>.] - ETA: 0s - loss: 0.0151\n",
            "Epoch 00031: ReduceLROnPlateau reducing learning rate to 1.0000000474974514e-05.\n",
            "625/625 [==============================] - 31s 49ms/step - loss: 0.0151 - val_loss: 0.0113\n",
            "Epoch 32/80\n",
            "625/625 [==============================] - 29s 47ms/step - loss: 0.0150 - val_loss: 0.0113\n",
            "Epoch 33/80\n",
            "625/625 [==============================] - 29s 47ms/step - loss: 0.0150 - val_loss: 0.0113\n",
            "Epoch 34/80\n",
            "623/625 [============================>.] - ETA: 0s - loss: 0.0150\n",
            "Epoch 00034: ReduceLROnPlateau reducing learning rate to 1.0000000656873453e-06.\n",
            "625/625 [==============================] - 29s 47ms/step - loss: 0.0150 - val_loss: 0.0112\n",
            "Epoch 35/80\n",
            "625/625 [==============================] - 29s 47ms/step - loss: 0.0150 - val_loss: 0.0113\n",
            "Epoch 36/80\n",
            "625/625 [==============================] - 29s 46ms/step - loss: 0.0150 - val_loss: 0.0113\n",
            "Epoch 37/80\n",
            "623/625 [============================>.] - ETA: 0s - loss: 0.0150\n",
            "Epoch 00037: ReduceLROnPlateau reducing learning rate to 1.0000001111620805e-07.\n",
            "625/625 [==============================] - 28s 46ms/step - loss: 0.0150 - val_loss: 0.0112\n",
            "Epoch 38/80\n",
            "625/625 [==============================] - 28s 45ms/step - loss: 0.0150 - val_loss: 0.0112\n",
            "Epoch 39/80\n",
            "625/625 [==============================] - 28s 45ms/step - loss: 0.0150 - val_loss: 0.0112\n",
            "Epoch 40/80\n",
            "623/625 [============================>.] - ETA: 0s - loss: 0.0150\n",
            "Epoch 00040: ReduceLROnPlateau reducing learning rate to 1.000000082740371e-08.\n",
            "625/625 [==============================] - 28s 45ms/step - loss: 0.0150 - val_loss: 0.0112\n",
            "Epoch 41/80\n",
            "625/625 [==============================] - 28s 45ms/step - loss: 0.0150 - val_loss: 0.0112\n",
            "Epoch 42/80\n",
            "625/625 [==============================] - 28s 45ms/step - loss: 0.0150 - val_loss: 0.0112\n",
            "Epoch 43/80\n",
            "623/625 [============================>.] - ETA: 0s - loss: 0.0150\n",
            "Epoch 00043: ReduceLROnPlateau reducing learning rate to 1.000000082740371e-09.\n",
            "625/625 [==============================] - 28s 45ms/step - loss: 0.0150 - val_loss: 0.0112\n",
            "Epoch 44/80\n",
            "625/625 [==============================] - 30s 48ms/step - loss: 0.0150 - val_loss: 0.0112\n",
            "Epoch 45/80\n",
            "625/625 [==============================] - 29s 46ms/step - loss: 0.0150 - val_loss: 0.0112\n",
            "Epoch 00045: early stopping\n"
          ],
          "name": "stdout"
        }
      ]
    },
    {
      "cell_type": "code",
      "metadata": {
        "id": "cdAo5fJNvM51",
        "colab_type": "code",
        "colab": {}
      },
      "source": [
        "model.save(\"denoisingAE.h5\")"
      ],
      "execution_count": 0,
      "outputs": []
    },
    {
      "cell_type": "code",
      "metadata": {
        "id": "XRgB07yJT44X",
        "colab_type": "code",
        "outputId": "33061700-18d5-40cf-e70f-c00288da80e6",
        "colab": {
          "base_uri": "https://localhost:8080/",
          "height": 581
        }
      },
      "source": [
        "import matplotlib.pyplot as plt\n",
        "from matplotlib.ticker import MaxNLocator\n",
        "import seaborn as sns \n",
        "\n",
        "sns.set()\n",
        "\n",
        "loss = history.history['loss']\n",
        "val_loss = history.history['val_loss']\n",
        "\n",
        "fig, ax1 = plt.subplots(1,1, figsize=(8,8))\n",
        "\n",
        "ax1.plot(loss, label='train')\n",
        "ax1.plot(val_loss, label='validation')\n",
        "ax1.xaxis.set_major_locator(MaxNLocator(integer=True))\n",
        "ax1.set_title('Model loss')\n",
        "ax1.set_xlabel('Epoch')\n",
        "ax1.set_ylabel('Loss')\n",
        "ax1.legend()\n",
        "\n",
        "plt.tight_layout()\n",
        "fig.show()"
      ],
      "execution_count": 12,
      "outputs": [
        {
          "output_type": "display_data",
          "data": {
            "image/png": "[encoded data removed]",
            "text/plain": [
              "<Figure size 576x576 with 1 Axes>"
            ]
          },
          "metadata": {
            "tags": []
          }
        }
      ]
    },
    {
      "cell_type": "code",
      "metadata": {
        "id": "23TvIvL93dol",
        "colab_type": "code",
        "colab": {
          "base_uri": "https://localhost:8080/",
          "height": 122
        },
        "outputId": "1cc1a59f-6afb-4953-e6d6-bed1688d034b"
      },
      "source": [
        "from google.colab import drive\n",
        "drive.mount('/content/gdrive')"
      ],
      "execution_count": 21,
      "outputs": [
        {
          "output_type": "stream",
          "text": [
            "Go to this URL in a browser: https://accounts.google.com/o/oauth2/auth?client_id=947318989803-6bn6qk8qdgf4n4g3pfee6491hc0brc4i.apps.googleusercontent.com&redirect_uri=urn%3Aietf%3Awg%3Aoauth%3A2.0%3Aoob&scope=email%20https%3A%2F%2Fwww.googleapis.com%2Fauth%2Fdocs.test%20https%3A%2F%2Fwww.googleapis.com%2Fauth%2Fdrive%20https%3A%2F%2Fwww.googleapis.com%2Fauth%2Fdrive.photos.readonly%20https%3A%2F%2Fwww.googleapis.com%2Fauth%2Fpeopleapi.readonly&response_type=code\n",
            "\n",
            "Enter your authorization code:\n",
            "··········\n",
            "Mounted at /content/gdrive\n"
          ],
          "name": "stdout"
        }
      ]
    },
    {
      "cell_type": "code",
      "metadata": {
        "id": "oi0z8FiE3kle",
        "colab_type": "code",
        "colab": {}
      },
      "source": [
        "!mkdir /content/gdrive/My\\ Drive/speechRecognition/DenoisingAutoencoders"
      ],
      "execution_count": 0,
      "outputs": []
    },
    {
      "cell_type": "code",
      "metadata": {
        "id": "r8ZAVxK-3qL5",
        "colab_type": "code",
        "colab": {
          "base_uri": "https://localhost:8080/",
          "height": 34
        },
        "outputId": "d3de1f6e-b3fc-4fcd-f02b-ff320537564a"
      },
      "source": [
        "GDRIVE_PATH = \"/content/gdrive/My Drive/speechRecognition/DenoisingAutoencoders/\"\n",
        "\n",
        "model.save(GDRIVE_PATH +\"denoisingAE.h5\")\n",
        "print(\"Saved model to drive\")"
      ],
      "execution_count": 23,
      "outputs": [
        {
          "output_type": "stream",
          "text": [
            "Saved model to drive\n"
          ],
          "name": "stdout"
        }
      ]
    },
    {
      "cell_type": "code",
      "metadata": {
        "id": "FroeSHZR318j",
        "colab_type": "code",
        "colab": {
          "base_uri": "https://localhost:8080/",
          "height": 34
        },
        "outputId": "eed4706c-cee0-4053-e40e-378cc7d61891"
      },
      "source": [
        "import pickle\n",
        "## Save history data\n",
        "with open(GDRIVE_PATH + \"train_results.pickle\", \"wb\") as handle:\n",
        "    pickle.dump(history.history, handle, protocol=pickle.HIGHEST_PROTOCOL)    \n",
        "print(\"Saved training history to drive\")"
      ],
      "execution_count": 24,
      "outputs": [
        {
          "output_type": "stream",
          "text": [
            "Saved training history to drive\n"
          ],
          "name": "stdout"
        }
      ]
    },
    {
      "cell_type": "markdown",
      "metadata": {
        "id": "okgeIIH1tWF2",
        "colab_type": "text"
      },
      "source": [
        "## Test "
      ]
    },
    {
      "cell_type": "code",
      "metadata": {
        "id": "hmEg-2SAtVa5",
        "colab_type": "code",
        "colab": {}
      },
      "source": [
        "from tensorflow.keras.models import load_model\n",
        "\n",
        "autoencoder = load_model(\"bestDenoisingAE.h5\")"
      ],
      "execution_count": 0,
      "outputs": []
    },
    {
      "cell_type": "code",
      "metadata": {
        "id": "-qnt0tvefRdq",
        "colab_type": "code",
        "colab": {}
      },
      "source": [
        "def _parse_fn_autoencoder_test(filename, label, nfilt=40, add_noise=True, scale=True):\n",
        "    \"\"\"\n",
        "    Function used to compute filterbanks from file name\n",
        "    \"\"\"\n",
        "    wave = _loadWavs(filename)\n",
        "    fbank = _logMelFilterbank(wave, nfilt)\n",
        "    #fbank = mfcc(wave)\n",
        "    \n",
        "    if scale:\n",
        "        fbank = _scale(fbank)\n",
        "    \n",
        "    input_image = fbank\n",
        "    if add_noise:\n",
        "        input_image = fbank + 0.2*np.random.normal(0, 1, fbank.shape)\n",
        "        \n",
        "    return input_image, fbank"
      ],
      "execution_count": 0,
      "outputs": []
    },
    {
      "cell_type": "code",
      "metadata": {
        "id": "XonUIfCee68C",
        "colab_type": "code",
        "colab": {}
      },
      "source": [
        "image_noise, image = _parse_fn_autoencoder_test(testDF['files'][100], testDF['files'][100])\n",
        "denoised = model.predict(image_noise.reshape((1,99,40))).reshape((99,40))"
      ],
      "execution_count": 0,
      "outputs": []
    },
    {
      "cell_type": "code",
      "metadata": {
        "id": "uJ7dtWhgGbH3",
        "colab_type": "code",
        "outputId": "ed3c066c-74ff-4ffd-e2d9-38476c2a7a8b",
        "colab": {
          "base_uri": "https://localhost:8080/",
          "height": 725
        }
      },
      "source": [
        "fig, (ax1, ax2, ax3) = plt.subplots(3,1, figsize=(8,10))\n",
        "\n",
        "ax1.imshow(image_noise, aspect=\"auto\")\n",
        "ax1.set_title(\"Image + gaussian noise\")\n",
        "\n",
        "ax2.imshow(denoised, aspect=\"auto\")\n",
        "ax2.set_title(\"Reconstructed image\")\n",
        "\n",
        "ax3.imshow(image, aspect=\"auto\")\n",
        "ax3.set_title(\"Original image\")\n",
        "\n",
        "plt.tight_layout()\n",
        "plt.show()"
      ],
      "execution_count": 20,
      "outputs": [
        {
          "output_type": "display_data",
          "data": {
            "image/png": "[encoded data removed]",
            "text/plain": [
              "<Figure size 576x720 with 3 Axes>"
            ]
          },
          "metadata": {
            "tags": []
          }
        }
      ]
    },
    {
      "cell_type": "code",
      "metadata": {
        "id": "MXFTrDSmTke4",
        "colab_type": "code",
        "colab": {}
      },
      "source": [
        "def getFeatures(model, data):\n",
        "    layer_name = 'ENCODED'\n",
        "    layer_out = tf.keras.Model(inputs=model.input, outputs=model.get_layer(layer_name).output)\n",
        "    return layer_out.predict(data, use_multiprocessing=True)"
      ],
      "execution_count": 0,
      "outputs": []
    }
  ]
}