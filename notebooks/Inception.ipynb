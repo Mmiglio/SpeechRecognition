{
  "nbformat": 4,
  "nbformat_minor": 0,
  "metadata": {
    "colab": {
      "name": "Inception.ipynb",
      "version": "0.3.2",
      "provenance": [],
      "collapsed_sections": []
    },
    "kernelspec": {
      "name": "python3",
      "display_name": "Python 3"
    },
    "accelerator": "GPU"
  },
  "cells": [
    {
      "cell_type": "markdown",
      "metadata": {
        "id": "d3hRW0qkTb0k",
        "colab_type": "text"
      },
      "source": [
        "## Mount Google Drive"
      ]
    },
    {
      "cell_type": "code",
      "metadata": {
        "id": "RtOhoaVjTiOn",
        "colab_type": "code",
        "colab": {
          "base_uri": "https://localhost:8080/",
          "height": 122
        },
        "outputId": "18523f80-a2db-4770-dd56-c2e90bc7af18"
      },
      "source": [
        "from google.colab import drive\n",
        "drive.mount('/content/gdrive')"
      ],
      "execution_count": 35,
      "outputs": [
        {
          "output_type": "stream",
          "text": [
            "Go to this URL in a browser: https://accounts.google.com/o/oauth2/auth?client_id=947318989803-6bn6qk8qdgf4n4g3pfee6491hc0brc4i.apps.googleusercontent.com&redirect_uri=urn%3Aietf%3Awg%3Aoauth%3A2.0%3Aoob&scope=email%20https%3A%2F%2Fwww.googleapis.com%2Fauth%2Fdocs.test%20https%3A%2F%2Fwww.googleapis.com%2Fauth%2Fdrive%20https%3A%2F%2Fwww.googleapis.com%2Fauth%2Fdrive.photos.readonly%20https%3A%2F%2Fwww.googleapis.com%2Fauth%2Fpeopleapi.readonly&response_type=code\n",
            "\n",
            "Enter your authorization code:\n",
            "··········\n",
            "Mounted at /content/gdrive\n"
          ],
          "name": "stdout"
        }
      ]
    },
    {
      "cell_type": "markdown",
      "metadata": {
        "id": "NN1JZ0Kd5TN2",
        "colab_type": "text"
      },
      "source": [
        "## Get scripts"
      ]
    },
    {
      "cell_type": "code",
      "metadata": {
        "id": "ZqpGzP3a476d",
        "colab_type": "code",
        "colab": {}
      },
      "source": [
        "!wget -q https://raw.githubusercontent.com/Mmiglio/SpeechRecognition/master/src/getData.py\n",
        "!wget -q https://raw.githubusercontent.com/Mmiglio/SpeechRecognition/master/src/constants.py\n",
        "!wget -q https://raw.githubusercontent.com/Mmiglio/SpeechRecognition/master/src/trainingUtils.py\n",
        "!wget -q https://raw.githubusercontent.com/Mmiglio/SpeechRecognition/master/src/models.py\n",
        "!wget -q https://raw.githubusercontent.com/Mmiglio/SpeechRecognition/master/src/analysisFunctions.py"
      ],
      "execution_count": 0,
      "outputs": []
    },
    {
      "cell_type": "markdown",
      "metadata": {
        "id": "uOJydZix5alE",
        "colab_type": "text"
      },
      "source": [
        "## Get data"
      ]
    },
    {
      "cell_type": "code",
      "metadata": {
        "id": "_8FY1TBK5S83",
        "colab_type": "code",
        "colab": {
          "base_uri": "https://localhost:8080/",
          "height": 85
        },
        "outputId": "e49c174c-3c65-45ca-ea99-713edb856cf8"
      },
      "source": [
        "from getData import downloadSpeechData, getDataDict\n",
        "\n",
        "# Download data\n",
        "downloadSpeechData(data_path='speechData/')\n",
        "\n",
        "# Get dict with files and labels\n",
        "dataDict = getDataDict(data_path='speechData/')"
      ],
      "execution_count": 3,
      "outputs": [
        {
          "output_type": "stream",
          "text": [
            "Downloading http://download.tensorflow.org/data/speech_commands_v0.01.tar.gz into /content/speechData/train.tar.gz\n",
            "Extracting /content/speechData/train.tar.gz into /content/speechData/train\n",
            "Downloading http://download.tensorflow.org/data/speech_commands_test_set_v0.01.tar.gz into /content/speechData/test.tar.gz\n",
            "Extracting /content/speechData/test.tar.gz into /content/speechData/test\n"
          ],
          "name": "stdout"
        }
      ]
    },
    {
      "cell_type": "code",
      "metadata": {
        "id": "SFs354-h5gbW",
        "colab_type": "code",
        "colab": {
          "base_uri": "https://localhost:8080/",
          "height": 85
        },
        "outputId": "cfccf1e5-2f5f-48bd-f66f-2f8aeef36a85"
      },
      "source": [
        "from getData import getDataframe\n",
        "import pandas as pd\n",
        "\n",
        "trainDF = getDataframe(dataDict['train'])\n",
        "valDF = getDataframe(dataDict['val'])\n",
        "testDF = getDataframe(dataDict['test'], include_unknown=True) \n",
        "finalTestDF = getDataframe(dataDict['finalTest'], include_unknown=True) \n",
        "\n",
        "print(\"Train files: {}\".format(trainDF.shape[0]))\n",
        "print(\"Validation files: {}\".format(valDF.shape[0]))\n",
        "print(\"Test files: {}\".format(testDF.shape[0]))\n",
        "print(\"Final test files: {}\".format(finalTestDF.shape[0]))"
      ],
      "execution_count": 4,
      "outputs": [
        {
          "output_type": "stream",
          "text": [
            "Train files: 51088\n",
            "Validation files: 6798\n",
            "Test files: 6835\n",
            "Final test files: 3081\n"
          ],
          "name": "stdout"
        }
      ]
    },
    {
      "cell_type": "markdown",
      "metadata": {
        "id": "e_dpfebp57kc",
        "colab_type": "text"
      },
      "source": [
        "## Install tf 2.0 and python speech features"
      ]
    },
    {
      "cell_type": "code",
      "metadata": {
        "id": "5ASIGMrB5660",
        "colab_type": "code",
        "colab": {
          "base_uri": "https://localhost:8080/",
          "height": 68
        },
        "outputId": "09b8e607-bac6-4130-9f29-9a923987df29"
      },
      "source": [
        "!pip install -q tensorflow-gpu==2.0.0-beta1"
      ],
      "execution_count": 5,
      "outputs": [
        {
          "output_type": "stream",
          "text": [
            "\u001b[K     |████████████████████████████████| 348.9MB 83kB/s \n",
            "\u001b[K     |████████████████████████████████| 501kB 48.4MB/s \n",
            "\u001b[K     |████████████████████████████████| 3.1MB 38.6MB/s \n",
            "\u001b[?25h"
          ],
          "name": "stdout"
        }
      ]
    },
    {
      "cell_type": "code",
      "metadata": {
        "id": "xb2YPhU2LkqS",
        "colab_type": "code",
        "colab": {
          "base_uri": "https://localhost:8080/",
          "height": 51
        },
        "outputId": "660c076a-3b03-46e0-98a2-5f86b066e9b3"
      },
      "source": [
        "import tensorflow as tf\n",
        "\n",
        "print(\"GPU Available: \", tf.test.is_gpu_available())\n",
        "print(\"Version: \", tf.__version__)"
      ],
      "execution_count": 28,
      "outputs": [
        {
          "output_type": "stream",
          "text": [
            "GPU Available:  True\n",
            "Version:  2.0.0-beta1\n"
          ],
          "name": "stdout"
        }
      ]
    },
    {
      "cell_type": "code",
      "metadata": {
        "id": "AEq5r2Yq5_GP",
        "colab_type": "code",
        "colab": {
          "base_uri": "https://localhost:8080/",
          "height": 34
        },
        "outputId": "4bb58310-c0fd-44e1-e1db-ec0ae8ebafbf"
      },
      "source": [
        "!pip install -q python_speech_features"
      ],
      "execution_count": 6,
      "outputs": [
        {
          "output_type": "stream",
          "text": [
            "  Building wheel for python-speech-features (setup.py) ... \u001b[?25l\u001b[?25hdone\n"
          ],
          "name": "stdout"
        }
      ]
    },
    {
      "cell_type": "markdown",
      "metadata": {
        "id": "Bb_dOstQLSl8",
        "colab_type": "text"
      },
      "source": [
        "## Data Generators\n",
        "\n"
      ]
    },
    {
      "cell_type": "code",
      "metadata": {
        "id": "m2bDEMilLVYO",
        "colab_type": "code",
        "colab": {}
      },
      "source": [
        "from trainingUtils import _logMelFilterbank, _loadWavs\n",
        "import numpy as np\n",
        "import os\n",
        "\n",
        "def _normalize(data):\n",
        "    \"\"\"\n",
        "    Normalize feature vectors\n",
        "    \"\"\"\n",
        "    mean = np.mean(data, axis=0)\n",
        "    sd = np.std(data, axis=0)\n",
        "    return (data - mean) / (sd+1e-08)\n",
        "\n",
        "\n",
        "def _parse_fn(filename, label, nfilt=40, scale=False):\n",
        "    \"\"\"\n",
        "    Function used to compute filterbanks from file name.\n",
        "    Returns (image, label)\n",
        "    \"\"\"\n",
        "    wave = _loadWavs(filename.numpy())\n",
        "    fbank = _logMelFilterbank(wave, nfilt)\n",
        "    if scale:\n",
        "        fbank = _normalize(fbank)\n",
        "    return fbank, np.asarray(label).astype(np.int32)\n",
        "\n",
        "def getDataset(df, batch_size, cache_file=None, shuffle=True, nfilt=40, scale=False):\n",
        "    \"\"\"\n",
        "    Return a tf.data.Dataset containg filterbanks, labels\n",
        "    \"\"\"\n",
        "    data = tf.data.Dataset.from_tensor_slices(\n",
        "        (df['files'].tolist(), df['labels'].tolist())\n",
        "    )\n",
        "\n",
        "    data = data.map(\n",
        "        lambda filename, label: tuple(\n",
        "            tf.py_function(\n",
        "                _parse_fn,\n",
        "                inp=[filename, label, nfilt, scale],\n",
        "                Tout=[tf.float32, tf.int32]\n",
        "                )\n",
        "        ),\n",
        "        num_parallel_calls=os.cpu_count()\n",
        "    )\n",
        "\n",
        "    if cache_file:\n",
        "        data = data.cache(cache_file)\n",
        "\n",
        "    if shuffle:\n",
        "        data = data.shuffle(buffer_size=df.shape[0])\n",
        "\n",
        "    data = data.batch(batch_size).prefetch(buffer_size=1)\n",
        "\n",
        "    steps = df.shape[0] // batch_size\n",
        "\n",
        "    return data, steps"
      ],
      "execution_count": 0,
      "outputs": []
    },
    {
      "cell_type": "code",
      "metadata": {
        "id": "UpkJbMi2LxZ6",
        "colab_type": "code",
        "colab": {}
      },
      "source": [
        "BATCH_SIZE = 32\n",
        "# Reduced trainign dataset by using a numer <60k\n",
        "NUM_EXAMPLES = 100000\n",
        "\n",
        "train_data, train_steps = getDataset(\n",
        "    df=trainDF[:NUM_EXAMPLES],\n",
        "    batch_size=BATCH_SIZE,\n",
        "    cache_file='train_cache',\n",
        "    shuffle=True,\n",
        "    scale=True\n",
        ") \n",
        "\n",
        "val_data, val_steps = getDataset(\n",
        "    df=valDF,\n",
        "    batch_size=BATCH_SIZE,\n",
        "    cache_file='val_cache',\n",
        "    shuffle=False,\n",
        "    scale=True\n",
        ")"
      ],
      "execution_count": 0,
      "outputs": []
    },
    {
      "cell_type": "markdown",
      "metadata": {
        "id": "0XTKaorm8T17",
        "colab_type": "text"
      },
      "source": [
        "## Model"
      ]
    },
    {
      "cell_type": "markdown",
      "metadata": {
        "id": "VIruQKqWBImf",
        "colab_type": "text"
      },
      "source": [
        "![InceptionBlock](https://i.stack.imgur.com/vGIfJ.png)"
      ]
    },
    {
      "cell_type": "code",
      "metadata": {
        "id": "XQit7tOX8TpD",
        "colab_type": "code",
        "colab": {
          "base_uri": "https://localhost:8080/",
          "height": 1000
        },
        "outputId": "9aed611c-1c19-4c9e-8c38-10c6b042cc99"
      },
      "source": [
        "from tensorflow.keras.layers import Conv2D, MaxPooling2D, concatenate, Input, Reshape, BatchNormalization, GlobalAveragePooling2D, Dropout, Dense\n",
        "from tensorflow.keras.models import Model\n",
        "\n",
        "def inceptionModule(x_input, n):\n",
        "    # Conv 1x1\n",
        "    conv_1x1 = Conv2D(n, (1,1), padding='same', activation='relu')(x_input)\n",
        "    \n",
        "    # Conv 3x3\n",
        "    conv_3x3 = Conv2D(n, (1,1), padding='same', activation='relu')(x_input)\n",
        "    conv_3x3 = Conv2D(n, (3,3), padding='same', activation='relu')(conv_3x3)\n",
        "    \n",
        "    # Conv 5x5\n",
        "    conv_5x5 = Conv2D(n, (1,1), padding='same', activation='relu')(x_input)\n",
        "    conv_5x5 = Conv2D(n, (3,3), padding='same', activation='relu')(conv_5x5)\n",
        "    \n",
        "    # pool + proj\n",
        "    pool = MaxPooling2D((3,3), strides=(1,1), padding='same')(x_input)\n",
        "    pool = Conv2D(n, (1,1), padding='same', activation='relu')(pool)\n",
        "    \n",
        "    output = concatenate([conv_1x1, conv_3x3, conv_5x5, pool], axis=3)\n",
        "    \n",
        "    return output\n",
        "\n",
        "def Inception(input_shape=(99,40)):\n",
        "    \n",
        "    input_layer = Input(shape=(99, 40))\n",
        "    \n",
        "    reshape_layer = Reshape(input_shape=input_shape, target_shape=(99, 40, 1))(input_layer)\n",
        "      \n",
        "    x = Conv2D(64, (5,5), padding='same', strides=(2, 2), activation='relu')(reshape_layer)\n",
        "    x = MaxPooling2D((2,2), padding='same', strides=(1, 1))(x)\n",
        "    x = BatchNormalization()(x)\n",
        "    \n",
        "    x = inceptionModule(x, 32)\n",
        "    x = inceptionModule(x, 64)\n",
        "    x = MaxPooling2D((3,2), padding='same', strides=(1, 1))(x)\n",
        "    \n",
        "    x = inceptionModule(x, 64)\n",
        "    x = inceptionModule(x, 128)\n",
        "    \n",
        "    x = GlobalAveragePooling2D()(x)\n",
        "    \n",
        "    x = Dropout(0.4)(x)\n",
        "    \n",
        "    x = Dense(256, activation='relu')(x)\n",
        "    \n",
        "    x = Dense(30, activation='softmax')(x)\n",
        "    \n",
        "    model = Model(input_layer, x)\n",
        "    return model\n",
        "\n",
        "model = Inception()\n",
        "model.summary()"
      ],
      "execution_count": 59,
      "outputs": [
        {
          "output_type": "stream",
          "text": [
            "Model: \"model_20\"\n",
            "__________________________________________________________________________________________________\n",
            "Layer (type)                    Output Shape         Param #     Connected to                     \n",
            "==================================================================================================\n",
            "input_23 (InputLayer)           [(None, 99, 40)]     0                                            \n",
            "__________________________________________________________________________________________________\n",
            "reshape_22 (Reshape)            (None, 99, 40, 1)    0           input_23[0][0]                   \n",
            "__________________________________________________________________________________________________\n",
            "conv2d_448 (Conv2D)             (None, 50, 20, 64)   1664        reshape_22[0][0]                 \n",
            "__________________________________________________________________________________________________\n",
            "max_pooling2d_133 (MaxPooling2D (None, 50, 20, 64)   0           conv2d_448[0][0]                 \n",
            "__________________________________________________________________________________________________\n",
            "batch_normalization_45 (BatchNo (None, 50, 20, 64)   256         max_pooling2d_133[0][0]          \n",
            "__________________________________________________________________________________________________\n",
            "conv2d_450 (Conv2D)             (None, 50, 20, 32)   2080        batch_normalization_45[0][0]     \n",
            "__________________________________________________________________________________________________\n",
            "conv2d_452 (Conv2D)             (None, 50, 20, 32)   2080        batch_normalization_45[0][0]     \n",
            "__________________________________________________________________________________________________\n",
            "max_pooling2d_134 (MaxPooling2D (None, 50, 20, 64)   0           batch_normalization_45[0][0]     \n",
            "__________________________________________________________________________________________________\n",
            "conv2d_449 (Conv2D)             (None, 50, 20, 32)   2080        batch_normalization_45[0][0]     \n",
            "__________________________________________________________________________________________________\n",
            "conv2d_451 (Conv2D)             (None, 50, 20, 32)   9248        conv2d_450[0][0]                 \n",
            "__________________________________________________________________________________________________\n",
            "conv2d_453 (Conv2D)             (None, 50, 20, 32)   9248        conv2d_452[0][0]                 \n",
            "__________________________________________________________________________________________________\n",
            "conv2d_454 (Conv2D)             (None, 50, 20, 32)   2080        max_pooling2d_134[0][0]          \n",
            "__________________________________________________________________________________________________\n",
            "concatenate_66 (Concatenate)    (None, 50, 20, 128)  0           conv2d_449[0][0]                 \n",
            "                                                                 conv2d_451[0][0]                 \n",
            "                                                                 conv2d_453[0][0]                 \n",
            "                                                                 conv2d_454[0][0]                 \n",
            "__________________________________________________________________________________________________\n",
            "conv2d_456 (Conv2D)             (None, 50, 20, 64)   8256        concatenate_66[0][0]             \n",
            "__________________________________________________________________________________________________\n",
            "conv2d_458 (Conv2D)             (None, 50, 20, 64)   8256        concatenate_66[0][0]             \n",
            "__________________________________________________________________________________________________\n",
            "max_pooling2d_135 (MaxPooling2D (None, 50, 20, 128)  0           concatenate_66[0][0]             \n",
            "__________________________________________________________________________________________________\n",
            "conv2d_455 (Conv2D)             (None, 50, 20, 64)   8256        concatenate_66[0][0]             \n",
            "__________________________________________________________________________________________________\n",
            "conv2d_457 (Conv2D)             (None, 50, 20, 64)   36928       conv2d_456[0][0]                 \n",
            "__________________________________________________________________________________________________\n",
            "conv2d_459 (Conv2D)             (None, 50, 20, 64)   36928       conv2d_458[0][0]                 \n",
            "__________________________________________________________________________________________________\n",
            "conv2d_460 (Conv2D)             (None, 50, 20, 64)   8256        max_pooling2d_135[0][0]          \n",
            "__________________________________________________________________________________________________\n",
            "concatenate_67 (Concatenate)    (None, 50, 20, 256)  0           conv2d_455[0][0]                 \n",
            "                                                                 conv2d_457[0][0]                 \n",
            "                                                                 conv2d_459[0][0]                 \n",
            "                                                                 conv2d_460[0][0]                 \n",
            "__________________________________________________________________________________________________\n",
            "max_pooling2d_136 (MaxPooling2D (None, 50, 20, 256)  0           concatenate_67[0][0]             \n",
            "__________________________________________________________________________________________________\n",
            "conv2d_462 (Conv2D)             (None, 50, 20, 64)   16448       max_pooling2d_136[0][0]          \n",
            "__________________________________________________________________________________________________\n",
            "conv2d_464 (Conv2D)             (None, 50, 20, 64)   16448       max_pooling2d_136[0][0]          \n",
            "__________________________________________________________________________________________________\n",
            "max_pooling2d_137 (MaxPooling2D (None, 50, 20, 256)  0           max_pooling2d_136[0][0]          \n",
            "__________________________________________________________________________________________________\n",
            "conv2d_461 (Conv2D)             (None, 50, 20, 64)   16448       max_pooling2d_136[0][0]          \n",
            "__________________________________________________________________________________________________\n",
            "conv2d_463 (Conv2D)             (None, 50, 20, 64)   36928       conv2d_462[0][0]                 \n",
            "__________________________________________________________________________________________________\n",
            "conv2d_465 (Conv2D)             (None, 50, 20, 64)   36928       conv2d_464[0][0]                 \n",
            "__________________________________________________________________________________________________\n",
            "conv2d_466 (Conv2D)             (None, 50, 20, 64)   16448       max_pooling2d_137[0][0]          \n",
            "__________________________________________________________________________________________________\n",
            "concatenate_68 (Concatenate)    (None, 50, 20, 256)  0           conv2d_461[0][0]                 \n",
            "                                                                 conv2d_463[0][0]                 \n",
            "                                                                 conv2d_465[0][0]                 \n",
            "                                                                 conv2d_466[0][0]                 \n",
            "__________________________________________________________________________________________________\n",
            "conv2d_468 (Conv2D)             (None, 50, 20, 128)  32896       concatenate_68[0][0]             \n",
            "__________________________________________________________________________________________________\n",
            "conv2d_470 (Conv2D)             (None, 50, 20, 128)  32896       concatenate_68[0][0]             \n",
            "__________________________________________________________________________________________________\n",
            "max_pooling2d_138 (MaxPooling2D (None, 50, 20, 256)  0           concatenate_68[0][0]             \n",
            "__________________________________________________________________________________________________\n",
            "conv2d_467 (Conv2D)             (None, 50, 20, 128)  32896       concatenate_68[0][0]             \n",
            "__________________________________________________________________________________________________\n",
            "conv2d_469 (Conv2D)             (None, 50, 20, 128)  147584      conv2d_468[0][0]                 \n",
            "__________________________________________________________________________________________________\n",
            "conv2d_471 (Conv2D)             (None, 50, 20, 128)  147584      conv2d_470[0][0]                 \n",
            "__________________________________________________________________________________________________\n",
            "conv2d_472 (Conv2D)             (None, 50, 20, 128)  32896       max_pooling2d_138[0][0]          \n",
            "__________________________________________________________________________________________________\n",
            "concatenate_69 (Concatenate)    (None, 50, 20, 512)  0           conv2d_467[0][0]                 \n",
            "                                                                 conv2d_469[0][0]                 \n",
            "                                                                 conv2d_471[0][0]                 \n",
            "                                                                 conv2d_472[0][0]                 \n",
            "__________________________________________________________________________________________________\n",
            "global_average_pooling2d_9 (Glo (None, 512)          0           concatenate_69[0][0]             \n",
            "__________________________________________________________________________________________________\n",
            "dropout_10 (Dropout)            (None, 512)          0           global_average_pooling2d_9[0][0] \n",
            "__________________________________________________________________________________________________\n",
            "dense_19 (Dense)                (None, 256)          131328      dropout_10[0][0]                 \n",
            "__________________________________________________________________________________________________\n",
            "dense_20 (Dense)                (None, 30)           7710        dense_19[0][0]                   \n",
            "==================================================================================================\n",
            "Total params: 841,054\n",
            "Trainable params: 840,926\n",
            "Non-trainable params: 128\n",
            "__________________________________________________________________________________________________\n"
          ],
          "name": "stdout"
        }
      ]
    },
    {
      "cell_type": "code",
      "metadata": {
        "id": "MjcbNoobLclm",
        "colab_type": "code",
        "colab": {}
      },
      "source": [
        "model.compile(loss='sparse_categorical_crossentropy', \n",
        "              optimizer=tf.keras.optimizers.Adam(),\n",
        "              metrics=[\"sparse_categorical_accuracy\"])"
      ],
      "execution_count": 0,
      "outputs": []
    },
    {
      "cell_type": "code",
      "metadata": {
        "id": "iaTbdvK2LfTL",
        "colab_type": "code",
        "colab": {
          "base_uri": "https://localhost:8080/",
          "height": 734
        },
        "outputId": "11c85e2d-4ab1-4b73-ea13-9c6ebcdc1666"
      },
      "source": [
        "EPOCHS = 50\n",
        "\n",
        "# Stop if the validation accuracy doesn't imporove for 5 epochs\n",
        "earlyStopping = tf.keras.callbacks.EarlyStopping(monitor='val_loss', patience=5, verbose=1)\n",
        "\n",
        "# Reduce LR on Plateau\n",
        "reduceLR = tf.keras.callbacks.ReduceLROnPlateau(monitor='val_loss', patience=3, verbose=1)\n",
        "\n",
        "# Save best models\n",
        "modelCheckpoint = tf.keras.callbacks.ModelCheckpoint(\n",
        "    \"inception.h5\",\n",
        "    monitor='val_sparse_categorical_accuracy',\n",
        "    mode='max',\n",
        "    save_best_only=True\n",
        ")\n",
        "\n",
        "history = model.fit(train_data.repeat(), \n",
        "          steps_per_epoch=train_steps,\n",
        "          validation_data=val_data.repeat(),\n",
        "          validation_steps=val_steps,\n",
        "          epochs=EPOCHS,\n",
        "          callbacks=[earlyStopping, reduceLR, modelCheckpoint])"
      ],
      "execution_count": 61,
      "outputs": [
        {
          "output_type": "stream",
          "text": [
            "Epoch 1/50\n",
            "1596/1596 [==============================] - 109s 68ms/step - loss: 1.9730 - sparse_categorical_accuracy: 0.4063 - val_loss: 0.7333 - val_sparse_categorical_accuracy: 0.7664\n",
            "Epoch 2/50\n",
            "1596/1596 [==============================] - 105s 66ms/step - loss: 0.5645 - sparse_categorical_accuracy: 0.8303 - val_loss: 0.4973 - val_sparse_categorical_accuracy: 0.8539\n",
            "Epoch 3/50\n",
            "1596/1596 [==============================] - 104s 65ms/step - loss: 0.3867 - sparse_categorical_accuracy: 0.8847 - val_loss: 0.3885 - val_sparse_categorical_accuracy: 0.8796\n",
            "Epoch 4/50\n",
            "1596/1596 [==============================] - 104s 65ms/step - loss: 0.3063 - sparse_categorical_accuracy: 0.9088 - val_loss: 0.3456 - val_sparse_categorical_accuracy: 0.8920\n",
            "Epoch 5/50\n",
            "1596/1596 [==============================] - 104s 65ms/step - loss: 0.2677 - sparse_categorical_accuracy: 0.9202 - val_loss: 0.3319 - val_sparse_categorical_accuracy: 0.8965\n",
            "Epoch 6/50\n",
            "1596/1596 [==============================] - 104s 65ms/step - loss: 0.2356 - sparse_categorical_accuracy: 0.9288 - val_loss: 0.2467 - val_sparse_categorical_accuracy: 0.9239\n",
            "Epoch 7/50\n",
            "1596/1596 [==============================] - 104s 65ms/step - loss: 0.2150 - sparse_categorical_accuracy: 0.9338 - val_loss: 0.2512 - val_sparse_categorical_accuracy: 0.9242\n",
            "Epoch 8/50\n",
            "1596/1596 [==============================] - 104s 65ms/step - loss: 0.1979 - sparse_categorical_accuracy: 0.9400 - val_loss: 0.2257 - val_sparse_categorical_accuracy: 0.9341\n",
            "Epoch 9/50\n",
            "1596/1596 [==============================] - 104s 65ms/step - loss: 0.1881 - sparse_categorical_accuracy: 0.9440 - val_loss: 0.2259 - val_sparse_categorical_accuracy: 0.9315\n",
            "Epoch 10/50\n",
            "1596/1596 [==============================] - 104s 65ms/step - loss: 0.1676 - sparse_categorical_accuracy: 0.9491 - val_loss: 0.2734 - val_sparse_categorical_accuracy: 0.9194\n",
            "Epoch 11/50\n",
            "1595/1596 [============================>.] - ETA: 0s - loss: 0.1643 - sparse_categorical_accuracy: 0.9510\n",
            "Epoch 00011: ReduceLROnPlateau reducing learning rate to 0.00010000000474974513.\n",
            "1596/1596 [==============================] - 104s 65ms/step - loss: 0.1643 - sparse_categorical_accuracy: 0.9510 - val_loss: 0.2409 - val_sparse_categorical_accuracy: 0.9290\n",
            "Epoch 12/50\n",
            "1596/1596 [==============================] - 103s 65ms/step - loss: 0.0938 - sparse_categorical_accuracy: 0.9722 - val_loss: 0.1890 - val_sparse_categorical_accuracy: 0.9474\n",
            "Epoch 13/50\n",
            "1596/1596 [==============================] - 103s 65ms/step - loss: 0.0828 - sparse_categorical_accuracy: 0.9760 - val_loss: 0.1878 - val_sparse_categorical_accuracy: 0.9471\n",
            "Epoch 14/50\n",
            "1596/1596 [==============================] - 103s 65ms/step - loss: 0.0762 - sparse_categorical_accuracy: 0.9771 - val_loss: 0.1884 - val_sparse_categorical_accuracy: 0.9466\n",
            "Epoch 15/50\n",
            "1596/1596 [==============================] - 103s 65ms/step - loss: 0.0709 - sparse_categorical_accuracy: 0.9788 - val_loss: 0.1947 - val_sparse_categorical_accuracy: 0.9487\n",
            "Epoch 16/50\n",
            "1595/1596 [============================>.] - ETA: 0s - loss: 0.0659 - sparse_categorical_accuracy: 0.9809\n",
            "Epoch 00016: ReduceLROnPlateau reducing learning rate to 1.0000000474974514e-05.\n",
            "1596/1596 [==============================] - 104s 65ms/step - loss: 0.0660 - sparse_categorical_accuracy: 0.9809 - val_loss: 0.1955 - val_sparse_categorical_accuracy: 0.9490\n",
            "Epoch 17/50\n",
            "1596/1596 [==============================] - 104s 65ms/step - loss: 0.0584 - sparse_categorical_accuracy: 0.9825 - val_loss: 0.1923 - val_sparse_categorical_accuracy: 0.9502\n",
            "Epoch 18/50\n",
            "1596/1596 [==============================] - 103s 65ms/step - loss: 0.0586 - sparse_categorical_accuracy: 0.9827 - val_loss: 0.1909 - val_sparse_categorical_accuracy: 0.9503\n",
            "Epoch 00018: early stopping\n"
          ],
          "name": "stdout"
        }
      ]
    },
    {
      "cell_type": "code",
      "metadata": {
        "id": "25CMMONeTrop",
        "colab_type": "code",
        "colab": {
          "base_uri": "https://localhost:8080/",
          "height": 581
        },
        "outputId": "d0f91ff5-9f46-46fc-f695-0ef20aa237c4"
      },
      "source": [
        "import matplotlib.pyplot as plt\n",
        "from matplotlib.ticker import MaxNLocator\n",
        "import seaborn as sns \n",
        "\n",
        "sns.set()\n",
        "\n",
        "loss = history.history['loss']\n",
        "val_loss = history.history['val_loss']\n",
        "\n",
        "acc = history.history['sparse_categorical_accuracy']\n",
        "val_acc = history.history['val_sparse_categorical_accuracy']\n",
        "\n",
        "fig, (ax1, ax2) = plt.subplots(2,1, figsize=(8,8))\n",
        "\n",
        "ax1.plot(loss, label='train')\n",
        "ax1.plot(val_loss, label='validation')\n",
        "ax1.xaxis.set_major_locator(MaxNLocator(integer=True))\n",
        "ax1.set_title('Model loss')\n",
        "ax1.set_xlabel('Epoch')\n",
        "ax1.set_ylabel('Loss')\n",
        "ax1.legend()\n",
        "\n",
        "ax2.plot(acc, label='train')\n",
        "ax2.plot(val_acc, label='validation')\n",
        "ax2.xaxis.set_major_locator(MaxNLocator(integer=True))\n",
        "ax2.set_title('Accuracy')\n",
        "ax2.set_xlabel('Epoch')\n",
        "ax2.set_ylabel('Accuracy')\n",
        "ax2.legend()\n",
        "\n",
        "plt.tight_layout()\n",
        "fig.show()"
      ],
      "execution_count": 62,
      "outputs": [
        {
          "output_type": "display_data",
          "data": {
            "image/png": "[encoded data removed]",
            "text/plain": [
              "<Figure size 576x576 with 2 Axes>"
            ]
          },
          "metadata": {
            "tags": []
          }
        }
      ]
    },
    {
      "cell_type": "markdown",
      "metadata": {
        "id": "XThgGlSN1kSe",
        "colab_type": "text"
      },
      "source": [
        "## SGD"
      ]
    },
    {
      "cell_type": "code",
      "metadata": {
        "id": "X6htGRfK1jnb",
        "colab_type": "code",
        "colab": {
          "base_uri": "https://localhost:8080/",
          "height": 1000
        },
        "outputId": "65c2c937-f150-4cc8-8a38-322d1c5446ff"
      },
      "source": [
        "model_sgd = Inception()\n",
        "\n",
        "epochs = 50\n",
        "initial_lrate = 0.01\n",
        "\n",
        "import math\n",
        "def decay(epoch):\n",
        "    initial_lrate = 0.01\n",
        "    drop = 0.9\n",
        "    epochs_drop = 3\n",
        "    lrate = initial_lrate * math.pow(drop, math.floor((1+epoch)/epochs_drop))\n",
        "    return lrate\n",
        "\n",
        "model_sgd.compile(loss='sparse_categorical_crossentropy', \n",
        "              optimizer=tf.keras.optimizers.SGD(lr=initial_lrate, momentum=0.9, nesterov=False),\n",
        "              metrics=[\"sparse_categorical_accuracy\"])\n",
        "\n",
        "# Stop if the validation accuracy doesn't imporove for 5 epochs\n",
        "earlyStopping = tf.keras.callbacks.EarlyStopping(monitor='val_loss', patience=5, verbose=1)\n",
        "\n",
        "# Reduce LR on Plateau\n",
        "#reduceLR = tf.keras.callbacks.ReduceLROnPlateau(monitor='val_loss', patience=3, verbose=1)\n",
        "lr_sc = tf.keras.callbacks.LearningRateScheduler(decay, verbose=1)\n",
        "\n",
        "# Save best models\n",
        "modelCheckpoint = tf.keras.callbacks.ModelCheckpoint(\n",
        "    \"inception.h5\",\n",
        "    monitor='val_sparse_categorical_accuracy',\n",
        "    mode='max',\n",
        "    save_best_only=True\n",
        ")\n",
        "\n",
        "history = model_sgd.fit(train_data.repeat(), \n",
        "          steps_per_epoch=train_steps,\n",
        "          validation_data=val_data.repeat(),\n",
        "          validation_steps=val_steps,\n",
        "          epochs=EPOCHS,\n",
        "          callbacks=[earlyStopping, lr_sc, modelCheckpoint])"
      ],
      "execution_count": 66,
      "outputs": [
        {
          "output_type": "stream",
          "text": [
            "\n",
            "Epoch 00001: LearningRateScheduler reducing learning rate to 0.01.\n",
            "Epoch 1/50\n",
            "1596/1596 [==============================] - 107s 67ms/step - loss: 2.8351 - sparse_categorical_accuracy: 0.1705 - val_loss: 1.8399 - val_sparse_categorical_accuracy: 0.4344\n",
            "\n",
            "Epoch 00002: LearningRateScheduler reducing learning rate to 0.01.\n",
            "Epoch 2/50\n",
            "1596/1596 [==============================] - 103s 65ms/step - loss: 1.1908 - sparse_categorical_accuracy: 0.6343 - val_loss: 0.8053 - val_sparse_categorical_accuracy: 0.7571\n",
            "\n",
            "Epoch 00003: LearningRateScheduler reducing learning rate to 0.009000000000000001.\n",
            "Epoch 3/50\n",
            "1596/1596 [==============================] - 103s 65ms/step - loss: 0.6332 - sparse_categorical_accuracy: 0.8101 - val_loss: 0.5200 - val_sparse_categorical_accuracy: 0.8421\n",
            "\n",
            "Epoch 00004: LearningRateScheduler reducing learning rate to 0.009000000000000001.\n",
            "Epoch 4/50\n",
            "1596/1596 [==============================] - 103s 64ms/step - loss: 0.4503 - sparse_categorical_accuracy: 0.8654 - val_loss: 0.4579 - val_sparse_categorical_accuracy: 0.8616\n",
            "\n",
            "Epoch 00005: LearningRateScheduler reducing learning rate to 0.009000000000000001.\n",
            "Epoch 5/50\n",
            "1596/1596 [==============================] - 103s 64ms/step - loss: 0.3660 - sparse_categorical_accuracy: 0.8908 - val_loss: 0.3782 - val_sparse_categorical_accuracy: 0.8862\n",
            "\n",
            "Epoch 00006: LearningRateScheduler reducing learning rate to 0.008100000000000001.\n",
            "Epoch 6/50\n",
            "1596/1596 [==============================] - 103s 65ms/step - loss: 0.3002 - sparse_categorical_accuracy: 0.9100 - val_loss: 0.2907 - val_sparse_categorical_accuracy: 0.9119\n",
            "\n",
            "Epoch 00007: LearningRateScheduler reducing learning rate to 0.008100000000000001.\n",
            "Epoch 7/50\n",
            "1596/1596 [==============================] - 103s 64ms/step - loss: 0.2631 - sparse_categorical_accuracy: 0.9221 - val_loss: 0.2592 - val_sparse_categorical_accuracy: 0.9219\n",
            "\n",
            "Epoch 00008: LearningRateScheduler reducing learning rate to 0.008100000000000001.\n",
            "Epoch 8/50\n",
            "1596/1596 [==============================] - 103s 64ms/step - loss: 0.2421 - sparse_categorical_accuracy: 0.9281 - val_loss: 0.2528 - val_sparse_categorical_accuracy: 0.9260\n",
            "\n",
            "Epoch 00009: LearningRateScheduler reducing learning rate to 0.007290000000000001.\n",
            "Epoch 9/50\n",
            "1596/1596 [==============================] - 103s 64ms/step - loss: 0.2150 - sparse_categorical_accuracy: 0.9358 - val_loss: 0.2362 - val_sparse_categorical_accuracy: 0.9278\n",
            "\n",
            "Epoch 00010: LearningRateScheduler reducing learning rate to 0.007290000000000001.\n",
            "Epoch 10/50\n",
            "1596/1596 [==============================] - 103s 64ms/step - loss: 0.2033 - sparse_categorical_accuracy: 0.9393 - val_loss: 0.2405 - val_sparse_categorical_accuracy: 0.9291\n",
            "\n",
            "Epoch 00011: LearningRateScheduler reducing learning rate to 0.007290000000000001.\n",
            "Epoch 11/50\n",
            "1596/1596 [==============================] - 103s 64ms/step - loss: 0.1887 - sparse_categorical_accuracy: 0.9446 - val_loss: 0.2334 - val_sparse_categorical_accuracy: 0.9313\n",
            "\n",
            "Epoch 00012: LearningRateScheduler reducing learning rate to 0.006561.\n",
            "Epoch 12/50\n",
            "1596/1596 [==============================] - 103s 64ms/step - loss: 0.1735 - sparse_categorical_accuracy: 0.9473 - val_loss: 0.2264 - val_sparse_categorical_accuracy: 0.9310\n",
            "\n",
            "Epoch 00013: LearningRateScheduler reducing learning rate to 0.006561.\n",
            "Epoch 13/50\n",
            "1596/1596 [==============================] - 103s 64ms/step - loss: 0.1649 - sparse_categorical_accuracy: 0.9503 - val_loss: 0.2379 - val_sparse_categorical_accuracy: 0.9288\n",
            "\n",
            "Epoch 00014: LearningRateScheduler reducing learning rate to 0.006561.\n",
            "Epoch 14/50\n",
            "1596/1596 [==============================] - 103s 64ms/step - loss: 0.1580 - sparse_categorical_accuracy: 0.9519 - val_loss: 0.2529 - val_sparse_categorical_accuracy: 0.9270\n",
            "\n",
            "Epoch 00015: LearningRateScheduler reducing learning rate to 0.005904900000000001.\n",
            "Epoch 15/50\n",
            "1596/1596 [==============================] - 103s 64ms/step - loss: 0.1467 - sparse_categorical_accuracy: 0.9555 - val_loss: 0.2437 - val_sparse_categorical_accuracy: 0.9266\n",
            "\n",
            "Epoch 00016: LearningRateScheduler reducing learning rate to 0.005904900000000001.\n",
            "Epoch 16/50\n",
            "1596/1596 [==============================] - 103s 64ms/step - loss: 0.1406 - sparse_categorical_accuracy: 0.9574 - val_loss: 0.2190 - val_sparse_categorical_accuracy: 0.9366\n",
            "\n",
            "Epoch 00017: LearningRateScheduler reducing learning rate to 0.005904900000000001.\n",
            "Epoch 17/50\n",
            "1596/1596 [==============================] - 103s 64ms/step - loss: 0.1323 - sparse_categorical_accuracy: 0.9610 - val_loss: 0.2401 - val_sparse_categorical_accuracy: 0.9363\n",
            "\n",
            "Epoch 00018: LearningRateScheduler reducing learning rate to 0.00531441.\n",
            "Epoch 18/50\n",
            "1596/1596 [==============================] - 103s 64ms/step - loss: 0.1277 - sparse_categorical_accuracy: 0.9624 - val_loss: 0.2073 - val_sparse_categorical_accuracy: 0.9412\n",
            "\n",
            "Epoch 00019: LearningRateScheduler reducing learning rate to 0.00531441.\n",
            "Epoch 19/50\n",
            "1596/1596 [==============================] - 103s 64ms/step - loss: 0.1213 - sparse_categorical_accuracy: 0.9636 - val_loss: 0.1969 - val_sparse_categorical_accuracy: 0.9419\n",
            "\n",
            "Epoch 00020: LearningRateScheduler reducing learning rate to 0.00531441.\n",
            "Epoch 20/50\n",
            "1596/1596 [==============================] - 103s 64ms/step - loss: 0.1172 - sparse_categorical_accuracy: 0.9656 - val_loss: 0.2030 - val_sparse_categorical_accuracy: 0.9416\n",
            "\n",
            "Epoch 00021: LearningRateScheduler reducing learning rate to 0.004782969000000001.\n",
            "Epoch 21/50\n",
            "1596/1596 [==============================] - 103s 64ms/step - loss: 0.1131 - sparse_categorical_accuracy: 0.9667 - val_loss: 0.2008 - val_sparse_categorical_accuracy: 0.9421\n",
            "\n",
            "Epoch 00022: LearningRateScheduler reducing learning rate to 0.004782969000000001.\n",
            "Epoch 22/50\n",
            "1596/1596 [==============================] - 103s 64ms/step - loss: 0.1077 - sparse_categorical_accuracy: 0.9678 - val_loss: 0.2026 - val_sparse_categorical_accuracy: 0.9440\n",
            "\n",
            "Epoch 00023: LearningRateScheduler reducing learning rate to 0.004782969000000001.\n",
            "Epoch 23/50\n",
            "1596/1596 [==============================] - 103s 64ms/step - loss: 0.1049 - sparse_categorical_accuracy: 0.9682 - val_loss: 0.2130 - val_sparse_categorical_accuracy: 0.9459\n",
            "\n",
            "Epoch 00024: LearningRateScheduler reducing learning rate to 0.004304672100000001.\n",
            "Epoch 24/50\n",
            "1596/1596 [==============================] - 103s 64ms/step - loss: 0.0985 - sparse_categorical_accuracy: 0.9705 - val_loss: 0.2037 - val_sparse_categorical_accuracy: 0.9430\n",
            "Epoch 00024: early stopping\n"
          ],
          "name": "stdout"
        }
      ]
    },
    {
      "cell_type": "code",
      "metadata": {
        "id": "jpvmc1ZCODk-",
        "colab_type": "code",
        "colab": {
          "base_uri": "https://localhost:8080/",
          "height": 581
        },
        "outputId": "809acafb-5a84-47a4-8515-4733a727332d"
      },
      "source": [
        "import matplotlib.pyplot as plt\n",
        "from matplotlib.ticker import MaxNLocator\n",
        "import seaborn as sns \n",
        "\n",
        "sns.set()\n",
        "\n",
        "loss = history.history['loss']\n",
        "val_loss = history.history['val_loss']\n",
        "\n",
        "acc = history.history['sparse_categorical_accuracy']\n",
        "val_acc = history.history['val_sparse_categorical_accuracy']\n",
        "\n",
        "fig, (ax1, ax2) = plt.subplots(2,1, figsize=(8,8))\n",
        "\n",
        "ax1.plot(loss, label='train')\n",
        "ax1.plot(val_loss, label='validation')\n",
        "ax1.xaxis.set_major_locator(MaxNLocator(integer=True))\n",
        "ax1.set_title('Model loss')\n",
        "ax1.set_xlabel('Epoch')\n",
        "ax1.set_ylabel('Loss')\n",
        "ax1.legend()\n",
        "\n",
        "ax2.plot(acc, label='train')\n",
        "ax2.plot(val_acc, label='validation')\n",
        "ax2.xaxis.set_major_locator(MaxNLocator(integer=True))\n",
        "ax2.set_title('Accuracy')\n",
        "ax2.set_xlabel('Epoch')\n",
        "ax2.set_ylabel('Accuracy')\n",
        "ax2.legend()\n",
        "\n",
        "plt.tight_layout()\n",
        "fig.show()"
      ],
      "execution_count": 67,
      "outputs": [
        {
          "output_type": "display_data",
          "data": {
            "image/png": "[encoded data removed]",
            "text/plain": [
              "<Figure size 576x576 with 2 Axes>"
            ]
          },
          "metadata": {
            "tags": []
          }
        }
      ]
    },
    {
      "cell_type": "markdown",
      "metadata": {
        "id": "IiUswLU0TwXS",
        "colab_type": "text"
      },
      "source": [
        "## Save to drive\n"
      ]
    },
    {
      "cell_type": "code",
      "metadata": {
        "id": "He-4OKwdTy-6",
        "colab_type": "code",
        "colab": {
          "base_uri": "https://localhost:8080/",
          "height": 51
        },
        "outputId": "87746ddb-21b6-4f04-a30b-ea1f7c0b962f"
      },
      "source": [
        "import pickle\n",
        "\n",
        "GDRIVE_PATH = \"/content/gdrive/My Drive/speechRecognition/inception/\"\n",
        "\n",
        "# Save model\n",
        "model.save(GDRIVE_PATH + \"inception95.h5\")\n",
        "print(\"Saved model to drive\")\n",
        "\n",
        "# Save history data\n",
        "with open(GDRIVE_PATH + \"train_history_inception95.pickle\", \"wb\") as handle:\n",
        "    pickle.dump(history.history, handle, protocol=pickle.HIGHEST_PROTOCOL)    \n",
        "print(\"Saved training history to drive\")"
      ],
      "execution_count": 64,
      "outputs": [
        {
          "output_type": "stream",
          "text": [
            "Saved model to drive\n",
            "Saved training history to drive\n"
          ],
          "name": "stdout"
        }
      ]
    }
  ]
}