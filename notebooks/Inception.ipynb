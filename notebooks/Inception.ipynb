{
  "nbformat": 4,
  "nbformat_minor": 0,
  "metadata": {
    "colab": {
      "name": "Inception.ipynb",
      "version": "0.3.2",
      "provenance": [],
      "collapsed_sections": []
    },
    "kernelspec": {
      "name": "python3",
      "display_name": "Python 3"
    },
    "accelerator": "GPU"
  },
  "cells": [
    {
      "cell_type": "markdown",
      "metadata": {
        "id": "d3hRW0qkTb0k",
        "colab_type": "text"
      },
      "source": [
        "## Mount Google Drive"
      ]
    },
    {
      "cell_type": "code",
      "metadata": {
        "id": "RtOhoaVjTiOn",
        "colab_type": "code",
        "outputId": "177938e6-08d1-40c6-b712-35b172c5b376",
        "colab": {
          "base_uri": "https://localhost:8080/",
          "height": 122
        }
      },
      "source": [
        "from google.colab import drive\n",
        "drive.mount('/content/gdrive')"
      ],
      "execution_count": 1,
      "outputs": [
        {
          "output_type": "stream",
          "text": [
            "Go to this URL in a browser: https://accounts.google.com/o/oauth2/auth?client_id=947318989803-6bn6qk8qdgf4n4g3pfee6491hc0brc4i.apps.googleusercontent.com&redirect_uri=urn%3Aietf%3Awg%3Aoauth%3A2.0%3Aoob&scope=email%20https%3A%2F%2Fwww.googleapis.com%2Fauth%2Fdocs.test%20https%3A%2F%2Fwww.googleapis.com%2Fauth%2Fdrive%20https%3A%2F%2Fwww.googleapis.com%2Fauth%2Fdrive.photos.readonly%20https%3A%2F%2Fwww.googleapis.com%2Fauth%2Fpeopleapi.readonly&response_type=code\n",
            "\n",
            "Enter your authorization code:\n",
            "··········\n",
            "Mounted at /content/gdrive\n"
          ],
          "name": "stdout"
        }
      ]
    },
    {
      "cell_type": "markdown",
      "metadata": {
        "id": "NN1JZ0Kd5TN2",
        "colab_type": "text"
      },
      "source": [
        "## Get scripts"
      ]
    },
    {
      "cell_type": "code",
      "metadata": {
        "id": "ZqpGzP3a476d",
        "colab_type": "code",
        "colab": {}
      },
      "source": [
        "!wget -q https://raw.githubusercontent.com/Mmiglio/SpeechRecognition/master/src/getData.py\n",
        "!wget -q https://raw.githubusercontent.com/Mmiglio/SpeechRecognition/master/src/constants.py\n",
        "!wget -q https://raw.githubusercontent.com/Mmiglio/SpeechRecognition/master/src/trainingUtils.py\n",
        "!wget -q https://raw.githubusercontent.com/Mmiglio/SpeechRecognition/master/src/models.py\n",
        "!wget -q https://raw.githubusercontent.com/Mmiglio/SpeechRecognition/master/src/analysisFunctions.py"
      ],
      "execution_count": 0,
      "outputs": []
    },
    {
      "cell_type": "markdown",
      "metadata": {
        "id": "uOJydZix5alE",
        "colab_type": "text"
      },
      "source": [
        "## Get data"
      ]
    },
    {
      "cell_type": "code",
      "metadata": {
        "id": "_8FY1TBK5S83",
        "colab_type": "code",
        "outputId": "341d5d07-e517-4e12-d420-d34c8483be92",
        "colab": {
          "base_uri": "https://localhost:8080/",
          "height": 85
        }
      },
      "source": [
        "from getData import downloadSpeechData, getDataDict\n",
        "\n",
        "# Download data\n",
        "downloadSpeechData(data_path='speechData/')\n",
        "\n",
        "# Get dict with files and labels\n",
        "dataDict = getDataDict(data_path='speechData/')"
      ],
      "execution_count": 3,
      "outputs": [
        {
          "output_type": "stream",
          "text": [
            "Downloading http://download.tensorflow.org/data/speech_commands_v0.01.tar.gz into /content/speechData/train.tar.gz\n",
            "Extracting /content/speechData/train.tar.gz into /content/speechData/train\n",
            "Downloading http://download.tensorflow.org/data/speech_commands_test_set_v0.01.tar.gz into /content/speechData/test.tar.gz\n",
            "Extracting /content/speechData/test.tar.gz into /content/speechData/test\n"
          ],
          "name": "stdout"
        }
      ]
    },
    {
      "cell_type": "code",
      "metadata": {
        "id": "SFs354-h5gbW",
        "colab_type": "code",
        "outputId": "16f83c4b-4c50-4e9e-e3d5-37511a16bc27",
        "colab": {
          "base_uri": "https://localhost:8080/",
          "height": 85
        }
      },
      "source": [
        "from getData import getDataframe\n",
        "import pandas as pd\n",
        "\n",
        "trainDF = getDataframe(dataDict['train'])\n",
        "valDF = getDataframe(dataDict['val'])\n",
        "testDF = getDataframe(dataDict['test'], include_unknown=True) \n",
        "finalTestDF = getDataframe(dataDict['finalTest'], include_unknown=True) \n",
        "\n",
        "print(\"Train files: {}\".format(trainDF.shape[0]))\n",
        "print(\"Validation files: {}\".format(valDF.shape[0]))\n",
        "print(\"Test files: {}\".format(testDF.shape[0]))\n",
        "print(\"Final test files: {}\".format(finalTestDF.shape[0]))"
      ],
      "execution_count": 151,
      "outputs": [
        {
          "output_type": "stream",
          "text": [
            "Train files: 51088\n",
            "Validation files: 6798\n",
            "Test files: 6835\n",
            "Final test files: 3081\n"
          ],
          "name": "stdout"
        }
      ]
    },
    {
      "cell_type": "markdown",
      "metadata": {
        "id": "e_dpfebp57kc",
        "colab_type": "text"
      },
      "source": [
        "## Install tf 2.0 and python speech features"
      ]
    },
    {
      "cell_type": "code",
      "metadata": {
        "id": "5ASIGMrB5660",
        "colab_type": "code",
        "outputId": "3c9548e0-4c22-4501-ebcc-d3fb3a8bd497",
        "colab": {
          "base_uri": "https://localhost:8080/",
          "height": 68
        }
      },
      "source": [
        "!pip install -q tensorflow-gpu==2.0.0-beta1"
      ],
      "execution_count": 5,
      "outputs": [
        {
          "output_type": "stream",
          "text": [
            "\u001b[K     |████████████████████████████████| 348.9MB 62kB/s \n",
            "\u001b[K     |████████████████████████████████| 501kB 43.6MB/s \n",
            "\u001b[K     |████████████████████████████████| 3.1MB 32.3MB/s \n",
            "\u001b[?25h"
          ],
          "name": "stdout"
        }
      ]
    },
    {
      "cell_type": "code",
      "metadata": {
        "id": "xb2YPhU2LkqS",
        "colab_type": "code",
        "outputId": "abaf687f-26d5-47bb-c00d-b763db00d38d",
        "colab": {
          "base_uri": "https://localhost:8080/",
          "height": 51
        }
      },
      "source": [
        "import tensorflow as tf\n",
        "\n",
        "print(\"GPU Available: \", tf.test.is_gpu_available())\n",
        "print(\"Version: \", tf.__version__)"
      ],
      "execution_count": 6,
      "outputs": [
        {
          "output_type": "stream",
          "text": [
            "GPU Available:  True\n",
            "Version:  2.0.0-beta1\n"
          ],
          "name": "stdout"
        }
      ]
    },
    {
      "cell_type": "code",
      "metadata": {
        "id": "AEq5r2Yq5_GP",
        "colab_type": "code",
        "colab": {
          "base_uri": "https://localhost:8080/",
          "height": 34
        },
        "outputId": "6fa40305-0137-42da-a6f3-0ae91e5f9ffe"
      },
      "source": [
        "!pip install -q python_speech_features"
      ],
      "execution_count": 7,
      "outputs": [
        {
          "output_type": "stream",
          "text": [
            "  Building wheel for python-speech-features (setup.py) ... \u001b[?25l\u001b[?25hdone\n"
          ],
          "name": "stdout"
        }
      ]
    },
    {
      "cell_type": "markdown",
      "metadata": {
        "id": "Bb_dOstQLSl8",
        "colab_type": "text"
      },
      "source": [
        "## Data Generators\n",
        "\n"
      ]
    },
    {
      "cell_type": "code",
      "metadata": {
        "id": "oLUAqdeAdL_8",
        "colab_type": "code",
        "colab": {}
      },
      "source": [
        "from trainingUtils import getDataset\n",
        "\n",
        "BATCH_SIZE = 32\n",
        "# Reduced trainign dataset by using a numer <60k\n",
        "NUM_EXAMPLES = 60000\n",
        "\n",
        "train_data, train_steps = getDataset(\n",
        "    df=trainDF[:NUM_EXAMPLES],\n",
        "    batch_size=BATCH_SIZE,\n",
        "    cache_file='train_cache',\n",
        "    shuffle=True,\n",
        "    scale=True\n",
        ") \n",
        "\n",
        "val_data, val_steps = getDataset(\n",
        "    df=valDF,\n",
        "    batch_size=BATCH_SIZE,\n",
        "    cache_file='val_cache',\n",
        "    shuffle=False,\n",
        "    scale=True\n",
        ")"
      ],
      "execution_count": 0,
      "outputs": []
    },
    {
      "cell_type": "markdown",
      "metadata": {
        "id": "0XTKaorm8T17",
        "colab_type": "text"
      },
      "source": [
        "## Model"
      ]
    },
    {
      "cell_type": "markdown",
      "metadata": {
        "id": "VIruQKqWBImf",
        "colab_type": "text"
      },
      "source": [
        "![InceptionBlock](https://i.stack.imgur.com/vGIfJ.png)"
      ]
    },
    {
      "cell_type": "code",
      "metadata": {
        "id": "XQit7tOX8TpD",
        "colab_type": "code",
        "outputId": "c77d72d7-c538-4265-948a-d0812be6756e",
        "colab": {
          "base_uri": "https://localhost:8080/",
          "height": 1000
        }
      },
      "source": [
        "from tensorflow.keras.layers import (\n",
        "    Conv2D, MaxPooling2D, concatenate,\n",
        "    Input, Reshape, BatchNormalization,\n",
        "    GlobalAveragePooling2D, Dropout, Dense\n",
        ")\n",
        "from tensorflow.keras.models import Model\n",
        "\n",
        "tf.keras.backend.clear_session()\n",
        "\n",
        "def inceptionModule(x_input, n):\n",
        "    # Conv 1x1\n",
        "    conv_1x1 = Conv2D(n, (1,1), padding='same', activation='relu')(x_input)\n",
        "    \n",
        "    # Conv 3x3\n",
        "    conv_3x3 = Conv2D(n, (1,1), padding='same', activation='relu')(x_input)\n",
        "    conv_3x3 = Conv2D(n, (3,3), padding='same', activation='relu')(conv_3x3)\n",
        "    \n",
        "    # Conv 5x5\n",
        "    conv_5x5 = Conv2D(n, (1,1), padding='same', activation='relu')(x_input)\n",
        "    conv_5x5 = Conv2D(n, (3,3), padding='same', activation='relu')(conv_5x5)\n",
        "    \n",
        "    # pool + proj\n",
        "    pool = MaxPooling2D((3,3), strides=(1,1), padding='same')(x_input)\n",
        "    pool = Conv2D(n, (1,1), padding='same', activation='relu')(pool)\n",
        "    \n",
        "    output = concatenate([conv_1x1, conv_3x3, conv_5x5, pool], axis=3)\n",
        "    \n",
        "    return output\n",
        "\n",
        "\n",
        "def Inception(input_shape=(99,40)):\n",
        "    \n",
        "    input_layer = Input(shape=(99, 40))\n",
        "    \n",
        "    reshape_layer = Reshape(input_shape=input_shape, target_shape=(99, 40, 1))(input_layer)\n",
        "      \n",
        "    x = Conv2D(32, (6,4), padding='same', strides=(2, 2), activation='relu')(reshape_layer)\n",
        "    x = MaxPooling2D((3,2), padding='same', strides=(1, 1))(x)\n",
        "    x = BatchNormalization()(x)\n",
        "    \n",
        "    x = inceptionModule(x, 32)\n",
        "    x = inceptionModule(x, 64)\n",
        "    x = MaxPooling2D((3,2))(x)\n",
        "    \n",
        "    x = inceptionModule(x, 64)\n",
        "    x = inceptionModule(x, 128)\n",
        "    \n",
        "    x = GlobalAveragePooling2D()(x)   \n",
        "    x = Dropout(0.5)(x)\n",
        "    \n",
        "    x = Dense(256, activation='relu')(x)\n",
        "    \n",
        "    x = Dense(30, activation='softmax')(x)\n",
        "    \n",
        "    model = Model(input_layer, x)\n",
        "    return model\n",
        "\n",
        "model = Inception()\n",
        "model.summary()"
      ],
      "execution_count": 9,
      "outputs": [
        {
          "output_type": "stream",
          "text": [
            "Model: \"model\"\n",
            "__________________________________________________________________________________________________\n",
            "Layer (type)                    Output Shape         Param #     Connected to                     \n",
            "==================================================================================================\n",
            "input_1 (InputLayer)            [(None, 99, 40)]     0                                            \n",
            "__________________________________________________________________________________________________\n",
            "reshape (Reshape)               (None, 99, 40, 1)    0           input_1[0][0]                    \n",
            "__________________________________________________________________________________________________\n",
            "conv2d (Conv2D)                 (None, 50, 20, 32)   800         reshape[0][0]                    \n",
            "__________________________________________________________________________________________________\n",
            "max_pooling2d (MaxPooling2D)    (None, 50, 20, 32)   0           conv2d[0][0]                     \n",
            "__________________________________________________________________________________________________\n",
            "batch_normalization (BatchNorma (None, 50, 20, 32)   128         max_pooling2d[0][0]              \n",
            "__________________________________________________________________________________________________\n",
            "conv2d_2 (Conv2D)               (None, 50, 20, 32)   1056        batch_normalization[0][0]        \n",
            "__________________________________________________________________________________________________\n",
            "conv2d_4 (Conv2D)               (None, 50, 20, 32)   1056        batch_normalization[0][0]        \n",
            "__________________________________________________________________________________________________\n",
            "max_pooling2d_1 (MaxPooling2D)  (None, 50, 20, 32)   0           batch_normalization[0][0]        \n",
            "__________________________________________________________________________________________________\n",
            "conv2d_1 (Conv2D)               (None, 50, 20, 32)   1056        batch_normalization[0][0]        \n",
            "__________________________________________________________________________________________________\n",
            "conv2d_3 (Conv2D)               (None, 50, 20, 32)   9248        conv2d_2[0][0]                   \n",
            "__________________________________________________________________________________________________\n",
            "conv2d_5 (Conv2D)               (None, 50, 20, 32)   9248        conv2d_4[0][0]                   \n",
            "__________________________________________________________________________________________________\n",
            "conv2d_6 (Conv2D)               (None, 50, 20, 32)   1056        max_pooling2d_1[0][0]            \n",
            "__________________________________________________________________________________________________\n",
            "concatenate (Concatenate)       (None, 50, 20, 128)  0           conv2d_1[0][0]                   \n",
            "                                                                 conv2d_3[0][0]                   \n",
            "                                                                 conv2d_5[0][0]                   \n",
            "                                                                 conv2d_6[0][0]                   \n",
            "__________________________________________________________________________________________________\n",
            "conv2d_8 (Conv2D)               (None, 50, 20, 64)   8256        concatenate[0][0]                \n",
            "__________________________________________________________________________________________________\n",
            "conv2d_10 (Conv2D)              (None, 50, 20, 64)   8256        concatenate[0][0]                \n",
            "__________________________________________________________________________________________________\n",
            "max_pooling2d_2 (MaxPooling2D)  (None, 50, 20, 128)  0           concatenate[0][0]                \n",
            "__________________________________________________________________________________________________\n",
            "conv2d_7 (Conv2D)               (None, 50, 20, 64)   8256        concatenate[0][0]                \n",
            "__________________________________________________________________________________________________\n",
            "conv2d_9 (Conv2D)               (None, 50, 20, 64)   36928       conv2d_8[0][0]                   \n",
            "__________________________________________________________________________________________________\n",
            "conv2d_11 (Conv2D)              (None, 50, 20, 64)   36928       conv2d_10[0][0]                  \n",
            "__________________________________________________________________________________________________\n",
            "conv2d_12 (Conv2D)              (None, 50, 20, 64)   8256        max_pooling2d_2[0][0]            \n",
            "__________________________________________________________________________________________________\n",
            "concatenate_1 (Concatenate)     (None, 50, 20, 256)  0           conv2d_7[0][0]                   \n",
            "                                                                 conv2d_9[0][0]                   \n",
            "                                                                 conv2d_11[0][0]                  \n",
            "                                                                 conv2d_12[0][0]                  \n",
            "__________________________________________________________________________________________________\n",
            "max_pooling2d_3 (MaxPooling2D)  (None, 16, 10, 256)  0           concatenate_1[0][0]              \n",
            "__________________________________________________________________________________________________\n",
            "conv2d_14 (Conv2D)              (None, 16, 10, 64)   16448       max_pooling2d_3[0][0]            \n",
            "__________________________________________________________________________________________________\n",
            "conv2d_16 (Conv2D)              (None, 16, 10, 64)   16448       max_pooling2d_3[0][0]            \n",
            "__________________________________________________________________________________________________\n",
            "max_pooling2d_4 (MaxPooling2D)  (None, 16, 10, 256)  0           max_pooling2d_3[0][0]            \n",
            "__________________________________________________________________________________________________\n",
            "conv2d_13 (Conv2D)              (None, 16, 10, 64)   16448       max_pooling2d_3[0][0]            \n",
            "__________________________________________________________________________________________________\n",
            "conv2d_15 (Conv2D)              (None, 16, 10, 64)   36928       conv2d_14[0][0]                  \n",
            "__________________________________________________________________________________________________\n",
            "conv2d_17 (Conv2D)              (None, 16, 10, 64)   36928       conv2d_16[0][0]                  \n",
            "__________________________________________________________________________________________________\n",
            "conv2d_18 (Conv2D)              (None, 16, 10, 64)   16448       max_pooling2d_4[0][0]            \n",
            "__________________________________________________________________________________________________\n",
            "concatenate_2 (Concatenate)     (None, 16, 10, 256)  0           conv2d_13[0][0]                  \n",
            "                                                                 conv2d_15[0][0]                  \n",
            "                                                                 conv2d_17[0][0]                  \n",
            "                                                                 conv2d_18[0][0]                  \n",
            "__________________________________________________________________________________________________\n",
            "conv2d_20 (Conv2D)              (None, 16, 10, 128)  32896       concatenate_2[0][0]              \n",
            "__________________________________________________________________________________________________\n",
            "conv2d_22 (Conv2D)              (None, 16, 10, 128)  32896       concatenate_2[0][0]              \n",
            "__________________________________________________________________________________________________\n",
            "max_pooling2d_5 (MaxPooling2D)  (None, 16, 10, 256)  0           concatenate_2[0][0]              \n",
            "__________________________________________________________________________________________________\n",
            "conv2d_19 (Conv2D)              (None, 16, 10, 128)  32896       concatenate_2[0][0]              \n",
            "__________________________________________________________________________________________________\n",
            "conv2d_21 (Conv2D)              (None, 16, 10, 128)  147584      conv2d_20[0][0]                  \n",
            "__________________________________________________________________________________________________\n",
            "conv2d_23 (Conv2D)              (None, 16, 10, 128)  147584      conv2d_22[0][0]                  \n",
            "__________________________________________________________________________________________________\n",
            "conv2d_24 (Conv2D)              (None, 16, 10, 128)  32896       max_pooling2d_5[0][0]            \n",
            "__________________________________________________________________________________________________\n",
            "concatenate_3 (Concatenate)     (None, 16, 10, 512)  0           conv2d_19[0][0]                  \n",
            "                                                                 conv2d_21[0][0]                  \n",
            "                                                                 conv2d_23[0][0]                  \n",
            "                                                                 conv2d_24[0][0]                  \n",
            "__________________________________________________________________________________________________\n",
            "global_average_pooling2d (Globa (None, 512)          0           concatenate_3[0][0]              \n",
            "__________________________________________________________________________________________________\n",
            "dropout (Dropout)               (None, 512)          0           global_average_pooling2d[0][0]   \n",
            "__________________________________________________________________________________________________\n",
            "dense (Dense)                   (None, 256)          131328      dropout[0][0]                    \n",
            "__________________________________________________________________________________________________\n",
            "dense_1 (Dense)                 (None, 30)           7710        dense[0][0]                      \n",
            "==================================================================================================\n",
            "Total params: 835,966\n",
            "Trainable params: 835,902\n",
            "Non-trainable params: 64\n",
            "__________________________________________________________________________________________________\n"
          ],
          "name": "stdout"
        }
      ]
    },
    {
      "cell_type": "code",
      "metadata": {
        "id": "MjcbNoobLclm",
        "colab_type": "code",
        "colab": {}
      },
      "source": [
        "model.compile(loss='sparse_categorical_crossentropy', \n",
        "              optimizer=tf.keras.optimizers.Adam(),\n",
        "              metrics=[\"sparse_categorical_accuracy\"])"
      ],
      "execution_count": 0,
      "outputs": []
    },
    {
      "cell_type": "code",
      "metadata": {
        "id": "iaTbdvK2LfTL",
        "colab_type": "code",
        "outputId": "0e641298-26eb-4644-9ccb-7bcbae91af5b",
        "colab": {
          "base_uri": "https://localhost:8080/",
          "height": 938
        }
      },
      "source": [
        "EPOCHS = 50\n",
        "\n",
        "# Stop if the validation accuracy doesn't imporove for 7 epochs\n",
        "earlyStopping = tf.keras.callbacks.EarlyStopping(\n",
        "    monitor='val_sparse_categorical_accuracy',\n",
        "    patience=7,\n",
        "    verbose=1\n",
        ")\n",
        "\n",
        "# Reduce LR on Plateau\n",
        "reduceLR = tf.keras.callbacks.ReduceLROnPlateau(\n",
        "    monitor='val_loss',\n",
        "    patience=3,\n",
        "    verbose=1\n",
        ")\n",
        "\n",
        "# Save best models\n",
        "modelCheckpoint = tf.keras.callbacks.ModelCheckpoint(\n",
        "    \"inception.h5\",\n",
        "    monitor='val_sparse_categorical_accuracy',\n",
        "    mode='max',\n",
        "    save_best_only=True\n",
        ")\n",
        "\n",
        "history = model.fit(train_data.repeat(), \n",
        "          steps_per_epoch=train_steps,\n",
        "          validation_data=val_data.repeat(),\n",
        "          validation_steps=val_steps,\n",
        "          epochs=EPOCHS,\n",
        "          callbacks=[earlyStopping, reduceLR, modelCheckpoint])"
      ],
      "execution_count": 25,
      "outputs": [
        {
          "output_type": "stream",
          "text": [
            "Epoch 1/50\n",
            "1596/1596 [==============================] - 125s 78ms/step - loss: 1.8438 - sparse_categorical_accuracy: 0.4491 - val_loss: 0.6145 - val_sparse_categorical_accuracy: 0.8188\n",
            "Epoch 2/50\n",
            "1596/1596 [==============================] - 121s 76ms/step - loss: 0.4728 - sparse_categorical_accuracy: 0.8594 - val_loss: 0.3812 - val_sparse_categorical_accuracy: 0.8824\n",
            "Epoch 3/50\n",
            "1596/1596 [==============================] - 120s 75ms/step - loss: 0.3305 - sparse_categorical_accuracy: 0.9013 - val_loss: 0.2965 - val_sparse_categorical_accuracy: 0.9105\n",
            "Epoch 4/50\n",
            "1596/1596 [==============================] - 120s 75ms/step - loss: 0.2712 - sparse_categorical_accuracy: 0.9193 - val_loss: 0.2506 - val_sparse_categorical_accuracy: 0.9281\n",
            "Epoch 5/50\n",
            "1596/1596 [==============================] - 120s 75ms/step - loss: 0.2322 - sparse_categorical_accuracy: 0.9308 - val_loss: 0.2452 - val_sparse_categorical_accuracy: 0.9254\n",
            "Epoch 6/50\n",
            "1596/1596 [==============================] - 120s 75ms/step - loss: 0.2079 - sparse_categorical_accuracy: 0.9381 - val_loss: 0.2493 - val_sparse_categorical_accuracy: 0.9288\n",
            "Epoch 7/50\n",
            "1596/1596 [==============================] - 120s 75ms/step - loss: 0.1867 - sparse_categorical_accuracy: 0.9453 - val_loss: 0.2421 - val_sparse_categorical_accuracy: 0.9282\n",
            "Epoch 8/50\n",
            "1596/1596 [==============================] - 122s 76ms/step - loss: 0.1742 - sparse_categorical_accuracy: 0.9480 - val_loss: 0.2174 - val_sparse_categorical_accuracy: 0.9353\n",
            "Epoch 9/50\n",
            "1596/1596 [==============================] - 120s 75ms/step - loss: 0.1607 - sparse_categorical_accuracy: 0.9516 - val_loss: 0.2144 - val_sparse_categorical_accuracy: 0.9378\n",
            "Epoch 10/50\n",
            "1596/1596 [==============================] - 120s 75ms/step - loss: 0.1505 - sparse_categorical_accuracy: 0.9553 - val_loss: 0.2404 - val_sparse_categorical_accuracy: 0.9331\n",
            "Epoch 11/50\n",
            "1596/1596 [==============================] - 120s 75ms/step - loss: 0.1464 - sparse_categorical_accuracy: 0.9552 - val_loss: 0.2238 - val_sparse_categorical_accuracy: 0.9369\n",
            "Epoch 12/50\n",
            "1595/1596 [============================>.] - ETA: 0s - loss: 0.1368 - sparse_categorical_accuracy: 0.9597\n",
            "Epoch 00012: ReduceLROnPlateau reducing learning rate to 0.00010000000474974513.\n",
            "1596/1596 [==============================] - 120s 75ms/step - loss: 0.1367 - sparse_categorical_accuracy: 0.9597 - val_loss: 0.2433 - val_sparse_categorical_accuracy: 0.9315\n",
            "Epoch 13/50\n",
            "1596/1596 [==============================] - 121s 76ms/step - loss: 0.0848 - sparse_categorical_accuracy: 0.9747 - val_loss: 0.1746 - val_sparse_categorical_accuracy: 0.9543\n",
            "Epoch 14/50\n",
            "1596/1596 [==============================] - 122s 76ms/step - loss: 0.0710 - sparse_categorical_accuracy: 0.9797 - val_loss: 0.1818 - val_sparse_categorical_accuracy: 0.9527\n",
            "Epoch 15/50\n",
            "1596/1596 [==============================] - 121s 76ms/step - loss: 0.0636 - sparse_categorical_accuracy: 0.9813 - val_loss: 0.1793 - val_sparse_categorical_accuracy: 0.9549\n",
            "Epoch 16/50\n",
            "1595/1596 [============================>.] - ETA: 0s - loss: 0.0590 - sparse_categorical_accuracy: 0.9827\n",
            "Epoch 00016: ReduceLROnPlateau reducing learning rate to 1.0000000474974514e-05.\n",
            "1596/1596 [==============================] - 120s 75ms/step - loss: 0.0590 - sparse_categorical_accuracy: 0.9827 - val_loss: 0.1872 - val_sparse_categorical_accuracy: 0.9542\n",
            "Epoch 17/50\n",
            "1596/1596 [==============================] - 120s 75ms/step - loss: 0.0530 - sparse_categorical_accuracy: 0.9842 - val_loss: 0.1888 - val_sparse_categorical_accuracy: 0.9537\n",
            "Epoch 18/50\n",
            "1596/1596 [==============================] - 120s 75ms/step - loss: 0.0518 - sparse_categorical_accuracy: 0.9854 - val_loss: 0.1898 - val_sparse_categorical_accuracy: 0.9533\n",
            "Epoch 19/50\n",
            "1595/1596 [============================>.] - ETA: 0s - loss: 0.0516 - sparse_categorical_accuracy: 0.9849\n",
            "Epoch 00019: ReduceLROnPlateau reducing learning rate to 1.0000000656873453e-06.\n",
            "1596/1596 [==============================] - 120s 75ms/step - loss: 0.0516 - sparse_categorical_accuracy: 0.9849 - val_loss: 0.1891 - val_sparse_categorical_accuracy: 0.9542\n",
            "Epoch 20/50\n",
            "1596/1596 [==============================] - 120s 75ms/step - loss: 0.0501 - sparse_categorical_accuracy: 0.9857 - val_loss: 0.1894 - val_sparse_categorical_accuracy: 0.9539\n",
            "Epoch 21/50\n",
            "1596/1596 [==============================] - 120s 75ms/step - loss: 0.0515 - sparse_categorical_accuracy: 0.9850 - val_loss: 0.1893 - val_sparse_categorical_accuracy: 0.9542\n",
            "Epoch 22/50\n",
            "1595/1596 [============================>.] - ETA: 0s - loss: 0.0512 - sparse_categorical_accuracy: 0.9851\n",
            "Epoch 00022: ReduceLROnPlateau reducing learning rate to 1.0000001111620805e-07.\n",
            "1596/1596 [==============================] - 120s 75ms/step - loss: 0.0513 - sparse_categorical_accuracy: 0.9851 - val_loss: 0.1893 - val_sparse_categorical_accuracy: 0.9540\n",
            "Epoch 00022: early stopping\n"
          ],
          "name": "stdout"
        }
      ]
    },
    {
      "cell_type": "code",
      "metadata": {
        "id": "25CMMONeTrop",
        "colab_type": "code",
        "outputId": "8b02b2e9-ba89-4f85-b4f2-c9033c6b54d2",
        "colab": {
          "base_uri": "https://localhost:8080/",
          "height": 581
        }
      },
      "source": [
        "import matplotlib.pyplot as plt\n",
        "from matplotlib.ticker import MaxNLocator\n",
        "import seaborn as sns \n",
        "\n",
        "sns.set()\n",
        "\n",
        "loss = history.history['loss']\n",
        "val_loss = history.history['val_loss']\n",
        "\n",
        "acc = history.history['sparse_categorical_accuracy']\n",
        "val_acc = history.history['val_sparse_categorical_accuracy']\n",
        "\n",
        "fig, (ax1, ax2) = plt.subplots(2,1, figsize=(8,8))\n",
        "\n",
        "ax1.plot(loss, label='train')\n",
        "ax1.plot(val_loss, label='validation')\n",
        "ax1.xaxis.set_major_locator(MaxNLocator(integer=True))\n",
        "ax1.set_title('Model loss')\n",
        "ax1.set_xlabel('Epoch')\n",
        "ax1.set_ylabel('Loss')\n",
        "ax1.legend()\n",
        "\n",
        "ax2.plot(acc, label='train')\n",
        "ax2.plot(val_acc, label='validation')\n",
        "ax2.xaxis.set_major_locator(MaxNLocator(integer=True))\n",
        "ax2.set_title('Accuracy')\n",
        "ax2.set_xlabel('Epoch')\n",
        "ax2.set_ylabel('Accuracy')\n",
        "ax2.legend()\n",
        "\n",
        "plt.tight_layout()\n",
        "fig.show()"
      ],
      "execution_count": 26,
      "outputs": [
        {
          "output_type": "display_data",
          "data": {
            "image/png": "[encoded data removed]",
            "text/plain": [
              "<Figure size 576x576 with 2 Axes>"
            ]
          },
          "metadata": {
            "tags": []
          }
        }
      ]
    },
    {
      "cell_type": "markdown",
      "metadata": {
        "id": "IiUswLU0TwXS",
        "colab_type": "text"
      },
      "source": [
        "## Save to Drive\n"
      ]
    },
    {
      "cell_type": "code",
      "metadata": {
        "id": "He-4OKwdTy-6",
        "colab_type": "code",
        "outputId": "0dbfe542-5d60-4b09-aa3b-e63563cb3d37",
        "colab": {
          "base_uri": "https://localhost:8080/",
          "height": 51
        }
      },
      "source": [
        "import pickle\n",
        "\n",
        "GDRIVE_PATH = \"/content/gdrive/My Drive/speechRecognition/inception/\"\n",
        "\n",
        "# Save model\n",
        "model.save(GDRIVE_PATH + \"inception_small_954.h5\")\n",
        "print(\"Saved model to drive\")\n",
        "\n",
        "# Save history data\n",
        "with open(GDRIVE_PATH + \"train_history_inception_small_954.pickle\", \"wb\") as handle:\n",
        "    pickle.dump(history.history, handle, protocol=pickle.HIGHEST_PROTOCOL)    \n",
        "print(\"Saved training history to drive\")"
      ],
      "execution_count": 28,
      "outputs": [
        {
          "output_type": "stream",
          "text": [
            "Saved model to drive\n",
            "Saved training history to drive\n"
          ],
          "name": "stdout"
        }
      ]
    },
    {
      "cell_type": "markdown",
      "metadata": {
        "id": "y4GvKlonHuNM",
        "colab_type": "text"
      },
      "source": [
        "## Extract features"
      ]
    },
    {
      "cell_type": "code",
      "metadata": {
        "id": "t7ZB6CNjus8P",
        "colab_type": "code",
        "colab": {
          "base_uri": "https://localhost:8080/",
          "height": 105
        },
        "outputId": "21ded0f4-7694-4d1d-864d-c3cd8e040fe2"
      },
      "source": [
        "# Load model from drive if needed\n",
        "\n",
        "model = tf.keras.models.load_model(\"/content/gdrive/My Drive/speechRecognition/inception/inception_small_954.h5\")"
      ],
      "execution_count": 11,
      "outputs": [
        {
          "output_type": "stream",
          "text": [
            "WARNING: Logging before flag parsing goes to stderr.\n",
            "W0714 09:06:28.764131 139669454755712 deprecation.py:323] From /usr/local/lib/python3.6/dist-packages/tensorflow/python/ops/math_grad.py:1250: add_dispatch_support.<locals>.wrapper (from tensorflow.python.ops.array_ops) is deprecated and will be removed in a future version.\n",
            "Instructions for updating:\n",
            "Use tf.where in 2.0, which has the same broadcast rule as np.where\n"
          ],
          "name": "stderr"
        }
      ]
    },
    {
      "cell_type": "code",
      "metadata": {
        "id": "28a5dCYwHtIb",
        "colab_type": "code",
        "colab": {}
      },
      "source": [
        "marvin_data, _ = getDataset(\n",
        "    df=trainDF.loc[trainDF['category']=='marvin', :],\n",
        "    batch_size=32,\n",
        "    cache_file='oc_train_cache',\n",
        "    shuffle=False,\n",
        "    scale=True\n",
        ")"
      ],
      "execution_count": 0,
      "outputs": []
    },
    {
      "cell_type": "code",
      "metadata": {
        "id": "ug7VD7jdH7gX",
        "colab_type": "code",
        "colab": {
          "base_uri": "https://localhost:8080/",
          "height": 204
        },
        "outputId": "e6be6120-0f41-4507-a709-9dde42ff8303"
      },
      "source": [
        "valDF['oc_class'] = valDF.apply(lambda row: 1 if row['category']=='marvin' else -1, axis=1)\n",
        "val_true = valDF['oc_class'].tolist()\n",
        "valDF.head()"
      ],
      "execution_count": 14,
      "outputs": [
        {
          "output_type": "execute_result",
          "data": {
            "text/html": [
              "<div>\n",
              "<style scoped>\n",
              "    .dataframe tbody tr th:only-of-type {\n",
              "        vertical-align: middle;\n",
              "    }\n",
              "\n",
              "    .dataframe tbody tr th {\n",
              "        vertical-align: top;\n",
              "    }\n",
              "\n",
              "    .dataframe thead th {\n",
              "        text-align: right;\n",
              "    }\n",
              "</style>\n",
              "<table border=\"1\" class=\"dataframe\">\n",
              "  <thead>\n",
              "    <tr style=\"text-align: right;\">\n",
              "      <th></th>\n",
              "      <th>files</th>\n",
              "      <th>labels</th>\n",
              "      <th>category</th>\n",
              "      <th>oc_class</th>\n",
              "    </tr>\n",
              "  </thead>\n",
              "  <tbody>\n",
              "    <tr>\n",
              "      <th>0</th>\n",
              "      <td>speechData/train/bed/026290a7_nohash_0.wav</td>\n",
              "      <td>16</td>\n",
              "      <td>bed</td>\n",
              "      <td>-1</td>\n",
              "    </tr>\n",
              "    <tr>\n",
              "      <th>1</th>\n",
              "      <td>speechData/train/bed/060cd039_nohash_0.wav</td>\n",
              "      <td>16</td>\n",
              "      <td>bed</td>\n",
              "      <td>-1</td>\n",
              "    </tr>\n",
              "    <tr>\n",
              "      <th>2</th>\n",
              "      <td>speechData/train/bed/060cd039_nohash_1.wav</td>\n",
              "      <td>16</td>\n",
              "      <td>bed</td>\n",
              "      <td>-1</td>\n",
              "    </tr>\n",
              "    <tr>\n",
              "      <th>3</th>\n",
              "      <td>speechData/train/bed/099d52ad_nohash_0.wav</td>\n",
              "      <td>16</td>\n",
              "      <td>bed</td>\n",
              "      <td>-1</td>\n",
              "    </tr>\n",
              "    <tr>\n",
              "      <th>4</th>\n",
              "      <td>speechData/train/bed/0e17f595_nohash_0.wav</td>\n",
              "      <td>16</td>\n",
              "      <td>bed</td>\n",
              "      <td>-1</td>\n",
              "    </tr>\n",
              "  </tbody>\n",
              "</table>\n",
              "</div>"
            ],
            "text/plain": [
              "                                        files  labels category  oc_class\n",
              "0  speechData/train/bed/026290a7_nohash_0.wav      16      bed        -1\n",
              "1  speechData/train/bed/060cd039_nohash_0.wav      16      bed        -1\n",
              "2  speechData/train/bed/060cd039_nohash_1.wav      16      bed        -1\n",
              "3  speechData/train/bed/099d52ad_nohash_0.wav      16      bed        -1\n",
              "4  speechData/train/bed/0e17f595_nohash_0.wav      16      bed        -1"
            ]
          },
          "metadata": {
            "tags": []
          },
          "execution_count": 14
        }
      ]
    },
    {
      "cell_type": "code",
      "metadata": {
        "id": "mM9ZR-T1H8BE",
        "colab_type": "code",
        "colab": {}
      },
      "source": [
        "from trainingUtils import _loadWavs, _logMelFilterbank, _normalize\n",
        "\n",
        "def _parse_fn(filename):\n",
        "    wave = _loadWavs(filename)\n",
        "    fbank = _logMelFilterbank(wave)\n",
        "    return _normalize(fbank)"
      ],
      "execution_count": 0,
      "outputs": []
    },
    {
      "cell_type": "code",
      "metadata": {
        "id": "L2bDoetTIUaB",
        "colab_type": "code",
        "colab": {}
      },
      "source": [
        "def getFeatures(data):\n",
        "    layer_name = 'dense_14'\n",
        "    layer_out = tf.keras.Model(inputs=model.input, outputs=model.get_layer(layer_name).output)\n",
        "    return layer_out.predict(data, use_multiprocessing=True)"
      ],
      "execution_count": 0,
      "outputs": []
    },
    {
      "cell_type": "code",
      "metadata": {
        "id": "gM-IQPz_Iacm",
        "colab_type": "code",
        "colab": {}
      },
      "source": [
        "import numpy as np\n",
        "valData = np.zeros((valDF.shape[0], 99, 40))\n",
        "\n",
        "for i,f in enumerate(valDF['files']):\n",
        "    valData[i] = _parse_fn(f)"
      ],
      "execution_count": 0,
      "outputs": []
    },
    {
      "cell_type": "code",
      "metadata": {
        "id": "SOVboD6aIcRr",
        "colab_type": "code",
        "colab": {
          "base_uri": "https://localhost:8080/",
          "height": 122
        },
        "outputId": "da7b3e2e-0d51-44ed-cd5e-246ea16baf2e"
      },
      "source": [
        "X_train = getFeatures(marvin_data)\n",
        "X_val = getFeatures(valData)"
      ],
      "execution_count": 19,
      "outputs": [
        {
          "output_type": "stream",
          "text": [
            "W0714 09:07:47.730414 139667525351168 backprop.py:842] The dtype of the watched tensor must be floating (e.g. tf.float32), got tf.string\n",
            "W0714 09:07:47.731782 139667516958464 backprop.py:842] The dtype of the watched tensor must be floating (e.g. tf.float32), got tf.string\n",
            "W0714 09:07:47.735920 139667525351168 backprop.py:842] The dtype of the watched tensor must be floating (e.g. tf.float32), got tf.int32\n",
            "W0714 09:07:47.738176 139667516958464 backprop.py:842] The dtype of the watched tensor must be floating (e.g. tf.float32), got tf.int32\n",
            "W0714 09:07:47.742156 139667525351168 backprop.py:842] The dtype of the watched tensor must be floating (e.g. tf.float32), got tf.int32\n"
          ],
          "name": "stderr"
        }
      ]
    },
    {
      "cell_type": "markdown",
      "metadata": {
        "id": "FINwFqLTIe4Q",
        "colab_type": "text"
      },
      "source": [
        "## PCA"
      ]
    },
    {
      "cell_type": "code",
      "metadata": {
        "id": "Z9fAS05UIgev",
        "colab_type": "code",
        "colab": {
          "base_uri": "https://localhost:8080/",
          "height": 34
        },
        "outputId": "e28fa2d1-a5fa-4e19-fc21-4f94985cd240"
      },
      "source": [
        "from sklearn.decomposition import PCA\n",
        "\n",
        "pca = PCA(n_components=20)\n",
        "\n",
        "pca.fit(X_train)\n",
        "\n",
        "print(sum(pca.explained_variance_ratio_)) "
      ],
      "execution_count": 20,
      "outputs": [
        {
          "output_type": "stream",
          "text": [
            "0.9446301769930869\n"
          ],
          "name": "stdout"
        }
      ]
    },
    {
      "cell_type": "code",
      "metadata": {
        "id": "G1UmDIWkIsmT",
        "colab_type": "code",
        "colab": {}
      },
      "source": [
        "X_train_transformed = pca.transform(X_train)\n",
        "X_val_transformed = pca.transform(X_val)"
      ],
      "execution_count": 0,
      "outputs": []
    },
    {
      "cell_type": "markdown",
      "metadata": {
        "id": "JLZxOaA-Iv22",
        "colab_type": "text"
      },
      "source": [
        "## OC-SVM"
      ]
    },
    {
      "cell_type": "code",
      "metadata": {
        "id": "ZEn8uN_EIyV9",
        "colab_type": "code",
        "colab": {
          "base_uri": "https://localhost:8080/",
          "height": 561
        },
        "outputId": "d0d348ab-4bc7-4bac-ccde-4000069bb2e1"
      },
      "source": [
        "from sklearn.metrics import f1_score\n",
        "from sklearn import svm\n",
        "\n",
        "import warnings\n",
        "warnings.filterwarnings('ignore')\n",
        "\n",
        "gamma_bgn, gamma_end, num_gamma  = 0.00001, 0.005, 40 \n",
        "nu_bgn, nu_end, num_nu  = 0.001, 0.1, 40\n",
        "\n",
        "gamma_list = np.arange(gamma_bgn, gamma_end, (gamma_end - gamma_bgn) / num_gamma)\n",
        "nu_list = np.arange(nu_bgn, nu_end, (nu_end - nu_bgn) / num_nu)\n",
        "\n",
        "best_score_svm = 0\n",
        "scores_svm = np.zeros((gamma_list.shape[0], nu_list.shape[0]))\n",
        "best_parameters_svm = {'gamma':0, 'nu':0}\n",
        "\n",
        "iterations = gamma_list.shape[0] * nu_list.shape[0]\n",
        "iteration = 1\n",
        "\n",
        "for i, gamma in enumerate(gamma_list):\n",
        "    for j, nu in enumerate(nu_list):\n",
        "        \n",
        "        if(iteration%100==0):\n",
        "            print(\"Iteration {}/{}\".format(iteration, iterations))\n",
        "            \n",
        "        oc_svm = svm.OneClassSVM(gamma=gamma, nu=nu)\n",
        "        ocmodel = oc_svm.fit(X_train_transformed)\n",
        "   \n",
        "        val_pred = oc_svm.predict(X_val_transformed)\n",
        "                \n",
        "        score = f1_score(val_pred, val_true)\n",
        "        \n",
        "        if score>best_score_svm:\n",
        "            print(\"New best score: {:4f}\".format(score))     \n",
        "            best_score_svm = score\n",
        "            best_parameters_svm['gamma'] = gamma\n",
        "            best_parameters_svm['nu'] = nu\n",
        "            \n",
        "        scores_svm[i][j] = score\n",
        "        iteration += 1"
      ],
      "execution_count": 66,
      "outputs": [
        {
          "output_type": "stream",
          "text": [
            "New best score: 0.058146\n",
            "New best score: 0.062687\n",
            "New best score: 0.062827\n",
            "New best score: 0.107735\n",
            "New best score: 0.713959\n",
            "New best score: 0.854795\n",
            "New best score: 0.873950\n",
            "New best score: 0.914956\n",
            "New best score: 0.920354\n",
            "New best score: 0.931343\n",
            "New best score: 0.947692\n",
            "New best score: 0.959248\n",
            "New best score: 0.964856\n",
            "New best score: 0.965944\n",
            "New best score: 0.968750\n",
            "Iteration 100/1600\n",
            "New best score: 0.971963\n",
            "Iteration 200/1600\n",
            "Iteration 300/1600\n",
            "Iteration 400/1600\n",
            "Iteration 500/1600\n",
            "Iteration 600/1600\n",
            "Iteration 700/1600\n",
            "Iteration 800/1600\n",
            "Iteration 900/1600\n",
            "Iteration 1000/1600\n",
            "Iteration 1100/1600\n",
            "Iteration 1200/1600\n",
            "Iteration 1300/1600\n",
            "Iteration 1400/1600\n",
            "Iteration 1500/1600\n",
            "Iteration 1600/1600\n"
          ],
          "name": "stdout"
        }
      ]
    },
    {
      "cell_type": "code",
      "metadata": {
        "id": "fOQyD3Q3LA2h",
        "colab_type": "code",
        "colab": {
          "base_uri": "https://localhost:8080/",
          "height": 508
        },
        "outputId": "502247c7-ccf7-48cd-ffba-95a76a20401e"
      },
      "source": [
        "fig, ax = plt.subplots(figsize=(8,8))\n",
        "\n",
        "im = ax.imshow(scores_svm, aspect=\"auto\", extent=[nu_list[0], nu_list[-1], gamma_list[-1], gamma_list[0]])\n",
        "fig.colorbar(im, orientation='vertical')\n",
        "\n",
        "ax.set_xlabel('nu')\n",
        "ax.set_ylabel('gamma')\n",
        "\n",
        "ax.scatter(best_parameters_svm['nu'], best_parameters_svm['gamma'], c='red', s=100, marker='*')\n",
        "ax.grid(False)\n",
        "\n",
        "fig.show()"
      ],
      "execution_count": 67,
      "outputs": [
        {
          "output_type": "display_data",
          "data": {
            "image/png": "[encoded data removed]",
            "text/plain": [
              "<Figure size 576x576 with 2 Axes>"
            ]
          },
          "metadata": {
            "tags": []
          }
        }
      ]
    },
    {
      "cell_type": "code",
      "metadata": {
        "id": "Vfd-gE1IPGit",
        "colab_type": "code",
        "colab": {
          "base_uri": "https://localhost:8080/",
          "height": 505
        },
        "outputId": "00951559-aec0-4021-d16a-0ef169137687"
      },
      "source": [
        "from analysisFunctions import showResultsOC\n",
        "\n",
        "oc_svm = svm.OneClassSVM(gamma=best_parameters_svm['gamma'], nu=best_parameters_svm['nu'])\n",
        "ocmodel = oc_svm.fit(X_train_transformed)\n",
        "\n",
        "val_pred = oc_svm.predict(X_val_transformed)\n",
        "showResultsOC(val_pred, val_true)"
      ],
      "execution_count": 68,
      "outputs": [
        {
          "output_type": "stream",
          "text": [
            "Accuracy: 0.9987\n",
            "Precision: 0.9689\n",
            "Recal: 0.9750\n",
            "F1-score: 0.9720\n"
          ],
          "name": "stdout"
        },
        {
          "output_type": "display_data",
          "data": {
            "image/png": "[encoded data removed]",
            "text/plain": [
              "<Figure size 432x432 with 1 Axes>"
            ]
          },
          "metadata": {
            "tags": []
          }
        }
      ]
    },
    {
      "cell_type": "markdown",
      "metadata": {
        "id": "okEe5puccTjc",
        "colab_type": "text"
      },
      "source": [
        "## Bayesian optimization fot SVM "
      ]
    },
    {
      "cell_type": "code",
      "metadata": {
        "id": "rQSAcrNPcTNL",
        "colab_type": "code",
        "colab": {
          "base_uri": "https://localhost:8080/",
          "height": 34
        },
        "outputId": "e6ce3692-b9c5-46a9-9757-88d17ed80a82"
      },
      "source": [
        "!pip install -q scikit-optimize"
      ],
      "execution_count": 23,
      "outputs": [
        {
          "output_type": "stream",
          "text": [
            "\u001b[?25l\r\u001b[K     |████▍                           | 10kB 17.2MB/s eta 0:00:01\r\u001b[K     |████████▉                       | 20kB 1.9MB/s eta 0:00:01\r\u001b[K     |█████████████▏                  | 30kB 2.7MB/s eta 0:00:01\r\u001b[K     |█████████████████▋              | 40kB 1.8MB/s eta 0:00:01\r\u001b[K     |██████████████████████          | 51kB 2.2MB/s eta 0:00:01\r\u001b[K     |██████████████████████████▍     | 61kB 2.6MB/s eta 0:00:01\r\u001b[K     |██████████████████████████████▊ | 71kB 3.0MB/s eta 0:00:01\r\u001b[K     |████████████████████████████████| 81kB 3.2MB/s \n",
            "\u001b[?25h"
          ],
          "name": "stdout"
        }
      ]
    },
    {
      "cell_type": "code",
      "metadata": {
        "id": "18d_CZXCcZ0o",
        "colab_type": "code",
        "colab": {}
      },
      "source": [
        "from skopt.space import Real\n",
        "from skopt.utils import use_named_args\n",
        "\n",
        "oc_svm = svm.OneClassSVM()\n",
        "\n",
        "space  = [\n",
        "    Real(10**-5, 10**0, \"log-uniform\", name='gamma'),\n",
        "    Real(10**-5, 10**0, \"log-uniform\", name='nu')\n",
        "]\n",
        "\n",
        "@use_named_args(space)\n",
        "def objective(**params):\n",
        "    oc_svm.set_params(**params)\n",
        "    \n",
        "    oc_svm.fit(X_train_transformed)\n",
        "    val_pred = oc_svm.predict(X_val_transformed)\n",
        "    \n",
        "    score = f1_score(val_pred, val_true)\n",
        "   \n",
        "\n",
        "    return -1*score"
      ],
      "execution_count": 0,
      "outputs": []
    },
    {
      "cell_type": "code",
      "metadata": {
        "id": "9Jge9ImkdYVC",
        "colab_type": "code",
        "colab": {
          "base_uri": "https://localhost:8080/",
          "height": 34
        },
        "outputId": "73327a14-958d-4b2e-d1b9-0abdab36f9f8"
      },
      "source": [
        "from skopt import gp_minimize\n",
        "\n",
        "res_gp = gp_minimize(objective, space, n_calls=50, n_jobs=-1, verbose=False)\n",
        "print(\"Best score={:.4f}\".format(-res_gp.fun))"
      ],
      "execution_count": 78,
      "outputs": [
        {
          "output_type": "stream",
          "text": [
            "Best score=0.9716\n"
          ],
          "name": "stdout"
        }
      ]
    },
    {
      "cell_type": "code",
      "metadata": {
        "id": "3wzEB813fvLR",
        "colab_type": "code",
        "colab": {
          "base_uri": "https://localhost:8080/",
          "height": 302
        },
        "outputId": "7cd7f232-7530-48a0-aadd-454b9cf685e2"
      },
      "source": [
        "from skopt.plots import plot_convergence\n",
        "\n",
        "ax = plot_convergence(res_gp)\n",
        "plt.show()"
      ],
      "execution_count": 79,
      "outputs": [
        {
          "output_type": "display_data",
          "data": {
            "image/png": "[encoded data removed]",
            "text/plain": [
              "<Figure size 432x288 with 1 Axes>"
            ]
          },
          "metadata": {
            "tags": []
          }
        }
      ]
    },
    {
      "cell_type": "code",
      "metadata": {
        "id": "LdwQcriT-wKp",
        "colab_type": "code",
        "colab": {
          "base_uri": "https://localhost:8080/",
          "height": 34
        },
        "outputId": "3f15d1f3-1b16-4fc4-fc35-96ff01153687"
      },
      "source": [
        "best_parameters = {k.name: x for k, x in zip(space, res_gp.x)}\n",
        "best_parameters"
      ],
      "execution_count": 80,
      "outputs": [
        {
          "output_type": "execute_result",
          "data": {
            "text/plain": [
              "{'gamma': 0.0005729988092998988, 'nu': 0.025766465364173076}"
            ]
          },
          "metadata": {
            "tags": []
          },
          "execution_count": 80
        }
      ]
    },
    {
      "cell_type": "code",
      "metadata": {
        "id": "xMzJ02gmD2tY",
        "colab_type": "code",
        "colab": {
          "base_uri": "https://localhost:8080/",
          "height": 505
        },
        "outputId": "dfc553cd-2c22-41d9-f392-4b4aded1027f"
      },
      "source": [
        "from analysisFunctions import showResultsOC\n",
        "\n",
        "bestOC = svm.OneClassSVM().set_params(**best_parameters)\n",
        "\n",
        "bestOC.fit(X_train_transformed)\n",
        "\n",
        "val_pred = bestOC.predict(X_val_transformed)\n",
        "showResultsOC(val_pred, val_true)"
      ],
      "execution_count": 81,
      "outputs": [
        {
          "output_type": "stream",
          "text": [
            "Accuracy: 0.9987\n",
            "Precision: 0.9809\n",
            "Recal: 0.9625\n",
            "F1-score: 0.9716\n"
          ],
          "name": "stdout"
        },
        {
          "output_type": "display_data",
          "data": {
            "image/png": "[encoded data removed]",
            "text/plain": [
              "<Figure size 432x432 with 1 Axes>"
            ]
          },
          "metadata": {
            "tags": []
          }
        }
      ]
    },
    {
      "cell_type": "markdown",
      "metadata": {
        "id": "-B1YmXNiqzMD",
        "colab_type": "text"
      },
      "source": [
        "## Comparison with random search"
      ]
    },
    {
      "cell_type": "code",
      "metadata": {
        "id": "fF_ojUJhfcYT",
        "colab_type": "code",
        "colab": {
          "base_uri": "https://localhost:8080/",
          "height": 187
        },
        "outputId": "9b001598-688d-409d-823e-6574ce5a08da"
      },
      "source": [
        "list_random_res = []\n",
        "list_gp_res = []\n",
        "iterations = 10\n",
        "\n",
        "for i in range(iterations):\n",
        "    print(\"Iteration {}/{}\".format(i+1, iterations))\n",
        "    list_random_res.append(dummy_minimize(objective, space, n_calls=100, verbose=False))\n",
        "    list_gp_res.append(gp_minimize(objective, space, n_calls=100, verbose=False)) # acq_func='EI',"
      ],
      "execution_count": 132,
      "outputs": [
        {
          "output_type": "stream",
          "text": [
            "Iteration 1/10\n",
            "Iteration 2/10\n",
            "Iteration 3/10\n",
            "Iteration 4/10\n",
            "Iteration 5/10\n",
            "Iteration 6/10\n",
            "Iteration 7/10\n",
            "Iteration 8/10\n",
            "Iteration 9/10\n",
            "Iteration 10/10\n"
          ],
          "name": "stdout"
        }
      ]
    },
    {
      "cell_type": "code",
      "metadata": {
        "id": "4ranlcTFqBOy",
        "colab_type": "code",
        "colab": {
          "base_uri": "https://localhost:8080/",
          "height": 51
        },
        "outputId": "66ec3489-bc84-4114-f0a7-53cfe9d887d7"
      },
      "source": [
        "print(\"Optimal value random search: {:.4f}\".format(max([-res.fun for res in list_random_res])))\n",
        "print(\"Optimal value bayesian search: {:.4f}\".format(max([-res.fun for res in list_gp_res])))"
      ],
      "execution_count": 138,
      "outputs": [
        {
          "output_type": "stream",
          "text": [
            "Optimal value random search: 0.9688\n",
            "Optimal value bayesian search: 0.9750\n"
          ],
          "name": "stdout"
        }
      ]
    },
    {
      "cell_type": "code",
      "metadata": {
        "id": "OjRJXlHphci7",
        "colab_type": "code",
        "colab": {
          "base_uri": "https://localhost:8080/",
          "height": 411
        },
        "outputId": "20734d07-22a4-4cb6-ade1-f6ef82ba28e8"
      },
      "source": [
        "sns.set(style='darkgrid')\n",
        "\n",
        "fig, ax = plt.subplots(figsize=(8,6))\n",
        "plot_convergence(('bayesian search', list_gp_res), ('random search', list_random_res), ax=ax)\n",
        "plt.show()"
      ],
      "execution_count": 135,
      "outputs": [
        {
          "output_type": "display_data",
          "data": {
            "image/png": "[encoded data removed]",
            "text/plain": [
              "<Figure size 576x432 with 1 Axes>"
            ]
          },
          "metadata": {
            "tags": []
          }
        }
      ]
    },
    {
      "cell_type": "code",
      "metadata": {
        "id": "IXYmIMddrSsB",
        "colab_type": "code",
        "colab": {
          "base_uri": "https://localhost:8080/",
          "height": 34
        },
        "outputId": "9e9d6595-46ea-45a6-b84b-853fa1c5a425"
      },
      "source": [
        "# Best parameter found in 10 runs\n",
        "best_parameters = {k.name: x for k, x in zip(space, list_gp_res[1].x)}\n",
        "best_parameters"
      ],
      "execution_count": 141,
      "outputs": [
        {
          "output_type": "execute_result",
          "data": {
            "text/plain": [
              "{'gamma': 0.0004227532957130712, 'nu': 0.01941637315344354}"
            ]
          },
          "metadata": {
            "tags": []
          },
          "execution_count": 141
        }
      ]
    },
    {
      "cell_type": "code",
      "metadata": {
        "id": "hghV5HyWrrPF",
        "colab_type": "code",
        "colab": {
          "base_uri": "https://localhost:8080/",
          "height": 505
        },
        "outputId": "16332baf-c210-40e2-b7cf-fbd99d0389ab"
      },
      "source": [
        "from analysisFunctions import showResultsOC\n",
        "\n",
        "bestOC = svm.OneClassSVM().set_params(**best_parameters)\n",
        "\n",
        "bestOC.fit(X_train_transformed)\n",
        "\n",
        "val_pred = bestOC.predict(X_val_transformed)\n",
        "showResultsOC(val_pred, val_true)"
      ],
      "execution_count": 142,
      "outputs": [
        {
          "output_type": "stream",
          "text": [
            "Accuracy: 0.9988\n",
            "Precision: 0.9750\n",
            "Recal: 0.9750\n",
            "F1-score: 0.9750\n"
          ],
          "name": "stdout"
        },
        {
          "output_type": "display_data",
          "data": {
            "image/png": "[encoded data removed]",
            "text/plain": [
              "<Figure size 432x432 with 1 Axes>"
            ]
          },
          "metadata": {
            "tags": []
          }
        }
      ]
    },
    {
      "cell_type": "markdown",
      "metadata": {
        "id": "2i64NPhls6LS",
        "colab_type": "text"
      },
      "source": [
        "## Final test\n",
        "\n",
        "Test"
      ]
    },
    {
      "cell_type": "code",
      "metadata": {
        "id": "xGgt4ksdtACh",
        "colab_type": "code",
        "colab": {}
      },
      "source": [
        "import pandas as pd \n",
        "\n",
        "dfTest = pd.concat([testDF,finalTestDF],ignore_index=True)\n",
        "\n",
        "testData = np.zeros((dfTest.shape[0], 99, 40))\n",
        "\n",
        "for i,f in enumerate(dfTest['files']):\n",
        "    testData[i] = _parse_fn(f)\n",
        "    \n",
        "X_test = getFeatures(testData)"
      ],
      "execution_count": 0,
      "outputs": []
    },
    {
      "cell_type": "code",
      "metadata": {
        "id": "xalX58CAt2Lu",
        "colab_type": "code",
        "colab": {
          "base_uri": "https://localhost:8080/",
          "height": 34
        },
        "outputId": "d6f18c6f-217d-4545-949d-c7b0d2e119be"
      },
      "source": [
        "dfTest['oc_class'] = dfTest.apply(lambda row: 1 if row['category']=='marvin' else -1, axis=1)\n",
        "test_true = dfTest['oc_class'].tolist()\n",
        "dfTest.loc[dfTest['category']=='_background_noise_', :].shape"
      ],
      "execution_count": 157,
      "outputs": [
        {
          "output_type": "execute_result",
          "data": {
            "text/plain": [
              "(514, 4)"
            ]
          },
          "metadata": {
            "tags": []
          },
          "execution_count": 157
        }
      ]
    },
    {
      "cell_type": "code",
      "metadata": {
        "id": "UyrI6-iMuY45",
        "colab_type": "code",
        "colab": {}
      },
      "source": [
        "X_test_transformed = pca.transform(X_test)\n",
        "\n",
        "test_pred = bestOC.predict(X_test_transformed)"
      ],
      "execution_count": 0,
      "outputs": []
    },
    {
      "cell_type": "code",
      "metadata": {
        "id": "dIsbl-B0ud4D",
        "colab_type": "code",
        "colab": {
          "base_uri": "https://localhost:8080/",
          "height": 505
        },
        "outputId": "7133950a-0954-4881-84bd-47616788028d"
      },
      "source": [
        "showResultsOC(test_pred, test_true)"
      ],
      "execution_count": 159,
      "outputs": [
        {
          "output_type": "stream",
          "text": [
            "Accuracy: 0.9977\n",
            "Precision: 0.9162\n",
            "Recal: 0.9444\n",
            "F1-score: 0.9301\n"
          ],
          "name": "stdout"
        },
        {
          "output_type": "display_data",
          "data": {
            "image/png": "[encoded data removed]",
            "text/plain": [
              "<Figure size 432x432 with 1 Axes>"
            ]
          },
          "metadata": {
            "tags": []
          }
        }
      ]
    }
  ]
}