{
  "nbformat": 4,
  "nbformat_minor": 0,
  "metadata": {
    "colab": {
      "name": "Inception.ipynb",
      "version": "0.3.2",
      "provenance": [],
      "collapsed_sections": []
    },
    "kernelspec": {
      "name": "python3",
      "display_name": "Python 3"
    },
    "accelerator": "GPU"
  },
  "cells": [
    {
      "cell_type": "markdown",
      "metadata": {
        "id": "d3hRW0qkTb0k",
        "colab_type": "text"
      },
      "source": [
        "## Mount Google Drive"
      ]
    },
    {
      "cell_type": "code",
      "metadata": {
        "id": "RtOhoaVjTiOn",
        "colab_type": "code",
        "outputId": "151b2bc4-9540-4bfb-b518-167195664b7f",
        "colab": {
          "base_uri": "https://localhost:8080/",
          "height": 122
        }
      },
      "source": [
        "from google.colab import drive\n",
        "drive.mount('/content/gdrive')"
      ],
      "execution_count": 27,
      "outputs": [
        {
          "output_type": "stream",
          "text": [
            "Go to this URL in a browser: https://accounts.google.com/o/oauth2/auth?client_id=947318989803-6bn6qk8qdgf4n4g3pfee6491hc0brc4i.apps.googleusercontent.com&redirect_uri=urn%3Aietf%3Awg%3Aoauth%3A2.0%3Aoob&scope=email%20https%3A%2F%2Fwww.googleapis.com%2Fauth%2Fdocs.test%20https%3A%2F%2Fwww.googleapis.com%2Fauth%2Fdrive%20https%3A%2F%2Fwww.googleapis.com%2Fauth%2Fdrive.photos.readonly%20https%3A%2F%2Fwww.googleapis.com%2Fauth%2Fpeopleapi.readonly&response_type=code\n",
            "\n",
            "Enter your authorization code:\n",
            "··········\n",
            "Mounted at /content/gdrive\n"
          ],
          "name": "stdout"
        }
      ]
    },
    {
      "cell_type": "markdown",
      "metadata": {
        "id": "NN1JZ0Kd5TN2",
        "colab_type": "text"
      },
      "source": [
        "## Get scripts"
      ]
    },
    {
      "cell_type": "code",
      "metadata": {
        "id": "ZqpGzP3a476d",
        "colab_type": "code",
        "colab": {}
      },
      "source": [
        "!wget -q https://raw.githubusercontent.com/Mmiglio/SpeechRecognition/master/src/getData.py\n",
        "!wget -q https://raw.githubusercontent.com/Mmiglio/SpeechRecognition/master/src/constants.py\n",
        "!wget -q https://raw.githubusercontent.com/Mmiglio/SpeechRecognition/master/src/trainingUtils.py\n",
        "!wget -q https://raw.githubusercontent.com/Mmiglio/SpeechRecognition/master/src/models.py\n",
        "!wget -q https://raw.githubusercontent.com/Mmiglio/SpeechRecognition/master/src/analysisFunctions.py"
      ],
      "execution_count": 0,
      "outputs": []
    },
    {
      "cell_type": "markdown",
      "metadata": {
        "id": "uOJydZix5alE",
        "colab_type": "text"
      },
      "source": [
        "## Get data"
      ]
    },
    {
      "cell_type": "code",
      "metadata": {
        "id": "_8FY1TBK5S83",
        "colab_type": "code",
        "outputId": "78a5f7b1-6095-41b4-b7b9-034b44b6fd53",
        "colab": {
          "base_uri": "https://localhost:8080/",
          "height": 51
        }
      },
      "source": [
        "from getData import downloadSpeechData, getDataDict\n",
        "\n",
        "# Download data\n",
        "downloadSpeechData(data_path='speechData/')\n",
        "\n",
        "# Get dict with files and labels\n",
        "dataDict = getDataDict(data_path='speechData/')"
      ],
      "execution_count": 1,
      "outputs": [
        {
          "output_type": "stream",
          "text": [
            "Nothing to do.\n",
            "Nothing to do.\n"
          ],
          "name": "stdout"
        }
      ]
    },
    {
      "cell_type": "code",
      "metadata": {
        "id": "SFs354-h5gbW",
        "colab_type": "code",
        "outputId": "7bf7bc35-fdda-4e43-9ff2-03f262305f95",
        "colab": {
          "base_uri": "https://localhost:8080/",
          "height": 85
        }
      },
      "source": [
        "from getData import getDataframe\n",
        "import pandas as pd\n",
        "\n",
        "trainDF = getDataframe(dataDict['train'])\n",
        "valDF = getDataframe(dataDict['val'])\n",
        "testDF = getDataframe(dataDict['test'], include_unknown=True) \n",
        "finalTestDF = getDataframe(dataDict['finalTest'], include_unknown=True) \n",
        "\n",
        "print(\"Train files: {}\".format(trainDF.shape[0]))\n",
        "print(\"Validation files: {}\".format(valDF.shape[0]))\n",
        "print(\"Test files: {}\".format(testDF.shape[0]))\n",
        "print(\"Final test files: {}\".format(finalTestDF.shape[0]))"
      ],
      "execution_count": 2,
      "outputs": [
        {
          "output_type": "stream",
          "text": [
            "Train files: 51088\n",
            "Validation files: 6798\n",
            "Test files: 6835\n",
            "Final test files: 3081\n"
          ],
          "name": "stdout"
        }
      ]
    },
    {
      "cell_type": "markdown",
      "metadata": {
        "id": "e_dpfebp57kc",
        "colab_type": "text"
      },
      "source": [
        "## Install tf 2.0 and python speech features"
      ]
    },
    {
      "cell_type": "code",
      "metadata": {
        "id": "5ASIGMrB5660",
        "colab_type": "code",
        "outputId": "ca44c6b6-bd9e-4680-dcc0-190f96298513",
        "colab": {
          "base_uri": "https://localhost:8080/",
          "height": 68
        }
      },
      "source": [
        "!pip install -q tensorflow-gpu==2.0.0-beta1"
      ],
      "execution_count": 5,
      "outputs": [
        {
          "output_type": "stream",
          "text": [
            "\u001b[K     |████████████████████████████████| 348.9MB 70kB/s \n",
            "\u001b[K     |████████████████████████████████| 3.1MB 28.8MB/s \n",
            "\u001b[K     |████████████████████████████████| 501kB 41.7MB/s \n",
            "\u001b[?25h"
          ],
          "name": "stdout"
        }
      ]
    },
    {
      "cell_type": "code",
      "metadata": {
        "id": "xb2YPhU2LkqS",
        "colab_type": "code",
        "outputId": "12f43e94-cc81-42e9-b533-ddbb704fc424",
        "colab": {
          "base_uri": "https://localhost:8080/",
          "height": 51
        }
      },
      "source": [
        "import tensorflow as tf\n",
        "\n",
        "print(\"GPU Available: \", tf.test.is_gpu_available())\n",
        "print(\"Version: \", tf.__version__)"
      ],
      "execution_count": 3,
      "outputs": [
        {
          "output_type": "stream",
          "text": [
            "GPU Available:  True\n",
            "Version:  2.0.0-beta1\n"
          ],
          "name": "stdout"
        }
      ]
    },
    {
      "cell_type": "code",
      "metadata": {
        "id": "AEq5r2Yq5_GP",
        "colab_type": "code",
        "colab": {
          "base_uri": "https://localhost:8080/",
          "height": 34
        },
        "outputId": "bf8d639d-331b-4a4e-ae80-eedf80329217"
      },
      "source": [
        "!pip install -q python_speech_features"
      ],
      "execution_count": 7,
      "outputs": [
        {
          "output_type": "stream",
          "text": [
            "  Building wheel for python-speech-features (setup.py) ... \u001b[?25l\u001b[?25hdone\n"
          ],
          "name": "stdout"
        }
      ]
    },
    {
      "cell_type": "markdown",
      "metadata": {
        "id": "Bb_dOstQLSl8",
        "colab_type": "text"
      },
      "source": [
        "## Data Generators\n",
        "\n"
      ]
    },
    {
      "cell_type": "code",
      "metadata": {
        "id": "oLUAqdeAdL_8",
        "colab_type": "code",
        "colab": {}
      },
      "source": [
        "from trainingUtils import getDataset\n",
        "\n",
        "BATCH_SIZE = 32\n",
        "# Reduced trainign dataset by using a numer <60k\n",
        "NUM_EXAMPLES = 60000\n",
        "\n",
        "train_data, train_steps = getDataset(\n",
        "    df=trainDF[:NUM_EXAMPLES],\n",
        "    batch_size=BATCH_SIZE,\n",
        "    cache_file='train_cache',\n",
        "    shuffle=True,\n",
        "    scale=True\n",
        ") \n",
        "\n",
        "val_data, val_steps = getDataset(\n",
        "    df=valDF,\n",
        "    batch_size=BATCH_SIZE,\n",
        "    cache_file='val_cache',\n",
        "    shuffle=False,\n",
        "    scale=True\n",
        ")"
      ],
      "execution_count": 0,
      "outputs": []
    },
    {
      "cell_type": "markdown",
      "metadata": {
        "id": "0XTKaorm8T17",
        "colab_type": "text"
      },
      "source": [
        "## Model"
      ]
    },
    {
      "cell_type": "markdown",
      "metadata": {
        "id": "VIruQKqWBImf",
        "colab_type": "text"
      },
      "source": [
        "![InceptionBlock](https://i.stack.imgur.com/vGIfJ.png)"
      ]
    },
    {
      "cell_type": "code",
      "metadata": {
        "id": "XQit7tOX8TpD",
        "colab_type": "code",
        "outputId": "ac3bf022-0377-4ee8-ba48-bf9f775753da",
        "colab": {
          "base_uri": "https://localhost:8080/",
          "height": 1000
        }
      },
      "source": [
        "from tensorflow.keras.layers import Conv2D, MaxPooling2D, concatenate, Input, Reshape, BatchNormalization, GlobalAveragePooling2D, Dropout, Dense\n",
        "from tensorflow.keras.models import Model\n",
        "\n",
        "def inceptionModule(x_input, n):\n",
        "    # Conv 1x1\n",
        "    conv_1x1 = Conv2D(n, (1,1), padding='same', activation='relu')(x_input)\n",
        "    \n",
        "    # Conv 3x3\n",
        "    conv_3x3 = Conv2D(n, (1,1), padding='same', activation='relu')(x_input)\n",
        "    conv_3x3 = Conv2D(n, (3,3), padding='same', activation='relu')(conv_3x3)\n",
        "    \n",
        "    # Conv 5x5\n",
        "    conv_5x5 = Conv2D(n, (1,1), padding='same', activation='relu')(x_input)\n",
        "    conv_5x5 = Conv2D(n, (3,3), padding='same', activation='relu')(conv_5x5)\n",
        "    \n",
        "    # pool + proj\n",
        "    pool = MaxPooling2D((3,3), strides=(1,1), padding='same')(x_input)\n",
        "    pool = Conv2D(n, (1,1), padding='same', activation='relu')(pool)\n",
        "    \n",
        "    output = concatenate([conv_1x1, conv_3x3, conv_5x5, pool], axis=3)\n",
        "    \n",
        "    return output\n",
        "\n",
        "\n",
        "def Inception(input_shape=(99,40)):\n",
        "    \n",
        "    input_layer = Input(shape=(99, 40))\n",
        "    \n",
        "    reshape_layer = Reshape(input_shape=input_shape, target_shape=(99, 40, 1))(input_layer)\n",
        "      \n",
        "    x = Conv2D(32, (6,4), padding='same', strides=(2, 2), activation='relu')(reshape_layer)\n",
        "    x = MaxPooling2D((3,2), padding='same', strides=(1, 1))(x)\n",
        "    x = BatchNormalization()(x)\n",
        "    \n",
        "    x = inceptionModule(x, 32)\n",
        "    x = inceptionModule(x, 64)\n",
        "    x = MaxPooling2D((3,2))(x)\n",
        "    \n",
        "    x = inceptionModule(x, 64)\n",
        "    x = inceptionModule(x, 128)\n",
        "    \n",
        "    x = GlobalAveragePooling2D()(x)   \n",
        "    x = Dropout(0.5)(x)\n",
        "    \n",
        "    x = Dense(256, activation='relu')(x)\n",
        "    \n",
        "    x = Dense(30, activation='softmax')(x)\n",
        "    \n",
        "    model = Model(input_layer, x)\n",
        "    return model\n",
        "\n",
        "model = Inception0()\n",
        "model.summary()"
      ],
      "execution_count": 23,
      "outputs": [
        {
          "output_type": "stream",
          "text": [
            "Model: \"model_7\"\n",
            "__________________________________________________________________________________________________\n",
            "Layer (type)                    Output Shape         Param #     Connected to                     \n",
            "==================================================================================================\n",
            "input_9 (InputLayer)            [(None, 99, 40)]     0                                            \n",
            "__________________________________________________________________________________________________\n",
            "reshape_8 (Reshape)             (None, 99, 40, 1)    0           input_9[0][0]                    \n",
            "__________________________________________________________________________________________________\n",
            "conv2d_171 (Conv2D)             (None, 50, 20, 32)   800         reshape_8[0][0]                  \n",
            "__________________________________________________________________________________________________\n",
            "max_pooling2d_38 (MaxPooling2D) (None, 50, 20, 32)   0           conv2d_171[0][0]                 \n",
            "__________________________________________________________________________________________________\n",
            "batch_normalization_3 (BatchNor (None, 50, 20, 32)   128         max_pooling2d_38[0][0]           \n",
            "__________________________________________________________________________________________________\n",
            "conv2d_173 (Conv2D)             (None, 50, 20, 32)   1056        batch_normalization_3[0][0]      \n",
            "__________________________________________________________________________________________________\n",
            "conv2d_175 (Conv2D)             (None, 50, 20, 32)   1056        batch_normalization_3[0][0]      \n",
            "__________________________________________________________________________________________________\n",
            "max_pooling2d_39 (MaxPooling2D) (None, 50, 20, 32)   0           batch_normalization_3[0][0]      \n",
            "__________________________________________________________________________________________________\n",
            "conv2d_172 (Conv2D)             (None, 50, 20, 32)   1056        batch_normalization_3[0][0]      \n",
            "__________________________________________________________________________________________________\n",
            "conv2d_174 (Conv2D)             (None, 50, 20, 32)   9248        conv2d_173[0][0]                 \n",
            "__________________________________________________________________________________________________\n",
            "conv2d_176 (Conv2D)             (None, 50, 20, 32)   9248        conv2d_175[0][0]                 \n",
            "__________________________________________________________________________________________________\n",
            "conv2d_177 (Conv2D)             (None, 50, 20, 32)   1056        max_pooling2d_39[0][0]           \n",
            "__________________________________________________________________________________________________\n",
            "concatenate_28 (Concatenate)    (None, 50, 20, 128)  0           conv2d_172[0][0]                 \n",
            "                                                                 conv2d_174[0][0]                 \n",
            "                                                                 conv2d_176[0][0]                 \n",
            "                                                                 conv2d_177[0][0]                 \n",
            "__________________________________________________________________________________________________\n",
            "conv2d_179 (Conv2D)             (None, 50, 20, 64)   8256        concatenate_28[0][0]             \n",
            "__________________________________________________________________________________________________\n",
            "conv2d_181 (Conv2D)             (None, 50, 20, 64)   8256        concatenate_28[0][0]             \n",
            "__________________________________________________________________________________________________\n",
            "max_pooling2d_40 (MaxPooling2D) (None, 50, 20, 128)  0           concatenate_28[0][0]             \n",
            "__________________________________________________________________________________________________\n",
            "conv2d_178 (Conv2D)             (None, 50, 20, 64)   8256        concatenate_28[0][0]             \n",
            "__________________________________________________________________________________________________\n",
            "conv2d_180 (Conv2D)             (None, 50, 20, 64)   36928       conv2d_179[0][0]                 \n",
            "__________________________________________________________________________________________________\n",
            "conv2d_182 (Conv2D)             (None, 50, 20, 64)   36928       conv2d_181[0][0]                 \n",
            "__________________________________________________________________________________________________\n",
            "conv2d_183 (Conv2D)             (None, 50, 20, 64)   8256        max_pooling2d_40[0][0]           \n",
            "__________________________________________________________________________________________________\n",
            "concatenate_29 (Concatenate)    (None, 50, 20, 256)  0           conv2d_178[0][0]                 \n",
            "                                                                 conv2d_180[0][0]                 \n",
            "                                                                 conv2d_182[0][0]                 \n",
            "                                                                 conv2d_183[0][0]                 \n",
            "__________________________________________________________________________________________________\n",
            "max_pooling2d_41 (MaxPooling2D) (None, 16, 10, 256)  0           concatenate_29[0][0]             \n",
            "__________________________________________________________________________________________________\n",
            "conv2d_185 (Conv2D)             (None, 16, 10, 64)   16448       max_pooling2d_41[0][0]           \n",
            "__________________________________________________________________________________________________\n",
            "conv2d_187 (Conv2D)             (None, 16, 10, 64)   16448       max_pooling2d_41[0][0]           \n",
            "__________________________________________________________________________________________________\n",
            "max_pooling2d_42 (MaxPooling2D) (None, 16, 10, 256)  0           max_pooling2d_41[0][0]           \n",
            "__________________________________________________________________________________________________\n",
            "conv2d_184 (Conv2D)             (None, 16, 10, 64)   16448       max_pooling2d_41[0][0]           \n",
            "__________________________________________________________________________________________________\n",
            "conv2d_186 (Conv2D)             (None, 16, 10, 64)   36928       conv2d_185[0][0]                 \n",
            "__________________________________________________________________________________________________\n",
            "conv2d_188 (Conv2D)             (None, 16, 10, 64)   36928       conv2d_187[0][0]                 \n",
            "__________________________________________________________________________________________________\n",
            "conv2d_189 (Conv2D)             (None, 16, 10, 64)   16448       max_pooling2d_42[0][0]           \n",
            "__________________________________________________________________________________________________\n",
            "concatenate_30 (Concatenate)    (None, 16, 10, 256)  0           conv2d_184[0][0]                 \n",
            "                                                                 conv2d_186[0][0]                 \n",
            "                                                                 conv2d_188[0][0]                 \n",
            "                                                                 conv2d_189[0][0]                 \n",
            "__________________________________________________________________________________________________\n",
            "conv2d_191 (Conv2D)             (None, 16, 10, 128)  32896       concatenate_30[0][0]             \n",
            "__________________________________________________________________________________________________\n",
            "conv2d_193 (Conv2D)             (None, 16, 10, 128)  32896       concatenate_30[0][0]             \n",
            "__________________________________________________________________________________________________\n",
            "max_pooling2d_43 (MaxPooling2D) (None, 16, 10, 256)  0           concatenate_30[0][0]             \n",
            "__________________________________________________________________________________________________\n",
            "conv2d_190 (Conv2D)             (None, 16, 10, 128)  32896       concatenate_30[0][0]             \n",
            "__________________________________________________________________________________________________\n",
            "conv2d_192 (Conv2D)             (None, 16, 10, 128)  147584      conv2d_191[0][0]                 \n",
            "__________________________________________________________________________________________________\n",
            "conv2d_194 (Conv2D)             (None, 16, 10, 128)  147584      conv2d_193[0][0]                 \n",
            "__________________________________________________________________________________________________\n",
            "conv2d_195 (Conv2D)             (None, 16, 10, 128)  32896       max_pooling2d_43[0][0]           \n",
            "__________________________________________________________________________________________________\n",
            "concatenate_31 (Concatenate)    (None, 16, 10, 512)  0           conv2d_190[0][0]                 \n",
            "                                                                 conv2d_192[0][0]                 \n",
            "                                                                 conv2d_194[0][0]                 \n",
            "                                                                 conv2d_195[0][0]                 \n",
            "__________________________________________________________________________________________________\n",
            "global_average_pooling2d_7 (Glo (None, 512)          0           concatenate_31[0][0]             \n",
            "__________________________________________________________________________________________________\n",
            "dropout_7 (Dropout)             (None, 512)          0           global_average_pooling2d_7[0][0] \n",
            "__________________________________________________________________________________________________\n",
            "dense_14 (Dense)                (None, 256)          131328      dropout_7[0][0]                  \n",
            "__________________________________________________________________________________________________\n",
            "dense_15 (Dense)                (None, 30)           7710        dense_14[0][0]                   \n",
            "==================================================================================================\n",
            "Total params: 835,966\n",
            "Trainable params: 835,902\n",
            "Non-trainable params: 64\n",
            "__________________________________________________________________________________________________\n"
          ],
          "name": "stdout"
        }
      ]
    },
    {
      "cell_type": "code",
      "metadata": {
        "id": "MjcbNoobLclm",
        "colab_type": "code",
        "colab": {}
      },
      "source": [
        "model.compile(loss='sparse_categorical_crossentropy', \n",
        "              optimizer=tf.keras.optimizers.Adam(),\n",
        "              metrics=[\"sparse_categorical_accuracy\"])"
      ],
      "execution_count": 0,
      "outputs": []
    },
    {
      "cell_type": "code",
      "metadata": {
        "id": "iaTbdvK2LfTL",
        "colab_type": "code",
        "outputId": "0e641298-26eb-4644-9ccb-7bcbae91af5b",
        "colab": {
          "base_uri": "https://localhost:8080/",
          "height": 938
        }
      },
      "source": [
        "EPOCHS = 50\n",
        "\n",
        "# Stop if the validation accuracy doesn't imporove for 7 epochs\n",
        "earlyStopping = tf.keras.callbacks.EarlyStopping(\n",
        "    monitor='val_sparse_categorical_accuracy',\n",
        "    patience=7,\n",
        "    verbose=1\n",
        ")\n",
        "\n",
        "# Reduce LR on Plateau\n",
        "reduceLR = tf.keras.callbacks.ReduceLROnPlateau(\n",
        "    monitor='val_loss',\n",
        "    patience=3,\n",
        "    verbose=1\n",
        ")\n",
        "\n",
        "# Save best models\n",
        "modelCheckpoint = tf.keras.callbacks.ModelCheckpoint(\n",
        "    \"inception.h5\",\n",
        "    monitor='val_sparse_categorical_accuracy',\n",
        "    mode='max',\n",
        "    save_best_only=True\n",
        ")\n",
        "\n",
        "history = model.fit(train_data.repeat(), \n",
        "          steps_per_epoch=train_steps,\n",
        "          validation_data=val_data.repeat(),\n",
        "          validation_steps=val_steps,\n",
        "          epochs=EPOCHS,\n",
        "          callbacks=[earlyStopping, reduceLR, modelCheckpoint])"
      ],
      "execution_count": 25,
      "outputs": [
        {
          "output_type": "stream",
          "text": [
            "Epoch 1/50\n",
            "1596/1596 [==============================] - 125s 78ms/step - loss: 1.8438 - sparse_categorical_accuracy: 0.4491 - val_loss: 0.6145 - val_sparse_categorical_accuracy: 0.8188\n",
            "Epoch 2/50\n",
            "1596/1596 [==============================] - 121s 76ms/step - loss: 0.4728 - sparse_categorical_accuracy: 0.8594 - val_loss: 0.3812 - val_sparse_categorical_accuracy: 0.8824\n",
            "Epoch 3/50\n",
            "1596/1596 [==============================] - 120s 75ms/step - loss: 0.3305 - sparse_categorical_accuracy: 0.9013 - val_loss: 0.2965 - val_sparse_categorical_accuracy: 0.9105\n",
            "Epoch 4/50\n",
            "1596/1596 [==============================] - 120s 75ms/step - loss: 0.2712 - sparse_categorical_accuracy: 0.9193 - val_loss: 0.2506 - val_sparse_categorical_accuracy: 0.9281\n",
            "Epoch 5/50\n",
            "1596/1596 [==============================] - 120s 75ms/step - loss: 0.2322 - sparse_categorical_accuracy: 0.9308 - val_loss: 0.2452 - val_sparse_categorical_accuracy: 0.9254\n",
            "Epoch 6/50\n",
            "1596/1596 [==============================] - 120s 75ms/step - loss: 0.2079 - sparse_categorical_accuracy: 0.9381 - val_loss: 0.2493 - val_sparse_categorical_accuracy: 0.9288\n",
            "Epoch 7/50\n",
            "1596/1596 [==============================] - 120s 75ms/step - loss: 0.1867 - sparse_categorical_accuracy: 0.9453 - val_loss: 0.2421 - val_sparse_categorical_accuracy: 0.9282\n",
            "Epoch 8/50\n",
            "1596/1596 [==============================] - 122s 76ms/step - loss: 0.1742 - sparse_categorical_accuracy: 0.9480 - val_loss: 0.2174 - val_sparse_categorical_accuracy: 0.9353\n",
            "Epoch 9/50\n",
            "1596/1596 [==============================] - 120s 75ms/step - loss: 0.1607 - sparse_categorical_accuracy: 0.9516 - val_loss: 0.2144 - val_sparse_categorical_accuracy: 0.9378\n",
            "Epoch 10/50\n",
            "1596/1596 [==============================] - 120s 75ms/step - loss: 0.1505 - sparse_categorical_accuracy: 0.9553 - val_loss: 0.2404 - val_sparse_categorical_accuracy: 0.9331\n",
            "Epoch 11/50\n",
            "1596/1596 [==============================] - 120s 75ms/step - loss: 0.1464 - sparse_categorical_accuracy: 0.9552 - val_loss: 0.2238 - val_sparse_categorical_accuracy: 0.9369\n",
            "Epoch 12/50\n",
            "1595/1596 [============================>.] - ETA: 0s - loss: 0.1368 - sparse_categorical_accuracy: 0.9597\n",
            "Epoch 00012: ReduceLROnPlateau reducing learning rate to 0.00010000000474974513.\n",
            "1596/1596 [==============================] - 120s 75ms/step - loss: 0.1367 - sparse_categorical_accuracy: 0.9597 - val_loss: 0.2433 - val_sparse_categorical_accuracy: 0.9315\n",
            "Epoch 13/50\n",
            "1596/1596 [==============================] - 121s 76ms/step - loss: 0.0848 - sparse_categorical_accuracy: 0.9747 - val_loss: 0.1746 - val_sparse_categorical_accuracy: 0.9543\n",
            "Epoch 14/50\n",
            "1596/1596 [==============================] - 122s 76ms/step - loss: 0.0710 - sparse_categorical_accuracy: 0.9797 - val_loss: 0.1818 - val_sparse_categorical_accuracy: 0.9527\n",
            "Epoch 15/50\n",
            "1596/1596 [==============================] - 121s 76ms/step - loss: 0.0636 - sparse_categorical_accuracy: 0.9813 - val_loss: 0.1793 - val_sparse_categorical_accuracy: 0.9549\n",
            "Epoch 16/50\n",
            "1595/1596 [============================>.] - ETA: 0s - loss: 0.0590 - sparse_categorical_accuracy: 0.9827\n",
            "Epoch 00016: ReduceLROnPlateau reducing learning rate to 1.0000000474974514e-05.\n",
            "1596/1596 [==============================] - 120s 75ms/step - loss: 0.0590 - sparse_categorical_accuracy: 0.9827 - val_loss: 0.1872 - val_sparse_categorical_accuracy: 0.9542\n",
            "Epoch 17/50\n",
            "1596/1596 [==============================] - 120s 75ms/step - loss: 0.0530 - sparse_categorical_accuracy: 0.9842 - val_loss: 0.1888 - val_sparse_categorical_accuracy: 0.9537\n",
            "Epoch 18/50\n",
            "1596/1596 [==============================] - 120s 75ms/step - loss: 0.0518 - sparse_categorical_accuracy: 0.9854 - val_loss: 0.1898 - val_sparse_categorical_accuracy: 0.9533\n",
            "Epoch 19/50\n",
            "1595/1596 [============================>.] - ETA: 0s - loss: 0.0516 - sparse_categorical_accuracy: 0.9849\n",
            "Epoch 00019: ReduceLROnPlateau reducing learning rate to 1.0000000656873453e-06.\n",
            "1596/1596 [==============================] - 120s 75ms/step - loss: 0.0516 - sparse_categorical_accuracy: 0.9849 - val_loss: 0.1891 - val_sparse_categorical_accuracy: 0.9542\n",
            "Epoch 20/50\n",
            "1596/1596 [==============================] - 120s 75ms/step - loss: 0.0501 - sparse_categorical_accuracy: 0.9857 - val_loss: 0.1894 - val_sparse_categorical_accuracy: 0.9539\n",
            "Epoch 21/50\n",
            "1596/1596 [==============================] - 120s 75ms/step - loss: 0.0515 - sparse_categorical_accuracy: 0.9850 - val_loss: 0.1893 - val_sparse_categorical_accuracy: 0.9542\n",
            "Epoch 22/50\n",
            "1595/1596 [============================>.] - ETA: 0s - loss: 0.0512 - sparse_categorical_accuracy: 0.9851\n",
            "Epoch 00022: ReduceLROnPlateau reducing learning rate to 1.0000001111620805e-07.\n",
            "1596/1596 [==============================] - 120s 75ms/step - loss: 0.0513 - sparse_categorical_accuracy: 0.9851 - val_loss: 0.1893 - val_sparse_categorical_accuracy: 0.9540\n",
            "Epoch 00022: early stopping\n"
          ],
          "name": "stdout"
        }
      ]
    },
    {
      "cell_type": "code",
      "metadata": {
        "id": "25CMMONeTrop",
        "colab_type": "code",
        "outputId": "8b02b2e9-ba89-4f85-b4f2-c9033c6b54d2",
        "colab": {
          "base_uri": "https://localhost:8080/",
          "height": 581
        }
      },
      "source": [
        "import matplotlib.pyplot as plt\n",
        "from matplotlib.ticker import MaxNLocator\n",
        "import seaborn as sns \n",
        "\n",
        "sns.set()\n",
        "\n",
        "loss = history.history['loss']\n",
        "val_loss = history.history['val_loss']\n",
        "\n",
        "acc = history.history['sparse_categorical_accuracy']\n",
        "val_acc = history.history['val_sparse_categorical_accuracy']\n",
        "\n",
        "fig, (ax1, ax2) = plt.subplots(2,1, figsize=(8,8))\n",
        "\n",
        "ax1.plot(loss, label='train')\n",
        "ax1.plot(val_loss, label='validation')\n",
        "ax1.xaxis.set_major_locator(MaxNLocator(integer=True))\n",
        "ax1.set_title('Model loss')\n",
        "ax1.set_xlabel('Epoch')\n",
        "ax1.set_ylabel('Loss')\n",
        "ax1.legend()\n",
        "\n",
        "ax2.plot(acc, label='train')\n",
        "ax2.plot(val_acc, label='validation')\n",
        "ax2.xaxis.set_major_locator(MaxNLocator(integer=True))\n",
        "ax2.set_title('Accuracy')\n",
        "ax2.set_xlabel('Epoch')\n",
        "ax2.set_ylabel('Accuracy')\n",
        "ax2.legend()\n",
        "\n",
        "plt.tight_layout()\n",
        "fig.show()"
      ],
      "execution_count": 26,
      "outputs": [
        {
          "output_type": "display_data",
          "data": {
            "image/png": "[encoded data removed]",
            "text/plain": [
              "<Figure size 576x576 with 2 Axes>"
            ]
          },
          "metadata": {
            "tags": []
          }
        }
      ]
    },
    {
      "cell_type": "markdown",
      "metadata": {
        "id": "IiUswLU0TwXS",
        "colab_type": "text"
      },
      "source": [
        "## Save to Drive\n"
      ]
    },
    {
      "cell_type": "code",
      "metadata": {
        "id": "He-4OKwdTy-6",
        "colab_type": "code",
        "outputId": "0dbfe542-5d60-4b09-aa3b-e63563cb3d37",
        "colab": {
          "base_uri": "https://localhost:8080/",
          "height": 51
        }
      },
      "source": [
        "import pickle\n",
        "\n",
        "GDRIVE_PATH = \"/content/gdrive/My Drive/speechRecognition/inception/\"\n",
        "\n",
        "# Save model\n",
        "model.save(GDRIVE_PATH + \"inception_small_954.h5\")\n",
        "print(\"Saved model to drive\")\n",
        "\n",
        "# Save history data\n",
        "with open(GDRIVE_PATH + \"train_history_inception_small_954.pickle\", \"wb\") as handle:\n",
        "    pickle.dump(history.history, handle, protocol=pickle.HIGHEST_PROTOCOL)    \n",
        "print(\"Saved training history to drive\")"
      ],
      "execution_count": 28,
      "outputs": [
        {
          "output_type": "stream",
          "text": [
            "Saved model to drive\n",
            "Saved training history to drive\n"
          ],
          "name": "stdout"
        }
      ]
    },
    {
      "cell_type": "markdown",
      "metadata": {
        "id": "y4GvKlonHuNM",
        "colab_type": "text"
      },
      "source": [
        "## Extract features"
      ]
    },
    {
      "cell_type": "code",
      "metadata": {
        "id": "28a5dCYwHtIb",
        "colab_type": "code",
        "colab": {}
      },
      "source": [
        "marvin_data, _ = getDataset(\n",
        "    df=trainDF.loc[trainDF['category']=='marvin', :],\n",
        "    batch_size=32,\n",
        "    cache_file='oc_train_cache',\n",
        "    shuffle=False,\n",
        "    scale=True\n",
        ")"
      ],
      "execution_count": 0,
      "outputs": []
    },
    {
      "cell_type": "code",
      "metadata": {
        "id": "ug7VD7jdH7gX",
        "colab_type": "code",
        "colab": {
          "base_uri": "https://localhost:8080/",
          "height": 204
        },
        "outputId": "0bcab51a-548f-4cd2-d35b-4d4a2e6a92b9"
      },
      "source": [
        "valDF['oc_class'] = valDF.apply(lambda row: 1 if row['category']=='marvin' else -1, axis=1)\n",
        "val_true = valDF['oc_class'].tolist()\n",
        "valDF.head()"
      ],
      "execution_count": 30,
      "outputs": [
        {
          "output_type": "execute_result",
          "data": {
            "text/html": [
              "<div>\n",
              "<style scoped>\n",
              "    .dataframe tbody tr th:only-of-type {\n",
              "        vertical-align: middle;\n",
              "    }\n",
              "\n",
              "    .dataframe tbody tr th {\n",
              "        vertical-align: top;\n",
              "    }\n",
              "\n",
              "    .dataframe thead th {\n",
              "        text-align: right;\n",
              "    }\n",
              "</style>\n",
              "<table border=\"1\" class=\"dataframe\">\n",
              "  <thead>\n",
              "    <tr style=\"text-align: right;\">\n",
              "      <th></th>\n",
              "      <th>files</th>\n",
              "      <th>labels</th>\n",
              "      <th>category</th>\n",
              "      <th>oc_class</th>\n",
              "    </tr>\n",
              "  </thead>\n",
              "  <tbody>\n",
              "    <tr>\n",
              "      <th>0</th>\n",
              "      <td>speechData/train/bed/026290a7_nohash_0.wav</td>\n",
              "      <td>16</td>\n",
              "      <td>bed</td>\n",
              "      <td>-1</td>\n",
              "    </tr>\n",
              "    <tr>\n",
              "      <th>1</th>\n",
              "      <td>speechData/train/bed/060cd039_nohash_0.wav</td>\n",
              "      <td>16</td>\n",
              "      <td>bed</td>\n",
              "      <td>-1</td>\n",
              "    </tr>\n",
              "    <tr>\n",
              "      <th>2</th>\n",
              "      <td>speechData/train/bed/060cd039_nohash_1.wav</td>\n",
              "      <td>16</td>\n",
              "      <td>bed</td>\n",
              "      <td>-1</td>\n",
              "    </tr>\n",
              "    <tr>\n",
              "      <th>3</th>\n",
              "      <td>speechData/train/bed/099d52ad_nohash_0.wav</td>\n",
              "      <td>16</td>\n",
              "      <td>bed</td>\n",
              "      <td>-1</td>\n",
              "    </tr>\n",
              "    <tr>\n",
              "      <th>4</th>\n",
              "      <td>speechData/train/bed/0e17f595_nohash_0.wav</td>\n",
              "      <td>16</td>\n",
              "      <td>bed</td>\n",
              "      <td>-1</td>\n",
              "    </tr>\n",
              "  </tbody>\n",
              "</table>\n",
              "</div>"
            ],
            "text/plain": [
              "                                        files  labels category  oc_class\n",
              "0  speechData/train/bed/026290a7_nohash_0.wav      16      bed        -1\n",
              "1  speechData/train/bed/060cd039_nohash_0.wav      16      bed        -1\n",
              "2  speechData/train/bed/060cd039_nohash_1.wav      16      bed        -1\n",
              "3  speechData/train/bed/099d52ad_nohash_0.wav      16      bed        -1\n",
              "4  speechData/train/bed/0e17f595_nohash_0.wav      16      bed        -1"
            ]
          },
          "metadata": {
            "tags": []
          },
          "execution_count": 30
        }
      ]
    },
    {
      "cell_type": "code",
      "metadata": {
        "id": "mM9ZR-T1H8BE",
        "colab_type": "code",
        "colab": {}
      },
      "source": [
        "from trainingUtils import _loadWavs, _logMelFilterbank, _normalize\n",
        "\n",
        "def _parse_fn(filename):\n",
        "    wave = _loadWavs(filename)\n",
        "    fbank = _logMelFilterbank(wave)\n",
        "    return _normalize(fbank)"
      ],
      "execution_count": 0,
      "outputs": []
    },
    {
      "cell_type": "code",
      "metadata": {
        "id": "L2bDoetTIUaB",
        "colab_type": "code",
        "colab": {}
      },
      "source": [
        "def getFeatures(data):\n",
        "    layer_name = 'dense_14'\n",
        "    layer_out = tf.keras.Model(inputs=model.input, outputs=model.get_layer(layer_name).output)\n",
        "    return layer_out.predict(data, use_multiprocessing=True)"
      ],
      "execution_count": 0,
      "outputs": []
    },
    {
      "cell_type": "code",
      "metadata": {
        "id": "gM-IQPz_Iacm",
        "colab_type": "code",
        "colab": {}
      },
      "source": [
        "import numpy as np\n",
        "valData = np.zeros((valDF.shape[0], 99, 40))\n",
        "\n",
        "for i,f in enumerate(valDF['files']):\n",
        "    valData[i] = _parse_fn(f)"
      ],
      "execution_count": 0,
      "outputs": []
    },
    {
      "cell_type": "code",
      "metadata": {
        "id": "SOVboD6aIcRr",
        "colab_type": "code",
        "colab": {
          "base_uri": "https://localhost:8080/",
          "height": 122
        },
        "outputId": "6f697c2b-ba3d-43d9-c09d-406b4e090a4e"
      },
      "source": [
        "X_train = getFeatures(marvin_data)\n",
        "X_val = getFeatures(valData)"
      ],
      "execution_count": 35,
      "outputs": [
        {
          "output_type": "stream",
          "text": [
            "W0713 16:19:58.331772 140188310996736 backprop.py:842] The dtype of the watched tensor must be floating (e.g. tf.float32), got tf.string\n",
            "W0713 16:19:58.338513 140188310996736 backprop.py:842] The dtype of the watched tensor must be floating (e.g. tf.float32), got tf.int32\n",
            "W0713 16:19:58.339859 140188310996736 backprop.py:842] The dtype of the watched tensor must be floating (e.g. tf.float32), got tf.int32\n",
            "W0713 16:19:58.341178 140188310996736 backprop.py:842] The dtype of the watched tensor must be floating (e.g. tf.float32), got tf.bool\n",
            "W0713 16:19:58.346040 140188319389440 backprop.py:842] The dtype of the watched tensor must be floating (e.g. tf.float32), got tf.string\n"
          ],
          "name": "stderr"
        }
      ]
    },
    {
      "cell_type": "markdown",
      "metadata": {
        "id": "FINwFqLTIe4Q",
        "colab_type": "text"
      },
      "source": [
        "## PCA"
      ]
    },
    {
      "cell_type": "code",
      "metadata": {
        "id": "Z9fAS05UIgev",
        "colab_type": "code",
        "colab": {
          "base_uri": "https://localhost:8080/",
          "height": 34
        },
        "outputId": "7df74d8e-a30c-4308-ed94-02e12d7e9b67"
      },
      "source": [
        "from sklearn.decomposition import PCA\n",
        "\n",
        "pca = PCA(n_components=20)\n",
        "\n",
        "pca.fit(X_train)\n",
        "\n",
        "print(sum(pca.explained_variance_ratio_)) "
      ],
      "execution_count": 63,
      "outputs": [
        {
          "output_type": "stream",
          "text": [
            "0.94464156543836\n"
          ],
          "name": "stdout"
        }
      ]
    },
    {
      "cell_type": "code",
      "metadata": {
        "id": "G1UmDIWkIsmT",
        "colab_type": "code",
        "colab": {}
      },
      "source": [
        "X_train_transformed = pca.transform(X_train)\n",
        "X_val_transformed = pca.transform(X_val)"
      ],
      "execution_count": 0,
      "outputs": []
    },
    {
      "cell_type": "markdown",
      "metadata": {
        "id": "JLZxOaA-Iv22",
        "colab_type": "text"
      },
      "source": [
        "## OC-SVM"
      ]
    },
    {
      "cell_type": "code",
      "metadata": {
        "id": "ZEn8uN_EIyV9",
        "colab_type": "code",
        "colab": {
          "base_uri": "https://localhost:8080/",
          "height": 578
        },
        "outputId": "04fdaaed-886f-40ec-fc77-d353a48a637b"
      },
      "source": [
        "from sklearn.metrics import f1_score\n",
        "from sklearn import svm\n",
        "\n",
        "import warnings\n",
        "warnings.filterwarnings('ignore')\n",
        "\n",
        "gamma_bgn, gamma_end, num_gamma  = 0.00001, 0.005, 40 \n",
        "nu_bgn, nu_end, num_nu  = 0.001, 0.1, 40\n",
        "\n",
        "gamma_list = np.arange(gamma_bgn, gamma_end, (gamma_end - gamma_bgn) / num_gamma)\n",
        "nu_list = np.arange(nu_bgn, nu_end, (nu_end - nu_bgn) / num_nu)\n",
        "\n",
        "best_score_svm = 0\n",
        "scores_svm = np.zeros((gamma_list.shape[0], nu_list.shape[0]))\n",
        "best_parameters_svm = {'gamma':0, 'nu':0}\n",
        "\n",
        "iterations = gamma_list.shape[0] * nu_list.shape[0]\n",
        "iteration = 1\n",
        "\n",
        "for i, gamma in enumerate(gamma_list):\n",
        "    for j, nu in enumerate(nu_list):\n",
        "        \n",
        "        if(iteration%100==0):\n",
        "            print(\"Iteration {}/{}\".format(iteration, iterations))\n",
        "            \n",
        "        oc_svm = svm.OneClassSVM(gamma=gamma, nu=nu)\n",
        "        ocmodel = oc_svm.fit(X_train_transformed)\n",
        "   \n",
        "        val_pred = oc_svm.predict(X_val_transformed)\n",
        "                \n",
        "        score = f1_score(val_pred, val_true)\n",
        "        \n",
        "        if score>best_score_svm:\n",
        "            print(\"New best score: {:4f}\".format(score))     \n",
        "            best_score_svm = score\n",
        "            best_parameters_svm['gamma'] = gamma\n",
        "            best_parameters_svm['nu'] = nu\n",
        "            \n",
        "        scores_svm[i][j] = score\n",
        "        iteration += 1"
      ],
      "execution_count": 49,
      "outputs": [
        {
          "output_type": "stream",
          "text": [
            "New best score: 0.059546\n",
            "New best score: 0.061936\n",
            "New best score: 0.062967\n",
            "New best score: 0.109628\n",
            "New best score: 0.722222\n",
            "New best score: 0.854795\n",
            "New best score: 0.873950\n",
            "New best score: 0.914956\n",
            "New best score: 0.920354\n",
            "New best score: 0.931343\n",
            "New best score: 0.947692\n",
            "New best score: 0.959248\n",
            "New best score: 0.962264\n",
            "New best score: 0.964856\n",
            "New best score: 0.965944\n",
            "New best score: 0.968750\n",
            "Iteration 100/1600\n",
            "New best score: 0.971963\n",
            "Iteration 200/1600\n",
            "Iteration 300/1600\n",
            "Iteration 400/1600\n",
            "Iteration 500/1600\n",
            "Iteration 600/1600\n",
            "Iteration 700/1600\n",
            "Iteration 800/1600\n",
            "Iteration 900/1600\n",
            "Iteration 1000/1600\n",
            "Iteration 1100/1600\n",
            "Iteration 1200/1600\n",
            "Iteration 1300/1600\n",
            "Iteration 1400/1600\n",
            "Iteration 1500/1600\n",
            "Iteration 1600/1600\n"
          ],
          "name": "stdout"
        }
      ]
    },
    {
      "cell_type": "code",
      "metadata": {
        "id": "fOQyD3Q3LA2h",
        "colab_type": "code",
        "colab": {
          "base_uri": "https://localhost:8080/",
          "height": 508
        },
        "outputId": "920890b9-47ec-4a23-9e95-bdd09383177c"
      },
      "source": [
        "fig, ax = plt.subplots(figsize=(8,8))\n",
        "\n",
        "im = ax.imshow(scores_svm, aspect=\"auto\", extent=[nu_list[0], nu_list[-1], gamma_list[-1], gamma_list[0]])\n",
        "fig.colorbar(im, orientation='vertical')\n",
        "\n",
        "ax.set_xlabel('nu')\n",
        "ax.set_ylabel('gamma')\n",
        "\n",
        "ax.scatter(best_parameters_svm['nu'], best_parameters_svm['gamma'], c='red', s=100, marker='*')\n",
        "ax.grid(False)\n",
        "\n",
        "fig.show()"
      ],
      "execution_count": 146,
      "outputs": [
        {
          "output_type": "display_data",
          "data": {
            "image/png": "[encoded data removed]",
            "text/plain": [
              "<Figure size 576x576 with 2 Axes>"
            ]
          },
          "metadata": {
            "tags": []
          }
        }
      ]
    },
    {
      "cell_type": "code",
      "metadata": {
        "id": "Vfd-gE1IPGit",
        "colab_type": "code",
        "colab": {
          "base_uri": "https://localhost:8080/",
          "height": 505
        },
        "outputId": "a71f0371-4734-45f1-bf0a-c7517055c259"
      },
      "source": [
        "from analysisFunctions import showResultsOC\n",
        "\n",
        "oc_svm = svm.OneClassSVM(gamma=best_parameters_svm['gamma'], nu=best_parameters_svm['nu'])\n",
        "ocmodel = oc_svm.fit(X_train_transformed)\n",
        "\n",
        "val_pred = oc_svm.predict(X_val_transformed)\n",
        "showResultsOC(val_pred, val_true)"
      ],
      "execution_count": 51,
      "outputs": [
        {
          "output_type": "stream",
          "text": [
            "Accuracy: 0.9987\n",
            "Precision: 0.9689\n",
            "Recal: 0.9750\n",
            "F1-score: 0.9720\n"
          ],
          "name": "stdout"
        },
        {
          "output_type": "display_data",
          "data": {
            "image/png": "[encoded data removed]",
            "text/plain": [
              "<Figure size 432x432 with 1 Axes>"
            ]
          },
          "metadata": {
            "tags": []
          }
        }
      ]
    },
    {
      "cell_type": "markdown",
      "metadata": {
        "id": "okEe5puccTjc",
        "colab_type": "text"
      },
      "source": [
        "## Bayesian optimization fot SVM "
      ]
    },
    {
      "cell_type": "code",
      "metadata": {
        "id": "rQSAcrNPcTNL",
        "colab_type": "code",
        "colab": {}
      },
      "source": [
        "!pip install -q scikit-optimize"
      ],
      "execution_count": 0,
      "outputs": []
    },
    {
      "cell_type": "code",
      "metadata": {
        "id": "18d_CZXCcZ0o",
        "colab_type": "code",
        "colab": {}
      },
      "source": [
        "from skopt.space import Real\n",
        "from skopt.utils import use_named_args\n",
        "\n",
        "oc_svm = svm.OneClassSVM()\n",
        "\n",
        "space  = [\n",
        "    Real(10**-5, 10**0, \"log-uniform\", name='gamma'),\n",
        "    Real(10**-5, 10**0, \"log-uniform\", name='nu')\n",
        "]\n",
        "\n",
        "@use_named_args(space)\n",
        "def objective(**params):\n",
        "    oc_svm.set_params(**params)\n",
        "    \n",
        "    oc_svm.fit(X_train_transformed)\n",
        "    val_pred = oc_svm.predict(X_val_transformed)\n",
        "    \n",
        "    score = f1_score(val_pred, val_true)\n",
        "   \n",
        "\n",
        "    return -1*score"
      ],
      "execution_count": 0,
      "outputs": []
    },
    {
      "cell_type": "code",
      "metadata": {
        "id": "9Jge9ImkdYVC",
        "colab_type": "code",
        "colab": {
          "base_uri": "https://localhost:8080/",
          "height": 34
        },
        "outputId": "af117928-b58d-4818-e77f-1583fe4ba89c"
      },
      "source": [
        "from skopt import gp_minimize\n",
        "\n",
        "res_gp = gp_minimize(objective, space, n_calls=30, random_state=0, n_jobs=-1, verbose=False)\n",
        "\n",
        "print(\"Best score={:.4f}\".format(-res_gp.fun))"
      ],
      "execution_count": 171,
      "outputs": [
        {
          "output_type": "stream",
          "text": [
            "Best score=0.9716\n"
          ],
          "name": "stdout"
        }
      ]
    },
    {
      "cell_type": "code",
      "metadata": {
        "id": "3wzEB813fvLR",
        "colab_type": "code",
        "colab": {
          "base_uri": "https://localhost:8080/",
          "height": 302
        },
        "outputId": "929bbc8a-af6e-4b10-e3c2-b9e43ef18da9"
      },
      "source": [
        "from skopt.plots import plot_convergence\n",
        "\n",
        "plot_convergence(res_gp);"
      ],
      "execution_count": 148,
      "outputs": [
        {
          "output_type": "display_data",
          "data": {
            "image/png": "[encoded data removed]",
            "text/plain": [
              "<Figure size 432x288 with 1 Axes>"
            ]
          },
          "metadata": {
            "tags": []
          }
        }
      ]
    },
    {
      "cell_type": "code",
      "metadata": {
        "id": "LdwQcriT-wKp",
        "colab_type": "code",
        "colab": {
          "base_uri": "https://localhost:8080/",
          "height": 34
        },
        "outputId": "679b30c3-1b7d-4094-bc89-6e04b18b5217"
      },
      "source": [
        "best_parameters = {k.name: x for k, x in zip(space, res_gp.x) }\n",
        "\n",
        "best_parameters"
      ],
      "execution_count": 167,
      "outputs": [
        {
          "output_type": "execute_result",
          "data": {
            "text/plain": [
              "{'gamma': 0.0005696384776551495, 'nu': 0.027147673650521304}"
            ]
          },
          "metadata": {
            "tags": []
          },
          "execution_count": 167
        }
      ]
    },
    {
      "cell_type": "code",
      "metadata": {
        "id": "xMzJ02gmD2tY",
        "colab_type": "code",
        "colab": {
          "base_uri": "https://localhost:8080/",
          "height": 505
        },
        "outputId": "b4e34d92-c86b-49f3-fc5c-cefb140032df"
      },
      "source": [
        "bestOC = svm.OneClassSVM().set_params(**best_parameters)\n",
        "\n",
        "bestOC.fit(X_train_transformed)\n",
        "\n",
        "val_pred = bestOC.predict(X_val_transformed)\n",
        "showResultsOC(val_pred, val_true)"
      ],
      "execution_count": 173,
      "outputs": [
        {
          "output_type": "stream",
          "text": [
            "Accuracy: 0.9987\n",
            "Precision: 0.9809\n",
            "Recal: 0.9625\n",
            "F1-score: 0.9716\n"
          ],
          "name": "stdout"
        },
        {
          "output_type": "display_data",
          "data": {
            "image/png": "[encoded data removed]",
            "text/plain": [
              "<Figure size 432x432 with 1 Axes>"
            ]
          },
          "metadata": {
            "tags": []
          }
        }
      ]
    }
  ]
}